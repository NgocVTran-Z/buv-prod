{
 "cells": [
  {
   "cell_type": "markdown",
   "metadata": {},
   "source": [
    "# Setup"
   ]
  },
  {
   "cell_type": "code",
   "execution_count": 2,
   "metadata": {},
   "outputs": [],
   "source": [
    "import os\n",
    "\n",
    "os.environ[\"AZURE_OPENAI_ENDPOINT\"] = \"https://dalle3-swo.openai.azure.com/\"\n",
    "os.environ[\"AZURE_OPENAI_API_KEY\"] = \"e51119f8d8774069a6594d92ccf7a70d\""
   ]
  },
  {
   "cell_type": "code",
   "execution_count": 3,
   "metadata": {},
   "outputs": [],
   "source": [
    "from langchain_community.utilities import GoogleSearchAPIWrapper\n",
    "from langchain_community.vectorstores import Chroma\n",
    "from langchain_openai import AzureChatOpenAI, AzureOpenAIEmbeddings, OpenAIEmbeddings\n",
    "from langchain_core.output_parsers import BaseOutputParser\n",
    "from typing import List, Optional\n",
    "import re\n",
    "from langchain_core.prompts import ChatPromptTemplate\n",
    "from langchain_core.runnables import chain\n",
    "from langchain_community.utilities import GoogleSerperAPIWrapper\n",
    "from langchain_core.output_parsers import StrOutputParser\n",
    "\n",
    "# LLM\n",
    "llm = AzureChatOpenAI(\n",
    "    openai_api_version=\"2024-02-15-preview\",\n",
    "    azure_deployment=\"gpt-35-turbo\",\n",
    "    temperature=0\n",
    ") \n",
    "\n",
    "gpt_35_turbo_16k = AzureChatOpenAI(\n",
    "    openai_api_version=\"2024-02-15-preview\",\n",
    "    azure_deployment=\"gpt-35-turbo-16k\",\n",
    "    temperature=0\n",
    ") \n",
    "\n",
    "smart_llm = AzureChatOpenAI(\n",
    "    openai_api_version=\"2024-02-15-preview\",\n",
    "    azure_deployment=\"gpt-4\",\n",
    "    temperature=0\n",
    ") \n",
    "gpt_35_turbo_instruct = AzureChatOpenAI(\n",
    "    openai_api_version=\"2024-02-15-preview\",\n",
    "    azure_deployment=\"gpt-35-turbo-instruct\",\n",
    "    temperature=0\n",
    ") \n",
    "# Embedding\n",
    "embeddings = AzureOpenAIEmbeddings(\n",
    "    azure_deployment=\"text-embedding-ada-002\",\n",
    "    openai_api_version=\"2024-02-15-preview\",\n",
    ")"
   ]
  },
  {
   "cell_type": "markdown",
   "metadata": {},
   "source": [
    "# Current Problems"
   ]
  },
  {
   "cell_type": "markdown",
   "metadata": {},
   "source": [
    "- câu trả lời bị ngắn\n",
    "- thỉnh thoảng thiếu: due to the splitter is not good"
   ]
  },
  {
   "cell_type": "markdown",
   "metadata": {},
   "source": [
    "# Test questions"
   ]
  },
  {
   "cell_type": "code",
   "execution_count": 18,
   "metadata": {},
   "outputs": [],
   "source": [
    "question_lists = [\n",
    "    \"How can students/parents receive the timetables?\",\n",
    "    \"Students have been placed on academic probation, what does this mean?\",\n",
    "    \"What if BUV students want to exchange or transfer to other Universities around the world?\",\n",
    "    \"Nếu sinh viên BUV muốn tham gia chương trình Trao đổi và Chuyển tiếp sinh viên tới các trường Đại học trên thế giới thì sao?\",\n",
    "    \"Is the Internship programme at BUV compulsory to students?\",\n",
    "    \"Chương trình Thực tập tại BUV có bắt buộc đối với sinh viên không?\"\n",
    "]"
   ]
  },
  {
   "cell_type": "markdown",
   "metadata": {},
   "source": [
    "# Method "
   ]
  },
  {
   "cell_type": "markdown",
   "metadata": {},
   "source": [
    "# Implementation"
   ]
  },
  {
   "cell_type": "markdown",
   "metadata": {},
   "source": [
    "## Extract and Create document"
   ]
  },
  {
   "cell_type": "markdown",
   "metadata": {},
   "source": [
    "```python\n",
    "Document({\n",
    "    \"page_content\": Question, \n",
    "    \"metadata\": {\"Answer\": \"Answer\"}\n",
    "})\n",
    "```"
   ]
  },
  {
   "cell_type": "markdown",
   "metadata": {},
   "source": [
    "## Retriever"
   ]
  },
  {
   "cell_type": "code",
   "execution_count": 20,
   "metadata": {},
   "outputs": [],
   "source": [
    "# load from disk\n",
    "vectorstore = Chroma(persist_directory=\"./chroma_db/BUV_QnA\", embedding_function=embeddings)\n",
    "retriever = vectorstore.as_retriever(search_type=\"similarity\", search_kwargs={\"k\": 1})"
   ]
  },
  {
   "cell_type": "code",
   "execution_count": 19,
   "metadata": {},
   "outputs": [
    {
     "data": {
      "text/plain": [
       "['How can students/parents receive the timetables?',\n",
       " 'Students have been placed on academic probation, what does this mean?',\n",
       " 'What if BUV students want to exchange or transfer to other Universities around the world?',\n",
       " 'Nếu sinh viên BUV muốn tham gia chương trình Trao đổi và Chuyển tiếp sinh viên tới các trường Đại học trên thế giới thì sao?',\n",
       " 'Is the Internship programme at BUV compulsory to students?',\n",
       " 'Chương trình Thực tập tại BUV có bắt buộc đối với sinh viên không?']"
      ]
     },
     "execution_count": 19,
     "metadata": {},
     "output_type": "execute_result"
    }
   ],
   "source": [
    "question_lists"
   ]
  },
  {
   "cell_type": "code",
   "execution_count": 31,
   "metadata": {},
   "outputs": [],
   "source": [
    "a = retriever.invoke(question_lists[5])"
   ]
  },
  {
   "cell_type": "code",
   "execution_count": 36,
   "metadata": {},
   "outputs": [
    {
     "data": {
      "text/plain": [
       "'BUV study programmes encourage and enable students to take up internships in their semester break every year. From October 2021, BUV has implemented the compulsory Personal and Social Growth Programme (PSG) where students are required to have at least 1 internship in their PSG Transcript along with other activities to complete the degree and be awarded with the PSG Completion Certificate upon graduation.\\n\\nProfessional Experience Evaluation Form provided and endorsed by Employer and approved by BUV Management is required for each student after each internship, so that the internship is recorded properly in the student’s PSG Transcript.\\n\\nInternship Completion Certificate is not compulsory for the PSG Transcript and only available upon request.\\n\\nSome modules within the Staffordshire University’s academic programme also require students to complete work placements and internships to complete the module’s assessment, which is compulsory and must follow specific requirements of the modules, for example the minimum number of working hours, the company’s business/scale etc. Together with the Module Leader, BUV Career Services & Industry Relations Team also support students with internship opportunities, preparing the application documents (such as CV, Cover Letter) and interviews, providing students with consultation regarding internship choice and how to make the most from the placement, to have the most meaningful experience and respond to the module’s learning outcomes. This required work experience is a separate requirement from the PSG mentioned earlier.\\n\\nChương trình học của BUV khuyến khích và tạo điều kiện cho sinh viên đi thực tập vào các kỳ nghỉ giữa học kỳ hàng năm. Từ tháng 10 năm 2021, BUV đã triển khai Chương trình Phát triển Năng lực Cá nhân và Kỹ năng Xã hội (PSG) bắt buộc, trong đó sinh viên được yêu cầu phải có ít nhất 1 kỳ thực tập trong Bảng điểm PSG cùng các hoạt động khác để hoàn thành chương trình học Cử nhân và được cấp Chứng chỉ Năng lực Cá nhân và Kỹ năng xã hội khi tốt nghiệp.\\n\\nBản Đánh giá Chất lượng Làm việc được cung cấp bởi Công ty chủ quản thực tập và phê duyệt bởi Ban lãnh đạo của BUV là yêu cầu bắt buộc dành cho mỗi sinh viên sau mỗi kỳ thực tập. Từ đó, kỳ thực tập sẽ được ghi nhận phù hợp trong Chương trình PSG.\\n\\nGiấy chứng nhận hoàn thành thực tập không bắt buộc cho chương trình PSG và sẽ được xuất theo yêu cầu của từng cá nhân.\\n\\nMột số môn học trong chương trình học thuật chính khóa của Đại học Staffordshire cũng yêu cầu sinh viên hoàn thành một số trải nghiệm làm việc và thực tập để hoàn thành bài kiểm tra đánh giá của môn học. Trong trường hợp đó, việc trải nghiệm làm việc/thực tập là bắt buộc và phải tuân theo các yêu cầu cụ thể của môn học, ví dụ như số giờ làm việc tối thiểu, quy mô hoạt động, hình thức kinh doanh của công ty… Giáo viên phụ trách bộ môn cùng với Đội ngũ Hướng nghiệp sẽ hỗ trợ sinh viên trong việc tìm kiếm cơ hội thực tập, chuẩn bị hồ sơ ứng tuyển (CV và Thư ứng tuyển), chuẩn bị phỏng vấn, và tư vấn lựa chọn kỳ thực tập phù hợp và cách thức để tận dụng hiệu quả kỳ thực tập, đảm bảo sinh viên có trải nghiệm ý nghĩa nhất và đáp ứng được yêu cầu giảng dạy của môn học. Những trải nghiệm làm việc trong môn học là yêu cầu riêng biệt vớiyêu cầu thực tập trong khuôn khổ Chương trình PSG để cập bên trên.'"
      ]
     },
     "execution_count": 36,
     "metadata": {},
     "output_type": "execute_result"
    }
   ],
   "source": [
    "a[0].metadata['answer']"
   ]
  },
  {
   "cell_type": "markdown",
   "metadata": {},
   "source": [
    "## Chain"
   ]
  },
  {
   "cell_type": "code",
   "execution_count": 37,
   "metadata": {},
   "outputs": [],
   "source": [
    "from langchain_core.prompts import PromptTemplate\n",
    "from langchain_core.output_parsers import StrOutputParser\n",
    "from langchain_core.runnables import RunnablePassthrough\n",
    "\n",
    "# get answer in metadata\n",
    "def format_docs(docs):\n",
    "    return \"\\n\\n\".join(doc.metadata['answer'] for doc in docs)\n",
    "\n",
    "\n",
    "template = \"\"\"\n",
    "You are an AI assistant that helps students answering specific questions based on provided context. \n",
    "\n",
    "Use the following pieces of context to answer the question at the end.\n",
    "If you don't know the answer, just say that you don't know, don't try to make up an answer.\n",
    "Keep the answer as concise as possible.\n",
    "Always say \"thanks for asking!\" at the end of the answer.\n",
    "\n",
    "Context:\n",
    "{context}\n",
    "\n",
    "Question: \n",
    "{question}\n",
    "\n",
    "Helpful Answer:\"\"\"\n",
    "custom_rag_prompt = PromptTemplate.from_template(template)\n",
    "\n",
    "from operator import itemgetter\n",
    "rag_chain_with_vectorstore_retriever = (\n",
    "    {\"context\": itemgetter(\"question\") | retriever | format_docs, \"question\": itemgetter(\"question\")}\n",
    "    | custom_rag_prompt\n",
    "    | gpt_35_turbo_16k\n",
    "    | StrOutputParser()\n",
    ")"
   ]
  },
  {
   "cell_type": "markdown",
   "metadata": {},
   "source": [
    "# Testing"
   ]
  },
  {
   "cell_type": "code",
   "execution_count": 39,
   "metadata": {},
   "outputs": [
    {
     "data": {
      "text/plain": [
       "['How can students/parents receive the timetables?',\n",
       " 'Students have been placed on academic probation, what does this mean?',\n",
       " 'What if BUV students want to exchange or transfer to other Universities around the world?',\n",
       " 'Nếu sinh viên BUV muốn tham gia chương trình Trao đổi và Chuyển tiếp sinh viên tới các trường Đại học trên thế giới thì sao?',\n",
       " 'Is the Internship programme at BUV compulsory to students?',\n",
       " 'Chương trình Thực tập tại BUV có bắt buộc đối với sinh viên không?']"
      ]
     },
     "execution_count": 39,
     "metadata": {},
     "output_type": "execute_result"
    }
   ],
   "source": [
    "question_lists"
   ]
  },
  {
   "cell_type": "code",
   "execution_count": 40,
   "metadata": {},
   "outputs": [
    {
     "data": {
      "text/plain": [
       "'Students/parents can receive the timetables by providing their correct email addresses to the Student Information Office via studentservice@buv.edu.vn. Thanks for asking!'"
      ]
     },
     "execution_count": 40,
     "metadata": {},
     "output_type": "execute_result"
    }
   ],
   "source": [
    "rag_chain_with_vectorstore_retriever.invoke({'question':question_lists[0]})"
   ]
  },
  {
   "cell_type": "code",
   "execution_count": 41,
   "metadata": {},
   "outputs": [
    {
     "data": {
      "text/plain": [
       "\"Being placed on academic probation means that students' behaviors, participation in class, timekeeping, or attendance did not meet the required standards expected at BUV. They will have to go through a process where their progress will be monitored and documented. If they successfully complete this process, they will be returned to normal academic status. If they are unable to successfully complete the process, their situation will be dealt with on a case-by-case basis by the Associate Professor and Dean (Higher Education). Thanks for asking!\""
      ]
     },
     "execution_count": 41,
     "metadata": {},
     "output_type": "execute_result"
    }
   ],
   "source": [
    "rag_chain_with_vectorstore_retriever.invoke({'question':question_lists[1]})"
   ]
  },
  {
   "cell_type": "code",
   "execution_count": 42,
   "metadata": {},
   "outputs": [
    {
     "data": {
      "text/plain": [
       "'If BUV students want to exchange or transfer to other universities around the world, they can contact the BUV International Office for more information and guidance. The International Office will provide advising on the transfer process, credits transfer, and necessary documents. Students are responsible for visa application and other procedures for their stay abroad. Thanks for asking!'"
      ]
     },
     "execution_count": 42,
     "metadata": {},
     "output_type": "execute_result"
    }
   ],
   "source": [
    "rag_chain_with_vectorstore_retriever.invoke({'question':question_lists[2]})"
   ]
  },
  {
   "cell_type": "code",
   "execution_count": 43,
   "metadata": {},
   "outputs": [
    {
     "data": {
      "text/plain": [
       "'Sinh viên BUV có thể tham gia chương trình Trao đổi và Chuyển tiếp sinh viên tới các trường Đại học trên thế giới. Trong chương trình Trao đổi, sinh viên có thể trải nghiệm môi trường học tập tại nước ngoài và tích lũy kinh nghiệm mới. Trong chương trình Chuyển tiếp, sinh viên có thể chuyển tiếp sang trường đại học mong muốn để hoàn thành khóa học và nhận bằng. Tuy nhiên, sinh viên cần liên hệ với Phòng Hợp tác Quốc tế của BUV để biết thêm thông tin về quy trình chuyển tiếp và chương trình trao đổi. Cả hai chương trình đều yêu cầu sinh viên tự chi trả các chi phí khác như vé máy bay, visa và chi phí sinh hoạt. Thanks for asking!'"
      ]
     },
     "execution_count": 43,
     "metadata": {},
     "output_type": "execute_result"
    }
   ],
   "source": [
    "rag_chain_with_vectorstore_retriever.invoke({'question':question_lists[3]})"
   ]
  },
  {
   "cell_type": "code",
   "execution_count": 44,
   "metadata": {},
   "outputs": [
    {
     "data": {
      "text/plain": [
       "<generator object RunnableSequence.stream at 0x12e1a63e0>"
      ]
     },
     "execution_count": 44,
     "metadata": {},
     "output_type": "execute_result"
    }
   ],
   "source": [
    "rag_chain_with_vectorstore_retriever.stream({'question':question_lists[3]})"
   ]
  },
  {
   "cell_type": "code",
   "execution_count": null,
   "metadata": {},
   "outputs": [],
   "source": []
  }
 ],
 "metadata": {
  "kernelspec": {
   "display_name": ".venv",
   "language": "python",
   "name": "python3"
  },
  "language_info": {
   "codemirror_mode": {
    "name": "ipython",
    "version": 3
   },
   "file_extension": ".py",
   "mimetype": "text/x-python",
   "name": "python",
   "nbconvert_exporter": "python",
   "pygments_lexer": "ipython3",
   "version": "3.11.5"
  }
 },
 "nbformat": 4,
 "nbformat_minor": 2
}

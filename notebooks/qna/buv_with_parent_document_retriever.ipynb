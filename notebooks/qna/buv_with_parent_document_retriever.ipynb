{
 "cells": [
  {
   "cell_type": "markdown",
   "metadata": {},
   "source": [
    "**Table of contents**<a id='toc0_'></a>    \n",
    "- [Setup](#toc1_)    \n",
    "- [Test questions](#toc2_)    \n",
    "- [Implementation](#toc3_)    \n",
    "  - [Preprocessing BUV q&a file](#toc3_1_)    \n",
    "    - [Text loader](#toc3_1_1_)    \n",
    "    - [Splitter](#toc3_1_2_)    \n",
    "  - [Preprocessing student handbook file](#toc3_2_)    \n",
    "  - [Combine two docs](#toc3_3_)    \n",
    "  - [Count token](#toc3_4_)    \n",
    "  - [Retrievers](#toc3_5_)    \n",
    "    - [Parent document retrievers](#toc3_5_1_)    \n",
    "    - [Test chunk size](#toc3_5_2_)    \n",
    "      - [Reload parent document retriever](#toc3_5_2_1_)    \n",
    "    - [Rephrase retriever](#toc3_5_3_)    \n",
    "  - [Create chain](#toc3_6_)    \n",
    "  - [Add sources](#toc3_7_)    \n",
    "- [Testing](#toc4_)    \n",
    "\n",
    "<!-- vscode-jupyter-toc-config\n",
    "\tnumbering=false\n",
    "\tanchor=true\n",
    "\tflat=false\n",
    "\tminLevel=1\n",
    "\tmaxLevel=6\n",
    "\t/vscode-jupyter-toc-config -->\n",
    "<!-- THIS CELL WILL BE REPLACED ON TOC UPDATE. DO NOT WRITE YOUR TEXT IN THIS CELL -->"
   ]
  },
  {
   "cell_type": "markdown",
   "metadata": {},
   "source": [
    "# <a id='toc1_'></a>[Setup](#toc0_)"
   ]
  },
  {
   "cell_type": "code",
   "execution_count": 2,
   "metadata": {},
   "outputs": [],
   "source": [
    "import os\n",
    "import pandas as pd\n",
    "pd.set_option(\"display.max_colwidth\", None)\n",
    "\n",
    "os.environ[\"AZURE_OPENAI_ENDPOINT\"] = \"https://dalle3-swo.openai.azure.com/\"\n",
    "os.environ[\"AZURE_OPENAI_API_KEY\"] = \"e51119f8d8774069a6594d92ccf7a70d\""
   ]
  },
  {
   "cell_type": "code",
   "execution_count": 3,
   "metadata": {},
   "outputs": [],
   "source": [
    "from langchain_community.utilities import GoogleSearchAPIWrapper\n",
    "from langchain_community.vectorstores import Chroma\n",
    "from langchain_openai import AzureChatOpenAI, AzureOpenAIEmbeddings, OpenAIEmbeddings\n",
    "from langchain_core.output_parsers import BaseOutputParser\n",
    "from typing import List, Optional\n",
    "import re\n",
    "from langchain_core.prompts import ChatPromptTemplate\n",
    "from langchain_core.runnables import chain\n",
    "from langchain_community.utilities import GoogleSerperAPIWrapper\n",
    "from langchain_core.output_parsers import StrOutputParser\n",
    "\n",
    "# LLM\n",
    "llm = AzureChatOpenAI(\n",
    "    openai_api_version=\"2024-02-15-preview\",\n",
    "    azure_deployment=\"gpt-35-turbo\",\n",
    "    temperature=0\n",
    ") \n",
    "\n",
    "gpt_35_turbo_16k = AzureChatOpenAI(\n",
    "    openai_api_version=\"2024-02-15-preview\",\n",
    "    azure_deployment=\"gpt-35-turbo-16k\",\n",
    "    temperature=0\n",
    ") \n",
    "\n",
    "smart_llm = AzureChatOpenAI(\n",
    "    openai_api_version=\"2024-02-15-preview\",\n",
    "    azure_deployment=\"gpt-4\",\n",
    "    temperature=0\n",
    ") \n",
    "gpt_35_turbo_instruct = AzureChatOpenAI(\n",
    "    openai_api_version=\"2024-02-15-preview\",\n",
    "    azure_deployment=\"gpt-35-turbo-instruct\",\n",
    "    temperature=0\n",
    ") \n",
    "# Embedding\n",
    "\n",
    "embeddings_3_large = AzureOpenAIEmbeddings(\n",
    "    azure_deployment=\"text-embedding-3-large\",\n",
    "    openai_api_version=\"2024-02-15-preview\",\n",
    "    max_retries=5,\n",
    "    retry_min_seconds=30,\n",
    "    retry_max_seconds=120,\n",
    "    show_progress_bar=True\n",
    ")"
   ]
  },
  {
   "cell_type": "markdown",
   "metadata": {},
   "source": [
    "# <a id='toc2_'></a>[Test questions](#toc0_)"
   ]
  },
  {
   "cell_type": "code",
   "execution_count": 4,
   "metadata": {},
   "outputs": [],
   "source": [
    "question_lists = [\n",
    "    \"Who should I contact if I want to ask for my timetable\",\n",
    "    \"Which department should I contact if I want to ask about my timetable?\",\n",
    "    \"Who should I contact if I want to ask about my attendance\",    \n",
    "    \"Which department should I contact if I want to ask about my attendance?\",\n",
    "    \"How can I contact Mr. Frazer?\",\n",
    "    \"May I ask for Mr. Frazer phone number?\",\n",
    "    \"I got a question regarding my exam schedule, who should I contact?\",\n",
    "    \"I got a question regarding my exam schedule, what department should I contact?\",\n",
    "    \"I want to ask for academic support\",\n",
    "    \"I need more information about the Student Tutor programme\",\n",
    "    \"I want to know about the Faculty Learning Support programme\"\n",
    "]"
   ]
  },
  {
   "cell_type": "markdown",
   "metadata": {},
   "source": [
    "# <a id='toc3_'></a>[Implementation](#toc0_)"
   ]
  },
  {
   "cell_type": "markdown",
   "metadata": {},
   "source": [
    "## <a id='toc3_1_'></a>[Preprocessing BUV q&a file](#toc0_)"
   ]
  },
  {
   "cell_type": "code",
   "execution_count": 5,
   "metadata": {},
   "outputs": [],
   "source": [
    "buv_qna = pd.read_excel('../../data/qna_update_data/process_data/buv_jul24_qna.xlsx')"
   ]
  },
  {
   "cell_type": "code",
   "execution_count": 6,
   "metadata": {},
   "outputs": [
    {
     "data": {
      "text/plain": [
       "Index(['page_content', 'file_name', 'page'], dtype='object')"
      ]
     },
     "execution_count": 6,
     "metadata": {},
     "output_type": "execute_result"
    }
   ],
   "source": [
    "buv_qna.columns"
   ]
  },
  {
   "cell_type": "code",
   "execution_count": 7,
   "metadata": {},
   "outputs": [],
   "source": [
    "from langchain.docstore.document import Document\n",
    "\n",
    "buv_qna_docs = []\n",
    "for row in buv_qna.itertuples(index=True, name='Pandas'):\n",
    "    document = Document(page_content=row.page_content, \n",
    "                        metadata = {\"file_name\": row.file_name, \n",
    "                                    \"page\": row.page})\n",
    "    buv_qna_docs.append(document)"
   ]
  },
  {
   "cell_type": "code",
   "execution_count": 8,
   "metadata": {},
   "outputs": [
    {
     "data": {
      "text/plain": [
       "75"
      ]
     },
     "execution_count": 8,
     "metadata": {},
     "output_type": "execute_result"
    }
   ],
   "source": [
    "len(buv_qna_docs)"
   ]
  },
  {
   "cell_type": "code",
   "execution_count": 9,
   "metadata": {},
   "outputs": [
    {
     "name": "stdout",
     "output_type": "stream",
     "text": [
      "If the academic results of students are not good enough and students/parents are worried, what can BUV support to improve their performance? / Sinh viên/phụ huynh lo rằng kết quả học tập của sinh viên không đủ tốt, liệu nhà trường có kế hoạch gì trong việc giúp đỡ sinh viên cải thiện kết quả học tập không?\n",
      "\n",
      "Answer / Câu trả lời:\n",
      "\n",
      "To improve students’ performance in specific modules, the best way is to stay engaged & reach out to the Modules Leaders for their support. This semester, module teams will be posting their “Office Hours” on the front page of their Canvas site near where you find their email address. To make use of Office Hours, the students can email their preferred module team members and request a meeting within those hours. In the case that the students are unable to attend the posted Office Hours, the module teams may be able to meet the students at other times depending on their availability.\n",
      "\n",
      "Moreover, at BUV, we are dedicated to providing comprehensive academic support even outside of the classrooms to ensure your son/daughter success throughout their educational journey. Our Student Academic Support (SAS) Office is the centralised team to contact whenever students need guidance and assistance in achieving their academic goals. We are now offering 2 programmes to support their academic performance outside of students’ classrooms which are: Student Tutor & Faculty Learning Support.\n",
      "\n",
      "Our Student Tutors are experienced BUV students in year 2 and 3 who have demonstrated exceptional academic performance and possess strong interpersonal skills. They are selected & trained to offer tailored academic assistance, helping other students grasp complex subjects, refine study techniques, and enhance their overall understanding of course materials. Through one-on-one sessions, other students can benefit from their expertise and receive personalized guidance to elevate their learning experience.\n",
      "\n",
      "Our Faculty Learning Support Team comprises seasoned academics with diverse expertise. These dedicated professionals are committed to helping students excel academically. Whether students require guidance on specific subjects, study strategies, time management, or English language support, our Faculty Learning Support Team is ready to assist.\n",
      "\n",
      "BUV students can easily book study sessions with Student Tutor & Faculty Learning Support Team via SAS booking system. Students can book multiple sessions with different tutors and faculties based on their needs. Details on booking instructions have been sent via email to students each semester. Students are strongly advised to take advantage of these valuable resources to enhance their learning experience, conquer challenges, and thrive academically. Should you have any inquiries or require assistance, please reach out to SAS via our email: academic-support@buv.edu.vn.\n",
      "\n",
      "Để cải thiện kết quả học tập cho từng môn học cụ thể, sinh viên nên chủ động tương tác và liên hệ với giảng viên môn học để được hỗ trợ. Trong học kỳ này, trên hệ thống học tập Canvas, “Khung giờ hỗ trợ” của từng môn học sẽ được cập nhật trên trang đầu (vị trí gần với thông tin email của giảng viên). Sinh viên có thể gửi email đến giảng viên của các môn học tương ứng để đặt lịch gặp trong các khung giờ này. Trong trường hợp “Khung giờ hỗ trợ” đã được công bố trên hệ thống học tập Canvas không phù hợp với thời gian biểu của sinh viên, tùy thuộc vào lịch của giảng viên, sinh viên có thể được đặt hẹn trong khung giờ khác.\n",
      "\n",
      "Tại BUV, nhà trường cũng dành sự quan tâm đặc biệt đến hỗ trợ học thuật bổ sung để giúp sinh viên có thể theo kịp việc học trên lớp và đạt được kết quả học tập tốt hơn. Phòng Hỗ trợ học thuật (SAS) sẽ là điểm đến mỗi khi sinh viên cần hướng dẫn hoặc hỗ trợ để cải thiện điểm số và đạt được kết quả học tập như mong muốn. Phòng SAS hiện cung cấp 2 chương trình hỗ trợ học thuật bổ sung: Chương trình Sinh viên Hỗ trợ (Student Tutor) và Chương trình Giảng viên Cố vấn (Faculty Learning Support).\n",
      "\n",
      "Sinh viên Hỗ trợ (Student Tutor) là sinh viên BUV năm 2 và năm 3, có thành tích học tập và kỹ năng giao tiếp tốt. Student Tutor được lựa chọn và hướng dẫn bởi phòng SAS để hỗ trợ học thuật cho các sinh viên khác; giúp giải thích các khái niệm chuyên ngành, rèn luyện kỹ năng học tập cũng như vận dụng tài liệu học để nâng cao điểm số. Qua những buổi học 1-1, Student Tutor sẽ đồng hành cùng sinh viên, chia sẻ kiến thức và cải thiện trải nghiệm học tập của sinh viên tại BUV.\n",
      "\n",
      "Nhóm Giảng viên Cố vấn (Faculty Learning Support Team) bao gồm những giảng viên kỳ cựu có chuyên môn và kinh nghiệm đa dạng của nhà trường. Dù sinh viên cần sự hỗ trợ thêm ở các môn học cụ thể, phương pháp học hay Tiếng Anh học thuật, nhóm Giảng viên Cố vấn sẵn sàng tư vấn và kèm cặp để giúp sinh viên đạt được kết quả tốt hơn.\n",
      "\n",
      "Sinh viên có thể đặt lịch hẹn dễ dàng với Student Tutor và Faculty Learning Support Team qua hệ thống đặt lịch hẹn của SAS. Sinh viên có thể đặt nhiều buổi học, với nhiều sinh viên và giảng viên cố vấn khác nhau tùy theo nhu cầu. Chi tiết về các hình thức hỗ trợ và cách đặt lịch đã được gửi qua email cho sinh viên. Sinh viên được khuyến khích tận dụng những chương trình hỗ trợ trên để cải thiện trải nghiệm học và đạt được thành tích tốt hơn. Mọi câu hỏi về các dịch vụ và chương trình hỗ trợ Học thuật ở BUV, xin vui lòng liên hệ phòng SAS qua địa chỉ email: academic-support@buv.edu.vn.\n"
     ]
    }
   ],
   "source": [
    "print(buv_qna_docs[3].page_content)"
   ]
  },
  {
   "cell_type": "code",
   "execution_count": 10,
   "metadata": {},
   "outputs": [
    {
     "name": "stdout",
     "output_type": "stream",
     "text": [
      "{'file_name': 'BUV-JUL24-FAQ.pdf', 'page': 10}\n"
     ]
    }
   ],
   "source": [
    "print(buv_qna_docs[0].metadata)"
   ]
  },
  {
   "cell_type": "markdown",
   "metadata": {},
   "source": [
    "## <a id='toc3_2_'></a>[Preprocessing student handbook file](#toc0_)"
   ]
  },
  {
   "cell_type": "code",
   "execution_count": 11,
   "metadata": {},
   "outputs": [],
   "source": [
    "student_handbook_df = pd.read_excel('../../data/qna_update_data/process_data/student_handbook_23_24.xlsx')"
   ]
  },
  {
   "cell_type": "code",
   "execution_count": 12,
   "metadata": {},
   "outputs": [],
   "source": [
    "from langchain.docstore.document import Document\n",
    "\n",
    "student_handbook_docs = []\n",
    "for row in student_handbook_df.itertuples(index=True, name='Pandas'):\n",
    "    document = Document(page_content=row.page_content, \n",
    "                        metadata = {\"file_name\": row.file_name, \n",
    "                                    \"page\": row.page})\n",
    "    student_handbook_docs.append(document)"
   ]
  },
  {
   "cell_type": "code",
   "execution_count": 13,
   "metadata": {},
   "outputs": [
    {
     "data": {
      "text/plain": [
       "62"
      ]
     },
     "execution_count": 13,
     "metadata": {},
     "output_type": "execute_result"
    }
   ],
   "source": [
    "len(student_handbook_docs)"
   ]
  },
  {
   "cell_type": "code",
   "execution_count": 14,
   "metadata": {},
   "outputs": [
    {
     "name": "stdout",
     "output_type": "stream",
     "text": [
      "## University Contact Points  \n",
      "The official communication channels in every course are Student emails and Canvas LMS. Students are expected to use Student emails to contact and communicate with the Academic Team throughout the course.  \n",
      "For any module related matters, it is recommended that all communications should be done via Canvas LMS. For any other supports related to Academic Administration, your first point of contact should always be the Student Information Office located at the Student Information Counter on level 2, BUV Campus.  \n",
      "| Admission Office Provides support and guidance for inquires relate to all Admissions procedure including pre-arrival inquiries. | admissions@buv.edu.vn |\n",
      "| - | - |\n",
      "| Course Office Provides support and guidance for inquires relate to Timetable, Class Arrangement, Status changes, Course Operations, Programme and Module Administration. | courseoffice@buv.edu.vn |\n",
      "| Student Information Office Provides support and guidance for inquiries relate to Attendance Records and the first point of contact for any other general inquiries and meeting bookings. | studentservice@buv.edu.vn |\n",
      "| Student Academic Support Office Provides support and guidance for inquiries relate to all academic supports including Student Tutor Programme and Faculty Learning Support. | academic-support@buv.edu.vn |\n",
      "| Student Engagement Provides general support and guidance for student activities, student life and employability activities. | se@buv.edu.vn |\n",
      "| Student Engagement – Career Services Provides support and guidance for inquiries relate to internships, career planning and consultations. | se-careers@buv.edu.vn |\n",
      "| Student Engagement– Student Life Provides support and guidance for inquiries related to student life on campus including student activities and student clubs. | se-studentlife@buv.edu.vn |\n",
      "| Well-being and Psychological Counselling Provides support and guidance student’s well-being matters, including psychological counselling services. | student-wellbeing@buv.edu.vn |\n",
      "| Learning Resources Centre Provides support and guidance for inquires relate to Student Ipad, Learning Resources Facilities including On-campus Library. | buv-lrc@buv.edu.vn |\n",
      "| Canvas Learning Management System Provides support and guidance for inquires relate to Canvas Learning Management System. | buv-lms@buv.edu.vn |\n",
      "| Exam Office Provides support and guidance for inquires relate to Exam Timetable, Exam regulations. | examoffice@buv.edu.vn |\n",
      "| Academic Compliance Office Provides support and guidance for inquires relate to Academic Misconduct, Academic Regulations and Exceptional Circumstances. | aca.compliance@buv.edu.vn |\n",
      "| Central of Academic Information Services - CAIS Provides support and guidance for inquiries relate to Exam Results, Student Records, Transcripts and Academic records. | cais@buv.edu.vn |  \n",
      "| International Office Provides support and guidance for inquires relate to Global Mobility, including Exchange and Transfer Programmes and International Study Tours. | international@buv.edu.vn |  \n",
      "| BUV welcomes feedback on all aspects related to your study and overall experience at the University. Your feedback is strictly confidential and will be reviewed/ assessed by members of the University’s Senior Management Team for further actions if required. ||\n",
      "| - | - |\n",
      "| General feedback | feedback@buv.edu.vn |\n"
     ]
    }
   ],
   "source": [
    "print(student_handbook_docs[3].page_content)"
   ]
  },
  {
   "cell_type": "code",
   "execution_count": 15,
   "metadata": {},
   "outputs": [
    {
     "name": "stdout",
     "output_type": "stream",
     "text": [
      "Student Handbook 2023-2024.pdf\n"
     ]
    }
   ],
   "source": [
    "print(student_handbook_docs[0].metadata['file_name'])"
   ]
  },
  {
   "cell_type": "markdown",
   "metadata": {},
   "source": [
    "## Process psg file"
   ]
  },
  {
   "cell_type": "code",
   "execution_count": 16,
   "metadata": {},
   "outputs": [],
   "source": [
    "psg_handbook_df = pd.read_excel('../../data/qna_update_data/process_data/psg_programme_handbook_23_24.xlsx')"
   ]
  },
  {
   "cell_type": "code",
   "execution_count": 17,
   "metadata": {},
   "outputs": [],
   "source": [
    "from langchain.docstore.document import Document\n",
    "\n",
    "psg_handbook_docs = []\n",
    "for row in psg_handbook_df.itertuples(index=True, name='Pandas'):\n",
    "    document = Document(page_content=row.page_content, \n",
    "                        metadata = {\"file_name\": row.file_name, \n",
    "                                    \"page\": row.page})\n",
    "    psg_handbook_docs.append(document)"
   ]
  },
  {
   "cell_type": "code",
   "execution_count": 18,
   "metadata": {},
   "outputs": [
    {
     "data": {
      "text/plain": [
       "31"
      ]
     },
     "execution_count": 18,
     "metadata": {},
     "output_type": "execute_result"
    }
   ],
   "source": [
    "len(psg_handbook_docs)"
   ]
  },
  {
   "cell_type": "code",
   "execution_count": 19,
   "metadata": {},
   "outputs": [
    {
     "name": "stdout",
     "output_type": "stream",
     "text": [
      "{'file_name': 'PSG Programme Handbook.pdf', 'page': 3}\n"
     ]
    }
   ],
   "source": [
    "print(psg_handbook_docs[0].metadata)"
   ]
  },
  {
   "cell_type": "code",
   "execution_count": 20,
   "metadata": {},
   "outputs": [
    {
     "name": "stdout",
     "output_type": "stream",
     "text": [
      "### If I am not a student-led project leader, how can I earn points in the University and Community Engagement quadrant?  \n",
      "Keep in mind that student-led projects do not need to be fancy, complicated or too far-reaching. Simply initiating an idea or attempting to run a campaign to raise awareness on social issues, e.g., cyber-bullying or recycling, can already be a meaningful project for the students. BUV fully supports students to try new things and experience growth in the most active way possible.  \n",
      "Members’ contributions will be recognised by the Core Organising Team (Project Leader, or Heads of Functions) during an evaluation process after each project and event. This evaluation process ensures that the members/coordinators/officers contribute and learn efficiently during the event/project. After the evaluation, members/coordinators/officers can receive from 20 to 80 points depending on the level of contribution assessed by their leaders.\n"
     ]
    }
   ],
   "source": [
    "print(psg_handbook_docs[28].page_content)"
   ]
  },
  {
   "cell_type": "markdown",
   "metadata": {},
   "source": [
    "## <a id='toc3_3_'></a>[Combine three docs](#toc0_)"
   ]
  },
  {
   "cell_type": "code",
   "execution_count": 21,
   "metadata": {},
   "outputs": [],
   "source": [
    "final_docs =  buv_qna_docs + student_handbook_docs + psg_handbook_docs"
   ]
  },
  {
   "cell_type": "code",
   "execution_count": 22,
   "metadata": {},
   "outputs": [
    {
     "data": {
      "text/plain": [
       "168"
      ]
     },
     "execution_count": 22,
     "metadata": {},
     "output_type": "execute_result"
    }
   ],
   "source": [
    "len(final_docs)"
   ]
  },
  {
   "cell_type": "markdown",
   "metadata": {},
   "source": [
    "## <a id='toc3_4_'></a>[Count token](#toc0_)\n",
    "Per parent document"
   ]
  },
  {
   "cell_type": "code",
   "execution_count": 40,
   "metadata": {},
   "outputs": [],
   "source": [
    "list_page_content = [doc.page_content for doc in final_docs]"
   ]
  },
  {
   "cell_type": "code",
   "execution_count": 41,
   "metadata": {},
   "outputs": [],
   "source": [
    "import tiktoken\n",
    "\n",
    "def num_tokens_from_string(string: str, encoding_name: str = \"cl100k_base\") -> int:\n",
    "    \"\"\"Returns the number of tokens in a text string.\"\"\"\n",
    "    encoding = tiktoken.get_encoding(encoding_name)\n",
    "    num_tokens = len(encoding.encode(string))\n",
    "    return num_tokens\n",
    "\n",
    "\n",
    "num_tokens = list(map(num_tokens_from_string, list_page_content))"
   ]
  },
  {
   "cell_type": "code",
   "execution_count": 42,
   "metadata": {},
   "outputs": [
    {
     "data": {
      "text/plain": [
       "<Axes: ylabel='Frequency'>"
      ]
     },
     "execution_count": 42,
     "metadata": {},
     "output_type": "execute_result"
    },
    {
     "data": {
      "image/png": "[encoded data removed]",
      "text/plain": [
       "<Figure size 640x480 with 1 Axes>"
      ]
     },
     "metadata": {},
     "output_type": "display_data"
    }
   ],
   "source": [
    "import pandas as pd\n",
    "# Create a DataFrame from the list\n",
    "df = pd.DataFrame(num_tokens, columns=['Value'])\n",
    "\n",
    "# Plot the distribution\n",
    "df['Value'].plot(kind='hist', bins=8, color='skyblue', edgecolor='black', alpha=0.7)\n",
    "# df['Value'].plot(kind='kde', color='red')\n"
   ]
  },
  {
   "cell_type": "code",
   "execution_count": 43,
   "metadata": {},
   "outputs": [
    {
     "data": {
      "text/html": [
       "<div>\n",
       "<style scoped>\n",
       "    .dataframe tbody tr th:only-of-type {\n",
       "        vertical-align: middle;\n",
       "    }\n",
       "\n",
       "    .dataframe tbody tr th {\n",
       "        vertical-align: top;\n",
       "    }\n",
       "\n",
       "    .dataframe thead th {\n",
       "        text-align: right;\n",
       "    }\n",
       "</style>\n",
       "<table border=\"1\" class=\"dataframe\">\n",
       "  <thead>\n",
       "    <tr style=\"text-align: right;\">\n",
       "      <th></th>\n",
       "      <th>Value</th>\n",
       "    </tr>\n",
       "  </thead>\n",
       "  <tbody>\n",
       "    <tr>\n",
       "      <th>count</th>\n",
       "      <td>168.000000</td>\n",
       "    </tr>\n",
       "    <tr>\n",
       "      <th>mean</th>\n",
       "      <td>547.434524</td>\n",
       "    </tr>\n",
       "    <tr>\n",
       "      <th>std</th>\n",
       "      <td>479.820958</td>\n",
       "    </tr>\n",
       "    <tr>\n",
       "      <th>min</th>\n",
       "      <td>31.000000</td>\n",
       "    </tr>\n",
       "    <tr>\n",
       "      <th>25%</th>\n",
       "      <td>217.750000</td>\n",
       "    </tr>\n",
       "    <tr>\n",
       "      <th>50%</th>\n",
       "      <td>387.000000</td>\n",
       "    </tr>\n",
       "    <tr>\n",
       "      <th>75%</th>\n",
       "      <td>668.250000</td>\n",
       "    </tr>\n",
       "    <tr>\n",
       "      <th>max</th>\n",
       "      <td>2294.000000</td>\n",
       "    </tr>\n",
       "  </tbody>\n",
       "</table>\n",
       "</div>"
      ],
      "text/plain": [
       "             Value\n",
       "count   168.000000\n",
       "mean    547.434524\n",
       "std     479.820958\n",
       "min      31.000000\n",
       "25%     217.750000\n",
       "50%     387.000000\n",
       "75%     668.250000\n",
       "max    2294.000000"
      ]
     },
     "execution_count": 43,
     "metadata": {},
     "output_type": "execute_result"
    }
   ],
   "source": [
    "df.describe()"
   ]
  },
  {
   "cell_type": "markdown",
   "metadata": {},
   "source": [
    "## <a id='toc3_5_'></a>[Retrievers](#toc0_)"
   ]
  },
  {
   "cell_type": "markdown",
   "metadata": {},
   "source": [
    "### <a id='toc3_5_1_'></a>[Parent document retrievers](#toc0_)"
   ]
  },
  {
   "cell_type": "code",
   "execution_count": 23,
   "metadata": {},
   "outputs": [],
   "source": [
    "from langchain.retrievers import ParentDocumentRetriever\n",
    "from langchain.storage import InMemoryStore, LocalFileStore\n",
    "from langchain_text_splitters import RecursiveCharacterTextSplitter\n",
    "from langchain.storage._lc_store import create_kv_docstore\n",
    "\n",
    "\n",
    "# This text splitter is used to create the child documents\n",
    "child_splitter = RecursiveCharacterTextSplitter(\n",
    "    chunk_size=400, chunk_overlap=100, add_start_index=True\n",
    ")\n",
    "# The vectorstore to use to index the child chunks\n",
    "vectorstore_chunk_zie_400 = Chroma(\n",
    "    persist_directory=\"./chroma_db/buv_embedding_400_large_with_source\", embedding_function=embeddings_3_large\n",
    ")\n",
    "# The storage layer for the parent documents\n",
    "# store = InMemoryStore()\n",
    "fs = LocalFileStore(\"./parent_document_store/buv_embedding_large_with_source\")\n",
    "store = create_kv_docstore(fs)\n",
    "parent_document_retriever = ParentDocumentRetriever(\n",
    "    vectorstore=vectorstore_chunk_zie_400,\n",
    "    docstore=store,\n",
    "    child_splitter=child_splitter,\n",
    "    search_kwargs={\"k\": 2},\n",
    ")"
   ]
  },
  {
   "cell_type": "code",
   "execution_count": 24,
   "metadata": {},
   "outputs": [
    {
     "name": "stderr",
     "output_type": "stream",
     "text": [
      "/Users/macos/Documents/SWO/buvBot/.venv/lib/python3.11/site-packages/tqdm/auto.py:21: TqdmWarning: IProgress not found. Please update jupyter and ipywidgets. See https://ipywidgets.readthedocs.io/en/stable/user_install.html\n",
      "  from .autonotebook import tqdm as notebook_tqdm\n",
      "100%|██████████| 1/1 [01:25<00:00, 85.61s/it]\n"
     ]
    }
   ],
   "source": [
    "parent_document_retriever.add_documents(final_docs, ids=None)\n",
    "# parent_document_retriever.add_documents(final_docs[:84], ids=None)\n",
    "# parent_document_retriever.add_documents(final_docs[84:], ids=None)"
   ]
  },
  {
   "cell_type": "code",
   "execution_count": 25,
   "metadata": {},
   "outputs": [
    {
     "data": {
      "text/plain": [
       "168"
      ]
     },
     "execution_count": 25,
     "metadata": {},
     "output_type": "execute_result"
    }
   ],
   "source": [
    "len(list(store.yield_keys()))"
   ]
  },
  {
   "cell_type": "markdown",
   "metadata": {},
   "source": [
    "### <a id='toc3_5_2_'></a>[Test chunk size](#toc0_)"
   ]
  },
  {
   "cell_type": "code",
   "execution_count": 15,
   "metadata": {},
   "outputs": [],
   "source": [
    "# chunk_size 300\n",
    "# text_splitter_300 = RecursiveCharacterTextSplitter(chunk_size=300, chunk_overlap=100)\n",
    "# docs_300 = text_splitter_300.split_documents(final_docs)\n",
    "# db_chunk_size_300 = Chroma.from_documents(docs_300, embeddings_3_large,\n",
    "#                                           persist_directory=\"buv_and_student_handbook_300_embedding_large\")\n",
    "\n",
    "db_chunk_size_300 = Chroma(persist_directory=\"buv_and_student_handbook_300_embedding_large\",\n",
    "                           embeddings=embeddings_3_large)\n"
   ]
  },
  {
   "cell_type": "code",
   "execution_count": 16,
   "metadata": {},
   "outputs": [],
   "source": [
    "# # chunk_size 300\n",
    "# text_splitter_350 = RecursiveCharacterTextSplitter(chunk_size=350, chunk_overlap=100)\n",
    "# docs_350 = text_splitter_350.split_documents(final_docs)\n",
    "# db_chunk_size_350 = Chroma.from_documents(docs_350, embeddings_3_large, \n",
    "#                                           persist_directory=\"buv_and_student_handbook_350_embedding_large\")\n",
    "db_chunk_size_350 = Chroma(persist_directory=\"buv_and_student_handbook_350_embedding_large\",\n",
    "                           embeddings=embeddings_3_large)"
   ]
  },
  {
   "cell_type": "code",
   "execution_count": 32,
   "metadata": {},
   "outputs": [
    {
     "data": {
      "text/plain": [
       "['Who should I contact if I want to ask for my timetable',\n",
       " 'Which department should I contact if I want to ask about my timetable?',\n",
       " 'Who should I contact if I want to ask about my attendance',\n",
       " 'Which department should I contact if I want to ask about my attendance?',\n",
       " 'How can I contact Mr. Frazer?',\n",
       " 'May I ask for Mr. Frazer phone number?',\n",
       " 'I got a question regarding my exam schedule, who should I contact?',\n",
       " 'I got a question regarding my exam schedule, what department should I contact?',\n",
       " 'I want to ask for academic support',\n",
       " 'I need more information about the Student Tutor programme',\n",
       " 'I want to know about the Faculty Learning Support programme']"
      ]
     },
     "execution_count": 32,
     "metadata": {},
     "output_type": "execute_result"
    }
   ],
   "source": [
    "question_lists"
   ]
  },
  {
   "cell_type": "code",
   "execution_count": 55,
   "metadata": {},
   "outputs": [],
   "source": [
    "a = db_chunk_size_300.similarity_search(\"May I ask for Mr. Frazer phone number?\")"
   ]
  },
  {
   "cell_type": "code",
   "execution_count": 58,
   "metadata": {},
   "outputs": [
    {
     "name": "stdout",
     "output_type": "stream",
     "text": [
      "If you or your friend are in a medical emergency case and cannot come to Medical Suite, please reach out to our emergency hotline 090 215 7558 for prompt assistance.  \n",
      "Hours of operation:  \n",
      "From Monday to Friday, 08:30 - 17:30  \n",
      "Weekend operations are dependent on events/activities and classes.\n"
     ]
    }
   ],
   "source": [
    "print(a[2].page_content)"
   ]
  },
  {
   "cell_type": "code",
   "execution_count": 59,
   "metadata": {},
   "outputs": [],
   "source": [
    "a = db_chunk_size_350.similarity_search(\"May I ask for Mr. Frazer phone number?\")"
   ]
  },
  {
   "cell_type": "code",
   "execution_count": 60,
   "metadata": {},
   "outputs": [
    {
     "name": "stdout",
     "output_type": "stream",
     "text": [
      "and up to 4 minutes 59 seconds after the timetabled end of the session. Students should also immediately inform the Student Information Office on the 2nd floor in person about any FRS issue.\n"
     ]
    }
   ],
   "source": [
    "print(a[0].page_content)"
   ]
  },
  {
   "cell_type": "code",
   "execution_count": 61,
   "metadata": {},
   "outputs": [
    {
     "name": "stdout",
     "output_type": "stream",
     "text": [
      "If you or your friend are in a medical emergency case and cannot come to Medical Suite, please reach out to our emergency hotline 090 215 7558 for prompt assistance.  \n",
      "Hours of operation:  \n",
      "From Monday to Friday, 08:30 - 17:30  \n",
      "Weekend operations are dependent on events/activities and classes.\n"
     ]
    }
   ],
   "source": [
    "print(a[1].page_content)"
   ]
  },
  {
   "cell_type": "code",
   "execution_count": 12,
   "metadata": {},
   "outputs": [],
   "source": [
    "a = vectorstore_chunk_zie_400.similarity_search(\"Which department and how should I contact if I want to ask about my timetable?\")"
   ]
  },
  {
   "cell_type": "code",
   "execution_count": 15,
   "metadata": {},
   "outputs": [
    {
     "name": "stdout",
     "output_type": "stream",
     "text": [
      "| Admission Office Provides support and guidance for inquires relate to all Admissions procedure including pre-arrival inquiries. | admissions@buv.edu.vn |\n",
      "| - | - |\n",
      "| Course Office Provides support and guidance for inquires relate to Timetable, Class Arrangement, Status changes, Course Operations, Programme and Module Administration. | courseoffice@buv.edu.vn |\n"
     ]
    }
   ],
   "source": [
    "print(a[2].page_content)"
   ]
  },
  {
   "cell_type": "code",
   "execution_count": 1,
   "metadata": {},
   "outputs": [
    {
     "ename": "NameError",
     "evalue": "name 'parent_document_retriever' is not defined",
     "output_type": "error",
     "traceback": [
      "\u001b[0;31m---------------------------------------------------------------------------\u001b[0m",
      "\u001b[0;31mNameError\u001b[0m                                 Traceback (most recent call last)",
      "Cell \u001b[0;32mIn[1], line 1\u001b[0m\n\u001b[0;32m----> 1\u001b[0m b \u001b[38;5;241m=\u001b[39m \u001b[43mparent_document_retriever\u001b[49m\u001b[38;5;241m.\u001b[39minvoke(\u001b[38;5;124m\"\u001b[39m\u001b[38;5;124mI got a question regarding my exam schedule, who should I contact?\u001b[39m\u001b[38;5;124m\"\u001b[39m)\n",
      "\u001b[0;31mNameError\u001b[0m: name 'parent_document_retriever' is not defined"
     ]
    }
   ],
   "source": [
    "b = parent_document_retriever.invoke(\"I got a question regarding my exam schedule, who should I contact?\")"
   ]
  },
  {
   "cell_type": "code",
   "execution_count": 78,
   "metadata": {},
   "outputs": [
    {
     "name": "stdout",
     "output_type": "stream",
     "text": [
      "## Academic Misconduct Regulation  \n",
      "Academic Conduct and Misconduct for IFP/UOL students, please refer to UOL General Regulations and Programme Regulations which can be found here:  \n",
      "https://www.london.ac.uk/current-students/programme-documents/regulations#undergraduate-29612  \n",
      "General Regulations AY 2022/23 (for both UOL&IFP) https://www.london.ac.uk/sites/default/files/regulations/generalregs-2022-23-v2.pdf  \n",
      "UOL Programme Regulations AY 2022/2023  \n",
      "https://www.london.ac.uk/sites/default/files/progregs-emfss-online-taught-2022-2023-19-07-23.pdf  \n",
      "IFP Programme Regulations AY 2022/2023  \n",
      "https://www.london.ac.uk/sites/default/files/regulations/progregs-ifp-2022-2023.pdf  \n",
      "Academic Misconduct is any action which could give you, or someone else, an unfair advantage in an assessment, including examinations. It is also any actions which could undermine the fairness of assessment and research at the University.  \n",
      "There are different types of academic misconduct. You can find a list at: https://www.staffs.ac.uk/legal/policies/types-of-academic-misconduct.jsp  \n",
      "If your lecturer believes that you have committed academic misconduct, they will gather all evidence and inform your Programme Leader. The evidence will normally include the Turnitin Report, if this is relevant, and any sources which your we believe you have copied from. If the allegations relate to cheating in an exam, we will include the examination certificate.  \n",
      "If your Programme Leader and person identifying the misconduct judge that the instance is likely to be a minor one, as set out in the List of sanction, we will deal with your case informally. If it is considered that your case is more serious, we will ask you to attend a formal meeting that you can find more detail at: https://www.staffs.ac.uk/legal/policies/academic-conduct-procedure.jsp  \n",
      "Poor Academic Practice is not academic misconduct. Poor academic practice happens when you have used too much of other people’s works in your assessment. Alternatively, it is most likely that you have not understood how to reference your work properly. In this case, there should be no evidence that you have tried to gain an unfair advantage in your assessment. If we feel that your work contains poor academic practice, we can discuss this with you and advise on how you can improve in future performance. Because poor academic practice has no penalty, students are not recommended to appeal to this decision. Appeal to poor academic practice can be interpreted that students disagreed with the panel and want to reconsider for Academic misconduct.  \n",
      "Mitigating Factors for Consideration in Assessing a Case  \n",
      "Each of the points below may have an impact on the case outcomes and should be used by the panel to assess the severity of the case.  \n",
      "Whether the student has committed academic misconduct before.  \n",
      "How far the student is into their academic journey.  \n",
      "What the impact of the academic misconduct on the mark awarded is.  \n",
      "Whether the academic misconduct is widespread across a range of modules.  \n",
      "Whether the student has admitted the offence in the first instance.  \n",
      "Whether there is evidence that the student committed academic misconduct on purpose.  \n",
      "Whether the student had personal circumstances which affected their decision making at the time.  \n",
      "Example: A student who has started recently, has committed no previous offences and found on one module not to have accurately reflected content in their referencing is likely to be a minor case compared to a student in their 2 or 3 year of study.  \n",
      "Table of Sanctions  \n",
      "| Instance | Range of sanctions which can be applied |\n",
      "| - | - |\n",
      "| Minor instance. Normally a first offence and limited to a single module. | Failure of the assessment. You will be reassessed, should an opportunity exist. Or Failure of the module concerned with a right to be reassessed should an opportunity exist. |\n",
      "| Major instance Normally a second offence or an offence which is widespread across multiple modules. | Failure of the module concerned with a right to be reassessed should an opportunity exist. Or Failure of the level. All of the marks will be wiped clean and you will re-start the level at the next opportunity. |\n",
      "| Serious instance. Normally a second or third offence or any instance of contract cheating/impersonation. | Failure of the award and/or termination of your studies at the University. Your ability to reapply and enroll again at the university may also be restricted, normally for two whole academic years. |  \n",
      "Appeal to decision of the Panel  \n",
      "If you feel that a decision on your academic conduct is wrong, you can appeal. You will need to put this in writing, to aca.compliance@buv.edu.vn or regulations@staffs.ac.uk with your evidence, within two weeks (excluding holidays) of the decision.  \n",
      "You may appeal against an academic conduct decision for the following reasons which you must make clear in your appeal:  \n",
      "That the procedure was not followed properly, and this has affected the outcome.  \n",
      "That the decision reached was unreasonable due to bias or the harshness of the sanction.  \n",
      "That you have new evidence which you were unable to provide earlier in the process for valid reasons.  \n",
      "The Registry will check that your appeal is:  \n",
      "On time, within 2 weeks (excluding banks holidays) of the decision.  \n",
      "Meets one of the reasons to appeal; and  \n",
      "Is supported by evidence.  \n",
      "If your appeal does not meet all the above, we will not consider it and we will write to you explaining the reason.\n"
     ]
    }
   ],
   "source": [
    "print(b[0].page_content)"
   ]
  },
  {
   "cell_type": "markdown",
   "metadata": {},
   "source": [
    "#### <a id='toc3_5_2_1_'></a>[Reload parent document retriever](#toc0_)"
   ]
  },
  {
   "cell_type": "markdown",
   "metadata": {},
   "source": [
    "In fact, the ParentDocumentRetriever could be replaced by a MultiVectorRetriever instance since the difference between the two is the add_documents method that the ParentDocumentRetriever has.\n",
    "\n",
    "Refer to here: https://github.com/langchain-ai/langchain/issues/9345"
   ]
  },
  {
   "cell_type": "code",
   "execution_count": 5,
   "metadata": {},
   "outputs": [],
   "source": [
    "from langchain.retrievers import ParentDocumentRetriever\n",
    "from langchain.storage import InMemoryStore, LocalFileStore\n",
    "from langchain_text_splitters import RecursiveCharacterTextSplitter\n",
    "from langchain.storage._lc_store import create_kv_docstore\n",
    "from langchain.retrievers import MultiVectorRetriever\n",
    "\n",
    "\n",
    "# The vectorstore to use to index the child chunks\n",
    "vectorstore_chunk_zie_400 = Chroma(\n",
    "    persist_directory=\"./chroma_db/buv_and_student_handbook_400\", embedding_function=embeddings\n",
    ")\n",
    "# The storage layer for the parent documents\n",
    "# store = InMemoryStore()\n",
    "fs = LocalFileStore(\"./parent_document_store/buv_and_student_handbook\")\n",
    "store = create_kv_docstore(fs)\n",
    "parent_document_retriever = MultiVectorRetriever(\n",
    "    vectorstore=vectorstore_chunk_zie_400,\n",
    "    docstore=store,\n",
    "    search_kwargs={\"k\": 3},\n",
    ")"
   ]
  },
  {
   "cell_type": "code",
   "execution_count": 6,
   "metadata": {},
   "outputs": [
    {
     "data": {
      "text/plain": [
       "['Who should I contact if I want to ask for my timetable',\n",
       " 'Which department should I contact if I want to ask about my timetable?',\n",
       " 'Who should I contact if I want to ask about my attendance',\n",
       " 'Which department should I contact if I want to ask about my attendance?',\n",
       " 'How can I contact Mr. Frazer?',\n",
       " 'May I ask for Mr. Frazer phone number?',\n",
       " 'I got a question regarding my exam schedule, who should I contact?',\n",
       " 'I got a question regarding my exam schedule, what department should I contact?',\n",
       " 'I want to ask for academic support',\n",
       " 'I need more information about the Student Tutor programme',\n",
       " 'I want to know about the Faculty Learning Support programme']"
      ]
     },
     "execution_count": 6,
     "metadata": {},
     "output_type": "execute_result"
    }
   ],
   "source": [
    "question_lists"
   ]
  },
  {
   "cell_type": "code",
   "execution_count": 7,
   "metadata": {},
   "outputs": [],
   "source": [
    "a = vectorstore_chunk_zie_400.similarity_search(question_lists)"
   ]
  },
  {
   "cell_type": "code",
   "execution_count": 18,
   "metadata": {},
   "outputs": [
    {
     "name": "stdout",
     "output_type": "stream",
     "text": [
      "of Office Hours, the students can email their preferred module team members and request a meeting within those hours. In the case that the students are unable to attend the posted Office Hours, the module teams may be able to meet the students at other times depending on their availability.\n"
     ]
    }
   ],
   "source": [
    "print(a[1].page_content)"
   ]
  },
  {
   "cell_type": "code",
   "execution_count": 10,
   "metadata": {},
   "outputs": [],
   "source": [
    "b = parent_document_retriever.invoke(question_lists[0])"
   ]
  },
  {
   "cell_type": "code",
   "execution_count": 16,
   "metadata": {},
   "outputs": [
    {
     "name": "stdout",
     "output_type": "stream",
     "text": [
      "If the academic results of students are not good enough and students/parents are worried, what can BUV support to improve their performance? / Sinh viên/phụ huynh lo rằng kết quả học tập của sinh viên không đủ tốt, liệu nhà trường có kế hoạch gì trong việc giúp đỡ sinh viên cải thiện kết quả học tập không?\n",
      "\n",
      "Answer / Câu trả lời:\n",
      "\n",
      "To improve students’ performance in specific modules, the best way is to stay engaged & reach out to the Modules Leaders for their support. This semester, module teams will be posting their “Office Hours” on the front page of their Canvas site near where you find their email address. To make use of Office Hours, the students can email their preferred module team members and request a meeting within those hours. In the case that the students are unable to attend the posted Office Hours, the module teams may be able to meet the students at other times depending on their availability.\n",
      "\n",
      "Moreover, at BUV, we are dedicated to providing comprehensive academic support even outside of the classrooms to ensure your son/daughter success throughout their educational journey. Our Student Academic Support (SAS) Office is the centralised team to contact whenever students need guidance and assistance in achieving their academic goals. We are now offering 2 programmes to support their academic performance outside of students’ classroom which are: Student Tutor & Faculty Learning Support.\n",
      "\n",
      "Our Student Tutors are experienced BUV students in year 2 and 3 who have demonstrated exceptional academic performance and possess strong interpersonal skills. They are selected & trained to offer tailored academic assistance, helping other students grasp complex subjects, refine study techniques, and enhance their overall understanding of course materials. Through one-on-one sessions, other students can benefit from their expertise and receive personalized guidance to elevate their learning experience.\n",
      "\n",
      "Our Faculty Learning Support Team comprises seasoned academics with diverse expertise. These dedicated professionals are committed to helping students excel academically. Whether students require guidance on specific subjects, study strategies, time management, or English language support, our Faculty Learning Support Team is ready to assist.\n",
      "\n",
      "BUV students can easily book study sessions with Student Tutor & Faculty Learning Support Team via SAS booking system. Students can book multiple sessions with different tutors and faculties based on their needs. Details on booking instructions has been sent via emails to students each semester. Students are strongly advised to take advantage of these valuable resources to enhance their learning experience, conquer challenges, and thrive academically. Should you have any inquiries or require assistance, please reach out to SAS via our email: academic-support@buv.edu.vn.\n",
      "\n",
      "Để cải thiện kết quả học tập cho từng môn học cụ thể, sinh viên nên chủ động tương tác và liên hệ với giảng viên môn học để được hỗ trợ. Trong học kỳ này, trên hệ thống học tập Canvas, “Khung giờ hỗ trợ” của từng môn học sẽ được cập nhật trên trang đầu (vị trí gần với thông tin email của giảng viên). Sinh viên có thể gửi email đến giảng viên của các môn học tương ứng để đặt lịch gặp trong các khung giờ này. Trong trường hợp “Khung giờ hỗ trợ” đã được công bố trên hệ thống học tập Canvas không phù hợp với thời gian biểu của sinh viên, tùy thuộc vào lịch của giảng viên, sinh viên có thể được đặt hẹn trong khung giờ khác.\n",
      "\n",
      "Tại BUV, nhà trường cũng dành sự quan tâm đặc biệt đến hỗ trợ học thuật bổ sung để giúp sinh viên có thể theo kịp việc học trên lớp và đạt được kết quả học tập tốt hơn. Phòng Hỗ trợ học thuật (SAS) sẽ là điểm đến mỗi khi sinh viên cần hướng dẫn hoặc hỗ trợ để cải thiện điểm số và đạt được kết quả học tập như mong muốn. Phòng SAS hiện cung cấp 2 chương trình hỗ trợ học thuật bổ sung: Chương trình Sinh viên Hỗ trợ (Student Tutor) và Chương trình Giảng viên Cố vấn (Faculty Learning Support).\n",
      "\n",
      "Sinh viên Hỗ trợ (Student Tutor) là sinh viên BUV năm 2 và năm 3, có thành tích học tập và kỹ năng giao tiếp tốt. Student Tutor được lựa chọn và hướng dẫn bởi phòng SAS để hỗ trợ học thuật cho các sinh viên khác; giúp giải thích các khái niệm chuyên ngành, rèn luyện kỹ năng học tập cũng như vận dụng tài liệu học để nâng cao điểm số. Qua những buổi học 1-1, Student Tutor sẽ đồng hành cùng sinh viên, chia sẻ kiến thức và cải thiện trải nghiệm học tập của sinh viên tại BUV.\n",
      "\n",
      "Nhóm Giảng viên Cố vấn (Faculty Learning Support Team) bao gồm những giảng viên kỳ cựu có chuyên môn và kinh nghiệm đa dạng của nhà trường. Dù sinh viên cần sự hỗ trợ thêm ở các môn học cụ thể, phương pháp học hay Tiếng Anh học thuật, nhóm Giảng viên Cố vấn sẵn sàng tư vấn và kèm cặp để giúp sinh viên đạt được kết quả tốt hơn.\n",
      "\n",
      "Sinh viên có thể đặt lịch hẹn dễ dàng với Student Tutor và Faculty Learning Support Team qua hệ thống đặt lịch hẹn của SAS. Sinh viên có thể đặt nhiều buổi học, với nhiều sinh viên và giảng viên cố vấn khác nhau tùy theo nhu cầu. Chi tiết về các hình thức hỗ trợ và cách đặt lịch đã được gửi qua email cho sinh viên. Sinh viên được khuyến khích tận dụng những chương trình hỗ trợ trên để cải thiện trải nghiệm học và đạt được thành tích tốt hơn. Mọi câu hỏi về các dịch vụ và chương trình hỗ trợ Học thuật ở BUV, xin vui lòng liên hệ phòng SAS qua địa chỉ email: academic-support@buv.edu.vn.\n"
     ]
    }
   ],
   "source": [
    "print(b[1].page_content)"
   ]
  },
  {
   "cell_type": "markdown",
   "metadata": {},
   "source": [
    "### <a id='toc3_5_3_'></a>[Rephrase retriever](#toc0_)"
   ]
  },
  {
   "cell_type": "code",
   "execution_count": 96,
   "metadata": {},
   "outputs": [],
   "source": [
    "from langchain.chains import LLMChain\n",
    "from langchain_core.prompts import PromptTemplate\n",
    "from langchain.retrievers import RePhraseQueryRetriever\n",
    "\n",
    "QUERY_PROMPT = PromptTemplate(\n",
    "    input_variables=[\"question\"],\n",
    "    template=\"\"\"You are an assistant tasked with taking a natural languge query from a user\n",
    "    and converting it into a query for a vectorstore. \n",
    "    Instruction:\n",
    "    - Strip out all information that is not relevant for the retrieval task and return a new, simplified\n",
    "    question for vectorstore retrieval. The new user query should be in pirate speech.\n",
    "\n",
    "    Here is the user query: {question} \"\"\",\n",
    ")\n",
    "llm_chain = LLMChain(llm=gpt_35_turbo_16k, prompt=QUERY_PROMPT)\n",
    "retriever_from_llm_chain = RePhraseQueryRetriever(\n",
    "    retriever=parent_document_retriever, llm_chain=llm_chain\n",
    ")"
   ]
  },
  {
   "cell_type": "code",
   "execution_count": 101,
   "metadata": {},
   "outputs": [],
   "source": [
    "a = retriever_from_llm_chain.invoke(\"Please send me the student code of conduct at BUV for my compliance with the school policy\")"
   ]
  },
  {
   "cell_type": "code",
   "execution_count": 103,
   "metadata": {},
   "outputs": [
    {
     "name": "stdout",
     "output_type": "stream",
     "text": [
      "## Student Code of Conduct  \n",
      "Being a proud member of the University community means engaging with your studies and supporting others to do so. As a student you are entitled to respect. As a member of our University, we expect you to respect and be tolerant of others, including other students, staff and the public. This means listening to others, celebrating the diversity of our community, and following the University policies, regulations and the law.  \n",
      "The following list will help you understand what conduct is expected of you as a member of our University community:  \n",
      "Treat others with tolerance, dignity and respect, either in person or online.  \n",
      "Follow all University regulations and policies.  \n",
      "Respect your environment, both on and off campus.  \n",
      "Treat University property with respect  \n",
      "Follow health and safety rules and guidelines  \n",
      "Act within the law and do not negatively impact on the University’s reputation  \n",
      "Any violation of the conducts or regulations will result in relative disciplinary decision made by the Disciplinary Panel of the University  \n",
      "At all times, you are expected to behave in a courteous manner to staff and fellow students.  \n",
      "You are expected to attend your programme of study regularly and punctually. You are required to achieve the required level of attendance in order to be permitted to take the relevant assessment for any module.  \n",
      "The possession and/or use of illegal drugs, alcohol liquids and abuse of intoxicating substances on University premises is strictly forbidden.  \n",
      "The possession and/or use of firearms or other offensive weapons (including replicas) on University premises is strictly forbidden.  \n",
      "For reasons of health, safety and hygiene, smoking (including vaping, using electronic cigarrete or similar devices) is not permitted within the University and in front of the university’s entrance pathway.  \n",
      "Food and drink may be consumed only in authorized areas and not in teaching rooms, Learning Resource Centre, IT areas or examination rooms unless permission has been given to do so for documented medical reasons.  \n",
      "You must not sell goods or services on University premises.  \n",
      "Any form of card playing or gambling on University premises is strictly forbidden.  \n",
      "The University takes all cases of breaches of disciplinary procedures seriously and has the right to take appropriate action against those students who breach them. These actions may include suspension, academic probation or expulsion.\n"
     ]
    }
   ],
   "source": [
    "print(a[1].page_content)"
   ]
  },
  {
   "cell_type": "markdown",
   "metadata": {},
   "source": [
    "## <a id='toc3_6_'></a>[Create chain](#toc0_)"
   ]
  },
  {
   "cell_type": "code",
   "execution_count": 13,
   "metadata": {},
   "outputs": [],
   "source": [
    "from langchain_core.prompts import PromptTemplate\n",
    "from langchain_core.output_parsers import StrOutputParser\n",
    "from langchain_core.runnables import RunnablePassthrough\n",
    "\n",
    "\n",
    "def format_docs_vectorstore_retriever(docs, num_parent_docs=2):\n",
    "    return \"\\n\\n\".join(doc.page_content for doc in docs[:num_parent_docs])\n",
    "\n",
    "def format_docs_parent_retriever(docs, num_parent_docs=2):\n",
    "    return \"\\n\\n\".join(doc.page_content for doc in docs[:num_parent_docs])\n",
    "\n",
    "template = \"\"\"\n",
    "You are an AI assistant that helps students answering specific questions based on student handbook. \n",
    "\n",
    "Use the following pieces of context to answer the question at the end.\n",
    "If you don't know the answer, just say that you don't know, don't try to make up an answer.\n",
    "Keep the answer as concise as possible.\n",
    "Always say \"thanks for asking!\" at the end of the answer.\n",
    "\n",
    "Context:\n",
    "{context}\n",
    "\n",
    "Question: \n",
    "{question}\n",
    "\n",
    "Helpful Answer:\"\"\"\n",
    "custom_rag_prompt = PromptTemplate.from_template(template)\n",
    "\n",
    "from operator import itemgetter\n",
    "# rag_chain_with_vectorstore_retriever = (\n",
    "#     {\"context\": itemgetter(\"question\") | retriever | format_docs_vectorstore_retriever, \"question\": itemgetter(\"question\")}\n",
    "#     | custom_rag_prompt\n",
    "#     | gpt_35_turbo_16k\n",
    "#     | StrOutputParser()\n",
    "# )\n",
    "\n",
    "rag_chain_with_parent_retriever = (\n",
    "    {\"context\": itemgetter(\"question\") | parent_document_retriever | format_docs_parent_retriever, \"question\": itemgetter(\"question\")}\n",
    "    | custom_rag_prompt\n",
    "    | gpt_35_turbo_16k\n",
    "    | StrOutputParser()\n",
    ")\n",
    "\n"
   ]
  },
  {
   "cell_type": "code",
   "execution_count": 14,
   "metadata": {},
   "outputs": [],
   "source": [
    "template_2 = \"\"\"\n",
    "You are an AI assistant that helps students answering specific questions based on student handbook. \n",
    "\n",
    "Use the following pieces of context to answer the question at the end.\n",
    "If you don't know the answer, just say that you don't know, don't try to make up an answer.\n",
    "Keep the answer as concise as possible.\n",
    "Always say \"thanks for asking!\" at the end of the answer.\n",
    "\n",
    "Context:\n",
    "{context}\n",
    "\n",
    "Question: \n",
    "{question}\n",
    "\n",
    "Helpful Answer:\"\"\"\n",
    "custom_rag_prompt_2 = PromptTemplate.from_template(template_2)\n",
    "\n",
    "rag_chain_with_parent_retriever_2 = (\n",
    "    {\"context\": itemgetter(\"question\") | parent_document_retriever | format_docs_parent_retriever, \"question\": itemgetter(\"question\")}\n",
    "    | custom_rag_prompt_2\n",
    "    | smart_llm\n",
    "    | StrOutputParser()\n",
    ")\n"
   ]
  },
  {
   "cell_type": "code",
   "execution_count": 15,
   "metadata": {},
   "outputs": [],
   "source": [
    "template_3 = \"\"\"\n",
    "You are an AI assistant that helps students answering specific questions based on given contexts. \n",
    "\n",
    "Use the following pieces of context to answer the question at the end.\n",
    "If you don't know the answer, just say that you don't know, don't try to make up an answer.\n",
    "Keep the answer as concise as possible, but the answer MUST contain all information in the given context which students may want to hear related to question.\n",
    "Always say \"thanks for asking!\" at the end of the answer.\n",
    "\n",
    "Context:\n",
    "{context}\n",
    "\n",
    "Question: \n",
    "{question}\n",
    "\n",
    "Helpful Answer:\"\"\"\n",
    "custom_rag_prompt_3 = PromptTemplate.from_template(template_3)\n",
    "\n",
    "rag_chain_with_parent_retriever_3 = (\n",
    "    {\"context\": itemgetter(\"question\") | parent_document_retriever | format_docs_parent_retriever, \"question\": itemgetter(\"question\")}\n",
    "    | custom_rag_prompt_3\n",
    "    | gpt_35_turbo_16k\n",
    "    | StrOutputParser()\n",
    ")\n",
    "\n",
    "# template 4\n",
    "template_4 = \"\"\"\n",
    "As an AI assistant specializing in student support, your task is to provide concise and comprehensive answers to specific questions based on the provided context. \n",
    "\n",
    "Instructions:\n",
    "1. Begin by reading the context carefully.\n",
    "2. Answer the question based on the information given in the context.\n",
    "3. If the answer is not available in the context, admit that you don't know the answer. Do not fabricate responses.\n",
    "4. Keep your answer as succinct as possible, but ensure it includes all relevant information from the context. For examples: \n",
    "    - if students ask about a department or services, you should answer not only department name or serivec name, but also service link and department contact such as email, phone, ... if those information have in the context. \n",
    "    - if context does not have specific answer, but contain reference information such as reference link, reference contact point, support contact point and so on. Then you should show it up.\n",
    "    - if context contains advices for specific student's action, you should show it up.\n",
    "5. Conclude your answer with \"Thanks for asking!\" to maintain a friendly interaction.\n",
    "\n",
    "### \n",
    "\n",
    "Context:\n",
    "{context}\n",
    "\n",
    "Question: \n",
    "{question}\n",
    "\n",
    "Your Informative Answer:\"\"\"\n",
    "\n",
    "rag_chain_with_parent_retriever_4 = (\n",
    "    {\"context\": itemgetter(\"question\") | parent_document_retriever | format_docs_parent_retriever, \"question\": itemgetter(\"question\")}\n",
    "    | PromptTemplate.from_template(template_4)\n",
    "    | gpt_35_turbo_16k\n",
    "    | StrOutputParser()\n",
    ")"
   ]
  },
  {
   "cell_type": "code",
   "execution_count": 17,
   "metadata": {},
   "outputs": [
    {
     "name": "stdout",
     "output_type": "stream",
     "text": [
      "The outcomes of academic misconduct can range from failure of the assessment or module to failure of the level or even termination of studies at the university. The severity of the outcome depends on the level of misconduct and is determined by the Award Board. It is advised to follow the Academic Conduct Procedure and seek guidance from the Academic Compliance Office for further information. Thanks for asking!\n"
     ]
    }
   ],
   "source": [
    "print(rag_chain_with_parent_retriever.invoke({'question':\"What are the outcomes in case I got the misconduct?\"}))"
   ]
  },
  {
   "cell_type": "code",
   "execution_count": 137,
   "metadata": {},
   "outputs": [
    {
     "name": "stdout",
     "output_type": "stream",
     "text": [
      "You need to contact the Transportation Team for any transportation issues. You can reach them through the hotline number 0704 068 386 or by sending an email to transportation@buv.edu.vn. Thanks for asking!\n"
     ]
    }
   ],
   "source": [
    "print(rag_chain_with_parent_retriever_3.invoke({'question':\"Which department do I need to contact for transportation issues?\"}))"
   ]
  },
  {
   "cell_type": "code",
   "execution_count": 16,
   "metadata": {},
   "outputs": [
    {
     "name": "stdout",
     "output_type": "stream",
     "text": [
      "British University Vietnam doesn't have the graduated GPA ranking. Thanks for asking!\n"
     ]
    }
   ],
   "source": [
    "print(rag_chain_with_parent_retriever_4.invoke({'question':\"Does the University provide information of graduation ranking?\"}))"
   ]
  },
  {
   "cell_type": "code",
   "execution_count": 107,
   "metadata": {},
   "outputs": [
    {
     "name": "stdout",
     "output_type": "stream",
     "text": [
      "You can request for a Break-in-Study for a minimum of one term to a maximum of one year. Please remember to seek advice from the Learning Support team or Discipline Lead before making any decisions. Thanks for asking!\n"
     ]
    }
   ],
   "source": [
    "print(rag_chain_with_parent_retriever_2.invoke({'question':\"I want to request for a gap, how long can I do that?\"}))"
   ]
  },
  {
   "cell_type": "markdown",
   "metadata": {},
   "source": [
    "## <a id='toc3_7_'></a>[Add sources](#toc0_)"
   ]
  },
  {
   "cell_type": "code",
   "execution_count": 55,
   "metadata": {},
   "outputs": [],
   "source": [
    "from langchain_core.prompts import PromptTemplate\n",
    "from langchain_core.output_parsers import StrOutputParser\n",
    "from langchain_core.runnables import RunnablePassthrough\n",
    "\n",
    "\n",
    "def format_docs_with_sources(docs: List[Document]) -> str:\n",
    "    formatted = []\n",
    "    for i, doc in enumerate(docs[:2]):\n",
    "        doc_str = f\"\"\"\\\n",
    "        Source Name: {doc.metadata['file_name']} - {doc.metadata['page']}\n",
    "        Information: {doc.page_content}\n",
    "        \"\"\"\n",
    "        formatted.append(doc_str)\n",
    "    return \"\\n\\n\".join(formatted)\n",
    "\n",
    "template_with_sources = \"\"\"\n",
    "As an AI assistant specializing in student support, your task is to provide concise and comprehensive answers to specific questions based on the provided context. \n",
    "The context is a list of sources. Each source includes source name and information.\n",
    "You MUST follow instruction deliminated by ###.\n",
    "\n",
    "###\n",
    "Instructions:\n",
    "\n",
    "1. Begin by reading the context carefully.\n",
    "2. Answer the question based on the information given in the context.\n",
    "3. If the answer is not available in the context, admit that you don't know the answer. Do not fabricate responses.\n",
    "4. Keep your answer as succinct as possible, but ensure it includes all relevant information from the context. For examples: \n",
    "    - if students ask about a department or services, you should answer not only department name or serivec name, but also service link and department contact such as email, phone, ... if those information have in the context. \n",
    "    - if context does not have specific answer, but contain reference information such as reference link, reference contact point, support contact point and so on. Then you should show it up.\n",
    "    - if context contains advices for specific student's action, you should show it up.\n",
    "5. Always include the source name from the context for each fact you use in the response in the following format: \n",
    "```\n",
    "response here\n",
    "Sources:\n",
    "- Source name 1\n",
    "- Source name 2\n",
    "....\n",
    "- Source name n\n",
    "```\n",
    "### \n",
    "\n",
    "Context:\n",
    "{context}\n",
    "\n",
    "Question: \n",
    "{question}\n",
    "\n",
    "Your Informative Answer and Citations:\"\"\"\n",
    "from operator import itemgetter\n",
    "\n",
    "rag_chain_with_parent_retriever_with_sources = (\n",
    "    {\"context\": itemgetter(\"question\") | parent_document_retriever | format_docs_with_sources, \"question\": itemgetter(\"question\")}\n",
    "    | PromptTemplate.from_template(template_with_sources)\n",
    "    | gpt_35_turbo_16k\n",
    "    | StrOutputParser()\n",
    ")\n",
    "\n"
   ]
  },
  {
   "cell_type": "code",
   "execution_count": 58,
   "metadata": {},
   "outputs": [
    {
     "name": "stdout",
     "output_type": "stream",
     "text": [
      "The email address for Student Life is se-studentlife@buv.edu.vn.\n",
      "\n",
      "Sources:\n",
      "- Student Handbook - 6-8\n"
     ]
    }
   ],
   "source": [
    "print(rag_chain_with_parent_retriever_with_sources.invoke({'question':'What is email address of Student life?'}))"
   ]
  },
  {
   "cell_type": "markdown",
   "metadata": {},
   "source": [
    "# <a id='toc4_'></a>[Testing](#toc0_)"
   ]
  },
  {
   "cell_type": "code",
   "execution_count": 16,
   "metadata": {},
   "outputs": [
    {
     "data": {
      "text/plain": [
       "['I want to get a copy of the scholarship maintenance form',\n",
       " 'When does the Student Hub Student Hub & Food Court open?',\n",
       " 'How can I have the weekly menus updated?',\n",
       " 'What is the link to the website for topping up?',\n",
       " 'What should I do if I lose the Student ID Card?',\n",
       " 'Can I have the room list to book for self-studying?',\n",
       " 'Can I choose the room to book for self-studying?',\n",
       " 'When is the bus schedule for the weekday sent out?',\n",
       " 'Can first year students go for internships?',\n",
       " 'What should I do if I come across difficulties during my internship?',\n",
       " 'Which department should I ask for help if I have some issues during the internship?',\n",
       " 'Can I get the Certificate of Internship Completion?',\n",
       " 'How many industrial partners are in the career network at BUV?',\n",
       " 'What is the progression condition at BUV?',\n",
       " 'what would happen if student fails the resit(s)?',\n",
       " 'What will happen if the External Examination Board decides for students to retake a module/re-study?',\n",
       " 'Do I have my result this semester?',\n",
       " 'When can I receive student’s result this semester?',\n",
       " 'How can I receive student’s result this semester?',\n",
       " 'what is the contact point of Student Information Office?']"
      ]
     },
     "execution_count": 16,
     "metadata": {},
     "output_type": "execute_result"
    }
   ],
   "source": [
    "question_lists"
   ]
  },
  {
   "cell_type": "code",
   "execution_count": 51,
   "metadata": {},
   "outputs": [],
   "source": [
    "bot_answers_with_vectorstore_as_retriever =  [rag_chain_with_vectorstore_retriever.invoke({'question':q}) for q in question_lists]"
   ]
  },
  {
   "cell_type": "code",
   "execution_count": 17,
   "metadata": {},
   "outputs": [],
   "source": [
    "bot_answers_with_parent_document_as_retriever =  [rag_chain_with_parent_retriever.invoke({'question':q}) for q in question_lists[-4:]]"
   ]
  },
  {
   "cell_type": "code",
   "execution_count": 18,
   "metadata": {},
   "outputs": [],
   "source": [
    "import pandas as pd\n",
    "answer_df = pd.DataFrame({\n",
    "    \"Question\": question_lists[-4:],\n",
    "    # \"bot_answers_with_vectorstore_as_retriever\": bot_answers_with_vectorstore_as_retriever,\n",
    "    \"bot_answers_with_parent_document_as_retriever\": bot_answers_with_parent_document_as_retriever\n",
    "})"
   ]
  },
  {
   "cell_type": "code",
   "execution_count": 19,
   "metadata": {},
   "outputs": [
    {
     "name": "stdout",
     "output_type": "stream",
     "text": [
      "|    | Question                                                 | bot_answers_with_parent_document_as_retriever                                                                                                                                                                                                                                       |\n",
      "|---:|:---------------------------------------------------------|:------------------------------------------------------------------------------------------------------------------------------------------------------------------------------------------------------------------------------------------------------------------------------------|\n",
      "|  0 | Do I have my result this semester?                       | If you are studying the BUV programme, you can expect to receive your results around 10 weeks after the semester's final assessments period. The Central Academic Information Services (CAIS) team will send the results via email to both you and your parents. Thanks for asking! |\n",
      "|  1 | When can I receive student’s result this semester?       | If you study BUV programme, you can expect to receive your results around 10 weeks after the semester's final assessments period. The Central Academic Information Services (CAIS) team will send the results via email to both you and your parents. Thanks for asking!            |\n",
      "|  2 | How can I receive student’s result this semester?        | If students study BUV programme, student’s grades are available around 10 weeks after the semester’s final assessments period. Central Academic Information Services (CAIS) team will send the students’ results via email to both the parents and the students. Thanks for asking! |\n",
      "|  3 | what is the contact point of Student Information Office? | The contact point for the Student Information Office is studentservice@buv.edu.vn. Thanks for asking!                                                                                                                                                                               |\n"
     ]
    }
   ],
   "source": [
    "print(answer_df.to_markdown())"
   ]
  },
  {
   "cell_type": "markdown",
   "metadata": {},
   "source": [
    "|    | Question                                                 | bot_answers_with_parent_document_as_retriever                                                                                                                                                                                                                                       |\n",
    "|---:|:---------------------------------------------------------|:------------------------------------------------------------------------------------------------------------------------------------------------------------------------------------------------------------------------------------------------------------------------------------|\n",
    "|  0 | Do I have my result this semester?                       | If you are studying the BUV programme, you can expect to receive your results around 10 weeks after the semester's final assessments period. The Central Academic Information Services (CAIS) team will send the results via email to both you and your parents. Thanks for asking! |\n",
    "|  1 | When can I receive student’s result this semester?       | If you study BUV programme, you can expect to receive your results around 10 weeks after the semester's final assessments period. The Central Academic Information Services (CAIS) team will send the results via email to both you and your parents. Thanks for asking!            |\n",
    "|  2 | How can I receive student’s result this semester?        | If students study BUV programme, student’s grades are available around 10 weeks after the semester’s final assessments period. Central Academic Information Services (CAIS) team will send the students’ results via email to both the parents and the students. Thanks for asking! |\n",
    "|  3 | what is the contact point of Student Information Office? | The contact point for the Student Information Office is studentservice@buv.edu.vn. Thanks for asking!                                                                                                                                                                               |\n"
   ]
  },
  {
   "cell_type": "code",
   "execution_count": null,
   "metadata": {},
   "outputs": [],
   "source": []
  }
 ],
 "metadata": {
  "kernelspec": {
   "display_name": ".venv",
   "language": "python",
   "name": "python3"
  },
  "language_info": {
   "codemirror_mode": {
    "name": "ipython",
    "version": 3
   },
   "file_extension": ".py",
   "mimetype": "text/x-python",
   "name": "python",
   "nbconvert_exporter": "python",
   "pygments_lexer": "ipython3",
   "version": "3.11.5"
  }
 },
 "nbformat": 4,
 "nbformat_minor": 2
}

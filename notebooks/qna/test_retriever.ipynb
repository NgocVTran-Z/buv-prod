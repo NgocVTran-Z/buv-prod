{
 "cells": [
  {
   "cell_type": "code",
   "execution_count": 1,
   "metadata": {},
   "outputs": [],
   "source": [
    "import os\n",
    "import pandas as pd\n",
    "pd.set_option(\"display.max_colwidth\", None)\n",
    "\n",
    "os.environ[\"AZURE_OPENAI_ENDPOINT\"] = \"https://dalle3-swo.openai.azure.com/\"\n",
    "os.environ[\"AZURE_OPENAI_API_KEY\"] = \"e51119f8d8774069a6594d92ccf7a70d\""
   ]
  },
  {
   "cell_type": "code",
   "execution_count": 2,
   "metadata": {},
   "outputs": [],
   "source": [
    "from langchain_community.utilities import GoogleSearchAPIWrapper\n",
    "from langchain_community.vectorstores import Chroma\n",
    "from langchain_openai import AzureChatOpenAI, AzureOpenAIEmbeddings, OpenAIEmbeddings\n",
    "from langchain_core.output_parsers import BaseOutputParser\n",
    "from typing import List, Optional\n",
    "import re\n",
    "from langchain_core.prompts import ChatPromptTemplate\n",
    "from langchain_core.runnables import chain\n",
    "from langchain_community.utilities import GoogleSerperAPIWrapper\n",
    "from langchain_core.output_parsers import StrOutputParser\n",
    "\n",
    "# LLM\n",
    "llm = AzureChatOpenAI(\n",
    "    openai_api_version=\"2024-02-15-preview\",\n",
    "    azure_deployment=\"gpt-35-turbo\",\n",
    "    temperature=0\n",
    ") \n",
    "\n",
    "gpt_35_turbo_16k = AzureChatOpenAI(\n",
    "    openai_api_version=\"2024-02-15-preview\",\n",
    "    azure_deployment=\"gpt-35-turbo-16k\",\n",
    "    temperature=0\n",
    ") \n",
    "\n",
    "smart_llm = AzureChatOpenAI(\n",
    "    openai_api_version=\"2024-02-15-preview\",\n",
    "    azure_deployment=\"gpt-4\",\n",
    "    temperature=0\n",
    ") \n",
    "gpt_35_turbo_instruct = AzureChatOpenAI(\n",
    "    openai_api_version=\"2024-02-15-preview\",\n",
    "    azure_deployment=\"gpt-35-turbo-instruct\",\n",
    "    temperature=0\n",
    ") \n",
    "# Embedding\n",
    "embeddings = AzureOpenAIEmbeddings(\n",
    "    azure_deployment=\"text-embedding-ada-002\",\n",
    "    openai_api_version=\"2024-02-15-preview\",\n",
    ")\n",
    "\n",
    "embeddings_3_large = AzureOpenAIEmbeddings(\n",
    "    azure_deployment=\"text-embedding-3-large\",\n",
    "    openai_api_version=\"2024-02-15-preview\",\n",
    ")"
   ]
  },
  {
   "cell_type": "code",
   "execution_count": 3,
   "metadata": {},
   "outputs": [],
   "source": [
    "# The vectorstore to use to index the child chunks\n",
    "# vectorstore_chunk_zie_400_embedding_large = Chroma(\n",
    "#     persist_directory=\"./chroma_db/buv_and_student_handbook_400_embedding_large\", embedding_function=embeddings_3_large\n",
    "# )\n",
    "\n",
    "# vectorstore_chunk_zie_350_embedding_large = Chroma(\n",
    "#     persist_directory=\"./chroma_db/buv_and_student_handbook_400_embedding_large\", embedding_function=embeddings_3_large\n",
    "# )\n",
    "\n",
    "vectorstore_chunk_zie_400_embedding_small = Chroma(\n",
    "    persist_directory=\"./chroma_db/buv_and_student_handbook_400\", embedding_function=embeddings\n",
    ")"
   ]
  },
  {
   "cell_type": "code",
   "execution_count": 145,
   "metadata": {},
   "outputs": [],
   "source": [
    "a = vectorstore_chunk_zie_400_embedding_large.similarity_search(\"May I ask for Mr. Frazer phone number?\")"
   ]
  },
  {
   "cell_type": "code",
   "execution_count": 150,
   "metadata": {},
   "outputs": [
    {
     "name": "stdout",
     "output_type": "stream",
     "text": [
      "| | Hoang Bao Long || long.hb2@buv.edu.vn ||\n",
      "| | James McGaughran || james.mg@buv.edu.vn ||\n",
      "| | James McMillan || james.mcmillan@buv.edu.vn ||\n",
      "| | James Parkins || jimmy.p@buv.edu.vn ||\n",
      "| | Jason MacVaugh || dean@buv.edu.vn ||\n",
      "| | Jed Clarke || jed.c@buv.edu.vn ||\n",
      "| | Joao Fialho || joao.f@buv.edu.vn ||\n",
      "| | Joey Lai || joey.lai@buv.edu.vn ||\n",
      "| | Jonathan Neale || jonathan.n@buv.edu.vn ||\n"
     ]
    }
   ],
   "source": [
    "print(a[2].page_content)"
   ]
  },
  {
   "cell_type": "code",
   "execution_count": 4,
   "metadata": {},
   "outputs": [],
   "source": [
    "b = vectorstore_chunk_zie_400_embedding_small.similarity_search(\"I got a question regarding my exam schedule, who should I contact?\")"
   ]
  },
  {
   "cell_type": "code",
   "execution_count": 5,
   "metadata": {},
   "outputs": [
    {
     "ename": "IndexError",
     "evalue": "list index out of range",
     "output_type": "error",
     "traceback": [
      "\u001b[0;31m---------------------------------------------------------------------------\u001b[0m",
      "\u001b[0;31mIndexError\u001b[0m                                Traceback (most recent call last)",
      "Cell \u001b[0;32mIn[5], line 1\u001b[0m\n\u001b[0;32m----> 1\u001b[0m \u001b[38;5;28mprint\u001b[39m(\u001b[43mb\u001b[49m\u001b[43m[\u001b[49m\u001b[38;5;241;43m0\u001b[39;49m\u001b[43m]\u001b[49m\u001b[38;5;241m.\u001b[39mpage_content)\n",
      "\u001b[0;31mIndexError\u001b[0m: list index out of range"
     ]
    }
   ],
   "source": [
    "print(b[0].page_content)"
   ]
  },
  {
   "cell_type": "code",
   "execution_count": null,
   "metadata": {},
   "outputs": [],
   "source": []
  }
 ],
 "metadata": {
  "kernelspec": {
   "display_name": ".venv",
   "language": "python",
   "name": "python3"
  },
  "language_info": {
   "codemirror_mode": {
    "name": "ipython",
    "version": 3
   },
   "file_extension": ".py",
   "mimetype": "text/x-python",
   "name": "python",
   "nbconvert_exporter": "python",
   "pygments_lexer": "ipython3",
   "version": "3.11.5"
  }
 },
 "nbformat": 4,
 "nbformat_minor": 2
}

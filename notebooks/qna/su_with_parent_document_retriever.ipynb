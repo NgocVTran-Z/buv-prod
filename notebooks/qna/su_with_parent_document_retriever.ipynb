{
 "cells": [
  {
   "cell_type": "markdown",
   "metadata": {},
   "source": [
    "# Setup"
   ]
  },
  {
   "cell_type": "code",
   "execution_count": 1,
   "metadata": {},
   "outputs": [],
   "source": [
    "import os\n",
    "import pandas as pd\n",
    "pd.set_option(\"display.max_colwidth\", None)\n",
    "\n",
    "os.environ[\"AZURE_OPENAI_ENDPOINT\"] = \"https://dalle3-swo.openai.azure.com/\"\n",
    "os.environ[\"AZURE_OPENAI_API_KEY\"] = \"e51119f8d8774069a6594d92ccf7a70d\""
   ]
  },
  {
   "cell_type": "code",
   "execution_count": 2,
   "metadata": {},
   "outputs": [],
   "source": [
    "from langchain_community.utilities import GoogleSearchAPIWrapper\n",
    "from langchain_community.vectorstores import Chroma\n",
    "from langchain_openai import AzureChatOpenAI, AzureOpenAIEmbeddings, OpenAIEmbeddings\n",
    "from langchain_core.output_parsers import BaseOutputParser\n",
    "from typing import List, Optional\n",
    "import re\n",
    "from langchain_core.prompts import ChatPromptTemplate\n",
    "from langchain_core.runnables import chain\n",
    "from langchain_community.utilities import GoogleSerperAPIWrapper\n",
    "from langchain_core.output_parsers import StrOutputParser\n",
    "\n",
    "# LLM\n",
    "llm = AzureChatOpenAI(\n",
    "    openai_api_version=\"2024-02-15-preview\",\n",
    "    azure_deployment=\"gpt-35-turbo\",\n",
    "    temperature=0\n",
    ") \n",
    "\n",
    "gpt_35_turbo_16k = AzureChatOpenAI(\n",
    "    openai_api_version=\"2024-02-15-preview\",\n",
    "    azure_deployment=\"gpt-35-turbo-16k\",\n",
    "    temperature=0\n",
    ") \n",
    "\n",
    "smart_llm = AzureChatOpenAI(\n",
    "    openai_api_version=\"2024-02-15-preview\",\n",
    "    azure_deployment=\"gpt-4\",\n",
    "    temperature=0\n",
    ") \n",
    "gpt_35_turbo_instruct = AzureChatOpenAI(\n",
    "    openai_api_version=\"2024-02-15-preview\",\n",
    "    azure_deployment=\"gpt-35-turbo-instruct\",\n",
    "    temperature=0\n",
    ") \n",
    "# Embedding\n",
    "\n",
    "embeddings_3_large = AzureOpenAIEmbeddings(\n",
    "    azure_deployment=\"text-embedding-3-large\",\n",
    "    openai_api_version=\"2024-02-15-preview\",\n",
    "    max_retries=5,\n",
    "    retry_min_seconds=120,\n",
    "    retry_max_seconds=500,\n",
    "    show_progress_bar=True,\n",
    ")"
   ]
  },
  {
   "cell_type": "markdown",
   "metadata": {},
   "source": [
    "# Test questions"
   ]
  },
  {
   "cell_type": "code",
   "execution_count": 3,
   "metadata": {},
   "outputs": [],
   "source": [
    "question_lists = [\n",
    "    # Test again with True answer\n",
    "    \"How do students have lunch at BUV if they have to study a full day?\",\n",
    "    \"Where do I get student’s scholarship maintenance criteria?\",\n",
    "    # Test for false answer\n",
    "    \"I want to get a copy of the scholarship maintenance form\",\n",
    "    \"How can I have the weekly menus updated?\",\n",
    "    \"What is the link to the website for topping up?\",\n",
    "    \"What should I do if I lose the Student ID Card?\",\n",
    "    \"When is the bus schedule for the weekday sent out?\",\n",
    "    \"Can I have the room list to book for self-studying?\",\n",
    "    \"How can I contact the Transportation Team?\",\n",
    "    \"What is the email address of the Transportation Team?\"\n",
    "]"
   ]
  },
  {
   "cell_type": "markdown",
   "metadata": {},
   "source": [
    "# Implementation"
   ]
  },
  {
   "cell_type": "markdown",
   "metadata": {},
   "source": [
    "## Preprocessing BUV q&a file"
   ]
  },
  {
   "cell_type": "code",
   "execution_count": 4,
   "metadata": {},
   "outputs": [],
   "source": [
    "su_qna = pd.read_excel('../../data/qna_update_data/process_data/su_jul24_qna.xlsx')"
   ]
  },
  {
   "cell_type": "code",
   "execution_count": 5,
   "metadata": {},
   "outputs": [],
   "source": [
    "from langchain.docstore.document import Document\n",
    "\n",
    "su_qna_docs = []\n",
    "for row in su_qna.itertuples(index=True, name='Pandas'):\n",
    "    document = Document(page_content=row.page_content, \n",
    "                        metadata = {\"file_name\": row.file_name, \n",
    "                                    \"page\": row.page})\n",
    "    su_qna_docs.append(document)"
   ]
  },
  {
   "cell_type": "code",
   "execution_count": 6,
   "metadata": {},
   "outputs": [
    {
     "data": {
      "text/plain": [
       "83"
      ]
     },
     "execution_count": 6,
     "metadata": {},
     "output_type": "execute_result"
    }
   ],
   "source": [
    "len(su_qna_docs)"
   ]
  },
  {
   "cell_type": "code",
   "execution_count": 7,
   "metadata": {},
   "outputs": [
    {
     "name": "stdout",
     "output_type": "stream",
     "text": [
      "How can I receive bus schedule? / Làm thế nào để tôi có thể nhận được lịch xe bus.\n",
      "\n",
      "Answer / Câu trả lời:\n",
      "\n",
      "The bus schedules are updated weekly to attending students of current semester through their BUV email. The weekday schedules will be sent to students on Friday weekly with the updated schedule for the week after. The weekend schedules for those attending classes or events only will be sent to relevant people on Tuesday of that week. Bus usage guidelines will be sent to students via their BUV student email before the first day of the semester or whenever there is an adjustment.\n",
      "\n",
      "Besides, you can join our bus communities via QR codes below to be updated on daily information of each route. We encourage students to contact the Transportation team via hotline number 0704 068 386 and email transportation@buv.edu.vn for more detailed information.\n",
      "\n",
      "Lịch xe buýt BUV được cập nhật hàng tuần cho các sinh viên có thời khóa biểu và lịch trình trong kỳ học hiện tại qua địa chỉ email BUV cá nhân. Lịch hoạt động trong tuần của xe buýt BUV sẽ được gửi đến sinh viên vào mỗi thứ Sáu của tuần trước đó. Lịch hoạt động cuối tuần của xe buýt BUV chỉ dành cho sinh viên có lịch học hoặc sự kiện sẽ được gửi đến những người liên quan vào mỗi thứ Ba của tuần đó. Hướng dẫn sử dụng xe buýt sẽ được gửi cho sinh viên qua email trước ngày đầu tiên của kỳ học hoặc bất kỳ khi nào có điều chỉnh.\n",
      "\n",
      "Ngoài ra, bạn còn có thể tham gia vào các nhóm thông tin tuyến qua các mã QR dưới đây để cập nhật lịch xe và thông tin hàng ngày trên các tuyến đường,\n",
      "\n",
      "Nhà trường khuyến khích sinh viên trao đổi với Bộ phận Transportation qua số hotline 0704 068 386 hoặc thông qua email transportation@buv.edu.vn để có thêm thông tin chi tiết.\n"
     ]
    }
   ],
   "source": [
    "print(su_qna_docs[20].page_content)"
   ]
  },
  {
   "cell_type": "markdown",
   "metadata": {},
   "source": [
    "## Preprocessing student handbook file"
   ]
  },
  {
   "cell_type": "code",
   "execution_count": 8,
   "metadata": {},
   "outputs": [],
   "source": [
    "student_handbook_df = pd.read_excel('../../data/qna_update_data/process_data/student_handbook_23_24.xlsx')"
   ]
  },
  {
   "cell_type": "code",
   "execution_count": 9,
   "metadata": {},
   "outputs": [],
   "source": [
    "from langchain.docstore.document import Document\n",
    "\n",
    "student_handbook_docs = []\n",
    "for row in student_handbook_df.itertuples(index=True, name='Pandas'):\n",
    "    document = Document(page_content=row.page_content, \n",
    "                        metadata = {\"file_name\": row.file_name, \n",
    "                                    \"page\": row.page})\n",
    "    student_handbook_docs.append(document)"
   ]
  },
  {
   "cell_type": "code",
   "execution_count": 10,
   "metadata": {},
   "outputs": [
    {
     "data": {
      "text/plain": [
       "62"
      ]
     },
     "execution_count": 10,
     "metadata": {},
     "output_type": "execute_result"
    }
   ],
   "source": [
    "len(student_handbook_docs)"
   ]
  },
  {
   "cell_type": "code",
   "execution_count": 11,
   "metadata": {},
   "outputs": [
    {
     "name": "stdout",
     "output_type": "stream",
     "text": [
      "{'file_name': 'Student Handbook 2023-2024.pdf', 'page': 4}\n"
     ]
    }
   ],
   "source": [
    "print(student_handbook_docs[0].metadata)"
   ]
  },
  {
   "cell_type": "code",
   "execution_count": 12,
   "metadata": {},
   "outputs": [
    {
     "name": "stdout",
     "output_type": "stream",
     "text": [
      "# Introduction to the Student Handbook  \n",
      "Welcome to British University Vietnam. During your course of study, we aim to not only provide you with an excellent learning experience, but also to help you develop the transferable skills that will prepare you for life after university. This means that as a BUV graduate, you will be fully equipped to succeed in both the workplace and in your personal life. Moreover, you will have all the tools necessary to take on any leadership positions in the future.  \n",
      "This handbook provides you with essential information to fully utilize your time at British University Vietnam. It is vital to your success and the enjoyment of your experience here that you read this handbook carefully. If there is any unclear information in this handbook, please kindly reach out to any of our university staff, we are happy to assist you with any questions you might have. Please note this version is for July 2024 semester.  \n",
      "Remember that as a student at British University Vietnam you should always aim to be the best. Our goal is to become the most outstanding university in Vietnam, and you are a part of this very special journey.  \n",
      "We wish you all the health, happiness, and success for your time at British University Vietnam and beyond!\n"
     ]
    }
   ],
   "source": [
    "print(student_handbook_docs[0].page_content)"
   ]
  },
  {
   "cell_type": "markdown",
   "metadata": {},
   "source": [
    "## Process psg file"
   ]
  },
  {
   "cell_type": "code",
   "execution_count": 13,
   "metadata": {},
   "outputs": [],
   "source": [
    "psg_handbook_df = pd.read_excel('../../data/qna_update_data/process_data/psg_programme_handbook_23_24.xlsx')"
   ]
  },
  {
   "cell_type": "code",
   "execution_count": 14,
   "metadata": {},
   "outputs": [],
   "source": [
    "from langchain.docstore.document import Document\n",
    "\n",
    "psg_handbook_docs = []\n",
    "for row in psg_handbook_df.itertuples(index=True, name='Pandas'):\n",
    "    document = Document(page_content=row.page_content, \n",
    "                        metadata = {\"file_name\": row.file_name, \n",
    "                                    \"page\": row.page})\n",
    "    psg_handbook_docs.append(document)"
   ]
  },
  {
   "cell_type": "code",
   "execution_count": 15,
   "metadata": {},
   "outputs": [
    {
     "data": {
      "text/plain": [
       "31"
      ]
     },
     "execution_count": 15,
     "metadata": {},
     "output_type": "execute_result"
    }
   ],
   "source": [
    "len(psg_handbook_docs)"
   ]
  },
  {
   "cell_type": "code",
   "execution_count": 16,
   "metadata": {},
   "outputs": [
    {
     "name": "stdout",
     "output_type": "stream",
     "text": [
      "{'file_name': 'PSG Programme Handbook.pdf', 'page': 3}\n"
     ]
    }
   ],
   "source": [
    "print(psg_handbook_docs[0].metadata)"
   ]
  },
  {
   "cell_type": "code",
   "execution_count": 17,
   "metadata": {},
   "outputs": [
    {
     "name": "stdout",
     "output_type": "stream",
     "text": [
      "### If I am not a student-led project leader, how can I earn points in the University and Community Engagement quadrant?  \n",
      "Keep in mind that student-led projects do not need to be fancy, complicated or too far-reaching. Simply initiating an idea or attempting to run a campaign to raise awareness on social issues, e.g., cyber-bullying or recycling, can already be a meaningful project for the students. BUV fully supports students to try new things and experience growth in the most active way possible.  \n",
      "Members’ contributions will be recognised by the Core Organising Team (Project Leader, or Heads of Functions) during an evaluation process after each project and event. This evaluation process ensures that the members/coordinators/officers contribute and learn efficiently during the event/project. After the evaluation, members/coordinators/officers can receive from 20 to 80 points depending on the level of contribution assessed by their leaders.\n"
     ]
    }
   ],
   "source": [
    "print(psg_handbook_docs[28].page_content)"
   ]
  },
  {
   "cell_type": "markdown",
   "metadata": {},
   "source": [
    "## Combine three docs"
   ]
  },
  {
   "cell_type": "code",
   "execution_count": 18,
   "metadata": {},
   "outputs": [],
   "source": [
    "final_docs =  su_qna_docs + student_handbook_docs + psg_handbook_docs"
   ]
  },
  {
   "cell_type": "code",
   "execution_count": 19,
   "metadata": {},
   "outputs": [
    {
     "data": {
      "text/plain": [
       "176"
      ]
     },
     "execution_count": 19,
     "metadata": {},
     "output_type": "execute_result"
    }
   ],
   "source": [
    "len(final_docs)"
   ]
  },
  {
   "cell_type": "code",
   "execution_count": 20,
   "metadata": {},
   "outputs": [
    {
     "name": "stdout",
     "output_type": "stream",
     "text": [
      "### What happens if I don’t get PSG points for at least one out of 4 quadrants (e.g. no points for Social, Cultural and Emotional Development) even if I meet the other 2 criteria?  \n",
      "You will not be eligible for a PSG certificate and transcript if you fail to participate in activities under all four quadrants: Work and Career Readiness; University and Community Engagement; Social, Cultural and Emotional Development; Academic Excellence.  \n",
      "The goal of participation in all four quadrants of activities is to diversify students’ experiences and help students become more well-rounded in a wide range of personal, career, social, and academic aspects. For the most beneficial and meaningful PSG experience, students are expected to demonstrate active participation through both quantity (earning the minimum required points) and quality (engaging in a diverse range of activities). You can choose to focus on one quadrant or more depending on your interests and schedules, but it is important that you earn points in all four quadrants. Please note that you are subject to getting points in four quadrants only, not all 16 categories under the quadrants.\n"
     ]
    }
   ],
   "source": [
    "print(final_docs[-10].page_content)"
   ]
  },
  {
   "cell_type": "markdown",
   "metadata": {},
   "source": [
    "## Count token\n",
    "Per parent document"
   ]
  },
  {
   "cell_type": "code",
   "execution_count": 24,
   "metadata": {},
   "outputs": [],
   "source": [
    "list_page_content = [doc.page_content for doc in final_docs]"
   ]
  },
  {
   "cell_type": "code",
   "execution_count": 25,
   "metadata": {},
   "outputs": [],
   "source": [
    "import tiktoken\n",
    "\n",
    "def num_tokens_from_string(string: str, encoding_name: str = \"cl100k_base\") -> int:\n",
    "    \"\"\"Returns the number of tokens in a text string.\"\"\"\n",
    "    encoding = tiktoken.get_encoding(encoding_name)\n",
    "    num_tokens = len(encoding.encode(string))\n",
    "    return num_tokens\n",
    "\n",
    "\n",
    "num_tokens = list(map(num_tokens_from_string, list_page_content))"
   ]
  },
  {
   "cell_type": "code",
   "execution_count": 26,
   "metadata": {},
   "outputs": [
    {
     "data": {
      "text/plain": [
       "<Axes: ylabel='Frequency'>"
      ]
     },
     "execution_count": 26,
     "metadata": {},
     "output_type": "execute_result"
    },
    {
     "data": {
      "image/png": "[encoded data removed]",
      "text/plain": [
       "<Figure size 640x480 with 1 Axes>"
      ]
     },
     "metadata": {},
     "output_type": "display_data"
    }
   ],
   "source": [
    "import pandas as pd\n",
    "# Create a DataFrame from the list\n",
    "df = pd.DataFrame(num_tokens, columns=['Value'])\n",
    "\n",
    "# Plot the distribution\n",
    "df['Value'].plot(kind='hist', bins=8, color='skyblue', edgecolor='black', alpha=0.7)\n",
    "# df['Value'].plot(kind='kde', color='red')\n"
   ]
  },
  {
   "cell_type": "code",
   "execution_count": 27,
   "metadata": {},
   "outputs": [
    {
     "data": {
      "text/html": [
       "<div>\n",
       "<style scoped>\n",
       "    .dataframe tbody tr th:only-of-type {\n",
       "        vertical-align: middle;\n",
       "    }\n",
       "\n",
       "    .dataframe tbody tr th {\n",
       "        vertical-align: top;\n",
       "    }\n",
       "\n",
       "    .dataframe thead th {\n",
       "        text-align: right;\n",
       "    }\n",
       "</style>\n",
       "<table border=\"1\" class=\"dataframe\">\n",
       "  <thead>\n",
       "    <tr style=\"text-align: right;\">\n",
       "      <th></th>\n",
       "      <th>Value</th>\n",
       "    </tr>\n",
       "  </thead>\n",
       "  <tbody>\n",
       "    <tr>\n",
       "      <th>count</th>\n",
       "      <td>176.000000</td>\n",
       "    </tr>\n",
       "    <tr>\n",
       "      <th>mean</th>\n",
       "      <td>569.426136</td>\n",
       "    </tr>\n",
       "    <tr>\n",
       "      <th>std</th>\n",
       "      <td>500.831669</td>\n",
       "    </tr>\n",
       "    <tr>\n",
       "      <th>min</th>\n",
       "      <td>31.000000</td>\n",
       "    </tr>\n",
       "    <tr>\n",
       "      <th>25%</th>\n",
       "      <td>235.000000</td>\n",
       "    </tr>\n",
       "    <tr>\n",
       "      <th>50%</th>\n",
       "      <td>416.500000</td>\n",
       "    </tr>\n",
       "    <tr>\n",
       "      <th>75%</th>\n",
       "      <td>663.750000</td>\n",
       "    </tr>\n",
       "    <tr>\n",
       "      <th>max</th>\n",
       "      <td>2294.000000</td>\n",
       "    </tr>\n",
       "  </tbody>\n",
       "</table>\n",
       "</div>"
      ],
      "text/plain": [
       "             Value\n",
       "count   176.000000\n",
       "mean    569.426136\n",
       "std     500.831669\n",
       "min      31.000000\n",
       "25%     235.000000\n",
       "50%     416.500000\n",
       "75%     663.750000\n",
       "max    2294.000000"
      ]
     },
     "execution_count": 27,
     "metadata": {},
     "output_type": "execute_result"
    }
   ],
   "source": [
    "df.describe()"
   ]
  },
  {
   "cell_type": "markdown",
   "metadata": {},
   "source": [
    "## Retrievers"
   ]
  },
  {
   "cell_type": "markdown",
   "metadata": {},
   "source": [
    "### Parent document retrievers"
   ]
  },
  {
   "cell_type": "code",
   "execution_count": 22,
   "metadata": {},
   "outputs": [],
   "source": [
    "from langchain.retrievers import ParentDocumentRetriever\n",
    "from langchain.storage import InMemoryStore, LocalFileStore\n",
    "from langchain_text_splitters import RecursiveCharacterTextSplitter\n",
    "from langchain.storage._lc_store import create_kv_docstore\n",
    "\n",
    "\n",
    "# This text splitter is used to create the child documents\n",
    "child_splitter = RecursiveCharacterTextSplitter(\n",
    "    chunk_size=400, chunk_overlap=100, add_start_index=True\n",
    ")\n",
    "# The vectorstore to use to index the child chunks\n",
    "vectorstore_chunk_zie_400 = Chroma(\n",
    "    persist_directory=\"./chroma_db/su_embedding_400_large_with_source\", embedding_function=embeddings_3_large\n",
    ")\n",
    "# The storage layer for the parent documents\n",
    "# store = InMemoryStore()\n",
    "fs = LocalFileStore(\"./parent_document_store/su_embedding_large_with_source\")\n",
    "store = create_kv_docstore(fs)\n",
    "parent_document_retriever = ParentDocumentRetriever(\n",
    "    vectorstore=vectorstore_chunk_zie_400,\n",
    "    docstore=store,\n",
    "    child_splitter=child_splitter,\n",
    "    search_kwargs={\"k\": 2},\n",
    ")"
   ]
  },
  {
   "cell_type": "markdown",
   "metadata": {},
   "source": [
    "Because the document is too long which cause embedding getting 503 error --> split the documents and add seperately to reduce the length (limit rate)"
   ]
  },
  {
   "cell_type": "code",
   "execution_count": 23,
   "metadata": {},
   "outputs": [
    {
     "data": {
      "application/vnd.jupyter.widget-view+json": {
       "model_id": "055ee7b14eee48439b0c6de6e15f23a8",
       "version_major": 2,
       "version_minor": 0
      },
      "text/plain": [
       "  0%|          | 0/1 [00:00<?, ?it/s]"
      ]
     },
     "metadata": {},
     "output_type": "display_data"
    }
   ],
   "source": [
    "# parent_document_retriever.add_documents(final_docs, ids=None)\n",
    "parent_document_retriever.add_documents(final_docs[:88], ids=None)"
   ]
  },
  {
   "cell_type": "code",
   "execution_count": 25,
   "metadata": {},
   "outputs": [
    {
     "data": {
      "application/vnd.jupyter.widget-view+json": {
       "model_id": "1ec2d29dcec64739be2afd8948ad22a6",
       "version_major": 2,
       "version_minor": 0
      },
      "text/plain": [
       "  0%|          | 0/1 [00:00<?, ?it/s]"
      ]
     },
     "metadata": {},
     "output_type": "display_data"
    }
   ],
   "source": [
    "parent_document_retriever.add_documents(final_docs[88:], ids=None)"
   ]
  },
  {
   "cell_type": "code",
   "execution_count": 26,
   "metadata": {},
   "outputs": [
    {
     "data": {
      "text/plain": [
       "176"
      ]
     },
     "execution_count": 26,
     "metadata": {},
     "output_type": "execute_result"
    }
   ],
   "source": [
    "len(list(store.yield_keys()))"
   ]
  },
  {
   "cell_type": "code",
   "execution_count": 106,
   "metadata": {},
   "outputs": [],
   "source": [
    "a = vectorstore_chunk_zie_400.similarity_search(\"How can I be recognised as completing a professional experience option or alternative?\")"
   ]
  },
  {
   "cell_type": "code",
   "execution_count": 108,
   "metadata": {},
   "outputs": [
    {
     "name": "stdout",
     "output_type": "stream",
     "text": [
      "Internship Recognition: After an internship or similar professional experience, you will need to submit a valid Internship Evaluation Form (IEF), approved by the Head of Student Engagement, to get PSG points. The Internship Completion Certificate which is not compulsory for your PSG Transcript will be only issued upon your request. The specific requirements of a valid IEF and how to request a\n"
     ]
    }
   ],
   "source": [
    "print(a[1].page_content)"
   ]
  },
  {
   "cell_type": "code",
   "execution_count": 154,
   "metadata": {},
   "outputs": [],
   "source": [
    "b = parent_document_retriever.invoke(\"I'm Thuy from cohort 2110IBM and I'm planning to apply for a Master's Degree in the future. It is clear that a 'personal statement' is the most important part of the application process, however, I didn't have much experience on writing a personal statement. Therefore, are there any lectures or staff at BUV that can help me to with this issues?\")"
   ]
  },
  {
   "cell_type": "code",
   "execution_count": 157,
   "metadata": {},
   "outputs": [
    {
     "name": "stdout",
     "output_type": "stream",
     "text": [
      "How can students improve their English if students/parents would like to enhance their English skills? / Nhà trường có thể giúp gì nếu phụ huynh và sinh viên có nhu cầu cải thiện trình độ Tiếng Anh của sinh viên?\n",
      "\n",
      "Answer / Câu trả lời:\n",
      "\n",
      "Improving student’s English skills is always one of the top priorities at BUV as our results show that students with higher level of English tend to achieve better academic results than those having lower English ability. We have a very dedicated English Department which provides various support to students who are willing to improve their English skills. Students are highly recommended to book a meeting with a member of this department for assistance with any language-related inquiries. Alternatively, they can contact James McMillan – Deputy Programme Leader of English at james.mcmillan@buv.edu.vn for the advice.\n",
      "\n",
      "In addition, BUV also organizes weekly Academic English Master classes on Canvas to enhance student’s ability to use English effectively in academic environment, especially the academic writing.\n",
      "\n",
      "Nâng cao khả năng sử dụng Tiếng Anh của sinh viên luôn là một trong những mục tiêu hàng đầu của BUV. Kết quả cho thấy các sinh viên có năng lực tiếng Anh tốt thường đạt kết quả học tập tốt hơn. Nhà trường có bộ phận Anh Ngữ gồm các giáo viên nước ngoài dày dạn kinh nghiệm trong việc dạy và hướng dẫn sử dụng Tiếng Anh trong môi trường học thuật. Sinh viên có thể chủ động liên lạc với các giáo viên tại bộ phận Anh Ngữ để được gặp và trao đổi trực tiếp với các thầy về mong muốn của mình. Thầy James McMillan - Phó Trưởng Chương trình tiếng Anh sẽ có những lời khuyên hữu ích giúp sinh viên lựa chọn những hoạt động phù hợp nhất để phát triển khả năng ngôn ngữ của mình. Các sinh viên có thể liên lạc với thầy qua email james.mcmillan@buv.edu.vn.\n",
      "\n",
      "Thêm vào đó, Nhà trường cũng tổ chức các lớp Tiếng Anh học thuật hàng tuần trên hệ thống Canvas để nâng cao khả năng sử dụng Tiếng Anh một cách hiệu quả trong môi trường học thuật, đặc biệt là kỹ năng viết học thuật.\n"
     ]
    }
   ],
   "source": [
    "print(b[0].page_content)"
   ]
  },
  {
   "cell_type": "markdown",
   "metadata": {},
   "source": [
    "#### Reload parent document retriever"
   ]
  },
  {
   "cell_type": "markdown",
   "metadata": {},
   "source": [
    "In fact, the ParentDocumentRetriever could be replaced by a MultiVectorRetriever instance since the difference between the two is the add_documents method that the ParentDocumentRetriever has.\n",
    "\n",
    "Refer to here: https://github.com/langchain-ai/langchain/issues/9345"
   ]
  },
  {
   "cell_type": "code",
   "execution_count": 96,
   "metadata": {},
   "outputs": [],
   "source": [
    "from langchain.retrievers import ParentDocumentRetriever\n",
    "from langchain.storage import InMemoryStore, LocalFileStore\n",
    "from langchain_text_splitters import RecursiveCharacterTextSplitter\n",
    "from langchain.storage._lc_store import create_kv_docstore\n",
    "from langchain.retrievers import MultiVectorRetriever\n",
    "\n",
    "\n",
    "\n",
    "# The vectorstore to use to index the child chunks\n",
    "vectorstore_chunk_zie_400 = Chroma(\n",
    "    persist_directory=\"./chroma_db/buv_and_student_handbook_400\", embedding_function=embeddings\n",
    ")\n",
    "# The storage layer for the parent documents\n",
    "# store = InMemoryStore()\n",
    "fs = LocalFileStore(\"./parent_document_store/buv_and_student_handbook\")\n",
    "store = create_kv_docstore(fs)\n",
    "parent_document_retriever = MultiVectorRetriever(\n",
    "    vectorstore=vectorstore_chunk_zie_400,\n",
    "    docstore=store,\n",
    "    search_kwargs={\"k\": 3},\n",
    ")"
   ]
  },
  {
   "cell_type": "code",
   "execution_count": 95,
   "metadata": {},
   "outputs": [
    {
     "data": {
      "text/plain": [
       "['I want to get a copy of the scholarship maintenance form',\n",
       " 'When does the Student Hub Student Hub & Food Court open?',\n",
       " 'How can I have the weekly menus updated?',\n",
       " 'What is the link to the website for topping up?',\n",
       " 'What should I do if I lose the Student ID Card?',\n",
       " 'Can I have the room list to book for self-studying?',\n",
       " 'Can I choose the room to book for self-studying?',\n",
       " 'When is the bus schedule for the weekday sent out?',\n",
       " 'Can first year students go for internships?',\n",
       " 'What should I do if I come across difficulties during my internship?',\n",
       " 'Which department should I ask for help if I have some issues during the internship?',\n",
       " 'Can I get the Certificate of Internship Completion?',\n",
       " 'How many industrial partners are in the career network at BUV?',\n",
       " 'What is the progression condition at BUV?',\n",
       " 'what would happen if student fails the resit(s)?',\n",
       " 'What will happen if the External Examination Board decides for students to retake a module/re-study?',\n",
       " 'Do I have my result this semester?',\n",
       " 'When can I receive student’s result this semester?',\n",
       " 'How can I receive student’s result this semester?',\n",
       " 'what is the contact point of Student Information Office?']"
      ]
     },
     "execution_count": 95,
     "metadata": {},
     "output_type": "execute_result"
    }
   ],
   "source": [
    "question_lists"
   ]
  },
  {
   "cell_type": "code",
   "execution_count": 97,
   "metadata": {},
   "outputs": [],
   "source": [
    "a = vectorstore_chunk_zie_400.similarity_search(\"What happens if I submit the assignment late?\")"
   ]
  },
  {
   "cell_type": "code",
   "execution_count": 100,
   "metadata": {},
   "outputs": [
    {
     "name": "stdout",
     "output_type": "stream",
     "text": [
      "pick up invaluable work skills, lay the foundation of their professional network, and get a foot in the career door. The internship may benefit students tremendously, still, it is important that students remain aware of their rights and does not let anyone take advantage of them. The Career Services & Industry Relations Team are always available for advice if students feel unsure anytime.\n"
     ]
    }
   ],
   "source": [
    "print(a[2].page_content)"
   ]
  },
  {
   "cell_type": "code",
   "execution_count": 62,
   "metadata": {},
   "outputs": [],
   "source": [
    "b = parent_document_retriever.invoke(\"I'm Thuy from cohort 2110IBM and I'm planning to apply for a Master's Degree in the future. It is clear that a 'personal statement' is the most important part of the application process, however, I didn't have much experience on writing a personal statement. Therefore, are there any lectures or staff at BUV that can help me to with this issues?\")"
   ]
  },
  {
   "cell_type": "code",
   "execution_count": 65,
   "metadata": {},
   "outputs": [
    {
     "name": "stdout",
     "output_type": "stream",
     "text": [
      "How can students improve their English if students/parents would like to enhance their English skills? / Nhà trường có thể giúp gì nếu phụ huynh và sinh viên có nhu cầu cải thiện trình độ Tiếng Anh của sinh viên?\n",
      "\n",
      "Answer / Câu trả lời:\n",
      "\n",
      "Improving student’s English skills is always one of the top priorities at BUV as our results show that students with higher level of English tend to achieve better academic results than those having lower English ability. We have a very dedicated English Department which provides various support to students who are willing to improve their English skills. Students are highly recommended to book a meeting with a member of this department for assistance with any language-related inquiries. Alternatively, they can contact James McMillan – Deputy Programme Leader of English at james.mcmillan@buv.edu.vn for the advice.\n",
      "\n",
      "In addition, BUV also organizes weekly Academic English Master classes on Canvas to enhance student’s ability to use English effectively in academic environment, especially the academic writing.\n",
      "\n",
      "Nâng cao khả năng sử dụng Tiếng Anh của sinh viên luôn là một trong những mục tiêu hàng đầu của BUV. Kết quả cho thấy các sinh viên có năng lực tiếng Anh tốt thường đạt kết quả học tập tốt hơn. Nhà trường có bộ phận Anh Ngữ gồm các giáo viên nước ngoài dày dạn kinh nghiệm trong việc dạy và hướng dẫn sử dụng Tiếng Anh trong môi trường học thuật. Sinh viên có thể chủ động liên lạc với các giáo viên tại bộ phận Anh Ngữ để được gặp và trao đổi trực tiếp với các thầy về mong muốn của mình. Thầy James McMillan - Phó Trưởng Chương trình tiếng Anh sẽ có những lời khuyên hữu ích giúp sinh viên lựa chọn những hoạt động phù hợp nhất để phát triển khả năng ngôn ngữ của mình. Các sinh viên có thể liên lạc với thầy qua email james.mcmillan@buv.edu.vn.\n",
      "\n",
      "Thêm vào đó, Nhà trường cũng tổ chức các lớp Tiếng Anh học thuật hàng tuần trên hệ thống Canvas để nâng cao khả năng sử dụng Tiếng Anh một cách hiệu quả trong môi trường học thuật, đặc biệt là kỹ năng viết học thuật.\n"
     ]
    }
   ],
   "source": [
    "print(b[0].page_content)"
   ]
  },
  {
   "cell_type": "markdown",
   "metadata": {},
   "source": [
    "## Create chain"
   ]
  },
  {
   "cell_type": "code",
   "execution_count": 178,
   "metadata": {},
   "outputs": [],
   "source": [
    "template_2 = \"\"\"\n",
    "As an AI assistant specializing in student support, your task is to provide concise and comprehensive answers to specific questions based on the provided context. \n",
    "\n",
    "Instructions:\n",
    "1. Begin by reading the context carefully.\n",
    "2. Answer the question based on the information given in the context.\n",
    "3. If the answer is not available in the context, admit that you don't know the answer. Do not fabricate responses.\n",
    "4. If the question pertains to a specific term (like PDP), form (like Personal statement), or template, and the context does NOT EXPLICITLY mention these, admit your lack of knowledge and suggest the student to reach out to the Student Information Office. Do not make up responses.\n",
    "5. Keep your answer as succinct as possible, but ensure it includes all relevant information from the context. For examples: \n",
    "    - if students ask about a department or services, you should answer not only department name or serivec name, but also service link and department contact such as email, phone, ... if those information have in the context. \n",
    "    - if context does not have specific answer, but contain reference information such as reference link, reference contact point, support contact point and so on. Then you should show it up.\n",
    "    - if context contains advices for specific student's action, you should show it up.\n",
    "6. Conclude your answer with \"Thanks for asking!\" to maintain a friendly interaction.\n",
    "\n",
    "### \n",
    "\n",
    "Context:\n",
    "{context}\n",
    "\n",
    "Question: \n",
    "{question}\n",
    "\n",
    "Your Informative Answer:\"\"\""
   ]
  },
  {
   "cell_type": "code",
   "execution_count": 180,
   "metadata": {},
   "outputs": [],
   "source": [
    "from langchain_core.prompts import PromptTemplate\n",
    "from langchain_core.output_parsers import StrOutputParser\n",
    "from langchain_core.runnables import RunnablePassthrough\n",
    "\n",
    "\n",
    "def format_docs_vectorstore_retriever(docs, num_parent_docs=2):\n",
    "    return \"\\n\\n\".join(doc.page_content for doc in docs[:num_parent_docs])\n",
    "\n",
    "def format_docs_parent_retriever(docs, num_parent_docs=2):\n",
    "    return \"\\n\\n\".join(doc.page_content for doc in docs[:num_parent_docs])\n",
    "\n",
    "template = \"\"\"\n",
    "As an AI assistant specializing in student support, your task is to provide concise and comprehensive answers to specific questions based on the provided context. \n",
    "\n",
    "Instructions:\n",
    "1. Begin by reading the context carefully.\n",
    "2. Answer the question based on the information given in the context.\n",
    "3. If the answer is not available in the context, admit that you don't know the answer. Do not fabricate responses.\n",
    "4. Keep your answer as succinct as possible, but ensure it includes all relevant information from the context. For examples: \n",
    "    - if students ask about a department or services, you should answer not only department name or serivec name, but also service link and department contact such as email, phone, ... if those information have in the context. \n",
    "    - if context does not have specific answer, but contain reference information such as reference link, reference contact point, support contact point and so on. Then you should show it up.\n",
    "    - if context contains advices for specific student's action, you should show it up.\n",
    "5. Conclude your answer with \"Thanks for asking!\" to maintain a friendly interaction.\n",
    "\n",
    "### \n",
    "\n",
    "Context:\n",
    "{context}\n",
    "\n",
    "Question: \n",
    "{question}\n",
    "\n",
    "Your Informative Answer:\"\"\"\n",
    "custom_rag_prompt = PromptTemplate.from_template(template)\n",
    "\n",
    "from operator import itemgetter\n",
    "\n",
    "rag_chain_with_parent_retriever = (\n",
    "    {\"context\": itemgetter(\"question\") | parent_document_retriever | format_docs_parent_retriever, \"question\": itemgetter(\"question\")}\n",
    "    | custom_rag_prompt\n",
    "    | gpt_35_turbo_16k\n",
    "    | StrOutputParser()\n",
    ")\n",
    "\n",
    "rag_chain_with_parent_retriever_with_template_2 = (\n",
    "    {\"context\": itemgetter(\"question\") | parent_document_retriever | format_docs_parent_retriever, \"question\": itemgetter(\"question\")}\n",
    "    | PromptTemplate.from_template(template_2)\n",
    "    | gpt_35_turbo_16k\n",
    "    | StrOutputParser()\n",
    ")\n",
    "\n",
    "smart_rag_chain_with_parent_retriever_with_template_2 = (\n",
    "    {\"context\": itemgetter(\"question\") | parent_document_retriever | format_docs_parent_retriever, \"question\": itemgetter(\"question\")}\n",
    "    | PromptTemplate.from_template(template_2)\n",
    "    | smart_llm\n",
    "    | StrOutputParser()\n",
    ")\n",
    "\n"
   ]
  },
  {
   "cell_type": "code",
   "execution_count": 163,
   "metadata": {},
   "outputs": [
    {
     "name": "stdout",
     "output_type": "stream",
     "text": [
      "Yes, BUV has a dedicated English Department that provides support to students who need assistance with language-related inquiries, including writing personal statements. I recommend booking a meeting with a member of the English Department for guidance on writing a personal statement. Alternatively, you can contact James McMillan, the Deputy Programme Leader of English, at james.mcmillan@buv.edu.vn for advice on this matter. They will be able to provide you with helpful tips and guidance to improve your personal statement writing skills. Thanks for asking!\n"
     ]
    }
   ],
   "source": [
    "print(rag_chain_with_parent_retriever.invoke({'question':\"I'm Thuy from cohort 2110IBM and I'm planning to apply for a Master's Degree in the future. It is clear that a 'personal statement' is the most important part of the application process, however, I didn't have much experience on writing a personal statement. Therefore, are there any lectures or staff at BUV that can help me to with this issues?\"}))"
   ]
  },
  {
   "cell_type": "code",
   "execution_count": 181,
   "metadata": {},
   "outputs": [
    {
     "name": "stdout",
     "output_type": "stream",
     "text": [
      "Your PDP activity records and transcripts will be transferred to the new PSG Programme. The PSG Programme aims to build upon and enhance the Personal Development Planning (PDP) activities that you have already completed. Your previous PDP activity records and transcripts will be considered as part of your overall PSG journey and will contribute to your PSG points and achievements. It is important to note that the PSG Programme offers a wider range of activities and opportunities for personal and social growth. For more information and details about the PSG Programme, you can refer to the Personal and Social Growth (PSG) Programme course on your Canvas account. Thanks for asking!\n"
     ]
    }
   ],
   "source": [
    "print(rag_chain_with_parent_retriever_with_template_2.invoke({'question':\"What will happen to my PDP activity records and transcripts when I am transferred to the new PSG Programme?\"}))"
   ]
  },
  {
   "cell_type": "code",
   "execution_count": 182,
   "metadata": {},
   "outputs": [
    {
     "name": "stdout",
     "output_type": "stream",
     "text": [
      "The context does not provide specific information on what will happen to your PDP activity records and transcripts when you are transferred to the new PSG Programme. I recommend reaching out to the Student Information Office for further assistance on this matter. Thanks for asking!\n"
     ]
    }
   ],
   "source": [
    "print(smart_rag_chain_with_parent_retriever_with_template_2.invoke({'question':\"What will happen to my PDP activity records and transcripts when I am transferred to the new PSG Programme?\"}))"
   ]
  },
  {
   "cell_type": "markdown",
   "metadata": {},
   "source": [
    "## Add sources"
   ]
  },
  {
   "cell_type": "code",
   "execution_count": 19,
   "metadata": {},
   "outputs": [],
   "source": [
    "from langchain_core.prompts import PromptTemplate\n",
    "from langchain_core.output_parsers import StrOutputParser\n",
    "from langchain_core.runnables import RunnablePassthrough\n",
    "\n",
    "\n",
    "def format_docs_with_sources(docs: List[Document]) -> str:\n",
    "    formatted = []\n",
    "    for i, doc in enumerate(docs[:2]):\n",
    "        doc_str = f\"\"\"\\\n",
    "        Source Name: {doc.metadata['file_name']} - {doc.metadata['page']}\n",
    "        Information: {doc.page_content}\n",
    "        \"\"\"\n",
    "        formatted.append(doc_str)\n",
    "    return \"\\n\\n\".join(formatted)\n",
    "\n",
    "template_with_sources = \"\"\"\n",
    "As an AI assistant specializing in student support, your task is to provide concise and comprehensive answers to specific questions based on the provided context. \n",
    "The context is a list of sources. Each source includes source name and information.\n",
    "You MUST follow instruction deliminated by ###.\n",
    "\n",
    "###\n",
    "Instructions:\n",
    "\n",
    "1. Begin by reading the context carefully.\n",
    "2. Answer the question based on the information given in the context.\n",
    "3. If the answer is not available in the context, admit that you don't know the answer. Do not fabricate responses.\n",
    "4. Keep your answer as succinct as possible, but ensure it includes all relevant information from the context. For examples: \n",
    "    - if students ask about a department or services, you should answer not only department name or serivec name, but also service link and department contact such as email, phone, ... if those information have in the context. \n",
    "    - if context does not have specific answer, but contain reference information such as reference link, reference contact point, support contact point and so on. Then you should show it up.\n",
    "    - if context contains advices for specific student's action, you should show it up.\n",
    "5. Always include the source name from the context for each fact you use in the response in the following format: \n",
    "```\n",
    "response here\n",
    "Sources:\n",
    "- Source name 1\n",
    "- Source name 2\n",
    "....\n",
    "- Source name n\n",
    "```\n",
    "### \n",
    "\n",
    "Context:\n",
    "{context}\n",
    "\n",
    "Question: \n",
    "{question}\n",
    "\n",
    "Your Informative Answer and Citations:\"\"\"\n",
    "from operator import itemgetter\n",
    "\n",
    "rag_chain_with_parent_retriever_with_sources = (\n",
    "    {\"context\": itemgetter(\"question\") | parent_document_retriever | format_docs_with_sources, \"question\": itemgetter(\"question\")}\n",
    "    | PromptTemplate.from_template(template_with_sources)\n",
    "    | gpt_35_turbo_16k\n",
    "    | StrOutputParser()\n",
    ")"
   ]
  },
  {
   "cell_type": "code",
   "execution_count": 21,
   "metadata": {},
   "outputs": [
    {
     "name": "stdout",
     "output_type": "stream",
     "text": [
      "To request an absence from classes due to a company trip, you will need to submit an absence form along with the necessary evidence. The process for submitting an absence request is as follows:\n",
      "\n",
      "1. For plannable leaves, such as a company trip, you should submit the form and evidence at least one day in advance of the absent date.\n",
      "\n",
      "2. The absence form and evidence must be handed in at the Student Information Office counter on the 2nd floor of the main building or via studentservice@buv.edu.vn.\n",
      "\n",
      "Please note that the absence application form values are only for requesting absence from classes and cannot be replaced with any other documents.\n",
      "\n",
      "Sources:\n",
      "- Student Handbook - 18-21\n"
     ]
    }
   ],
   "source": [
    "print(rag_chain_with_parent_retriever_with_sources.invoke({\"question\":\"I'm on a company trip next week that I can not go to the campus. Can you provide me with the absence form?\"}))"
   ]
  },
  {
   "cell_type": "markdown",
   "metadata": {},
   "source": [
    "# Testing"
   ]
  },
  {
   "cell_type": "code",
   "execution_count": 22,
   "metadata": {},
   "outputs": [
    {
     "data": {
      "text/plain": [
       "['How do students have lunch at BUV if they have to study a full day?',\n",
       " 'Where do I get student’s scholarship maintenance criteria?',\n",
       " 'I want to get a copy of the scholarship maintenance form',\n",
       " 'How can I have the weekly menus updated?',\n",
       " 'What is the link to the website for topping up?',\n",
       " 'What should I do if I lose the Student ID Card?',\n",
       " 'When is the bus schedule for the weekday sent out?',\n",
       " 'Can I have the room list to book for self-studying?',\n",
       " 'How can I contact the Transportation Team?',\n",
       " 'What is the email address of the Transportation Team?']"
      ]
     },
     "execution_count": 22,
     "metadata": {},
     "output_type": "execute_result"
    }
   ],
   "source": [
    "question_lists"
   ]
  },
  {
   "cell_type": "code",
   "execution_count": 51,
   "metadata": {},
   "outputs": [],
   "source": [
    "bot_answers_with_vectorstore_as_retriever =  [rag_chain_with_vectorstore_retriever.invoke({'question':q}) for q in question_lists]"
   ]
  },
  {
   "cell_type": "code",
   "execution_count": 23,
   "metadata": {},
   "outputs": [],
   "source": [
    "bot_answers_with_parent_document_as_retriever =  [rag_chain_with_parent_retriever.invoke({'question':q}) for q in question_lists[-5:]]"
   ]
  },
  {
   "cell_type": "code",
   "execution_count": 24,
   "metadata": {},
   "outputs": [],
   "source": [
    "import pandas as pd\n",
    "answer_df = pd.DataFrame({\n",
    "    \"Question\": question_lists[-5:],\n",
    "    # \"bot_answers_with_vectorstore_as_retriever\": bot_answers_with_vectorstore_as_retriever,\n",
    "    \"bot_answers_with_parent_document_as_retriever\": bot_answers_with_parent_document_as_retriever\n",
    "})"
   ]
  },
  {
   "cell_type": "code",
   "execution_count": null,
   "metadata": {},
   "outputs": [],
   "source": [
    "print(answer_df.to_markdown())"
   ]
  },
  {
   "cell_type": "markdown",
   "metadata": {},
   "source": [
    "|    | Question                                              | bot_answers_with_parent_document_as_retriever                                                                                                                                                                                                                                                           |\n",
    "|---:|:------------------------------------------------------|:--------------------------------------------------------------------------------------------------------------------------------------------------------------------------------------------------------------------------------------------------------------------------------------------------------|\n",
    "|  0 | What should I do if I lose the Student ID Card?       | If you lose your Student ID card, please inform the Student Information Office for a reissue. Your lost card will be temporarily locked, and the balance will be transferred to the new card, with the password reset to \"123456\". Your convenience and security are our priorities. Thanks for asking! |\n",
    "|  1 | When is the bus schedule for the weekday sent out?    | The bus schedule for the weekday is sent out to students on Friday weekly. Thanks for asking!                                                                                                                                                                                                           |\n",
    "|  2 | Can I have the room list to book for self-studying?   | I'm sorry, but I don't have access to the specific room list for self-studying. You can contact the Student Information Office directly for more information on available rooms for self-study. Thanks for asking!                                                                                      |\n",
    "|  3 | How can I contact the Transportation Team?            | You can contact the Transportation Team via the hotline at 0704 068 386 or email at transportation@buv.edu.vn. Thanks for asking!                                                                                                                                                                       |\n",
    "|  4 | What is the email address of the Transportation Team? | The email address of the Transportation Team is transportation@buv.edu.vn. Thanks for asking!                                                                                                                                                                                                           |\n"
   ]
  },
  {
   "cell_type": "code",
   "execution_count": null,
   "metadata": {},
   "outputs": [],
   "source": []
  }
 ],
 "metadata": {
  "kernelspec": {
   "display_name": ".venv",
   "language": "python",
   "name": "python3"
  },
  "language_info": {
   "codemirror_mode": {
    "name": "ipython",
    "version": 3
   },
   "file_extension": ".py",
   "mimetype": "text/x-python",
   "name": "python",
   "nbconvert_exporter": "python",
   "pygments_lexer": "ipython3",
   "version": "3.11.5"
  }
 },
 "nbformat": 4,
 "nbformat_minor": 2
}

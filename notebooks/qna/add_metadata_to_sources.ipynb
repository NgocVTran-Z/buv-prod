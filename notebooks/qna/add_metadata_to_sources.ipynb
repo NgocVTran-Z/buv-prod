{
 "cells": [
  {
   "cell_type": "markdown",
   "metadata": {},
   "source": [
    "# Setup"
   ]
  },
  {
   "cell_type": "code",
   "execution_count": 1,
   "metadata": {},
   "outputs": [],
   "source": [
    "import os\n",
    "import pandas as pd\n",
    "pd.set_option(\"display.max_colwidth\", None)\n",
    "\n",
    "os.environ[\"AZURE_OPENAI_ENDPOINT\"] = \"https://dalle3-swo.openai.azure.com/\"\n",
    "os.environ[\"AZURE_OPENAI_API_KEY\"] = \"e51119f8d8774069a6594d92ccf7a70d\""
   ]
  },
  {
   "cell_type": "code",
   "execution_count": 2,
   "metadata": {},
   "outputs": [],
   "source": [
    "from langchain_community.utilities import GoogleSearchAPIWrapper\n",
    "from langchain_community.vectorstores import Chroma\n",
    "from langchain_openai import AzureChatOpenAI, AzureOpenAIEmbeddings, OpenAIEmbeddings\n",
    "from langchain_core.output_parsers import BaseOutputParser\n",
    "from typing import List, Optional\n",
    "import re\n",
    "from langchain_core.prompts import ChatPromptTemplate\n",
    "from langchain_core.runnables import chain\n",
    "from langchain_community.utilities import GoogleSerperAPIWrapper\n",
    "from langchain_core.output_parsers import StrOutputParser\n",
    "\n",
    "# LLM\n",
    "llm = AzureChatOpenAI(\n",
    "    openai_api_version=\"2024-02-15-preview\",\n",
    "    azure_deployment=\"gpt-35-turbo\",\n",
    "    temperature=0\n",
    ") \n",
    "\n",
    "gpt_35_turbo_16k = AzureChatOpenAI(\n",
    "    openai_api_version=\"2024-02-15-preview\",\n",
    "    azure_deployment=\"gpt-35-turbo-16k\",\n",
    "    temperature=0\n",
    ") \n",
    "\n",
    "smart_llm = AzureChatOpenAI(\n",
    "    openai_api_version=\"2024-02-15-preview\",\n",
    "    azure_deployment=\"gpt-4\",\n",
    "    temperature=0\n",
    ") \n",
    "gpt_35_turbo_instruct = AzureChatOpenAI(\n",
    "    openai_api_version=\"2024-02-15-preview\",\n",
    "    azure_deployment=\"gpt-35-turbo-instruct\",\n",
    "    temperature=0\n",
    ") \n",
    "# Embedding\n",
    "embeddings = AzureOpenAIEmbeddings(\n",
    "    azure_deployment=\"text-embedding-ada-002\",\n",
    "    openai_api_version=\"2024-02-15-preview\",\n",
    ")\n",
    "\n",
    "embeddings_3_large = AzureOpenAIEmbeddings(\n",
    "    azure_deployment=\"text-embedding-3-large\",\n",
    "    openai_api_version=\"2024-02-15-preview\",\n",
    ")"
   ]
  },
  {
   "cell_type": "markdown",
   "metadata": {},
   "source": [
    "# Test questions"
   ]
  },
  {
   "cell_type": "code",
   "execution_count": 4,
   "metadata": {},
   "outputs": [],
   "source": [
    "question_lists = [\n",
    "    \"Who should I contact if I want to ask for my timetable\",\n",
    "    \"Which department should I contact if I want to ask about my timetable?\",\n",
    "    \"Who should I contact if I want to ask about my attendance\",    \n",
    "    \"Which department should I contact if I want to ask about my attendance?\",\n",
    "    \"How can I contact Mr. Frazer?\",\n",
    "    \"May I ask for Mr. Frazer phone number?\",\n",
    "    \"I got a question regarding my exam schedule, who should I contact?\",\n",
    "    \"I got a question regarding my exam schedule, what department should I contact?\",\n",
    "    \"I want to ask for academic support\",\n",
    "    \"I need more information about the Student Tutor programme\",\n",
    "    \"I want to know about the Faculty Learning Support programme\"\n",
    "]"
   ]
  },
  {
   "cell_type": "markdown",
   "metadata": {},
   "source": [
    "# Implementation"
   ]
  },
  {
   "cell_type": "markdown",
   "metadata": {},
   "source": [
    "## Preprocessing BUV q&a file"
   ]
  },
  {
   "cell_type": "code",
   "execution_count": 4,
   "metadata": {},
   "outputs": [],
   "source": [
    "from IPython.display import JSON\n",
    "\n",
    "import json\n",
    "\n",
    "from unstructured_client import UnstructuredClient\n",
    "from unstructured_client.models import shared\n",
    "from unstructured_client.models.errors import SDKError\n",
    "from unstructured.staging.base import dict_to_elements, elements_to_json\n",
    "\n",
    "s = UnstructuredClient(\n",
    "    api_key_auth= \"ewGFl9s7G1TtCTEHwaiFRw1OHgRSYT\",\n",
    "    # server_url=DLAI_API_URL,\n",
    ")"
   ]
  },
  {
   "cell_type": "code",
   "execution_count": 5,
   "metadata": {},
   "outputs": [],
   "source": [
    "student_handobook_file_path = \"../../dataInput/Student Handbook 2023-2024 - Jan 2024. V2.pdf\"\n",
    "with open(student_handobook_file_path, \"rb\") as f:\n",
    "    files=shared.Files(\n",
    "        content=f.read(), \n",
    "        file_name=student_handobook_file_path,\n",
    "    )\n",
    "\n",
    "req = shared.PartitionParameters(\n",
    "    files=files,\n",
    "    strategy='hi_res',\n",
    "    pdf_infer_table_structure=True, # extract table\n",
    "    languages=[\"eng\"],\n",
    ")\n",
    "try:\n",
    "    student_handbook_resp = s.general.partition(req)\n",
    "    dld_elements_student_handbook = dict_to_elements(student_handbook_resp.elements)\n",
    "except SDKError as e:\n",
    "    print(e)"
   ]
  },
  {
   "cell_type": "code",
   "execution_count": 22,
   "metadata": {},
   "outputs": [
    {
     "data": {
      "text/plain": [
       "[('NarrativeText', 285),\n",
       " ('ListItem', 161),\n",
       " ('Title', 143),\n",
       " ('Header', 63),\n",
       " ('Footer', 38),\n",
       " ('Image', 26),\n",
       " ('Table', 24),\n",
       " ('UncategorizedText', 16),\n",
       " ('EmailAddress', 1),\n",
       " ('FigureCaption', 1)]"
      ]
     },
     "execution_count": 22,
     "metadata": {},
     "output_type": "execute_result"
    }
   ],
   "source": [
    "import collections\n",
    "html_categories = [el.category for el in dld_elements_student_handbook]\n",
    "collections.Counter(html_categories).most_common()"
   ]
  },
  {
   "cell_type": "code",
   "execution_count": 28,
   "metadata": {},
   "outputs": [
    {
     "data": {
      "text/plain": [
       "{'type': 'Title',\n",
       " 'element_id': '6cbf6711eb29b7813735321a3b8cc481',\n",
       " 'text': 'III. An Introduction to British University Vietnam',\n",
       " 'metadata': {'filetype': 'application/pdf',\n",
       "  'languages': ['eng'],\n",
       "  'page_number': 6,\n",
       "  'parent_id': '142a3575a1844849ffb124db9e854a80',\n",
       "  'filename': 'Student Handbook 2023-2024 - Jan 2024. V2.pdf'}}"
      ]
     },
     "execution_count": 28,
     "metadata": {},
     "output_type": "execute_result"
    }
   ],
   "source": [
    "dld_elements_student_handbook[31].to_dict()"
   ]
  },
  {
   "cell_type": "code",
   "execution_count": 60,
   "metadata": {},
   "outputs": [],
   "source": [
    "tables_el = [el for el in dld_elements_student_handbook if el.category == 'Table']"
   ]
  },
  {
   "cell_type": "code",
   "execution_count": null,
   "metadata": {},
   "outputs": [],
   "source": [
    "tables_el[5].to_dict()"
   ]
  },
  {
   "cell_type": "code",
   "execution_count": 21,
   "metadata": {},
   "outputs": [
    {
     "name": "stdout",
     "output_type": "stream",
     "text": [
      "Contents\n",
      "---------\n",
      "I. Introduction to the Student Handbook\n",
      "---------\n",
      "II. Welcome statements from the Vice-Chancellor and Chief Academic Officer\n",
      "---------\n",
      "A WELCOME STATEMENT FROM THE VICE-CHANCELLOR - PROFESSOR RAY GORDON\n",
      "---------\n",
      "Prof. Ray Gordon PhD., MBA, CPA, FAIM Vice-Chancellor and President\n",
      "---------\n",
      "A WELCOME STATEMENT FROM THE CHIEF ACADEMIC OFFICER - CHRIS JEFFERY\n",
      "---------\n",
      "Chris Jeffery Chief Academic Officer\n",
      "---------\n",
      "III. An Introduction to British University Vietnam\n",
      "---------\n",
      "A. University Contact Points\n",
      "---------\n",
      "General feedback\n",
      "---------\n",
      "B. Academic Contact Points\n",
      "---------\n",
      "C. Student Academic Support Office\n",
      "---------\n",
      "Student Tutor Programme: Your Peer Academic Partners\n",
      "---------\n",
      "How to Access Student Tutor Programme\n",
      "---------\n",
      "Faculty Learning Support Team: Your Academic Excellence Guides\n",
      "---------\n",
      "How to Access Faculty Learning Support:\n",
      "---------\n",
      "IV. British University Vietnam Policies\n",
      "---------\n",
      "Student Code of Conduct\n",
      "---------\n",
      "Student Equal Opportunities and Diversity Policy\n",
      "---------\n",
      "A. Student Code of Conduct\n",
      "---------\n",
      "B. Bully and Harassment Policies\n",
      "---------\n",
      "What is harassment?\n",
      "---------\n",
      "Policies\n",
      "---------\n",
      "C. Expectations of University’s members\n",
      "---------\n",
      "As a student of British University Vietnam, you are expected to do the following, failure to comply to the below may result to relevant level of disciplinary actions from BUV Disciplinary Panel:\n",
      "---------\n",
      "As a student of British University Vietnam, you can expect us:\n",
      "---------\n",
      "V. Academic Conducts and Student Disciplinary Regulations\n",
      "---------\n",
      "A. Attendance and Punctuality Regulations\n",
      "---------\n",
      "Possible consequences of intervention (applied for BUV/SU/UoL programmes)\n",
      "---------\n",
      "Possible consequences of intervention (applied for IFP programme)\n",
      "---------\n",
      "(*) Students can receive 20 PSG points/ semester if they have 90% and above of semesterly class attendance rate.\n",
      "---------\n",
      "Participation:\n",
      "---------\n",
      "B. Break-in-Studies Policy\n",
      "---------\n",
      "PLEASE NOTE:\n",
      "---------\n",
      "C. Academic Conduct\n",
      "---------\n",
      "D. Academic Misconduct Regulation\n",
      "---------\n",
      "General Regulations AY 2022/23 (for both UOL&IFP) https://www.london.ac.uk/sites/default/files/regulations/generalregs-2022-23-v2.pdf\n",
      "---------\n",
      "https://www.london.ac.uk/sites/default/files/regulations/progregs-ifp-2022-2023.pdf\n",
      "---------\n",
      "Mitigating Factors for Consideration in Assessing a Case\n",
      "---------\n",
      "Table of Sanctions\n",
      "---------\n",
      "Appeal to decision of the Panel\n",
      "---------\n",
      "E. Student Disciplinary Regulations\n",
      "---------\n",
      "F. Academic Probation\n",
      "---------\n",
      "G. Exams and Assessment Procedure*\n",
      "---------\n",
      "1. Examination Rules and Regulations\n",
      "---------\n",
      "DURING THE EXAM\n",
      "---------\n",
      "AT THE END OF THE EXAM\n",
      "---------\n",
      "EXAMINATION BOARD\n",
      "---------\n",
      "2. Assessment Procedures\n",
      "---------\n",
      "ASSIGNMENTS\n",
      "---------\n",
      "3. Coursework Submission Procedure\n",
      "---------\n",
      "4. Submission and Late Submission of Coursework\n",
      "---------\n",
      "5. Assessment Marking Process\n",
      "---------\n",
      "http://www.staffs.ac.uk/legal/policies/\n",
      "---------\n",
      "Number of Assessment Opportunities\n",
      "---------\n",
      "6. Feedback on Assignments\n",
      "---------\n",
      "H. Degree Classification\n",
      "---------\n",
      "1. University of London\n",
      "---------\n",
      "International Foundation Programme\n",
      "---------\n",
      "Banking and Finance Programme\n",
      "---------\n",
      "2. Staffordshire University\n",
      "---------\n",
      "3. BUV Own Degree\n",
      "---------\n",
      "VI. University’s Learning Resource Center\n",
      "---------\n",
      "A. LRC General Information\n",
      "---------\n",
      "❖ OPENING HOURS\n",
      "---------\n",
      "❖ 24-Hour Study Room\n",
      "---------\n",
      "❖ LEARNING RESOURCE COLLECTIONS\n",
      "---------\n",
      "❖ LRC FACILITIES\n",
      "---------\n",
      "B. LRC Rules and Regulations\n",
      "---------\n",
      "❖ Please DO:\n",
      "---------\n",
      "❖ Please DO NOT:\n",
      "---------\n",
      "❖ Mobile phones use in the LRC\n",
      "---------\n",
      "❖ Unauthorized removal of LRC property\n",
      "---------\n",
      "C. LRC Facilities\n",
      "---------\n",
      "E-mail accounts\n",
      "---------\n",
      "Using the printer\n",
      "---------\n",
      "Using the photocopier\n",
      "---------\n",
      "Photocopying\n",
      "---------\n",
      "Copyright and copying limits\n",
      "---------\n",
      "Books\n",
      "---------\n",
      "Audio-visual materials\n",
      "---------\n",
      "Dissertations, thesis and other coursework\n",
      "---------\n",
      "Printing and photocopying account\n",
      "---------\n",
      "❖ USING THE LEARNING RESOURCE CENTRE\n",
      "---------\n",
      "Borrowing from the Learning Resource Centre (LRC)\n",
      "---------\n",
      "Please note:\n",
      "---------\n",
      "Lending policy\n",
      "---------\n",
      "How to use Self-checkout at LRC:\n",
      "---------\n",
      "Fines & Fee Schedule\n",
      "---------\n",
      "D. Digital Resources\n",
      "---------\n",
      "1. Learning Management System by Canvas (Canvas LMS)\n",
      "---------\n",
      "2. E-books as core textbook by Kortext (Kortext E-book)\n",
      "---------\n",
      "E-BOOK USER GUIDE\n",
      "---------\n",
      "3. BUV Academic Databases\n",
      "---------\n",
      "4. SU Online Library\n",
      "---------\n",
      "✓ E – journals ✓ E – books ✓ Report\n",
      "---------\n",
      "ONLINE DATABASES\n",
      "---------\n",
      "https://libguides.staffs.ac.uk/az.php\n",
      "---------\n",
      "5. UOL Online Library\n",
      "---------\n",
      "Key resources and services\n",
      "---------\n",
      "Eligibility for services\n",
      "---------\n",
      "https://onlinelibrary.london.ac.uk/\n",
      "---------\n",
      "VII. Student Engagement Department\n",
      "---------\n",
      "A. Personal and Social Growth (PSG) programme\n",
      "---------\n",
      "• Complete one of the professional experience options:\n",
      "---------\n",
      "OR alternatives:\n",
      "---------\n",
      "B. Career Services: Careers & Employability Activities, Internship Support & Personal Career Guidance\n",
      "---------\n",
      "1. Careers & Employability Activities\n",
      "---------\n",
      "2. Internship Support\n",
      "---------\n",
      "• Preparation for the Internship\n",
      "---------\n",
      "3. One to One Career Consultation with BUV Career Services & Industry Relations Team\n",
      "---------\n",
      "4. Personal Career Consultation for Final Year – Final Semester students with Professional Employers and a Recruitment Consulting Company\n",
      "---------\n",
      "5. Become a Careers Ambassador\n",
      "---------\n",
      "C. Student Life\n",
      "---------\n",
      "D. Student Well-being Services\n",
      "---------\n",
      "E. Alumni Relations\n",
      "---------\n",
      "VIII. BUV International Office – Global Mobility\n",
      "---------\n",
      "BUV Global Engagement:\n",
      "---------\n",
      "IX. Campus Services Centre\n",
      "---------\n",
      "A. Transportation Services\n",
      "---------\n",
      "B. Catering Service at Student Hub and Food Court\n",
      "---------\n",
      "➢ First Password: 123456\n",
      "---------\n",
      "C. Medical Service\n",
      "---------\n",
      "Hours of operation:\n",
      "---------\n",
      "D. Recreation Service\n",
      "---------\n",
      "1. FOOTBALL PITCH\n",
      "---------\n",
      "Public Holliday: Closed.\n",
      "---------\n",
      "2. BADMINTON COURT\n",
      "---------\n",
      "3. BASKETBALL COURT\n",
      "---------\n",
      "4. SPORT CENTRE, YOGA & DANCE STUDIO\n",
      "---------\n",
      "5. RECREATION AREA\n",
      "---------\n",
      "E\n",
      "---------\n",
      "E. Accommodation Service\n",
      "---------\n",
      "F. Lost and Found\n",
      "---------\n",
      "G. Assist Facility Issues\n",
      "---------\n",
      "H. Lockers Rules\n",
      "---------\n",
      "X. Students’ Voice\n",
      "---------\n",
      "A. Comments and Feedbacks\n",
      "---------\n",
      "B. Appeals and Complaints\n",
      "---------\n",
      "*kk\n",
      "---------\n",
      "Good luck on your exciting journey ahead with BUV!\n",
      "---------\n",
      "XI. Appendix A\n",
      "---------\n",
      "Authorised Absence\n",
      "---------\n"
     ]
    }
   ],
   "source": [
    "for ele in dld_elements_student_handbook:\n",
    "    if ele.category == \"Title\":\n",
    "        print(ele.text)\n",
    "        print(\"---------\")"
   ]
  },
  {
   "cell_type": "code",
   "execution_count": 46,
   "metadata": {},
   "outputs": [],
   "source": [
    "from unstructured.chunking.title import chunk_by_title\n",
    "final_elements = chunk_by_title(dld_elements_student_handbook, max_characters = 3000)"
   ]
  },
  {
   "cell_type": "code",
   "execution_count": 55,
   "metadata": {},
   "outputs": [
    {
     "data": {
      "text/plain": [
       "{'type': 'CompositeElement',\n",
       " 'element_id': '3a3332120e672745b7f47da287609bb8',\n",
       " 'text': '3  \\n\\nStudent Handbook 2023-2024\\n\\nI. Introduction to the Student Handbook\\n\\nWelcome to British University Vietnam. During your course of study, we aim to not only provide you with an excellent learning experience, but also to help you develop the transferable skills that will prepare you for life after university. This means that as a BUV graduate, you will be fully equipped to succeed in b ot h the workplace and in your personal life. Moreover, you will have all the tools necessary to take on any leadership positions in the future.\\n\\nThis handbook provides you with essential information to fully utilize your time at British University Vietnam. It is vital to your success and the enjoyment of your experience here that you read this handbook carefully. If there is any unclear information in this handbook, please kindly reach out to any of our university staff, we are happy to assist you with any questions you might have. Please note this version is for January 2024 semester.\\n\\nRemember that as a student at British University Vietnam you should always aim to be the best. Our goal is to become the most outstanding university in Vietnam, and you are a part of this very special journey.\\n\\nWe wish you all the health, happiness, and success for your time at British University Vietnam and beyond!\\n\\n4  \\n\\nStudent Handbook 2023-2024\\n\\nII. Welcome statements from the Vice-Chancellor and Chief Academic Officer\\n\\nA WELCOME STATEMENT FROM THE VICE-CHANCELLOR - PROFESSOR RAY GORDON\\n\\nWelcome to the British University Vietnam (BUV). You are joining at a historic and exciting time for the University and the country.\\n\\nOur world is becoming ever smaller, and trade is more global than ever before. If we are to succeed in commerce, we need to have a sound understanding of the theory and practice of business across the world’s cultures and environments. By joining us in thi s learning journey, you are well positioned for a prosperous and successful future. As an ambassador for the University, I urge you to commit yourself to your studies and to the broader university experience. With the right mindset, hard work and guidance from our academics and support staff, you can also join the proud community of BUV students who have graduated with a First-Class Honours Degree.\\n\\nI feel privileged to be part of this University and I greatly value my role as Vice-Chancellor and President. As you study, I will be working with the UK and Vietnamese Governments, as well as commerce and industry, to ensure that the University produces n ew knowledge that is pertinent to the development of Vietnamese communities and, more broadly, higher education in Vietnam.\\n\\nYou are entering a new and exciting phase of your lives, please study hard, take pride in your university and, most importantly, enjoy your life as a BUV student.\\n\\nProf. Ray Gordon PhD., MBA, CPA, FAIM Vice-Chancellor and President',\n",
       " 'metadata': {'filename': 'Student Handbook 2023-2024 - Jan 2024. V2.pdf',\n",
       "  'filetype': 'application/pdf',\n",
       "  'languages': ['eng'],\n",
       "  'page_number': 3,\n",
       "  'orig_elements': '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'}}"
      ]
     },
     "execution_count": 55,
     "metadata": {},
     "output_type": "execute_result"
    }
   ],
   "source": [
    "final_elements[6].to_dict()"
   ]
  },
  {
   "cell_type": "markdown",
   "metadata": {},
   "source": [
    "### Text loader"
   ]
  },
  {
   "cell_type": "markdown",
   "metadata": {},
   "source": [
    "Load both q&a file and student handbook file"
   ]
  },
  {
   "cell_type": "code",
   "execution_count": 3,
   "metadata": {},
   "outputs": [],
   "source": [
    "from langchain_community.document_loaders import AzureAIDocumentIntelligenceLoader\n",
    "\n",
    "endpoint = \"https://di-buv.cognitiveservices.azure.com/\"\n",
    "key = \"fe9f945227944764889fd95f3bb2abda\"\n",
    "\n",
    "\n",
    "loader = AzureAIDocumentIntelligenceLoader(\n",
    "            api_endpoint=endpoint, \n",
    "            api_key=key, \n",
    "            file_path=\"../../data/qna/1. BUV-JAN24-FREQUENTLY ASKED QUESTIONS 1.docx\", \n",
    "            api_model=\"prebuilt-layout\"\n",
    ")\n",
    "azure_ai_DI_data = loader.load()"
   ]
  },
  {
   "cell_type": "code",
   "execution_count": 5,
   "metadata": {},
   "outputs": [
    {
     "data": {
      "text/plain": [
       "'STUDENT\\n\\nENGAGEMENT\\n\\nSTUDENT INFORMATION OFFICE\\n\\nSTUDENTS AND PARENTS’ FREQUENTLY ASKED QUESTIONS\\n\\nCÁC CÂU HỎI THƯỜNG GẶP DÀNH CHO SINH VIÊN VÀ PHỤ HUYNH\\n\\nCONTENTS/MỤC LỤC\\n\\nI. ACADEMIC AND STUDENT OPERATIONS 10\\n\\n1\\\\. How can students/parents receive the timetables? / Sinh viên/phụ huynh có thể nhận thời khóa biểu ở đâu? 10\\n\\n2\\\\. How does BUV record students’ attendance? / Điểm chuyên cần của sinh viên được BUV quản lý như thế nào? 10\\n\\n3\\\\. What should students/parents do if students need to be absent from classes? / Nếu sinh viên cần nghỉ học vì một lý do nào đó, sinh viên/phụ huynh cần phải làm gì? 14\\n\\n4\\\\. If the academic results of students are not good enough and students/parents are worried, what can BUV support to improve their performance? / Sinh viên/phụ huynh lo rằng kết quả học tập của sinh viên không đủ tốt, liệu nhà trường có kế hoạch gì trong việc giúp đỡ sinh viên cải thiện kết quả học tập không? 18\\n\\n5\\\\. In the students’ timetable, I have seen that students study about 2-4 hours a day only, should this be enough to ensure quality and what should students do besides class time? / Trong thời khóa biểu của sinh viên, tôi thấy sinh viên chỉ học 2-4 giờ một ngày. Thời lượng học như vậy liệu có đủ để đảm bảo chất lượng học tập? 20\\n\\n6\\\\. How can students improve their English if students/parents would like to enhance their English skills? / Nhà trường có thể giúp gì nếu phụ huynh và sinh viên có nhu cầu cải thiện trình độ Tiếng Anh của sinh viên? 21\\n\\n7\\\\. Students have been placed on academic probation, what does this mean? / Sinh viên đang ở trong danh sách Theo dõi đặc biệt, điều này nghĩa là gì? 22\\n\\n8\\\\. What if BUV students want to exchange or transfer to other Universities around the world? / Nếu sinh viên BUV muốn tham gia chương trình Trao đổi và Chuyển tiếp sinh viên tới các trường Đại học trên thế giới thì sao? 23\\n\\n9\\\\. What are the procedures and policy if things don’t go as planned and students have to defer from the university? How to apply for deferment? / Trong trường hợp sinh viên cần bảo lưu kết quả và xin nghỉ học một thời gian, quy trình và chính sách của việc bảo lưu này như thế nào? 26\\n\\n10\\\\. How can students change the programme if students/parents feel the programme is not suitable for students after a period of study? / Trong trường hợp sinh viên và phụ huynh cảm thấy chương trình học hiện tại không còn phù hợp với mong muốn và mục tiêu tương lai của sinh viên sau một thời gian học, sinh viên có thể xin đổi ngành hay không? Quy trình thực hiện sẽ như thế nào? 27\\n\\n11\\\\. Why do students need to buy social medical insurance at BUV? Can students cancel that as they have purchased other health insurance? / Tại sao việc mua bảo hiểm y tế tại BUV là điều cần thiết? Nếu sinh viên đã có bảo hiểm y tế, sinh viên có thể xin huỷ bảo hiểm y tế tại BUV hay không? 29\\n\\n12\\\\. Why do parents and students get warning letters about scholarships? Does it mean the student’s scholarship is withdrawn? / Tại sao phụ huynh và sinh viên nhận được Thư cảnh cáo về vấn đề học bổng? Có phải thư này có nghĩa là sinh viên đã mất học bổng hay không? 30\\n\\n13\\\\. Where do I get student’s scholarship maintenance criteria? / Phụ huynh và gia đình có thể xem điều kiện học bổng của sinh viên ở đâu? 31\\n\\n14\\\\. How do students have lunch at BUV if they have to study a full day? / Sinh viên có thể ăn trưa ở đâu trong những ngày có lịch học cả ngày tại trường? 32\\n\\n15\\\\. Can students book campus facilities for self-studying? What is the process? / Sinh viên có thể đăng kí học tập tại trường ngoài giờ học (tự học) không? Quy trình đăng kí như thế nào? 36\\n\\nII. BUS SERVICE 39\\n\\n1\\\\. Can we have information about BUV bus services and how students get to school? Do we have to register when using buses? / Tôi muốn biết thêm thông tin về dịch vụ xe buýt của BUV. Sinh viên có phải đăng ký để sử dụng dịch vụ này hay không? 39\\n\\n2\\\\. What should students do if the bus does not arrive on time at the pick-up point? / Sinh viên cần làm gì nếu xe buýt không đến đúng giờ tại điểm đón? 40\\n\\n3\\\\. Can BUV adjust the bus schedule to suit the student\\'s classes? / Nhà trường có thể điều chỉnh lịch trình xe buýt theo lịch học của sinh viên? 40\\n\\nIII. REGISTRY 42\\n\\n1\\\\. When & how can I receive student’s result this semester? / Khi nào sinh viên có kết quả học kì này và có thể xem kết quả đó ở đâu? 42\\n\\n2\\\\. How can I read and understand students’ transcripts? / Làm thế nào để đọc và hiểu bảng điểm của sinh viên? 42\\n\\n3\\\\. What is the progression condition at BUV? / Điều kiện được lên lớp ở BUV là gì?................................................................................................................................................. 43\\n\\n4\\\\. How resits at BUV are regulated and what would happen if student fails the resit(s)? How many resits can the student attempt? / Quy định cho việc thi lại ở BUV như thế nào và nếu sinh viên trượt bài thi lại thì chuyện gì sẽ xảy ra? Sinh viên có thể thi lại bao nhiêu lần?.................... 43\\n\\n5\\\\. If a student resits, does student’s GPA change? / Nếu sinh viên thi lại thì điểm GPA có thay đổi không? 45\\n\\n6\\\\. What if student fails a component in a 2-teaching-block module (eg. The Professional Toolkit)? Do they have to retake/resit the whole module? / Nếu sinh viên không đạt điểm đỗ cho một bài thành phần của một môn học trong 2 học kỳ (ví dụ: môn The Professional Toolkit) thì có phải học/thi lại cả môn không? 45\\n\\n7\\\\. How are retakes at BUV regulated? / Quy định học lại ở BUV như thế nào? 46\\n\\n8\\\\. What does it mean when student is in “can’t proceed” & how will the tuition fee be settled during this period? / Sinh viên trong tình trạng “Không được lên lớp” nghĩa là sao và học phí của sinh viên trong tình trạng này sẽ thế nào? 47\\n\\n9\\\\. How can students maintain their scholarship/bursary? If students fail any modules, how’s that going to affect their scholarship? / Làm thế nào để sinh viên duy trì học bổng? Nếu sinh viên trượt môn thì có ảnh hưởng đến học bổng của sinh viên hay không?....49\\n\\n10\\\\. What are the criteria for Merit award at BUV? / Tiêu chí trao thưởng về thành tích học tập xuất sắc ở BUV là gì? 50\\n\\n11\\\\. How to calculate accumulated GPA for BUV Own Degree students? Cách tính Điểm Trung bình tích lũy GPA cho sinh viên hệ Việt Nam BUV như thế nào? 51\\n\\n12\\\\. When will a student’s final GPA & classification be available? How are student’s GPA & classification calculated? What is the graduation condition? / Khi nào thì sinh viên nhận được điểm trung bình GPA cho chương trình học và xếp loại bằng? Điểm trung bình GPA và xếp loại bằng của sinh viên được tính như thế nào? Điều kiện tốt nghiệp là gì? 52\\n\\n13\\\\. When can I collect students’ official transcript and degree certificate? / Khi nào thì sinh viên nhận được bảng điểm chính thức và bằng tốt nghiệp? 53\\n\\n14\\\\. How can students have a copy or a re-issued version of the transcript/degree certificate? / Làm thế nào để sinh viên có thể xin bản sao hoặc xin cấp lại bảng điểm chính thức hoặc bằng tốt nghiệp? 54\\n\\n15\\\\. Can parents or siblings collect the certificate and transcript for student? Or can BUV send student’s original certificate and transcript via post? / Liệu phụ huynh hoặc người nhà có thể đến nhận bằng tốt nghiệp và bảng điểm thay cho sinh viên không? Hoặc liệu BUV có thể gửi bằng tốt nghiệp và bảng điểm cho sinh viên qua đường bưu điện? 55\\n\\n16\\\\. What is the late submission regulation at the University?/ Quy định nộp bài muộn ở Trường là gì? 55\\n\\n17\\\\. Does the University provide information of graduation ranking?/ Trường có cung cấp thông tin xếp hạng điểm tốt nghiệp của sinh viên không? 56\\n\\n18\\\\. Can students/parents have student’s exam schedule for this semester? / Phụ huynh/sinh viên có thể xin lịch nộp bài và lịch thi của sinh viên cho học kỳ này không? 56\\n\\n19\\\\. Student wishes to take individual rather than group assessments, is this possible? / Sinh viên muốn làm bài cá nhân thay cho việc làm bài nhóm thì có được không?......... 57\\n\\n20\\\\. Student has been asked to attend an academic conduct meeting. What does this mean? / Sinh viên được mời tham dự cuộc họp về vi phạm học thuật, như vậy có nghĩa là gì?............ 57\\n\\n21\\\\. What is a safe similarity index when students submit assignment on Turnitin? / Số phần trăm độ tương đồng như thế nào là an toàn khi sinh viên nộp bài trên hệ thống Turnitin?....... 58\\n\\n22\\\\. Students submit assignment on Turnitin system and have low similarity % but later this % increase, is this an error? / Sinh viên nộp bài trên hệ thống Turnitin và nhận được số phần trăm độ tương đồng thấp, nhưng sau đó số phần trăm này lại tăng lên. Liệu đây có phải là lỗi hệ thống hay không? 59\\n\\n23\\\\. Does student have to take responsibility for an academic misconduct in group submission? / Sinh viên liệu có phải chịu trách nhiệm cho vi phạm học thuật trong bài nộp nhóm hay không? 60\\n\\n24\\\\. How does academic misconduct affect a student’s academic performance & studying progress? / Việc vi phạm học thuật có thể ảnh hưởng thế nào đến kết quả học tập và lên lớp của sinh viên? 60\\n\\n25\\\\. Students have academic misconduct; will this be displayed in transcript or degree certificate? / Sinh viên đã vi phạm quy định học thuật của nhà trường, liệu việc vi phạm này có bị ghi trong hồ sơ, học bạ, bảng điểm hoặc bằng tốt nghiệp hay không? 61\\n\\n26\\\\. If a student transfers to a different programme, what will happen to their academic misconduct records? / Nếu sinh viên chuyển ngành học thì những vi phạm học thuật cũ của sinh viên sẽ được tính ra sao? 62\\n\\n27\\\\. Can BUV do anything to reduce the academic misconduct of students? / Liệu BUV có thể giảm nhẹ việc vi phạm học thuật cho sinh viên? 62\\n\\n28\\\\. Can students appeal Poor Academic Practice (PAP) decision? / Sinh viên có thể xin phúc tra quyết định Thực hành học thuật kém (PAP) không? 63\\n\\n29\\\\. What can students/parents do if students/parents think their final mark or result should be different? / Sinh viên/gia đình nên làm gì nếu chúng tôi nghĩ điểm và kết quả cuối cùng của sinh viên có thể khác? 64\\n\\n30\\\\. If students is under special situation while doing & submitting their assessments, what should we do? / Nếu sinh viên không may gặp tình huống đặc biệt khi làm và nộp bài, chúng tôi nên làm gì? 64\\n\\n31\\\\. Can I have confirmation from my family, friends, or even myself as evidence for their Exceptional Circumstance claim? / Liệu xác nhận từ người thân, bạn bè hay thậm chí từ chính bản thân sinh viên có được chấp nhận như một bằng chứng hỗ trợ cho đơn xem xét Trường hợp Ngoại lệ không? 65\\n\\n32\\\\. My Exceptional Circumstance claim got upheld. What is the next step? / Sinh viên cần làm gì sau khi đơn xin xem xét Trường hợp Ngoại lệ được chấp thuận? 66\\n\\nIV. STUDENT EXPERIENCE 68\\n\\n1\\\\. Is the Internship programme at BUV compulsory to students? / Chương trình Thực tập tại BUV có bắt buộc đối với sinh viên không? 68\\n\\n2\\\\. How does BUV support students with their internships? / Sinh viên được BUV hỗ trợ trong công tác thực tập như thế nào? 69\\n\\n3\\\\. Can first year students go for internships? / Sinh viên năm nhất có thể đi thực tập được không? 72\\n\\n4\\\\. Can BUV guarantee that every student will have an internship during the semester break? / Nhà trường có thể đảm bảo rằng tất cả các sinh viên đều được đi thực tập vào kỳ nghỉ giữa học kỳ không? 73\\n\\n5\\\\. What can students do during 3 months break if they do not go for internships? / Nếu trong 3 tháng nghỉ giữa kỳ sinh viên không đi thực tập thì có thể làm gì? 74\\n\\n6\\\\. Where can I get the information about the internships, extra-curricular activities, short courses that BUV is offering? / Chúng tôi có thể cập nhật các thông tin về cơ hội thực tập, hoạt động ngoại khóa và các khóa học ngắn hạn BUV đang cung cấp ở đâu? 75\\n\\n7\\\\. What is the point of going for an internship which is not relevant to student’s major? / Nếu sinh viên đi thực tập trong mảng không liên quan tới ngành học thì có tác dụng gì?................ 77\\n\\n8\\\\. Does BUV have any solutions if students cannot pass internship interviews many times? / Nhà trường có phương án gì nếu sinh viên liên tục không đỗ các vòng phỏng vấn thực tập với công ty? 78\\n\\n9\\\\. Are the internships that BUV support students paid or unpaid? / Các cơ hội thực tập được cung cấp tại BUV có phụ cấp hay không? 79\\n\\n10\\\\. How does BUV evaluate students’ internship? Is any post-internship report required from students to prove they have done it? / Nhà trường đánh giá kết quả thực tập của sinh viên thế nào? Nhà trường có yêu cầu báo cáo thực tập cuối kỳ từ sinh viên để có bằng chứng đã hoàn thành thực tập không? 80\\n\\n11\\\\. Who are normally the companies that host BUV students for internships? How can internships take place if companies continue to work from home with social distancing? / Các công ty nhận sinh viên thực tập từ BUV thường là những công ty nào? Nếu các công ty tiếp tục làm việc từ xa do giãn cách thì sinh viên có thể đi thực tập không? 81\\n\\n12\\\\. How does BUV evaluate companies/organisations to send students for internship? Will BUV check in on students\\' performance & working environment during their internship to ensure fairness and safety? / BUV đánh giá các doanh nghiệp như thế nào trước khi gửi sinh viên đi thực tập. BUV có kiểm tra môi trường làm việc của sinh viên trong quá trình thực tập hay không? 83\\n\\n13\\\\. Does BUV and partnered companies/organisations have plans to conduct the internship and training programme to offer full-time recruitment for students after graduation? / BUV và các đối tác có quan hệ chiến lược lâu dài trong kế hoạch tuyển thực tập sinh và sau đó là tuyển dụng các vị trí chính thức cho sinh viên sau khi tốt nghiệp hay không?......... 84\\n\\n14\\\\. What kind of extra-curricular classes and short courses can students register and when? Do we have to pay course fee for those? / BUV cung cấp các lớp học ngoại khóa và khóa học ngắn nào và vào lúc nào? Sinh viên có cần trả học phí cho các khóa học này không?......... 85\\n\\n15\\\\. Where to get support when students have concerns about their wellbeing and personal life? Who can parents/students contact if students need help with stress and anxiety at school? / Nếu sinh viên có những mối lo lắng về sức khỏe tinh thần hoặc đời sống cá nhân thì có thể liên hệ hỗ trợ ở đâu? Phụ huynh/sinh viên có thể liên hệ với ai tại trường nếu cảm thấy sinh viên cần hỗ trợ về các dấu hiệu bất an hoặc căng thẳng? 88\\n\\n16\\\\. What is the Personal and Social Growth (PSG) Programme and what are the criteria to complete the programme? / Chương trình Nâng cao Năng lực Cá nhân và Kỹ năng Xã hội (PSG) là gì và các điều kiện hoàn thành chương trình là gì? 89\\n\\nACADEMIC AND STUDENT OPERATIONS\\n\\nHow can students/parents receive the timetables? / Sinh viên/phụ huynh có thể nhận thời khóa biểu ở đâu?\\n\\nAnswer / Câu trả lời:\\n\\nStudent’s timetable will be sent to BUV student’s and parent’s emails at the beginning of each semester. Please make sure to provide us with the correct email to the Student Information Office via studentservice@buv.edu.vn to receive the timetable and other information.\\n\\nThời khóa biểu của sinh viên sẽ được gửi đến sinh viên và phụ huynh vào đầu mỗi kỳ học qua địa chỉ email BUV của sinh viên và email cá nhân của phụ huynh. Phụ huynh vui lòng đảm cung cấp email chính xác cho Bộ phận Thông tin Sinh viên qua địa chỉ studentservice@buv.edu.vn để kịp thời nhận thời khóa biểu và thông tin khác từ nhà trường.\\n\\nHow does BUV record students’ attendance? / Điểm chuyên cần của sinh viên được BUV quản lý như thế nào?\\n\\nAnswer / Câu trả lời:\\n\\nStudents register their attendance for all on-campus classrooms, labs, studios, learning theatres, online classes, and conferences. If having consecutive sessions in the same classroom, the students check in and check out for each session. Statistics of students’ attendance are recorded and monitored by the Student Information Office.\\n\\nStudents register attendance on the FRS up to 15 minutes before the start of the class and up to 4 minutes 59 seconds after the timetabled start of the class. Students also register attendance on the FRS up to 15 minutes before the end of the session and up to 4 minutes 59 seconds after the timetabled end of the session. Students should also immediately inform the Student Information Office on the 2nd floor in person about any FRS issue.\\n\\nStudents do not need to register attendance if they leave and return during the session for toilet breaks. The session may be one, two or three hours as defined in the student’s timetable.\\n\\nParents will be informed if students are absent for consecutive days without valid reason or their attendance falls below acceptable levels.\\n\\nThe detailed levels of attendance warnings are:\\n\\nIf students miss 15% of attendance in any module during the semester, students are at Level 1 of poor attendance.\\n\\nIf students miss 25% of attendance in any module during the semester, students are at Level 2 of poor attendance.\\n\\nIf students miss 35% of attendance in any module during the semester, students are at Level 3 of poor attendance.\\n\\nThe possible consequences of interventions for each warning levels are:\\n\\n| Intervention Level | Intervention levels apply to the absence rate (\\\\*) | Consequences |\\n| - | - | - |\\n| Level 1 | 15% | Students will receive a SAR – 1st warning letter. |\\n| Level 2 | 25% | Students & parent/fee payers will receive a SAR – 2nd warning letter. |\\n| Level 3 | 35% | - Students & parent/fee payers will receive a SAR – 3rd warning letter - Students will receive an invitation to a meeting with the Academic Recovery Panel (ARP) - Students will be placed on Academic Probation |\\n| Student at level 3 and fails the Academic Probation || Students will receive an invitation to a meeting with the Academic Recovery Panel (ARP). The ARP will determine the outcome based on the best academic interests of the students, considering any mitigating circumstances. |\\n\\n(\\\\*) Absence rate = The number of absent hours / The number of required hours of a module x 100\\n\\nStudents can calculate the required hours of each module based on the information in their timetable each semester.\\n\\nStudents are required to carefully read the Student Attendance Information sheet which is available on Canvas for the reference and application.\\n\\nSinh viên được yêu cầu điểm danh trên Hệ thống nhận dạng khuôn mặt (FRS) đối với các môn học tại lớp học, phòng thí nghiệm, studio, hội trường và các lớp học trực tuyến. Sinh viên cần điểm danh đầu giờ và cuối giờ theo từng tiết học khi các tiết học diễn ra trong cùng một phòng học. Dữ liệu thống kê về việc đi học của sinh viên được ghi lại và theo dõi bởi Cán bộ Bộ phận Thông tin Sinh viên.\\n\\nSinh viên điểm danh trên FRS không quá 15 phút trước khi bắt đầu lớp học và muộn nhất 4 phút 59 giây sau khi bắt đầu lớp học theo thời khóa biểu. Tương tự, sinh viên cũng đăng ký điểm danh ra về trên FRS từ 15 phút trước khi kết thúc lớp học và tối đa 4 phút 59 giây sau khi kết thúc lớp học theo thời khóa biểu. Sinh viên liên hệ Bộ phận Thông tin Sinh viên tại tầng 2 để được hỗ trợ kịp thời nếu gặp khó khăn trong quá trình điểm danh.\\n\\nSinh viên không cần đăng ký điểm danh nếu sinh viên ra/vào trong giờ học để nghỉ vệ sinh hoặc nghỉ giữa giờ. Lớp học có thể kéo dài một, hai hoặc ba giờ như được thông báo trong thời khóa biểu của sinh viên.\\n\\nTrong trường hợp sinh viên liên tục không có dữ liệu điểm danh trong nhiều ngày mà không thông báo lý do chính đáng hoặc dữ liệu chuyên cần của sinh viên thấp hơn mức cho phép, Nhà trường sẽ gửi thông báo đến phụ huynh.\\n\\nThông tin chi tiết về các cấp độ cảnh báo chuyên cần như sau:\\n\\nSinh viên vắng mặt 15% thời lượng của bất kì môn học nào trong học kỳ: Mức độ 1\\n\\nSinh viên vắng mặt 25% thời lượng của bất kì môn học nào trong học kỳ: Mức độ 2\\n\\nSinh viên vắng mặt 35% thời lượng của bất kì môn học nào trong học kỳ: Mức độ 3\\n\\nHậu quả tương ứng với mức độ nghiêm trọng theo tỷ lệ vắng mặt của sinh viên như sau:\\n\\n| Mức độ | Mức độ tương ứng với tỷ lệ vắng mặt (\\\\*) | Hậu quả |\\n| - | - | - |\\n| Mức 1 | 15% | Sinh viên sẽ nhận được Thư cảnh báo chuyên cần mức 1 |\\n| Mức 2 | 25% | Sinh viên và phụ huynh sẽ nhận được Thư cảnh báo chuyên cần mức 2 |\\n| Mức 3 | 35% | - Sinh viên và phụ huynh sẽ nhận được Thư cảnh báo chuyên cần mức 3 - Sinh viên sẽ được yêu cầu tham gia buổi họp với Hội đồng Hỗ trợ Học tập (ARP) - Sinh viên sẽ được đặt trong Thời gian thử thách (AP) |\\n| Sinh viên bị cảnh báo chuyên cần mức 3 và không hoàn thành Thời gian thử thách || Sinh viên sẽ được yêu cầu tham gia buổi họp với Hội đồng Hỗ trợ Học tập (ARP). Hội đồng sẽ xác định kết quả dựa vào những quyền lợi học tập tốt nhất của sinh viên và cân nhắc các tình tiết giảm nhẹ. |\\n\\n(\\\\*) Tỷ lệ vắng mặt = Số giờ vắng mặt / Số giờ học yêu cầu của một môn học x 100\\n\\nSinh viên được yêu cầu tham khảo tài liệu Thông tin Chuyên cần trên hệ thống học tập Canvas và tuân thủ chặt chẽ quy định này.\\n\\nWhat should students/parents do if students need to be absent from classes? / Nếu sinh viên cần nghỉ học vì một lý do nào đó, sinh viên/phụ huynh cần phải làm gì?\\n\\nAnswer / Câu trả lời:\\n\\nAttendance for all formal teaching is compulsory so students should prioritize their university attendance and their study sessions over other activities such as internships, extra-curricular activities, volunteer work and leisure travel.\\n\\nOn some occasions, owing to illness or other unforeseen events, absence may be unavoidable. The process to submit absence request on some occasions is at:\\n\\nFor plannable leaves, students should submit the form and evidence at least one day in advance of the absent date (for example: driving license test or family events).\\n\\nFor unforseen matters, students should submit the documentation within three days upon the student’s return to the University (for example: illness or accident).\\n\\nThe form and evidence must be handed in at the Student Information Office counter on the 2nd floor of the main building or via studentservice@buv.edu.vn.\\n\\nIt is impossible to provide a complete list, however, listed below are some examples of mitigating circumstances that would generally be considered acceptable/ not acceptable:\\n\\nAuthorised absence\\n\\n| Reason for Leave of Absence | Evidence required for submission |\\n| - | - |\\n| Sickness absence or hospitalisation. | Parent’s confirmation or medical’s note. |\\n| Medical appointments that cannot be arranged outside class time. | Parent’s confirmation or doctor’s note. |\\n| Carer’s responsibilities for a family member. | Parent’s confirmation. |\\n| Attendance at a family member’s wedding/ funeral. | Parent’s confirmation. |\\n| Driving test or other international tests related to students’ programs. | Copy of the test confirmation letter/ notification. |\\n| Job commitments as per the module’s requirements. (Applied modules: Work Placement Project, Work experience). | Lecturer’s confirmation. |\\n| Representing the University or self to attend competitions at a regional/ national level. | Proof of selection and invitation letter. The percentage of absent hours for any module does not exceed 35% in a full semester. |\\n| Educational visit or career/ internship interview. | Invitation letter. The percentage of absent hours does not exceed 35% in a full semester. |\\n| Attendance at a meeting required by the University. | Meeting invitation. |\\n\\nUnauthorised absence\\n\\n| Holidays during class time. |\\n| - |\\n| Reason not provided clearly (For example: Family business, private event, etc.) |\\n| Attendance at social, leisure activities, and anniversary events. |\\n| Driving lessons. |\\n| Bad weather/ Personal transportation trouble. |\\n\\nAfter receiving absence request form and evidence/confirmation, the University will process the absence request upon the regulations. If the absence request is not approved, students will be informed via BUV email.\\n\\nStudents need to actively manage personal schedules and minimize absence to ensure learning progression.\\n\\nAbsence application form values for only requesting absence from classes and cannot be replaced with any another documents.\\n\\nViệc tham dự tất cả các buổi học chính thức là bắt buộc, vì vậy sinh viên nên ưu tiên việc đi học đầy đủ hơn các hoạt động khác như thực tập, hoạt động ngoại khóa, làm việc tình nguyện hay du lịch giải trí.\\n\\nTrong một số trường hợp, do ốm đau hoặc các lý do không tránh khỏi khác khiến sinh viên buộc phải nghỉ học, sinh viên phải hoàn thành đơn xin vắng mặt kèm theo các minh chứng, xác nhận liên quan và gửi đến Bộ phận Thông tin Sinh viên. Quy trình gửi đơn xin vắng mặt trong một số trường hợp như sau:\\n\\nĐối với các trường hợp vắng mặt có thể dự kiến trước (như thi bằng lái xe, sự kiện gia đình…), sinh viên phải nộp đơn kèm bằng chứng trước ngày xin vắng mặt.\\n\\nĐối với các trường hợp vắng mặt không thể dự kiến trước (như ốm đau hoặc tai nạn), sinh viên cần phải nộp đơn kèm bằng chứng trong vòng 03 ngày kể từ ngày sinh viên trở lại trường.\\n\\nSinh viên nộp đơn xin vắng mặt kèm bằng chứng tại Phòng Thông tin Sinh viên tại tầng 2 khu vực văn phòng hoặc gửi qua địa chỉ email studentservice@buv.edu.vn.\\n\\nDanh mục dưới đây bao gồm một số lý do xin nghỉ thường được xem xét phê duyệt hoặc không phê duyệt:\\n\\nLý do xin nghỉ được xem xét phê duyệt\\n\\n| Lý do xin nghỉ | Bằng chứng cung cấp kèm theo đơn |\\n| - | - |\\n| Ốm đau hoặc nhập viện. | Xác nhận của phụ huynh hoặc cơ quan y tế. |\\n| Lịch khám sức khỏe không thể sắp xếp ngoài giờ học. | Xác nhận của phụ huynh hoặc giấy khám bệnh/chứng nhận của bác sĩ. |\\n| Chăm sóc người thân trong gia đình. | Xác nhận của phụ huynh. |\\n| Tham dự đám cưới/ đám tang của thành viên trong gia đình. | Xác nhận của phụ huynh. |\\n| Thi sát hạch lái xe hoặc các bài kiểm tra quốc tế liên quan đến ngành học của sinh viên. | Thông báo/Thư xác nhận lịch thi từ đơn vị tổ chức. |\\n| Tham gia thực tập theo yêu cầu của môn học. (Áp dụng cho hai môn học Work Placement Project, Work experience). | Xác nhận của giảng viên. |\\n| Cá nhân/ Đại diện cho trường tham dự các cuộc thi ở cấp khu vực / quốc gia. | Thư mời/ Xác nhận tiến cử từ đơn vị tổ chức. Tổng số giờ nghỉ học cho bất kì môn học không quá 35% trong một kì học. |\\n| Hoạt động tham quan học tập hoặc phỏng vấn thực tập. | Thư mời/ Xác nhận từ đơn vị tổ chức. Tổng số giờ nghỉ học cho bất kì môn học không quá 35% trong một kì học. |\\n| Tham dự cuộc họp theo yêu cầu của nhà trường. | Thư mời họp. |\\n\\nLý do xin nghỉ không được phê duyệt\\n\\n| Kì nghỉ trong thời gian có lớp học (ví dụ như du lịch, nghỉ mát…). |\\n| - |\\n| Lý do nghỉ học không rõ ràng (Ví dụ: công việc gia đình, sự kiện riêng tư…). |\\n| Tham dự các hoạt động xã hội, giải trí và ngày lễ kỷ niệm. |\\n| Học lái xe. |\\n| Các lý do liên quan đến thời tiết, sự cố giao thông cá nhân. |\\n\\nSau khi nhận được đơn và các minh chứng/xác nhận liên quan, Nhà trường sẽ tiến hành xét duyệt đơn Xin nghỉ học của sinh viên theo nội quy. Nếu đơn xin nghỉ không được chấp thuận, sinh viên sẽ được thông báo qua email.\\n\\nSinh viên cần chủ động quản lý chuyên cần của bản thân để đạt được các yêu cầu đầu ra của môn học và kết quả tốt nhất có thể.\\n\\nĐơn Xin nghỉ học chỉ có giá trị trong việc sinh viên xin nghỉ học và không thay thế cho bất kì văn bản nào khác.\\n\\nIf the academic results of students are not good enough and students/parents are worried, what can BUV support to improve their performance? / Sinh viên/phụ huynh lo rằng kết quả học tập của sinh viên không đủ tốt, liệu nhà trường có kế hoạch gì trong việc giúp đỡ sinh viên cải thiện kết quả học tập không?\\n\\nAnswer / Câu trả lời:\\n\\nTo improve students’ performance in specific modules, the best way is to stay engaged & reach out to the Modules Leaders for their support. This semester, module teams will be posting their “Office Hours” on the front page of their Canvas site near where you find their email address. To make use of Office Hours, the students can email their preferred module team members and request a meeting within those hours. In the case that the students are unable to attend the posted Office Hours, the module teams may be able to meet the students at other times depending on their availability.\\n\\nMoreover, at BUV, we are dedicated to providing comprehensive academic support even outside of the classrooms to ensure your son/daughter success throughout their educational journey. Our Student Academic Support (SAS) Office is the centralised team to contact whenever students need guidance and assistance in achieving their academic goals. We are now offering 2 programmes to support their academic performance outside of students’ classroom which are: Student Tutor & Faculty Learning Support.\\n\\nOur Student Tutors are experienced BUV students in year 2 and 3 who have demonstrated exceptional academic performance and possess strong interpersonal skills. They are selected & trained to offer tailored academic assistance, helping other students grasp complex subjects, refine study techniques, and enhance their overall understanding of course materials. Through one-on-one sessions, other students can benefit from their expertise and receive personalized guidance to elevate their learning experience.\\n\\nOur Faculty Learning Support Team comprises seasoned academics with diverse expertise. These dedicated professionals are committed to helping students excel academically. Whether students require guidance on specific subjects, study strategies, time management, or English language support, our Faculty Learning Support Team is ready to assist.\\n\\nBUV students can easily book study sessions with Student Tutor & Faculty Learning Support Team via SAS booking system. Students can book multiple sessions with different tutors and faculties based on their needs. Details on booking instructions has been sent via emails to students each semester. Students are strongly advised to take advantage of these valuable resources to enhance their learning experience, conquer challenges, and thrive academically. Should you have any inquiries or require assistance, please reach out to SAS via our email: academic-support@buv.edu.vn.\\n\\nĐể cải thiện kết quả học tập cho từng môn học cụ thể, sinh viên nên chủ động tương tác và liên hệ với giảng viên môn học để được hỗ trợ. Trong học kỳ này, trên hệ thống học tập Canvas, “Khung giờ hỗ trợ” của từng môn học sẽ được cập nhật trên trang đầu (vị trí gần với thông tin email của giảng viên). Sinh viên có thể gửi email đến giảng viên của các môn học tương ứng để đặt lịch gặp trong các khung giờ này. Trong trường hợp “Khung giờ hỗ trợ” đã được công bố trên hệ thống học tập Canvas không phù hợp với thời gian biểu của sinh viên, tùy thuộc vào lịch của giảng viên, sinh viên có thể được đặt hẹn trong khung giờ khác.\\n\\nTại BUV, nhà trường cũng dành sự quan tâm đặc biệt đến hỗ trợ học thuật bổ sung để giúp sinh viên có thể theo kịp việc học trên lớp và đạt được kết quả học tập tốt hơn. Phòng Hỗ trợ học thuật (SAS) sẽ là điểm đến mỗi khi sinh viên cần hướng dẫn hoặc hỗ trợ để cải thiện điểm số và đạt được kết quả học tập như mong muốn. Phòng SAS hiện cung cấp 2 chương trình hỗ trợ học thuật bổ sung: Chương trình Sinh viên Hỗ trợ (Student Tutor) và Chương trình Giảng viên Cố vấn (Faculty Learning Support).\\n\\nSinh viên Hỗ trợ (Student Tutor) là sinh viên BUV năm 2 và năm 3, có thành tích học tập và kỹ năng giao tiếp tốt. Student Tutor được lựa chọn và hướng dẫn bởi phòng SAS để hỗ trợ học thuật cho các sinh viên khác; giúp giải thích các khái niệm chuyên ngành, rèn luyện kỹ năng học tập cũng như vận dụng tài liệu học để nâng cao điểm số. Qua những buổi học 1-1, Student Tutor sẽ đồng hành cùng sinh viên, chia sẻ kiến thức và cải thiện trải nghiệm học tập của sinh viên tại BUV.\\n\\nNhóm Giảng viên Cố vấn (Faculty Learning Support Team) bao gồm những giảng viên kỳ cựu có chuyên môn và kinh nghiệm đa dạng của nhà trường. Dù sinh viên cần sự hỗ trợ thêm ở các môn học cụ thể, phương pháp học hay Tiếng Anh học thuật, nhóm Giảng viên Cố vấn sẵn sàng tư vấn và kèm cặp để giúp sinh viên đạt được kết quả tốt hơn.\\n\\nSinh viên có thể đặt lịch hẹn dễ dàng với Student Tutor và Faculty Learning Support Team qua hệ thống đặt lịch hẹn của SAS. Sinh viên có thể đặt nhiều buổi học, với nhiều sinh viên và giảng viên cố vấn khác nhau tùy theo nhu cầu. Chi tiết về các hình thức hỗ trợ và cách đặt lịch đã được gửi qua email cho sinh viên. Sinh viên được khuyến khích tận dụng những chương trình hỗ trợ trên để cải thiện trải nghiệm học và đạt được thành tích tốt hơn. Mọi câu hỏi về các dịch vụ và chương trình hỗ trợ Học thuật ở BUV, xin vui lòng liên hệ phòng SAS qua địa chỉ email: academic-support@buv.edu.vn.\\n\\nIn the students’ timetable, I have seen that students study about 2-4 hours a day only, should this be enough to ensure quality and what should students do besides class time? / Trong thời khóa biểu của sinh viên, tôi thấy sinh viên chỉ học 2-4 giờ một ngày. Thời lượng học như vậy liệu có đủ để đảm bảo chất lượng học tập?\\n\\nAnswer / Câu trả lời:\\n\\nBesides lectures and tutorial sessions, students will be required to engage in at least 10 hours of self-study per subject each week. This will include a considerable amount of time reading required textbooks, studying, and evaluating hand-outs, working on homework assignments, preparing for class work, revising for tests, and working in groups with fellow students on various projects. This requires students to learn to keep a strict time management plan which is essential to their engagement and success on the programme.\\n\\nIn addition, students are encouraged to make the most of their time by joining other activities as follows:\\n\\nVisiting the library to find additional resources or doing further reading in and around your subjects.\\n\\nParticipating in clubs, societies, and team activities.\\n\\nAttending scheduled Office Hours meetings, or other module support events.\\n\\nGetting involved with more Personal Social Growth activities organized by the Student Engagement Department.\\n\\nMaking use of the Student Hub to socialize, or just grabbing a bite to eat in the new cafeteria.\\n\\nMeeting up with the teams from the International Office, Career Services, Wellbeing Support or Student Life for advice, consultation and updated exciting opportunities offered at BUV and at our partner institutions.\\n\\nNgoài các buổi học và các buổi hướng dẫn theo thời khóa biểu, sinh viên được yêu cầu dành ít nhất 10 giờ tự học cho mỗi môn học trên mỗi tuần. Thời gian này sẽ bao gồm một lượng lớn thời gian dành cho đọc sách và tài liệu bắt buộc, nghiên cứu và phân tích tài liệu phát tay, làm bài tập về nhà, chuẩn bị cho bài tập trên lớp, ôn tập cho các bài kiểm tra và làm việc theo nhóm với các sinh viên khác trong các dự án khác nhau. Điều này đòi hỏi sinh viên phải học cách lên kế hoạch quản lý thời gian chặt chẽ để có thể hoàn thành chương trình học một cách suôn sẻ và thành công.\\n\\nBên cạnh đó, sinh viên được khuyến khích tham gia các hoạt động khác của Nhà trường như sau:\\n\\nGhé thăm thư viện để tìm thêm tài nguyên hoặc đọc thêm tài liệu về các chủ đề trong môn học.\\n\\nTham gia hoạt động của các câu lạc bộ và các hoạt động xã hội.\\n\\nTrao đổi thêm với các giảng viên môn học hoặc các sự kiện hỗ trợ môn học khác.\\n\\nTham gia các hoạt động của chương trình Phát triển Năng lực Cá nhân và Kỹ năng Xã hội do Phòng Công tác Sinh viên tổ chức.\\n\\nGiao lưu và tham gia các hoạt động khác trong Không gian sinh hoạt cộng đồng dành cho sinh viên hoặc trong khu vực canteen mới của Nhà trường.\\n\\nGặp gỡ các nhân viên của Bộ phận Hợp tác Quốc tế, Dịch vụ Hướng nghiệp, Tư vấn tâm lý và Chăm sóc Sức khoẻ Tinh thần, v.v để được tư vấn, tham vấn và cập nhật các cơ hội hấp dẫn được cung cấp bởi BUV và các tổ chức đối tác của Nhà trường.\\n\\nHow can students improve their English if students/parents would like to enhance their English skills? / Nhà trường có thể giúp gì nếu phụ huynh và sinh viên có nhu cầu cải thiện trình độ Tiếng Anh của sinh viên?\\n\\nAnswer / Câu trả lời:\\n\\nImproving student’s English skills is always one of the top priorities at BUV as our results show that students with higher level of English tend to achieve better academic results than those having lower English ability. We have a very dedicated English Department which provides various support to students who are willing to improve their English skills. Students are highly recommended to book a meeting with a member of this department for assistance with any language-related inquiries. Alternatively, they can contact James McMillan – Deputy Programme Leader of English at james.mcmillan@buv.edu.vn for the advice.\\n\\nIn addition, BUV also organizes weekly Academic English Master classes on Canvas to enhance student’s ability to use English effectively in academic environment, especially the academic writing.\\n\\nNâng cao khả năng sử dụng Tiếng Anh của sinh viên luôn là một trong những mục tiêu hàng đầu của BUV. Kết quả cho thấy các sinh viên có năng lực tiếng Anh tốt thường đạt kết quả học tập tốt hơn. Nhà trường có bộ phận Anh Ngữ gồm các giáo viên nước ngoài dày dạn kinh nghiệm trong việc dạy và hướng dẫn sử dụng Tiếng Anh trong môi trường học thuật. Sinh viên có thể chủ động liên lạc với các giáo viên tại bộ phận Anh Ngữ để được gặp và trao đổi trực tiếp với các thầy về mong muốn của mình. Thầy James McMillan - Phó Trưởng Chương trình tiếng Anh sẽ có những lời khuyên hữu ích giúp sinh viên lựa chọn những hoạt động phù hợp nhất để phát triển khả năng ngôn ngữ của mình. Các sinh viên có thể liên lạc với thầy qua email james.mcmillan@buv.edu.vn.\\n\\nThêm vào đó, Nhà trường cũng tổ chức các lớp Tiếng Anh học thuật hàng tuần trên hệ thống Canvas để nâng cao khả năng sử dụng Tiếng Anh một cách hiệu quả trong môi trường học thuật, đặc biệt là kỹ năng viết học thuật.\\n\\nStudents have been placed on academic probation, what does this mean? / Sinh viên đang ở trong danh sách Theo dõi đặc biệt, điều này nghĩa là gì?\\n\\nAnswer / Câu trả lời:\\n\\nStudents are placed on Academic Probation (AP) for a period, usually a semester, if their behaviors, participation in class, timekeeping or attendance does not meet the required standards expected at BUV. Students will have the process explained to them in a meeting and parents are notified by letter. Students will take an AP form with them to each class and the Module Leader or Tutorial Leader for that class will confirm by signature that the student has met the requirements of their probation in class. Completed forms are returned to the Student Information Office at the end of each week and a report is prepared for the Associate Professor and Dean (Higher Education).\\n\\nThe AP system helps students to understand the importance of complying with the behaviors expected of a BUV student and if the student completes the AP process successfully, they are returned to normal academic status. If the student is unable to successfully complete the process, the situation would be dealt with on a case-by-case basis by the Associate Professor and Dean (Higher Education).\\n\\nSinh viên sẽ được đặt trong danh sách Theo dõi đặc biệt (AP), thường khoảng một học kỳ, nếu hành vi, việc tham gia lớp học, hoặc chuyên cần của sinh viên không đáp ứng các tiêu chuẩn bắt buộc tại BUV. Sinh viên sẽ được giải thích về quy trình Theo dõi đặc biệt trong một cuộc họp; cuộc họp này sẽ được thông báo tới sinh viên và phụ huynh qua email. Sinh viên sẽ phải mang theo một mẫu biên bản Theo dõi đặc biệt đến mỗi lớp và Giảng viên phụ trách môn học hoặc Giảng viên hướng dẫn sẽ xác nhận bằng chữ ký rằng sinh viên đã đáp ứng các yêu cầu của quy định Theo dõi đặc biệt trong lớp học. Sinh viên cần phải gửi các biểu mẫu Theo dõi đặc biệt đã hoàn thành cho Bộ phận Thông tin Sinh viên vào cuối mỗi tuần nhằm mục đích báo cáo cho Giám đốc phụ trách đào tạo.\\n\\nTheo dõi đặc biệt giúp sinh viên hiểu tầm quan trọng của việc tuân thủ đáp ứng các hành vi được mong đợi của một sinh viên BUV và nếu sinh viên hoàn thành thủ tục Theo dõi đặc biệt, sinh viên sẽ được trở lại trạng thái học tập bình thường. Nếu sinh viên không thể hoàn thành thủ tục Theo dõi đặc biệt, tùy từng trường hợp cụ thể, Giám đốc phụ trách đào tạo sẽ đưa ra biện pháp xử lý phù hợp.\\n\\nWhat if BUV students want to exchange or transfer to other Universities around the world? / Nếu sinh viên BUV muốn tham gia chương trình Trao đổi và Chuyển tiếp sinh viên tới các trường Đại học trên thế giới thì sao?\\n\\nAnswer / Câu trả lời:\\n\\nThe Exchange Programme is a programme that lasts from 1 semester to a maximum of 2 semesters at one of BUV’s University Partners. Students are required to return to BUV by the end of their exchange semester(s) to complete the programme and graduate. There are two types of exchange: Credit-bearing and Non-Credit-bearing.\\n\\nThis programme will provide students with the following benefits:\\n\\nExperiencing new environments and accumulating new experiences and skills.\\n\\nEnjoying BUV\\'s tuition fee during the Credit-bearing exchange or do not pay tuition fee during the Non-Credit-bearing exchange. Students do not have to pay any tuition fees to the Partner University; however, students will have to pay other expenses such as services fee (if any), air tickets, visa, and living expenses, etc.\\n\\nThe Transfer programme is a programme in which students will terminate their studies at BUV to complete the progamme and receive a degree at his/her desired university, under the condition that they meet entry requirements of the chosen programme of the institution.\\n\\nIf students wish to transfer to Staffordshire University (SU), students will become SU international students and will pay the tuition fee rate stated by SU. The credits earned while studying SU programmes at BUV may be accepted partially or fully when the students apply to the same or different programme at SU in the UK. It should be noted that the majority’s name on SU diploma may be different from BUV one. BUV will support students’ transfer application in consulting, facilitating the transfer process and providing necessary documents.\\n\\nIf students wish to transfer to other universities partnered with BUV, students should be aware that depending on the destination programme and the university that students enroll in, the number of credits accumulated at BUV may be accepted in whole or in part. Therefore, before making the transfer decision, students and parents should contact the BUV International Office for more information including credits transfer and transfer process. BUV International Office will support students with advising necessary documents and procedures. Students are responsible for visa application and other procedures for his/her stay abroad.\\n\\nWhen student decides to take up an exchange or a transfer, they can email to the BUV International Office at international@buv.edu.vn or call to hotline number 0936 399 918.\\n\\nChương trình Trao đổi sinh viên (Exchange Programme) là chương trình kéo dài từ 01 đến tối đa là 02 học kỳ tại các trường đối tác của BUV. Sinh viên được yêu cầu quay trở lại BUV sau khi hoàn thành chương trình trao đổi để hoàn thành khóa học và tốt nghiệp. Có 2 dạng trao đổi: trao đổi tích lũy tín chỉ và trao đổi không tích lũy tín chỉ.\\n\\nChương trình này sẽ mang lại cho sinh viên những lợi ích sau đây:\\n\\nTrải nghiệm môi trường học tập tại nước ngoài, đồng thời tích lũy thêm nhiều kinh nghiệm và kỹ năng mới.\\n\\nĐược hưởng mức học phí của BUV trong quá trình trao đổi nếu tham gia chương trình trao đổi tích lũy tín chỉ và không đóng học phí nếu tham gia chương trình trao đổi không tích lũy tín chỉ. Sinh viên không phải đóng học phí cho trường đối tác, tuy nhiên sinh viên sẽ tự chi trả các chi phí khác liên quan như vé máy bay, visa, chi phí ăn ở, sinh hoạt, ...\\n\\nChương trình Chuyển tiếp sinh viên (Transfer Programme): Với chương trình này, sinh viên sẽ dừng học tập tại BUV để hoàn thành khóa học và nhận bằng tại trường mà sinh viên mong muốn; với điều kiện sinh viên đáp ứng được tiêu chuẩn đầu vào của trường đại học đó.\\n\\nNếu sinh viên có nguyện vọng chuyển tiếp tới Đại học Staffordshire (SU), sinh viên sẽ hoàn toàn trở thành sinh viên quốc tế học tập tại trường Staffordshire và đóng mức học phí được niêm yết bởi trường SU. Các tín chỉ sinh viên đã tích lũy được khi học chương trình của SU tại BUV có thể được chấp nhận một phần hoặc toàn phần khi sinh viên đăng ký chuyển tiếp sang ngành học tương đương hoặc ngành học khác tại SU. Lưu ý tên ngành học trên bằng tốt nghiệp tại SU có thể khác với tên ngành học tại BUV. Nhà trường sẽ hỗ trợ sinh viên trong quá trình trao đổi thông tin với SU những giấy tờ và thủ tục cần thiết để sinh viên có thể nộp hồ sơ nhập học và chuyển tiếp sang SU học nốt các năm học còn lại.\\n\\nNếu sinh viên mong muốn được hỗ trợ chuyển tiếp tới một trường đại học trong mạng lưới hợp tác của BUV, sinh viên cần lưu ý tùy thuộc vào chương trình và nội dung các học phần tại trường đối tác mà sinh viên đăng ký theo học, số tín chỉ đã tích lũy tại BUV có thể được chấp nhận toàn bộ hoặc một phần. Vì vậy trước khi đưa ra quyết định, sinh viên và gia đình nên liên hệ tới Phòng Hợp tác Quốc tế trước và xác nhận rõ thông tin về trường sinh viên mong muốn theo học. Phòng Hợp tác Quốc tế sẽ hỗ trợ tư vấn sinh viên những giấy tờ và thủ tục cần thiết. Gia đình và sinh viên sẽ cần tự chủ động làm các thủ tục visa cho giai đoạn học ở nước ngoài.\\n\\nKhi sinh viên quyết định ứng tuyển cho một chương trình trao đổi hoặc chuyển tiếp, sinh viên có thể gửi email tới Phòng Hợp tác Quốc tế qua địa chỉ international@buv.edu.vn hoặc gọi đến số điện thoại 0936 399 918 để được hướng dẫn và nhận biểu mẫu đơn yêu cầu.\\n\\nWhat are the procedures and policy if things don’t go as planned and students have to defer from the university? How to apply for deferment? / Trong trường hợp sinh viên cần bảo lưu kết quả và xin nghỉ học một thời gian, quy trình và chính sách của việc bảo lưu này như thế nào?\\n\\nAnswer / Câu trả lời:\\n\\nIn times of difficulty, students might apply for a Deferral/ Break-in-Study to put a temporary hold on their study and return when they are ready to perform at their best ability again. Taking a break is a significant decision. A break in study cannot be used to avoid assessments but should be used when the student’s personal circumstances no longer allow them to continue their studies.\\n\\nBefore taking a break in studies, the students need to consider several things:\\n\\nHaving a break from studies would mean you are no longer studying with the same group.\\n\\nYour course may have changed or may not be available when you decide to return.\\n\\nA deferral can be for a minimum of one semester to a maximum of one year.\\n\\nThe deferral will still count towards your registration period.\\n\\nWhen you return, you\\'ll need to re-start any incomplete modules as any previous marks will be cancelled.\\n\\nStudents need to pay the non-refundable VND 2,000,000 administrative fee for the processing of the deferment programme request. Any changes in the fees levied by the University are the responsibility of the student.\\n\\nWe highly recommend students to seek advice from the Student Information Office before making any decisions. The detailed process will be explained when the student officially requests for a Deferral via email: studentservice@buv.edu.vn or at the Student Information Counter on level 2, BUV Ecopark Campus.\\n\\nTrong trường hợp sinh viên cần bảo lưu kết quả, sinh viên có thể điền đơn Xin bảo lưu kết quả học tập để tạm dừng việc học và quay trở lại khi đã sẵn sàng. Quyết định bảo lưu là một quyết định quan trọng, có ảnh hưởng trực tiếp tới kết quả học tập của sinh viên. Quyết định bảo lưu không được dùng để tránh các kỳ kiểm tra đánh giá mà chỉ nên được sử dụng trong trường hợp sinh viên có những khó khăn cá nhân nhất định làm ảnh hưởng đến khả năng tiếp tục việc học.\\n\\nSinh viên và gia đình cần cân nhắc kỹ một số điều trước khi bảo lưu:\\n\\nKhi bảo lưu, sinh viên sẽ không học tập cùng với khóa ban đầu của mình.\\n\\nChương trình học có thể đã thay đổi hoặc không có lớp học khi sinh viên quay trở lại.\\n\\nThời gian bảo lưu ít nhất là 01 kỳ và tối đa là 01 năm.\\n\\nGiai đoạn bảo lưu vẫn được tính vào tổng thời gian học tập của sinh viên tại trường.\\n\\nKhi sinh viên quay trở lại trường sau bảo lưu sẽ được yêu cầu học lại tất cả những môn chưa hoàn thành vì điểm số sinh viên đã đạt được trước đó sẽ bị xóa.\\n\\nSinh viên cần đóng phí hành chính không hoàn lại là 2.000.000 VNĐ để tiến hành thủ tục bảo lưu kết quả học tập. Sinh viên cần chịu trách nhiệm về bất kỳ thay đổi về học phí được áp dụng theo chính sách hiện hành.\\n\\nNhà trường khuyến khích sinh viên trao đổi kỹ với Bộ phận Thông tin Sinh viên trước khi quyết định bảo lưu. Phòng Thông tin Sinh viên sẽ hướng dẫn cặn kẽ sinh viên về quy trình bảo lưu thông qua email studentservice@buv.edu.vn hoặc trao đổi trực tiếp tại quầy Thông tin Sinh viên.\\n\\nHow can students change the programme if students/parents feel the programme is not suitable for students after a period of study? / Trong trường hợp sinh viên và phụ huynh cảm thấy chương trình học hiện tại không còn phù hợp với mong muốn và mục tiêu tương lai của sinh viên sau một thời gian học, sinh viên có thể xin đổi ngành hay không? Quy trình thực hiện sẽ như thế nào?\\n\\nAnswer / Câu trả lời:\\n\\nWe recognize that it can be difficult to choose the right study programme straight away. Hence, BUV allows our students to change their programme within the first 3 weeks of teaching in the first semester, first year of the programme. However, there are a few important things students need to keep in mind if they consider changing to other programmes:\\n\\nThe entry requirements of the new programme – students might be required to retake Pathway programme if they are transferring to a completely different major/ field of study.\\n\\nThe next available intake of the destination programme.\\n\\nThe suitability of the student with the desired programme, and the number of completed credits that can be mapped and rolled over to the new programme.\\n\\nStudents have a limited number of chances to request a change in the programme.\\n\\nStudents need to pay the non-refundable VND 2,000,000 administrative fee for the processing of the change programme request. Any changes in the fees levied by the University are the responsibility of the student.\\n\\nWe highly recommend students to seek advice from the Student Information Office before making any decisions. The detailed process will be explained by a Student Information Officer when the student officially requests a Change of Programme via studentservice@buv.edu.vn or at the Student Information Counter at level 2, BUV Ecopark Campus.\\n\\nNhà trường thấu hiểu việc lựa chọn ngành học phù hợp với sinh viên ngay từ năm đầu tiên có thể là một thử thách cho nhiều gia đình. Do đó sinh viên BUV có thể lựa chọn đổi ngành trong khoảng thời gian 3 tuần đầu của kỳ học đầu tiên của chương trình học. Thời gian này vừa đủ để sinh viên có thể tự đánh giá xem ngành học hiện tại có phù hợp với bản thân hay không; và nếu cần chuyển ngành, sinh viên cũng sẽ không mất nhiều thời gian để theo kịp tiến độ ở lớp học mới. Tuy nhiên, trước khi quyết định chuyển ngành, sinh viên và phụ huynh cần cân nhắc kỹ một số điều:\\n\\nSinh viên phải đảm bảo thoả mãn điều kiện đầu vào của chương trình mới – trong trường hợp sinh viên muốn chuyển sang một chuyên ngành hoàn toàn khác (ví dụ từ Quản trị Kinh doanh sang Khoa học Máy tính), sinh viên sẽ được yêu cầu học lại chương trình Dự bị của chuyên ngành mới để đảm bảo chất lượng học tập sau này.\\n\\nCác ngành đặc thù sẽ có thời gian tuyển sinh và mở lớp khác nhau, do đó sinh viên cần cân nhắc đến thời gian tuyển sinh và mở lớp của chương trình mới.\\n\\nĐộ phù hợp của chương trình mới với trình độ của sinh viên, liệu các tín chỉ sinh viên đã học xong trước đây có thể được chuyển đổi sang chương trình mới hay không.\\n\\nMỗi sinh viên chỉ có một số cơ hội nhất định để chuyển ngành, do đó việc cân nhắc kỹ lưỡng trước khi quyết định là một điều vô cùng cần thiết.\\n\\nSinh viên cần đóng phí hành chính không hoàn lại là 2.000.000 VNĐ để tiến hành thủ tục chuyển ngành học. Sinh viên cần chịu trách nhiệm về bất kỳ thay đổi về học phí nào được áp dụng theo chính sách hiện hành.\\n\\nNhà trường khuyến khích sinh viên trao đổi kỹ với Bộ phận Thông tin Sinh viên trước khi quyết định chuyển ngành. Phòng Thông tin Sinh viên sẽ hướng dẫn cặn kẽ sinh viên về quy trình chuyển ngành thông qua email studentservice@buv.edu.vn hoặc trao đổi trực tiếp tại quầy Thông tin Sinh viên.\\n\\nWhy do students need to buy social medical insurance at BUV? Can students cancel that as they have purchased other health insurance? / Tại sao việc mua bảo hiểm y tế tại BUV là điều cần thiết? Nếu sinh viên đã có bảo hiểm y tế, sinh viên có thể xin huỷ bảo hiểm y tế tại BUV hay không?\\n\\nAnswer / Câu trả lời:\\n\\nAccording to Vietnam’s Laws and Regulations on Health Insurance, all full-time students are required to have valid Health Insurance during their study in Vietnam. BUV as a university, has the responsibility to ensure that all our students have access to Health Insurance when they study with us. It is not compulsory to purchase Health Insurance via BUV. However, if students already have a valid Health Insurance, it is the student’s responsibility to inform BUV and provide us with a copy of the Insurance Card to send to our Registered Insurance Office for verification. Please note that only certain types of Insurance are equivalent to the Vietnam Social Security’s Health Insurance. If student’s current insurance is not qualified to replace Vietnamese Social Security’s Health Insurance, student is still required to purchase Health Insurance either via BUV or individually. For more information, kindly refer to the link below:\\n\\nhttps://baohiemxahoi.gov.vn/vanban/Pages/default.aspx?ItemID=3559\\n\\nTheo luật Bảo hiểm Y tế Việt Nam sửa đổi, bổ sung năm 2014, học sinh sinh viên thuộc nhóm tham gia bảo hiểm y tế (BHYT) bắt buộc. Nhà trường có trách nhiệm đảm bảo tất cả sinh viên đang theo học toàn thời gian phải có BHYT trong suốt quá trình học tập. Tuy nhiên sinh viên không bị bắt buộc phải mua bảo hiểm qua trường. Trong trường hợp sinh viên đã có BHYT dưới dạng khác, sinh viên cần thông báo tới nhà trường và cung cấp hình ảnh của thẻ BHYT đang dùng. Nhà trường sẽ gửi thông tin này tới Cơ quan Bảo Hiểm phụ trách của trường để xác nhận tình trạng thẻ. Xin phụ huynh và sinh viên lưu ý, BHYT do Bảo Hiểm Xã Hội Việt Nam phát hành hoàn toàn khác với các loại thẻ bảo hiểm nhân thọ, bảo hiểm sức khoẻ, bảo hiểm thân thể do công ty tư nhân phát hành. Do đó để tránh nhầm lẫn, phụ huynh và gia đình vui lòng gửi ảnh thẻ bảo hiểm hiện tại tới trường để xác nhận trước khi yêu cầu cắt thẻ BHYT của sinh viên tại trường. Nếu bảo hiểm hiện có của sinh viên không đủ điều kiện thay thế BHYT bắt buộc, sinh viên được yêu cầu tự mua BHYT do Bảo Hiểm Xã Hội Việt Nam phát hành hoặc mua qua nhà trường. Thông tin chi tiết về BHYT, phụ huynh và gia đình có thể tham khảo tại đường link này:\\n\\nhttps://baohiemxahoi.gov.vn/vanban/Pages/default.aspx?ItemID=3559\\n\\nWhy do parents and students get warning letters about scholarships? Does it mean the student’s scholarship is withdrawn? / Tại sao phụ huynh và sinh viên nhận được Thư cảnh cáo về vấn đề học bổng? Có phải thư này có nghĩa là sinh viên đã mất học bổng hay không?\\n\\nAnswer / Câu trả lời:\\n\\nScholarship recipients will receive a Scholarship Warning letter when they have shown unsatisfactory academic performance in the most recent study period. This warning letter is also sent to the fee-payer/ parent as a notification of the situation. It does not necessarily mean the scholarship has been withdrawn. The letter only serves as a warning to both parents and student of the current situation and the student’s performance must be improved to meet the scholarship maintenance criteria or student will not be qualified for the scholarship in the next study period. Any matters that affect the student’s scholarship will be communicated with the fee-payer/parent before BUV makes any decisions on the withdrawal of the scholarship. For more information related to student’s scholarship, please contact to Central Academic Information Services at email: cais@buv.edu.vn for further support.\\n\\nSinh viên có học bổng sẽ nhận được Thư cảnh cáo trong trường hợp kết quả học tập không thoả mãn điều kiện của học bổng hoặc sinh viên đã có vi phạm quy chế học thuật hoặc kỷ luật trong kỳ học gần nhất. Thư cảnh cáo cũng sẽ được gửi tới người trả phí/phụ huynh nhằm nhắc nhở phụ huynh và gia đình về vấn đề này. Nhận được thư cảnh cáo không có nghĩa là sinh viên đã bị rút học bổng, mục đích chính của thư này là để phụ huynh và sinh viên đồng thời nắm được vấn đề đang xảy ra và thực hiện những thay đổi cần thiết để sinh viên có thể giữ được học bổng trong kỳ học kế tiếp. Bất cứ vấn đề nào có thể ảnh hưởng tới học bổng của sinh viên đều sẽ được thông báo tới phụ huynh và gia đình trước khi nhà trường ra quyết định rút học bổng. Nếu cần thêm thông tin liên quan đến học bổng của sinh viên, phụ huynh và sinh viên vui lòng liên hệ Bộ phận Trung tâm Dữ liệu Sinh viên qua địa chỉ email: cais@buv.edu.vn để được hỗ trợ.\\n\\nWhere do I get student’s scholarship maintenance criteria? / Phụ huynh và gia đình có thể xem điều kiện học bổng của sinh viên ở đâu?\\n\\nAnswer / Câu trả lời:\\n\\nPrior to receiving the scholarship, students are required to complete a Scholarship Acceptance Form – Terms and Conditions. It is highly recommended that students keep a copy of this form after signing so they can refer to it when needed. Alternatively, students can contact their Admission Advisor for the maintenance criteria of their scholarship if necessary. For more information related to student’s scholarship, please contact to Central Academic Information Services at email: cais@buv.edu.vn for further support.\\n\\nTrước khi nhận học bổng, sinh viên đã được yêu cầu ký giấy Đồng ý nhận học bổng với thoả thuận về Điều khoản và Điều kiện cho học bổng tương ứng. Sinh viên cần giữ một bản sao của văn bản này để tiện tra cứu sau này. Trong trường hợp sinh viên không có bản sao, có thể liên lạc với nhân viên Tư vấn tuyển sinh phụ trách để nhận được danh sách điều kiện cho học bổng tương ứng của sinh viên. Nếu cần thêm thông tin liên quan đến học bổng của sinh viên, phụ huynh và sinh viên vui lòng liên hệ Bộ phận Trung tâm Dữ liệu Sinh viên qua địa chỉ email: cais@buv.edu.vn để được hỗ trợ.\\n\\nHow do students have lunch at BUV if they have to study a full day? / Sinh viên có thể ăn trưa ở đâu trong những ngày có lịch học cả ngày tại trường?\\n\\nAnswer / Câu trả lời:\\n\\nStudents are welcome to bring their lunch or buy a freshly made meal at “Student Hub & Food Court” and enjoy it with their friends and classmates.\\n\\nOur new modern design and spacious “Student Hub & Food Court” brings students high standard, serviceable and desirable catering services, and space for activities during all time spent on Campus.\\n\\nHours of operation:\\n\\nWeekdays:\\n\\nFrom 08:00 to 18:00;\\n\\nBreakfast from 08:00 to 10:30;\\n\\nLunch from 10:30 to 14:00;\\n\\nAfternoon snack, panini, noodles… from 14:00 to 18:00.\\n\\nWeekend operations are associated with actual activities and events with limited menus.\\n\\nThe Food Court, or the friendly name of the canteen, operates as self-service and caters to the basic needs of students, employees, and guests visiting the campus for meals, snacks, and drinks for dine in or takeaway. The canteen strives to provide nutritious choices, a safe and sanitary environment, professional service, and an enjoyable dining experience.\\n\\nBUVers can scan QR code to get the weekly menus updated at the weekend and contribute valuable advice to the Campus Service Centre about Catering services.\\n\\nIn our continuous efforts to foster a greener campus and promote sustainability, we are introducing a significant change that we will use multifunctional Student ID card. This means that you will now have the convenience of accessing both campus facilities and catering services through a single card, streamlining your experience.\\n\\nHere\\'s how the multifunctional Student ID card will benefit you and the environment:\\n\\nSave time: Improving speed of payment in Student Hub and Food Court which saves time for you and limits waiting for your friends by tapping your Student ID card to make purchases.\\n\\nReduced Plastic Usage: By integrating the Student ID Card and Meal Card functionalities, we are significantly reducing the need for plastic cards, minimizing our environmental footprint.\\n\\nEnhanced Convenience: With just one card to manage, you\\'ll no longer need to carry multiple cards or worry about misplacing them. The new combine card will offer seamless access to academic buildings, libraries, labs, and dining areas.\\n\\nEco-Friendly Practices: This change reflects our commitment to sustainable practices and encourages the adoption of greener technologies among our student community.\\n\\nYou can top up the Student ID Card by POS at Student Hub and Food Court or top up online via website.\\n\\nAccess link: https://adenvn-schools.com/en/\\n\\nUsername: Please enter “300” + Student ID number\\n\\nPassword: Please enter your password.\\n\\nIn the first-time login, password =123456 (change password is required at the first login to system).\\n\\nFor example: Your Student ID number is HAN12345678.\\n\\nYour Username = 300 HAN12345678\\n\\nFirst password = 123456\\n\\nIf lose your student ID card, kindly inform the Student Information Office to reissue. Your lost card will be temporarily locked, balance will be transferred to the new one new card that password will be reset to “123456”.\\n\\nThey can also choose to have their meals at any eatery outlet within Ecopark. It is only a short bus ride (5 - 7 minutes) from BUV to the center residence and recreation areas of Ecopark. More information can be found via the links below:\\n\\nEcopark map and transportation: https://ecoparker.com/ban-do-ecopark\\n\\nRestaurant and Convenience services: https://ecopark.com.vn/ecoone-applicationen.html\\n\\nSinh viên có thể mang cơm đến trường hoặc mua suất ăn trưa và nghỉ ngơi tại khu vực “Student Hub & Food Court” với dịch vụ ăn uống thuận tiện và không gian rộng rãi.\\n\\nThời gian mở cửa:\\n\\nCác ngày trong tuần:\\n\\nTừ 08h00 đến 18h00;\\n\\nĂn sáng từ 08h00 đến 10h30;\\n\\nĂn trưa từ 10h30 đến 14h00;\\n\\nĐồ ăn vặt, panini, mì… từ 14h00 đến 18h00.\\n\\nCuối tuần: dựa trên các hoạt động và sự kiện.\\n\\nFood Court hay còn gọi là canteen, hoạt động theo hình thức tự phục vụ và đáp ứng nhu cầu ăn uống tại chỗ hoặc mang đi của sinh viên, nhân viên, khách đến thăm trường. Canteen cung cấp các món ăn bổ dưỡng, môi trường an toàn và sạch sẽ, dịch vụ chuyên nghiệp và trải nghiệm ăn uống thú vị.\\n\\nSinh viên có thể quét mã QR để xem thực đơn hàng tuần được cập nhật vào cuối tuần và đóng góp ý kiến về dịch vụ ăn uống tại “Student Hub & Food Court”.\\n\\nVới nỗ lực tạo ra một khuôn viên xanh, bền vững, Nhà trường đã tích hợp các loại thẻ thành một thẻ duy nhất cho dịch vụ ăn uống và cơ sở vật chất tại trường, đó là thẻ Sinh viên đa chức năng.\\n\\nThẻ Sinh viên đa chức năng mang lại lợi ích như sau:\\n\\nTiết kiệm thời gian: Quẹt thẻ Sinh viên đa chức năng sẽ giúp thanh toán nhanh chóng, tiết kiệm thời gian và hạn chế phải chờ đợi.\\n\\nGiảm việc sử dụng nhựa: Khi sử dụng thẻ Sinh viên đa chức năng, Nhà trường đang giảm đáng kể nhu cầu về thẻ nhựa và giảm thiểu tác động xấu đến môi trường.\\n\\nNâng cao sự tiện lợi: Sinh viên sẽ không còn cần phải mang theo nhiều thẻ hoặc lo lắng về việc mất thẻ. Thẻ Sinh viên đa chức năng cấp quyền truy cập phòng học chức năng, thư viện, và dịch vụ ăn uống.\\n\\nThân thiện với môi trường: Sự thay đổi này thể hiện sự quyết tâm của Nhà trường trong việc việc áp dụng các công nghệ xanh hơn trong cộng đồng.\\n\\nSinh viên có thể nạp tiền vào thẻ Sinh viên đa chức năng bằng POS tại Food Court hoặc nạp tiền trực tuyến qua trang web.\\n\\nTruy cập link: http://adenvn-schools.com/vi\\n\\nTên tài khoản: Vui lòng nhập “300”+ Mã số thẻ sinh viên\\n\\nMật khẩu: Vui lòng nhập mật khẩu của bạn.\\n\\nVới lần đầu tiên đăng nhập, mật khẩu là 123456 (sinh viên vui lòng đổi password ngay từ lần đăng nhập đầu tiên).\\n\\nVí dụ: Mã số thẻ sinh viên của bạn là HAN12345678\\n\\nTên tài khoản đăng nhập website canteen = 300HAN12345678.\\n\\nMật khẩu mặc định ban đầu = 123456\\n\\nLưu ý: Nếu sinh viên làm mất và làm lại thẻ, mật khẩu được đặt lại thành mật khẩu mặc định ban đầu = “123456”. Sinh viên vui lòng thông báo cho phòng Thông tin Sinh viên để được hỗ trợ khóa thẻ và làm lại thẻ Sinh viên. Thẻ mới sẽ giữ nguyên số dư và lịch sử giao dịch.\\n\\nNếu thời gian cho phép, sinh viên có thể vào khu trung tâm Ecopark (chỉ từ 5 -7 phút đi xe) để có thêm lựa chọn về ẩm thực. Thông tin chi tiết về các quán ăn tại Ecopark có thể được tìm ở đây:\\n\\nEcopark bản đồ và hướng dẫn đi lại: https://ecoparker.com/ban-do-ecopark\\n\\nNhà hàng và các các quán ăn: https://ecopark.com.vn/ecoone-applicationen.html\\n\\nCan students book campus facilities for self-studying? What is the process? / Sinh viên có thể đăng kí học tập tại trường ngoài giờ học (tự học) không? Quy trình đăng kí như thế nào?\\n\\nAnswer / Câu trả lời:\\n\\nThe University\\'s operating hours are from 8:30 AM to 6:30 PM, from Monday to Friday (except holidays). The remaining time is specified as the University’s out-of-hours time. Students can register to access classrooms and facilities for self-study purposes in both the University’s operating and out-of-hours time. Depending on the usage status of the facilities at a time, the student\\'s registration may be approved/unapproved.\\n\\nRegister operating-hours campus facilities access:\\n\\nAccessible rooms: Upon on the room availability.\\n\\nBooking duration: Each student can use rooms for at most 1 hour per day & at most 2 hours per week.\\n\\nProcess: Students register directly at the Student Information Office at level 2. The approval for accessing the registered rooms depends on the room availability now.\\n\\nRegister out-of-hours campus facilities access:\\n\\nAccessible rooms: Upon on the room availability. For the functional rooms, the usage is upon approval by the relevant Discipline Lead.\\n\\nProcess: Students submit Out-of-hours Access Agreement form directly at the Student Information Office before 4:00 PM, from Monday to Friday. For the functional rooms, students must seek the relevant Discipline Lead’s confirmation for Out-of-hours Access Agreement form (via email or papers) before handing the mentioned form to the Student Information Office at level 2.\\n\\nGiờ hoạt động của Nhà trường được quy định từ 8 giờ 30 sáng đến 18 giờ 30 chiều, từ thứ Hai đến thứ Sáu (ngoại trừ các ngày lễ). Các khung thời gian còn lại được quy định là ngoài giờ hoạt động của Nhà trường. Sinh viên có thể đăng kí học tập tại trường trong/ngoài khung giờ hoạt động. Tùy vào tình trạng sử dụng cơ sở vật chất trong từng thời điểm, việc đăng kí sử dụng của sinh viên có thể được phê duyệt/không được phê duyệt.\\n\\nĐăng kí sử dụng các cơ sở vật chất của Nhà trường trong khung giờ hoạt động:\\n\\nDanh sách phòng có thể sử dụng: Theo tình trạng phòng trống.\\n\\nThời lượng sử dụng: Mỗi sinh viên có thể sử dụng phòng tối đa 1 giờ trong một ngày, và tối đa 2 giờ trong một tuần.\\n\\nQuy trình đăng kí: Sinh viên đăng kí trực tiếp tại Bộ phận Thông tin Sinh viên trong vòng 1 ngày trước thời điểm sử dụng. Tùy vào tình hình phòng trống, việc đăng kí sẽ được chấp thuận/không được chấp thuận.\\n\\nĐăng kí học tập tại trường ngoài giờ học:\\n\\nDanh sách phòng có thể sử dụng: Phòng học 24/7, phòng học (phòng 3-4, 4-5, 3-6, 3-7, 3-8, 3-9) và các phòng chức năng. Với phòng chức năng, cần có sự phê duyệt của Trưởng bộ môn.\\n\\nQuy trình đăng kí: Sinh viên điền và gửi đơn Đăng kí học tập tại trường ngoài giờ học trực tiếp tại Bộ phận Thông tin Sinh viên trước 4 giờ chiều, từ thứ Hai đến thứ Sáu. Đối với Phòng chức năng, sinh viên cần xin xác nhận của Trưởng bộ môn trên đơn (qua email hoặc chữ kí tươi) trước khi nộp tại Bộ phận Thông tin Sinh viên.\\n\\nBUS SERVICE\\n\\n1\\\\. Can we have information about BUV bus services and how students get to school? Do we have to register when using buses? / Tôi muốn biết thêm thông tin về dịch vụ xe buýt của BUV. Sinh viên có phải đăng ký để sử dụng dịch vụ này hay không?\\n\\nAnswer / Câu trả lời:\\n\\nThe BUV Bus is a student’s support service without any registration fee. However, at the beginning of semester, new students would be asked to register for BUV bus service so that Transportation Team could understand the demand and arrange the suitable bus routes. BUV provides bus routes from designated points in 04 districts of Hanoi direct to BUV Campus such as Hai Ba Trung, Cau Giay, Tay Ho, Ha Dong and Ecopark area. The weekday schedule will be sent to students on Friday weekly with the updated schedule for the week after. The weekend schedules for those attending classes or events only will be sent to relevant people on Tuesday of that week. Bus usage guidelines will be sent to students via their BUV student email before the first day of the semester or whenever there is an adjustment.\\n\\nXe buýt của BUV là lựa chọn phổ biển nhất để di chuyển tới BUV và hiện là dịch vụ hỗ trợ của nhà trường, do đó sinh viên BUV sẽ không phải trả thêm bất kỳ khoản phí nào để sử dụng dịch vụ này. Tuy vậy, vào đầu kỳ học, các sinh viên mới sẽ được yêu cầu đăng ký sử dụng dịch vụ để bộ phận Điều phối dịch vụ xe buýt nắm bắt được nhu cầu và có căn cứ sắp xếp các tuyến xe phù hợp. BUV cung cấp các tuyến xe buýt từ các điểm đã chỉ định tại 04 quận của Hà Nội (Hai Bà Trưng, Cầu Giấy, Tây Hồ và Hà Đông) và khu đô thị Ecopark đi tới khuôn viên BUV. Lịch hoạt động trong tuần của xe buýt BUV sẽ được gửi đến sinh viên vào mỗi thứ Sáu của tuần trước đó. Lịch hoạt động cuối tuần của xe buýt BUV chỉ dành cho sinh viên có lịch học hoặc sự kiện sẽ được gửi đến những người liên quan vào mỗi thứ Ba của tuần đó. Hướng dẫn sử dụng xe buýt sẽ được gửi cho sinh viên qua email trước ngày đầu tiên của kỳ học hoặc bất kỳ khi nào có điều chỉnh.\\n\\n2\\\\. What should students do if the bus does not arrive on time at the pick-up point? / Sinh viên cần làm gì nếu xe buýt không đến đúng giờ tại điểm đón?\\n\\nAnswer / Câu trả lời:\\n\\nSchool buses may arrive late at the pick-up/drop-off points due to traffic jams, accidents, prior run delays, etc. Students should arrive at the stop at least 05 - 10 minutes before the scheduled time and please notify the Transportation Team if the bus is not found. For prompt support please call our hotline number 0704 068 386 or send email to transportation@buv.edu.vn any feedback and further support.\\n\\nStudents should join the appropriate bus route information group by scanning QR code which is mentioned in each bus schedule to be promptly informed on the daily updated traffic situation of each route.\\n\\nXe buýt của trường có thể đến điểm đón/trả muộn do tắc đường, tai nạn, trễ chuyến trước, v.v. Sinh viên cần có mặt tại điểm đón trước ít nhất 5 phút và vui lòng thông báo cho Bộ phận phụ trách xe buýt nếu không thấy xe. Sinh viên có thể liên hệ số hotline 0704 068 386 để được hỗ trợ kịp thời hoặc để lại phản hồi và yêu cầu các hỗ trợ khác đến hòm thư transportation@buv.edu.vn.\\n\\nSinh viên nên quét mã QR trong lịch xe buýt gửi hàng tuần để tham gia vào các nhóm mà Bộ phận phụ trách xe buýt đã lập ra để hàng ngày nhận được những thông tin cập nhật kịp thời nhất của tuyến xe mà sinh viên quan tâm.\\n\\n3\\\\. Can BUV adjust the bus schedule to suit the student\\'s classes? / Nhà trường có thể điều chỉnh lịch trình xe buýt theo lịch học của sinh viên?\\n\\nAnswer / Câu trả lời:\\n\\nOur bus is a shuttle bus service, and the schedule is arranged according to the certain number of students having class or scheduled activities on campus with minimum changes through the semester. It is provided on a first come first served basis and students should use the nearest bus slot for their class start/end time. Unfortunately, we are now not providing a bus service for individual schedules or a small number of students but for the majority. You can utilise campus facilities for self-study or extracurricular activities outside while waiting for the bus. Besides, you can use Eco bus to travel from Hanoi to BUV and vice versa.\\n\\nDịch vụ xe buýt của nhà trường vận hành theo chuyến và được xếp lịch phụ thuộc vào số lượng sinh viên tham gia học tập và sinh hoạt tại trường. Lịch xe sẽ hạn chế tối thiểu việc thay đổi lịch trình trong suốt kỳ học. Xe buýt được vận hành theo nguyên tắc “Ai đến trước, được phục vụ trước” nên sinh viên cần lựa chọn lịch trình gần nhất với giờ đến lớp/giờ tan học của mình. Nhà trường hiện tại chưa thực hiện dịch vụ xe buýt theo nhu cầu cá nhân hoặc một nhóm nhỏ sinh viên. Sinh viên có thể sử dụng các tiện ích khác của trường hoặc tham gia các hoạt động ngoại khóa trong thời gian chờ xe buýt. Ngoài ra, sinh viên có thể lựa chọn sử dụng dịch vụ xe buýt của Ecopark (Ecobus) để di chuyển từ Hà Nội đến BUV và ngược lại.\\n\\nREGISTRY\\n\\nWhen & how can I receive student’s result this semester? / Khi nào sinh viên có kết quả học kì này và có thể xem kết quả đó ở đâu?\\n\\nAnswer / Câu trả lời:\\n\\nIf students study BUV programme, student’s grades are available around 10 weeks after the semester’s final assessments period. Central Academic Information Services (CAIS) team will send the students’ results via email to both the parents and the students.\\n\\nNếu sinh viên theo học chương trình BUV, kết quả của sinh viên mỗi kỳ sẽ có khoảng 10 tuần sau đợt thi cuối kỳ của sinh viên. Trung tâm Dữ liệu Sinh viên sẽ gửi kết quả học tập qua email cho cả phụ huynh và sinh viên.\\n\\nHow can I read and understand students’ transcripts? / Làm thế nào để đọc và hiểu bảng điểm của sinh viên?\\n\\nAnswer / Câu trả lời:\\n\\nThe official results are issued to students in English as BUV is an international university. Parents also receive the same transcript as the one sent to students, and we will include in the email body a Vietnamese explanation of terminology & symbols used in the transcript. Please use this explanation for your reference to read and understand the transcript. If you would like a more detailed explanation and overview of the transcript, please contact our Central Academic Information Services (CAIS) team at cais@buv.edu.vn CAIS team will contact you within 1 working day to provide further explanation.\\n\\nNhư Quý phụ huynh đã biết, trường Đại học Anh quốc Việt Nam là đại học quốc tế và bảng điểm được cấp cho sinh viên phải sử dụng tiếng Anh. Do đó, phụ huynh cũng sẽ nhận được bảng điểm giống sinh viên qua email, cùng với bảng chú thích Tiếng Việt các thuật ngữ và ký hiệu chính trong bảng điểm. Phụ huynh có thể sử dụng bảng chú thích này để đọc bảng điểm của sinh viên. Nếu phụ huynh cần cán bộ chuyên môn của nhà trường giải thích chi tiết bảng điểm của sinh viên bằng tiếng Việt qua điện thoại, vui lòng liên hệ Trung tâm Dữ liệu Sinh viên (CAIS) qua địa chỉ email cais@buv.edu.vn. Văn phòng Trung tâm Dữ liệu Sinh viên sẽ tiếp nhận câu hỏi và liên hệ lại phụ huynh trong vòng 1 ngày làm việc để hỗ trợ.\\n\\nWhat is the progression condition at BUV? / Điều kiện được lên lớp ở BUV là gì?\\n\\nAnswer / Câu trả lời:\\n\\nAccording to Circular No. 08/2021/TT-BGDDT dated March 18, 2021 of the Minister of Education and Training, at the end of each school year, students are assessed to have achieved normal academic progress and are allowed to progress to the next year if both of the following conditions are met:\\n\\na) The school year average score is at least 1.0 for the first year of study, from 1.2 or higher for the second year and from 1.4 for the third year onwards;\\n\\nb) The number of outstanding credits from the beginning of the course does not exceed 16.\\n\\nTheo Thông tư số 08/2021/TT-BGDĐT ngày 18 tháng 3 năm 2021 của Bộ trưởng Bộ Giáo dục và Đào tạo, Cuối mỗi năm học, sinh viên được đánh giá đạt tiến độ học tập bình thường và được học tiếp lên năm học sau nếu đạt cả hai điều kiện sau:\\n\\na) Điểm trung bình năm học đạt từ 1,0 trở lên đối với năm học thứ nhất, từ 1,2 trở lên đối với năm thứ hai và từ 1,4 đối với năm thứ ba trở đi;\\n\\nb) Số tín chỉ nợ đọng từ đầu khóa không vượt quá 16.\\n\\nHow resits at BUV are regulated and what would happen if student fails the resit(s)? How many resits can the student attempt? / Quy định cho việc thi lại ở BUV như thế nào và nếu sinh viên trượt bài thi lại thì chuyện gì sẽ xảy ra? Sinh viên có thể thi lại bao nhiêu lần?\\n\\nAnswer / Câu trả lời:\\n\\nIf students do not attempt or did not get an average pass mark for the module and the Board decision is that the students are required to complete a referral, he/she would be given a deadline to submit a new assessment task to complete the module. This is called a re-sit. Central Academic Information Services team will send the resit schedules via email to both the students and parents once the resit schedules are set up.\\n\\nIf a student passes the resit, he/she will be given a basic pass mark of 40% for the resit component. Late submissions will not be accepted. Students must pay the resit fee which is sent by the Finance department in line with the normal terms of the student’s account . If students fail their resit, the case will be brought to the External Examination Board to consider, and Chair of the Board will make decision on next action. The External Examination Board will base on the student’s academic performance after student takes the resit and decide student’s study plan, whether student can proceed, resit, retake module(s) or being withdrawn from the programme.\\n\\nEach student has 4 attempts of submisstion, including: (1) the 1st sit of the 1st time study, (2) the resit of the 1st time study, (3) restudy, (4) the resit of the restudy. If the student fails at the 4th attempt, the student may be fail award as directed by the Examinations Board.\\n\\nNếu sinh viên không nộp bài, không đi thi hoặc không đạt được điểm đỗ cho môn học và quyết định của Hội Đồng Khảo thí là sinh viên phải hoàn thành bài thi lại, sinh viên sẽ được giao một đề bài khác để hoàn thành môn học đó - hay còn gọi là thi lại. Trung tâm Dữ liệu Sinh viên sẽ gửi thông tin lịch thi lại qua email tới sinh viên và phụ huynh sau khi lịch thi được sắp xếp.\\n\\nNếu sinh viên đỗ bài thi lại, điểm tối đa sinh viên có thể đạt được là 40% cho bài thi lại. Sinh viên sẽ không được phép nộp bài thi lại muộn. Sinh viên sẽ cần phải nộp phí thi lại được gửi từ Phòng Tài Chính Kế Toán theo chính sách học phí và các quy định hiện hành về khoản phải thu. Nếu sinh viên trượt bài thi lại, trường hợp của sinh viên sẽ do Hội đồng Khảo thí cân nhắc và quyết định. Hội đồng Khảo thí sẽ dựa trên kết quả học tập của sinh viên sau kỳ thi lại và quyết định kế hoạch học tập cụ thể cho từng trường hợp; là sinh viên sẽ có thể tiếp tục chương trình học, cần thi lại, học lại môn hoặc không đạt điều kiện để tiếp tục học chương trình.\\n\\nMỗi sinh viên có 4 lần nộp bài, bao gồm: (1) nộp bài của lần học đầu tiên, (2) thi lại của lần học đầu tiên, (3) nộp bài của lần học lại, (4) thi lại của lần học lại. Nếu sinh viên trượt cả 4 lần nộp bài, sinh viên có thể không đủ điều kiện cấp bằng và buộc phải dừng việc học tập theo quyết định của Hội Đồng Khảo Thí.\\n\\nIf a student resits, does student’s GPA change? / Nếu sinh viên thi lại thì điểm GPA có thay đổi không?\\n\\nAnswer / Câu trả lời:\\n\\nIn case the student resits the module, the maximum resit grade of the module is the passing grade 40%. Accordingly, the VN GPA of the module is 1.\\n\\nIn case the student only needs to resit the component(s) of the module, the maximum resit grade of the component is the passing grade 40%. However, the other components\\' results remain unchanged. Therefore, the overall mark will not be limited to 40% as in the case of resit the whole module. Based on the student\\'s overall mark, the VN GPA of the module may change.\\n\\nTrong trường hợp sinh viên thi lại môn học, điểm thi lại tối đa đạt được là 40%, tức là điểm tối thiểu để đỗ môn học. Theo đó, điểm VN GPA của môn học là 1.\\n\\nTrong trường hợp sinh viên chỉ cần thi lại bài thành phần của môn học, thì kết quả cao nhất cho bài thành phần thi lại đó là 40 điểm. Tuy nhiên, kết quả các bài thành phần đã đạt giữ nguyên. Do đó, điểm tổng kết môn học sẽ không bị hạn chế ở 40 điểm như trong trường hợp thi lại môn học nêu trên. Dựa vào điểm tổng của môn học mà sinh viên đạt được, VN GPA của môn học sẽ có thể thay đổi.\\n\\nWhat if student fails a component in a 2-teaching-block module (eg. The Professional Toolkit)? Do they have to retake/resit the whole module? / Nếu sinh viên không đạt điểm đỗ cho một bài thành phần của một môn học trong 2 học kỳ (ví dụ: môn The Professional Toolkit) thì có phải học/thi lại cả môn không?\\n\\nAnswer / Câu trả lời:\\n\\nFor 2-teaching-block modules (super modules) which are studied in 2 semesters, the overall mark will be available by the end of semester 2. If the student does not get an average pass mark and the Board decision is that the student needs to complete the referral, he/she would be given a deadline to submit a new assessment task to complete the module.\\n\\nIf the failed super module only consists of one component 100% weighting, the student needs to resit the whole module.\\n\\nIf the failed super module consists of multiple components, the student only resit the failed component(s).\\n\\nIf the student fails 1 (or 2) component(s) in a super module but the overall grade is a passing mark, the student passes the module except Academic Misconduct.\\n\\nIf the components have not been attempted as the first attempt, the overall mark will be downgraded to 19 as per BUV’s academic regulation. Hence, the student fails the module and need to resit the failed component(s).\\n\\nĐối với môn học trong 2 kỳ, kết quả cuối cùng sẽ có sau khi học kỳ thứ 2 kết thúc. Nếu sinh viên không đạt điểm đỗ và quyết định của Hội Đồng Khảo thí là sinh viên phải hoàn thành bài thi lại, sinh viên sẽ được giao một đề bài khác để hoàn thành môn học đó.\\n\\nNếu môn học trong 2 kỳ không đạt bao gồm 1 thành phần 100%, sinh viên sẽ phải thi lại thành phần không đạt đó, tức toàn bộ môn học.\\n\\nNếu môn học trong 2 kỳ không đạt bao gồm nhiều thành phần, sinh viên chỉ thi lại những thành phần không đạt.\\n\\nNếu sinh viên không đạt 1 (hoặc 2) thành phần nhưng tổng điểm môn học đạt, sinh viên qua môn.\\n\\nNếu sinh viên không dự thi/ nộp bài thành phần lần đầu tiên, điểm của cả môn học sẽ tạm thời hạ xuống 19 và sinh viên phải thi lại/nộp lại bài thành phần theo quy định học thuật của trường Đại học Anh Quốc Việt Nam.\\n\\nHow are retakes at BUV regulated? / Quy định học lại ở BUV như thế nào?\\n\\nAnswer / Câu trả lời:\\n\\nIf the External Examination Board decides that student needs to retake a module, students will need to study that module again with all achieved mark wiped clean. The student will also need to pay the restudy fee for the module(s) & ensure attendance. Their mark will not be capped for the first retake attempt, but any second attempt is capped at 40% for undergraduate level. On the other hand, a student’s Academic Misconduct history is retained on file and is taken into account on further academic conduct instances.\\n\\nRegarding restudy, BUV also follows the regulation of MOET, at the time of consideration.\\n\\nNếu Hội đồng Khảo thí quyết định sinh viên cần phải học lại một hoặc nhiều môn, toàn bộ điểm số trước đó sinh đã đạt được trong môn học sẽ bị xóa khỏi hệ thống và sinh viên sẽ cần học lại môn học từ đầu khi có cơ hội kế tiếp, đảm bảo chuyên cần và thanh toán phí học lại. Khi học lại, điểm sẽ được tính như bình thường. Nếu sinh viên thi trượt và thi lại môn học lại, quy định về điểm thi lại tối đa là 40% được áp dụng. Bên cạnh đó, số lần vi phạm quy định học thuật của sinh viên sẽ được lưu tại hồ sơ và là cơ sở cho các quyết định liên quan đến vi phạm học thuật sau đó.\\n\\nQuy định học lại ở BUV, đồng thời, cũng tuân theo Quy định của Bộ giáo dục Việt Nam, có hiệu lực tại từng thời điểm.\\n\\nWhat does it mean when student is in “can’t proceed” & how will the tuition fee be settled during this period? / Sinh viên trong tình trạng “Không được lên lớp” nghĩa là sao và học phí của sinh viên trong tình trạng này sẽ thế nào?\\n\\nAnswer / Câu trả lời:\\n\\nAfter Board decision, a notification about student’s status of “can’t proceed” would be sent to parents/student who did not meet the progression conditions (According to Circular No. 08/2021/TT-BGDDT dated March 18, 2021 of the Minister of Education and Training). At the same time, the student will follow the Board decision’s to takes resit in order to recover those missing credits. It is strongly advised that parents encourage students to study sufficiently to pass the resit assessments. The resit results will then be considered in the resit Examination Board, and we will update parent the student’s status as soon as the resit results are available. Students who are in “can’t proceed” status and waiting for resit results are not allowed to attend classes of the next semester as directed by the British University Vietnam’s examinations and progression board. Once the student’s resit results are available, based on the student’s resit result & status, BUV Finance department would advise the appropriate payment plan for student’s tuition fee. If students are allowed to join the semester late through passing resit assessments as directed by the Examinations Board, the normal fees are payable, there is no reduction in fees for the missed classes. In case the student is not allowed to proceed to the next level of the program, please kindly contact BUV Credit Control Department at buv-creditcontrol@buv.edu.vn for answers to questions related to student fees.\\n\\nHowever, under certain circumstances the student may provisionally attend class until the results of their resit attempts are known, if:\\n\\nThe student submission resit deadline is before the start of the relevant semester.\\n\\nStudents submit sufficient resit attempts so that if the submissions achieve a passing grade\\n\\nthey will gain enough credits to be allowed to progress under the regulations.\\n\\nThe resit attempts are submitted before the resit student submission deadline (in other words\\n\\nthey are not late submissions).\\n\\nThe resit attempts have substance (for example they are not blank document submissions).\\n\\nThe resit examination board is held in approximately week three of the semester. Based on\\n\\nthe results achieved by the student in their resit submissions the examination board will determine if the student should continue with their current cohort or is still in a cannot proceed status and will have to leave their current cohort. The examination board, acting in the student’s best academic interest, will direct how the students who are still in a cannot proceed status should continue with their studies.\\n\\nTheo quy trình, sau khi Hội đồng Khảo thí đưa ra quyết định về kết quả học tập của sinh viên, nhà trường sẽ thông báo cho phụ huynh và sinh viên về tình trạng “Không được lên lớp” đối với sinh viên không đạt điều kiện lên lớp (Theo Thông tư số 08/2021/TT-BGDĐT ngày 18 tháng 3 năm 2021 của Bộ trưởng Bộ Giáo dục và Đào tạo). Đồng thời, sinh viên sẽ được sắp xếp thi lại theo quyết định của Hội đồng Khảo thí, theo phương án tối ưu để sinh viên có thể thi đỗ các môn hiện đang còn nợ và không ảnh hưởng đến tiến trình lên lớp của sinh viên. Phụ huynh lưu ý nhắc nhở con em mình học tập chăm chỉ hơn để đỗ bài thi lại. Kết quả của các bài thi lại sẽ được Hội đồng Khảo thí họp và thông báo đến sinh viên và phụ huynh ngay sau khi thống nhất. Sinh viên đang ở trong tình trạng “Không được lên lớp” và đang chờ kết quả thi lại sẽ không được tham gia học tập theo thời khóa biểu của kỳ học mới theo quyết định của Hội đồng khảo thí Đại học Anh Quốc Việt Nam. Căn cứ vào kết quả thi lại của sinh viên, nhà trường sẽ có thông báo cụ thể đến phụ huynh về kế hoạch học tập và học phí. Nếu sinh viên đã trả đủ số tín chỉ cần thiết vàđược phép lên năm tiếp theo trong chương trình theo quyết định của Hội Đồng Khảo Thí, mức học phí tiêu chuẩn cho cả kỳ học sẽ vẫn áp dụng cho sinh viên. Trong trường hợp sinh viên không đủ điều kiện để lên năm tiếp theo của chương trình, phụ huynh/sinh viên xin vui lòng liên hệ Phòng Tài Chính Kế Toán tại buv-creditcontrol@buv.edu.vn để được giải đáp những câu hỏi liên quan đến học phí của sinh viên.\\n\\nTuy nhiên, trong một số trường hợp nhất định, sinh viên có thể dự thính lớp học hiện tại cho đến khi biết kết quả của lần thi lại, nếu:\\n\\nThời hạn nộp bài thi lại của sinh viên là trước khi bắt đầu học kỳ mới.\\n\\nSinh viên đã nộp đầy đủ các bài thi lại theo yêu cầu để nếu các bài thi lại đó đạt điểm đỗ, sinh\\n\\nviên sẽ đạt đủ số tín chỉ để được phép học tiếp theo quy định.\\n\\nSinh viên phải nộp các bài thi lại trước thời hạn nộp bài (nói cách khác là bài thi lại không được\\n\\nnộp muộn).\\n\\nCác bài thi lại được nộp phải có nội dung (ví dụ: bài luận không nộp giấy trắng).\\n\\nHội đồng Khảo thí sẽ được tổ chức vào khoảng tuần thứ ba của học kỳ. Dựa trên kết quả mà\\n\\nhọc sinh đạt được khi nộp bài thi lại, hội đồng Khảo thí sẽ xác định xem học sinh có được tiếp tục học với lớp hiện tại hay vẫn ở trạng thái không được lên lớp và sẽ phải rời khỏi lớp hiện tại. Hội đồng Khảo thí, căn cứ trên nguyên tắc lợi ích học tập tốt nhất của sinh viên, sẽ đưa ra kế hoạch học tập cho giai đoạn tiếp theo đối với các sinh viên trong trạng thái không được lên lớp.\\n\\nHow can students maintain their scholarship/bursary? If students fail any modules, how’s that going to affect their scholarship? / Làm thế nào để sinh viên duy trì học bổng? Nếu sinh viên trượt môn thì có ảnh hưởng đến học bổng của sinh viên hay không?\\n\\nAnswer / Câu trả lời:\\n\\nThe scholarship requirements are varied among scholarship types and have been informed to the students by their Admission Advisor when receiving the scholarship. The scholarship holder also signed a scholarship acceptance letter which includes the terms and conditions. At the end each semester, all scholarship holders’ performance will be considered by a Scholarship Panel. Although the final decision will come from the Scholarship Panel before the next semester starts, students can always monitor their performance and check the scholarship condition mentioned in the scholarship agreement. Students can look at the provisional marks found in our Canvas system around 2 months after the semester’s completion. If a student’s result does not meet scholarship maintenance criteria, their scholarship will be potentially withdrawn for the next semester. Please also be advised that Academic Misconduct and other violation of rules and regulations will also be considered by the Panel and may impact the scholarship.\\n\\nMỗi loại học bổng khác nhau sẽ có điều kiện duy trì học bổng khác nhau, khi sinh viên nhận học bổng, Nhân viên tư vấn tuyển sinh đã thông báo về các điều khoản và điều kiện duy trì học bổng cũng như được ký Biên bản chấp nhận học bổng kèm các điều kiện. Vào cuối mỗi học kỳ, kết quả học tập của sinh viên học bổng sẽ được cân nhắc bởi Hội đồng Học bổng. Tuy rằng quyết định của Hội đồng Học bổng sẽ được thông báo đến sinh viên trước khi học kỳ mới bắt đầu, sinh viên có thể tự kiểm tra lại điều kiện duy trì học bổng trong biên bản đồng ý nhận học bổng. Sau khi đã hiểu rõ điều kiện học bổng, sinh viên có thể đối chiếu với kết quả tạm thời được công bố trên hệ thống Canvas của nhà trường khoảng 2 tháng sau khi kết thúc học kỳ. Sinh viên cần chú ý rằng vi phạm quy chế học thuật cũng như các hình thức vi phạm quy định khác của nhà trường cũng sẽ được Hội đồng Học bổng cân nhắc và có thể ảnh hưởng đến việc duy trì học bổng.\\n\\nWhat are the criteria for Merit award at BUV? / Tiêu chí trao thưởng về thành tích học tập xuất sắc ở BUV là gì?\\n\\nAnswer / Câu trả lời:\\n\\nThe Merit award is a special award to recognise excellent academic achievement at BUV. The award is presented to the two students from each cohort with the highest average score, from 65% and above for one semester and having no failed modules. Merit award students also need to have no violation of Academic Misconduct and Disciplinary in the applicable or subsequent semesters.\\n\\nChứng nhận thành tích học tập xuất sắc - Merit Award là một chứng nhận nhằm vinh danh các sinh viên đạt kết quả cao trong học tập mỗi kỳ tại BUV. Chứng nhận được trao cho hai sinh viên mỗi lớp có điểm trung bình trong kỳ cao nhất, phải từ 65% trở lên, và không có môn trượt. Đồng thời, sinh viên phải đảm bảo không có vi phạm học thuật hoặc kỷ luật trong học kỳ xét giải thưởng hoặc kỳ học sau đó.\\n\\nHow to calculate accumulated GPA for BUV Own Degree students? Cách tính Điểm Trung bình tích lũy GPA cho sinh viên hệ Việt Nam BUV như thế nào?\\n\\nAnswer / Câu trả lời:\\n\\nFor students who are studying BUV program, the assessment of students’ learning outcome by academic year is performed based on the grade point average (GPA) of that academic year.\\n\\nAssessments are scored on a UK scale, then BUV converts UK grades to Vietnamese grades, letter grades and VN GPA. Please kindly refer to the conversion table below:\\n\\n| UK Grade | VN Grade | Letter Grade | VN GPA |\\n| - | - | - | - |\\n| 0-39 | 0-3.90 | F | 0 |\\n| 40-49 | 4.00-5.40 | D | 1 |\\n| 50-59 | 5.50-6.90 | C | 2 |\\n| 60-69 | 7.00-8.40 | B | 3 |\\n| 70-100 | 8.5-10.00 | A | 4 |\\n\\nThe GPA is calculated:\\n\\nGPA = (VN GPA 1 x credit 1 + VN GPA 2 x credit 2 +….. VN GPA n x credit n) /Total credits (taken in one semester/year)\\n\\nĐối với sinh viên đang theo học chương trình Đại học BUV, việc đánh giá kết quả học tập của sinh viên theo kỳ học được thực hiện dựa trên điểm trung bình (GPA) của học kỳ.\\n\\nCác bài đánh giá được chấm điểm theo thang điểm của Vương quốc Anh, sau đó BUV sẽ chuyển đổi từ điểm UK sang điểm VN, điểm chữ và VN GPA. Phụ huynh/ sinh viên vui lòng tham khảo bảng quy đổi bên dưới:\\n\\n| Điểm UK | Điểm VN | Điểm bằng chữ | VN GPA |\\n| - | - | - | - |\\n| 0-39 | 0-3.90 | F | 0 |\\n| 40-49 | 4.00-5.40 | D | 1 |\\n| 50-59 | 5.50-6.90 | C | 2 |\\n| 60-69 | 7.00-8.40 | B | 3 |\\n| 70-100 | 8.5-10.00 | A | 4 |\\n\\nĐiểm trung bình GPA được tính theo công thức:\\n\\nGPA = (VN GPA 1 x số lượng tín chỉ của môn học 1 + VN GPA 2 x số lượng tín chỉ của môn học 2 + … + VN GPA n x số lượng tín chỉ của môn học n)/ tổng số tín chỉ cả kỳ học\\n\\nWhen will a student’s final GPA & classification be available? How are student’s GPA & classification calculated? What is the graduation condition? / Khi nào thì sinh viên nhận được điểm trung bình GPA cho chương trình học và xếp loại bằng? Điểm trung bình GPA và xếp loại bằng của sinh viên được tính như thế nào? Điều kiện tốt nghiệp là gì?\\n\\nAnswer / Câu trả lời:\\n\\nIf a student studies BUV programme, GPA will be calculated at the end of the programme and visible in a student’s official final transcript. A student’s final GPA and classification needs to go through a verification process and needs to be agreed by External Examination Board. Therefore, until it is ready and approved to be delivered, BUV can only provide student the provisional GPA to date. Students are classified according to their cumulative GPA as follows:\\n\\nOn 4.0 scale:\\n\\nFrom 3.6 to 4.0: Excellent;\\n\\nFrom 3.2 to close to 3.6: Good;\\n\\nFrom 2.5 to close to 3.2: Fairly Good;\\n\\nFrom 2.0 to close to 2.5: Average.\\n\\nNếu sinh viên theo học chương trình của Đại học BUV, điểm trung bình tích lũy GPA sẽ được tính sau khi chương trình kết thúc và sẽ được thể hiện trên bảng điểm chính thức cuối cùng. Điểm GPA và xếp loại tốt nghiệp của sinh viên sẽ cần phải qua quy trình xác minh chặt chẽ và được Hội đồng Khảo thí thông qua. Do đó, trước khi văn bằng và bảng điểm chính thức được thông qua và gửi đến sinh viên, BUV sẽ chỉ có thể cung cấp điểm GPA tạm thời. Sinh viên được xếp loại học lực theo điểm trung bình tích lũy như sau:\\n\\nTheo thang điểm 4:\\n\\nTừ 3,6 đến 4,0: Xuất sắc;\\n\\nTừ 3,2 đến cận 3,6: Giỏi;\\n\\nTừ 2,5 đến cận 3,2: Khá;\\n\\nTừ 2,0 đến cận 2,5: Trung bình.\\n\\nWhen can I collect students’ official transcript and degree certificate? / Khi nào thì sinh viên nhận được bảng điểm chính thức và bằng tốt nghiệp?\\n\\nAnswer / Câu trả lời:\\n\\nThere is a strict process for confirmation of a student’s grade and award which involves the External Examination Board. This Board normally takes place around 9 to 10 weeks after student’s final semester. After the student’s degree classification is confirmed and make sure that all graduation conditions are met, BUV will proceed with Official Transcript and Certificate printing. This process normally takes up to 6-8 weeks after the final official results are available. We will inform students by email when the Official Transcript and Certificate are ready to pick up.\\n\\nQuy trình kiểm tra, xác nhận và in văn bằng, bảng điểm của sinh viên được quản lý nghiêm ngặt bởi Hội đồng Khảo thí. Hội đồng Khảo thí này thường diễn ra khoảng 9 đến 10 tuần sau kỳ học cuối của sinh viên. Sau khi xếp loại tốt nghiệp của sinh viên được xác nhận, cũng như sinh viên đã đạt đủ các điều kiện tốt nghiệp, Nhà trường sẽ tiến hành in bằng tốt nghiệp và bảng điểm chính thức của sinh viên. Quy trình này thường kéo dài khoảng 6-8 tuần kể từ ngày điểm chính thức được công bố. Nhà trường sẽ thông báo qua email ngay khi bảng điểm và bằng tốt nghiệp được chuyển đến BUV để sinh viên đến nhận.\\n\\nHow can students have a copy or a re-issued version of the transcript/degree certificate? / Làm thế nào để sinh viên có thể xin bản sao hoặc xin cấp lại bảng điểm chính thức hoặc bằng tốt nghiệp?\\n\\nAnswer / Câu trả lời:\\n\\nIf the students who are studying BUV program, the University Degree is only issued once. Parents/students can request a copy of the Degree by using the email registered at BUV to send a request to the Central Academic Information Services at cais@buv.edu.vn. The email must clearly state the request for a copy of the University Degree, which provides information about the issued University Degree and attach a certified scanned copy of the identity card or citizen identification or valid passport of the student.\\n\\nĐối với sinh viên đang theo học chương trình đại học BUV, Bằng tốt nghiệp chỉ được cấp 1 lần. Phụ huynh/sinh viên có thể yêu cầu cấp bản sao Bằng tốt nghiệp bằng cách sử dụng email đã đăng ký với BUV để gửi thư yêu cầu cho Trung tâm Dữ liệu sinh viên tại địa chỉ cais@buv.edu.vn. Nội dung email ghi rõ đề nghị cấp bản sao Bằng đại học trong đó cung cấp các thông tin về Bằng đại học đã được cấp và đính kèm bản scan có chứng thực giấy chứng minh nhân dân hoặc căn cước công dân hoặc hộ chiếu còn giá trị sử dụng của sinh viên.\\n\\nCan parents or siblings collect the certificate and transcript for student? Or can BUV send student’s original certificate and transcript via post? / Liệu phụ huynh hoặc người nhà có thể đến nhận bằng tốt nghiệp và bảng điểm thay cho sinh viên không? Hoặc liệu BUV có thể gửi bằng tốt nghiệp và bảng điểm cho sinh viên qua đường bưu điện?\\n\\nAnswer / Câu trả lời:\\n\\nFor students who study BUV program, their wet signature is required on the Original register of bachelor certificates when they collect the graduation documents at the University. Therefore, BUV students need to collect the graduation certificate and transcript at the university by themselves.\\n\\nĐối với sinh viên theo học chương trình BUV, sinh viên được yêu cầu ký vào sổ gốc cấp văn bằng khi đến nhận giấy tờ tốt nghiệp tại trường. Do đó, sinh viên phải trực tiếp đến trường nhận Bằng và Bảng điểm của mình.\\n\\nWhat is the late submission regulation at the University?/ Quy định nộp bài muộn ở Trường là gì?\\n\\nAnswer / Câu trả lời:\\n\\nThe students have 1 week for late submission if it is your 1st attempt .\\n\\nWarning - Penalty for Late submission for Undergraduate:\\n\\n\\\\+ 40 or higher: The grade is capped at the passing mark of 40.\\n\\n\\\\+ Under 40: The grade is capped at 1 and the overall mark is capped at 19.\\n\\nLate submissions are not accepted for resit submissions.\\n\\nSinh viên có 1 tuần để nộp bài muộn nếu đó là lần nộp bài đầu tiên của sinh viên.\\n\\nCảnh cáo – Hình phạt nộp bài muộn đối với sinh viên đại học:\\n\\n\\\\+ Sinh viên đạt 40 điểm trở lên: Điểm học phần nộp muộn bị quy về 40 điểm\\n\\n\\\\+ Sinh viên đạt điểm dưới 40: Điểm học phần nộp muộn quy về 1 điểm và điểm tổng môn học quy về 19 điểm.\\n\\nViệc nộp bài muộn cho lần thi lại sẽ không được chấp nhận.\\n\\nDoes the University provide information of graduation ranking?/ Trường có cung cấp thông tin xếp hạng điểm tốt nghiệp của sinh viên không?\\n\\nAnswer / Câu trả lời:\\n\\nBritish University Vietnam doesn\\'t have the graduated GPA ranking, so if the student needs the reference letter for the higher education, please email toBUV Careers Services Teamat se@buv.edu.vn for their support.\\n\\nTrường Đại học Anh Quốc Việt Nam không xếp hạng điểm tốt nghiệp của sinh viên, do đó nếu sinh viên cần thư giới thiệu để đăng ký học cao học, sinh viên vui lòng liên hệ với Bộ phận Dịch vụ Hướng nghiệp qua email se@buv.edu.vn để được hỗ trợ.\\n\\nCan students/parents have student’s exam schedule for this semester? / Phụ huynh/sinh viên có thể xin lịch nộp bài và lịch thi của sinh viên cho học kỳ này không?\\n\\nAnswer / Câu trả lời:\\n\\nThe assessment schedule for each semester (including assignment and examination) are normally informed to student at the beginning of the semester on Canvas Learning Management system. Detailed examination time frame and location shall be informed to student between week 9 and week 10 of the semester by email. Although it is scheduled, examination dates may be changed due to uncontrollable factors; students are advised not to book any personal travel arrangement until the end of the examination period (week 16 of the semester).\\n\\nThe assessment dates by modules are also provided to all parents during the Parents meeting period in the 6th week of each semester.\\n\\nLịch nộp bài và lịch thi cho mỗi kỳ sẽ được thông báo tới sinh viên đầu kỳ học trên hệ thống quản lý học tập Canvas. Giờ thi chính xác và phòng thi sẽ được thông báo tới sinh viên vào khoảng giữa tuần 9 và tuần 10 mỗi kỳ qua email. Ngày thi có thể thay đổi vì những lý do không thể dự kiến trước, do đó sinh viên được khuyến cáo không nên đặt bất cứ lịch trình du lịch nào cho đến khi giai đoạn thi chính thức kết thúc (tuần 16 của kỳ học).\\n\\nLịch nộp bài và lịch thi của từng môn cũng được gửi đến tất cả phụ huynh trong giai đoạn họp phụ huynh vào khoảng tuần 6 mỗi kỳ.\\n\\nStudent wishes to take individual rather than group assessments, is this possible? / Sinh viên muốn làm bài cá nhân thay cho việc làm bài nhóm thì có được không?\\n\\nAnswer / Câu trả lời:\\n\\nThe assessment structure is decided by the Module Descriptor by British University Vietnam and therefore the assessment type cannot be changed. However, there will be exceptional cases that might be considered due to their special circumstances and need to be approved by the university. Group work and group assessments are an important part of the employability focus of the degree. If a student is having difficulty working in a group, they should discuss any issues with their Module Leader.\\n\\nCấu trúc bài nộp của sinh viên được quyết định bởi Tài liệu Mô tả Môn học (Module Descriptor) của Đại học Anh Quốc Việt Nam và do đó, loại hình bài nộp sẽ không thể thay đổi. Tuy nhiên, đối với một số trường hợp có thể được xem xét cho phép làm bài cá nhân thay vì làm theo nhóm là do hoàn cảnh đặc biệt của sinh viên, và sẽ cần được sự phê duyệt của nhà trường. Làm việc và nộp bài nhóm là một phần rất quan trọng trong việc nâng cao khả năng làm việc nhóm và cơ hội tuyển dụng của sinh viên – yếu tố mà chương trình học rất chú trọng. Nếu gặp bất cứ khó khăn gì trong quá trình làm việc nhóm, sinh viên nên trao đổi trực tiếp với giảng viên phụ trách môn học.\\n\\nA student has been asked to attend an academic conduct meeting. What does this mean? / Sinh viên được mời tham dự cuộc họp về vi phạm học thuật, như vậy có nghĩa là gì?\\n\\nAnswer / Câu trả lời:\\n\\nWhen a student is asked to attend an academic conduct meeting, this means that he or she is suspected by BUV Academic Conduct panel of having committed an academic misconduct. As a result, he or she will be asked to attend an academic conduct meeting where he or she can put his or her side forward. Students & parents can contact the Academic Compliance Office at aca.compliance@buv.edu.vn for further explanation on this process.\\n\\nKhi một sinh viên được yêu cầu tham gia \"Họp hội đồng vi phạm học thuật\", nghĩa là Hội đồng vi phạm học thuật BUV đang nghi ngờ sinh viên đó có khả năng đã vi phạm quy định học thuật. Vì vậy, sinh viên sẽ được mời tham gia \"Họp hội đồng vi phạm học thuật\" để đưa ra ý kiến của mình về trường hợp vi phạm học thuật đang xem xét. Sinh viên và phụ huynh có thể liên hệ Bộ phận Quy chế Đào tạo qua địa chỉ aca.compliance@buv.edu.vn để được giải thích kỹ hơn về quy trình này.\\n\\nWhat is a safe similarity index when students submit assignment on Turnitin? / Số phần trăm độ tương đồng như thế nào là an toàn khi sinh viên nộp bài trên hệ thống Turnitin?\\n\\nAnswer / Câu trả lời:\\n\\nThere is no “safe” similarity index on Turnitin as it is just one of many indicators to suggest whether the student has committed academic misconduct or not. Sometimes, a paper can have a high percentage of similarity index due to the nature of the assessment. It would be the Module Leader who has created the assessment paper & understand the nature of the paper requirement to decide whether or not the student\\'s paper have violated BUV’s academic conduct regulation. On the other hand, it is also possible that a \"0\" percentage or very low similarity index is shown for a submission that contains academic misconduct issues. Ensure that the student only submits work that is 100% their own words and meets the requirement of the assessment paper.\\n\\nKhông có số phần trăm tương đồng nào là “an toàn” trên Turnitin vì đây chỉ là một trong rất nhiều biện pháp được sử dụng khi cân nhắc xem bài của sinh viên có vi phạm học thuật hay không. Đôi khi, một bài viết có thể có số phần trăm tương đồng cao do tính chất yêu cầu của đề bài. Chính giảng viên – người trực tiếp ra đề và hiểu rõ bản chất của đề bài sẽ là người cân nhắc và quyết định xem liệu bài làm của sinh viên có vi phạm các yêu cầu học thuật của BUV không. Ngược lại, những bài viết có phần trăm tương đồng bằng “0” hoặc rất thấp cũng có thể có vấn đề vi phạm học thuật. Việc sinh viên cần làm là luôn đảm bảo bài nộp 100% hoàn toàn do mình tự làm và tuân thủ theo các yêu cầu của đề bài.\\n\\nStudents submit assignment on Turnitin system and have low similarity % but later this % increase, is this an error? / Sinh viên nộp bài trên hệ thống Turnitin và nhận được số phần trăm độ tương đồng thấp, nhưng sau đó số phần trăm này lại tăng lên. Liệu đây có phải là lỗi hệ thống hay không?\\n\\nAnswer / Câu trả lời:\\n\\nThe Turnitin system generated the similarity percentage based on the available Turnitin database, online resources and student papers at the time of upload. Therefore, at the time the student initially submits their assignment, Turnitin may not have assignments of other students to compare. As other students submit their assignments, the similarity may increase if the system can detect any parts in submitted assignment that are similar with other students\\' work. This may cause the initial similarity to increase when the deadline has passed.\\n\\nThe only way to ensure a low or zero similarity is for students to write in their own words and use correct paraphrasing when they are referring to the work of academics.\\n\\nHệ thống Turnitin đưa ra tỉ lệ trùng lặp theo phần trăm (%) dựa trên dữ liệu sẵn có của Turnitin, các nguồn tài liệu trên mạng internet và các bài làm của sinh viên tại thời điểm nộp bài. Vì vậy, ban đầu khi sinh viên nộp bài, Turnitin có thể chưa nhận được bài làm của các sinh viên khác để có sự so sánh. Ngay khi những sinh viên khác nộp bài của mình, tỉ lệ trùng lặp có thể sẽ tăng lên nếu hệ thống phát hiện ra sự giống nhau giữa bài làm của sinh viên. Đây là lý do khiến cho tỉ lệ phần trăm trùng lặp ban đầu có thể sẽ tăng lên khi hết hạn nộp bài.\\n\\nCách duy nhất để đảm bảo tỉ lệ trùng lặp thấp hoặc không có trùng lặp, chính là việc sinh viên phải hiểu rõ nội dung của các bài đọc, bài nghiên cứu, từ đó viết lại hoàn toàn bằng cách viết và cách sử dụng ngôn ngữ của bản thân.\\n\\nDoes student have to take responsibility for an academic misconduct in group submission? / Sinh viên liệu có phải chịu trách nhiệm cho vi phạm học thuật trong bài nộp nhóm hay không?\\n\\nAnswer / Câu trả lời:\\n\\nFor group assessments, it is a group mark as the submission is made by the designated members. The work is to be done by all members and a single collective mark is issued. For this reason, group members have collective responsibility for the quality of the submitted work, including any academic misconduct.\\n\\nĐối với các bài nhóm, điểm bài nhóm là điểm chung cho tất cả thành viên trong nhóm. Bài đánh giá nhóm phải được thực hiện bởi tất cả các thành viên với một điểm chung duy nhất được chấm cho cả nhóm. Các thành viên trong nhóm do đó có trách nhiệm tập thể về chất lượng của bài nhóm, bao gồm cả lỗi vi phạm quy định học thuật.\\n\\nHow does academic misconduct affect a student’s academic performance & studying progress? / Việc vi phạm học thuật có thể ảnh hưởng thế nào đến kết quả học tập và lên lớp của sinh viên?\\n\\nAnswer / Câu trả lời:\\n\\nBUV strictly follows the Academic Conduct Procedure. Therefore, based on the level of instance from Minor to Major and Serious academic misconduct, the sanctions can escalate from failure of the assessment & failure of the module, to failure of the level and even failure of the award. The academic performance and study progress of student will be considered individually and decided by the Award Board and informed to students & parents. Students & parents can contact the Academic Compliance Office at aca.compliance@buv.edu.vn for further explanation & information of this procedure. Due to the severe impact of academic misconduct, students are strongly advised to follow the Academic Conduct Procedure, take part in all academic training sessions, proactively ask Programme Leader, Module Leader, Learning Support Team if in any doubt.\\n\\nBUV tuân thủ chặt chẽ các Quy định Học thuật. Do đó, đối với từng mức độ vi phạm từ nhẹ đến nặng và nghiêm trọng, hậu quả có thể từ việc sinh viên bị trượt bài, trượt môn cho đến học lại cả năm học, hoặc thậm chí là không đủ điều kiện để tiếp tục học tại trường. Kết quả học tập và tình trạng lên lớp của sinh viên sẽ được Hội đồng Khảo thí cân nhắc cho từng trường hợp và thông báo tới sinh viên và phụ huynh. Sinh viên và phụ huynh có thể liên hệ Bộ phận Quy chế Đào tạo qua địa chỉ aca.compliance@buv.edu.vn để được giải thích và hướng dẫn kỹ hơn về bộ quy định này. Do tính chất nghiêm trọng của vi phạm học thuật, sinh viên cần tuân thủ chặt chẽ bộ Quy định Học thuật, tham dự đầy đủ các buổi hướng dẫn học thuật và chủ động liên hệ thầy cô Trưởng chương trình, Giảng viên phụ trách môn học, Tổ Cố vấn học tập nếu có bất kỳ băn khoăn hay thắc mắc.\\n\\nStudents have academic misconduct; will this be displayed in transcript or degree certificate? / Sinh viên đã vi phạm quy định học thuật của nhà trường, liệu việc vi phạm này có bị ghi trong hồ sơ, học bạ, bảng điểm hoặc bằng tốt nghiệp hay không?\\n\\nAnswer / Câu trả lời:\\n\\nThe record of Academic misconduct is an internal record and will not be displayed in transcript, degree, or any document. The Academic Conduct Procedure required the panel to make a decision based on the number of academic misconduct instance, therefore we need to keep record and evidence of how many instance that occurred in the academic journey of student. Rest assured that academic misconduct as well as disciplinary record are strictly confidential information and only a very limited number of people can access, such as Chief Academic Officer and Academic Compliance Manager.\\n\\nLưu trữ bằng chứng về các lần vi phạm quy định học thuật của sinh viên là một quy trình nội bộ và không thể hiện trên bảng điểm, bằng tốt nghiệp hay bất kỳ văn bản chính thức nào về tốt nghiệp của sinh viên. Quy trình xử lý vi phạm học thuật yêu cầu Hội đồng học thuật phải cân nhắc và đưa ra quyết định dựa trên số lần sinh viên vi phạm, do đó, Nhà trường cần lưu trữ bằng chứng về các lần vi phạm trước của sinh viên trong suốt thời gian học tập. Xin quý phụ huynh và sinh viên yên tâm, các thông tin về vi phạm quy định học thuật hoặc kỷ luật đều là thông tin được bảo mật nghiêm ngặt ở mức độ cao nhất và chỉ có một số rất ít người được quyền truy cập, như Giám đốc Học vụ và Trưởng phòng Quy chế đào tạo.\\n\\nIf a student transfers to a different programme, what will happen to their academic misconduct records? / Nếu sinh viên chuyển ngành học thì những vi phạm học thuật cũ của sinh viên sẽ được tính ra sao?\\n\\nAnswer / Câu trả lời:\\n\\nWhen a student transfers between BUV programmes; or from a collaborative programme to a BUV programme; or from a BUV programme to a collaborative programme, his or her history of academic misconduct would be wiped clean.\\n\\nNếu sinh viên thay đổi chương trình học giữa các chương trình do BUV cấp bằng; hoặc từ một chương trình do đại học đối tác cấp bằng sang chương trình do BUV cấp bằng; hoặc từ một chương trình do BUV cấp bằng sang chương trình do đại học đối tác cấp bằng, lịch sử vi phạm học thuật sẽ được xóa.\\n\\nCan BUV do anything to reduce the academic misconduct of students? / Liệu BUV có thể giảm nhẹ việc vi phạm học thuật cho sinh viên?\\n\\nAnswer / Câu trả lời:\\n\\nBUV strictly follows the Academic Conduct Procedure. Academic Conduct instances are thoroughly examined by the panel whose members are experienced professionals in the field before making final decisions. Student & parent can contact the Academic Compliance Office at aca.compliance@buv.edu.vn for further explanation & instruction on this process.\\n\\nBUV tuân thủ chặt chẽ Quy định Học thuật của nhà trường. Các trường hợp nghi ngờ vi phạm học thuật đều được xem xét kĩ lưỡng bởi các thành viên hội đồng là những nhà chuyên môn có kinh nghiệm dày dặn trong lĩnh vực giáo dục đại học. Sinh viên và phụ huynh có thể liên hệ với Phòng Quy chế Đào tạo qua địa chỉ aca.compliance@buv.edu.vn để được giải thích và hướng dẫn kỹ hơn về quy trình này.\\n\\nCan students appeal Poor Academic Practice (PAP) decision? / Sinh viên có thể xin phúc tra quyết định Thực hành học thuật kém (PAP) không?\\n\\nAnswer / Câu trả lời:\\n\\nPoor Academic Practice (PAP) IS NOT academic misconduct. Poor Academic Practice happens when students have used too much of other’s work in their assessment, even when students have acknowledged, and faculty can’t tell how much students have learned for themselves. Alternatively, it may be that students haven’t understood how to reference their work properly, but there is no evidence that students have tried to gain an unfair advantage in their assessment.\\n\\nFor Poor Academic Practice, students are encouraged to proactively discuss this with the Learning Support Team and get advice on how they can improve. PAP will not be recorded in the history of student as Academic Misconduct and also will not be written in any documents, including transcript and certificate. As there is no impact or sanction, students cannot appeal to a PAP decision.\\n\\nThực hành học thuật kém (PAP) KHÔNG PHẢI LÀ vi phạm học thuật. PAP xảy ra khi sinh viên sử dụng quá nhiều trích dẫn học thuật trong bài làm của mình, kể cả khi sinh viên đã có ý thức trích dẫn nguồn tài liệu và ghi chú cụ thể theo quy định, thì việc sử dụng quá nhiều trích dẫn khiến giảng viên không thể xác định lượng kiến thức sinh viên học được. Một tình huống khác có thể xảy ra là sinh viên không hiểu rõ cách trích dẫn nguồn tài liệu và ghi chú theo quy định, tuy nhiên Hội đồng học thuật không tìm thấy bằng chứng hoặc nghi ngờ về việc sinh viên cố tình tạo ra lợi thế không công bằng trong bài làm của mình.\\n\\nĐối với các trường hợp PAP, sinh viên được khuyến khích chủ động thảo luận với Tổ Cố vấn học tập về bài làm và nhận hướng dẫn cách làm đúng để cải thiện và tránh mắc lỗi lần sau. PAP sẽ không được ghi vào lịch sử vi phạm học thuật cũng như không được ghi chép trên bất kỳ văn bản nào, như bảng điểm hay bằng tốt nghiệp. Do không có bất kỳ ảnh hưởng hay hình thức kỷ luật nào mà chỉ là một hình thức nhắc nhở, sinh viên không thể xin phúc tra một quyết định PAP.\\n\\nWhat can students/parents do if students/parents think their final mark or result should be different? / Sinh viên/gia đình nên làm gì nếu chúng tôi nghĩ điểm và kết quả cuối cùng của sinh viên có thể khác?\\n\\nAnswer / Câu trả lời:\\n\\nAll assessments are marked through a seven-step process. Students are advised to carefully read the assessment feedback on the Canvas system and if they have any queries, they can ask the Student Information Office to arrange an appointment with the Module Leader to have the grades explained. After the discussion, if students still have inquiries about their grade, they should contact the Academic Compliance Office at aca.compliance@buv.edu.vn for further instruction & support.\\n\\nTất cả các bài đánh giá của sinh viên đều được chấm điểm qua một quy trình gồm 7 bước. Do đó, sinh viên nên đọc kỹ nhận xét của từng bài trên hệ thống Canvas và đặt lịch gặp trực tiếp với giảng viên môn học để được giải đáp nếu có bất kì câu hỏi nào. Sau buổi làm việc này, nếu sinh viên vẫn còn thắc mắc về điểm, xin vui lòng liên hệ với Bộ phận Quy chế Đào tạo qua địa chỉ aca.compliance@buv.edu.vn để được hướng dẫn và hỗ trợ.\\n\\nIf students is under special situation while doing & submitting their assessments, what should we do? / Nếu sinh viên không may gặp tình huống đặc biệt khi làm và nộp bài, chúng tôi nên làm gì?\\n\\nAnswer / Câu trả lời:\\n\\nThe University understands that sometimes there are circumstances outside students’ control that have affected their ability to meet the submission deadline or perform at their best. They are what we call Exceptional Circumstances (EC) & the student can claim for this by filling out a form & submitting it along with evidence within 2 weeks of the original deadline to the Academic Compliance Office. Students can contact the team at aca.compliance@buv.edu.vn for further explanation & instruction on the process.\\n\\nNhà trường hiểu rằng đôi khi sẽ có những tình huống đặc biệt nằm ngoài tầm kiểm soát của sinh viên nhưng có thể ảnh hưởng đến việc sinh viên nộp bài, đi thi đúng giờ hoặc nộp bài đúng năng lực vốn có. Những tình huống này sẽ được gọi là những Trường hợp Ngoại lệ (Exceptional Circumstances) và sinh viên có thể xin xét trường hợp ngoại lệ bằng cách điền một mẫu đơn và gửi cùng tất cả bằng chứng có thể đến Bộ phận Quy chế đào tạo trong vòng 2 tuần kể từ hạn nộp bài hoặc ngày thi. Sinh viên có thể liên hệ qua địa chỉ aca.compliance@buv.edu.vn để được giải thích và hướng dẫn kỹ hơn về quy trình này.\\n\\nCan I have confirmation from my family, friends, or even myself as evidence for their Exceptional Circumstance claim? / Liệu xác nhận từ người thân, bạn bè hay thậm chí từ chính bản thân sinh viên có được chấp nhận như một bằng chứng hỗ trợ cho đơn xem xét Trường hợp Ngoại lệ không?\\n\\nAnswer / Câu trả lời:\\n\\nAll Exceptional Circumstance requests must be provided with eligible evidence as it enables students to gain a significant advantage over other students. Supporting evidence needs to be of a certain standard, and the University only accepts certain types or forms of evidence. This is because we need to make sure that the information comes from a source which is not directly connected to students. The information also needs to be relevant to the circumstances we are looking at and written by someone who is a specialist in the area, such as a relevant medical professional. We need evidence to be in the right format so we can be sure that it has been sent to us from the author without being changed. The evidence should be dated, and it should also show or include the dates it relates to. Therefore, we won’t accept confirmations from family, friends, or students. It’s essential that we must be able to verify that the information students have provided is correct.\\n\\nStudents are always advised to read the Student Guide to Providing Evidence carefully before submitting EC claim: https://www.staffs.ac.uk/students/course-administration/guidance-on-providing-evidence\\n\\nMọi yêu cầu xem xét Trường hợp Ngoại lệ đồng nghĩa với việc sinh viên có lợi thế không công bằng so với sinh viên khác, do đó cần phải cung cấp đầy đủ bằng chứng có thể xác thực. Điều này có nghĩa là bằng chứng phải đạt một số tiêu chuẩn nhất định và Nhà trường chỉ chấp nhật một số dạng bằng chứng phù hợp. Nguyên nhân là Nhà trường và trường đối tác cần phải xác minh thông tin từ nguồn đáng tin cậy và không bị thao túng bởi sinh viên. Bằng chứng phải có liên quan trực tiếp đến trường hợp xin ngoại lệ và phải được thực hiện bởi người có chuyên môn trong lĩnh vực, ví dụ như bác sĩ. Bằng chứng phải được cung cấp bằng định dạng chuẩn để tránh việc thông tin bị thay đổi. Bằng chứng phải có ngày giờ rõ ràng để chứng minh mối liên hệ với trường hợp được cân nhắc. Do đó, xác nhận của cha mẹ, người thân, bạn bè hay bản thân sinh viên không được công nhận do Nhà trường không thể xác minh tính chính xác của các bằng chứng này.\\n\\nSinh viên luôn được yêu cầu đọc kỹ Hướng dẫn Cung cấp Bằng chứng trước khi nộp kèm với đơn yêu cầu xem xét Trường hợp Ngoại lệ: https://www.staffs.ac.uk/students/course-administration/guidance-on-providing-evidence\\n\\nMy Exceptional Circumstance claim got upheld. What is the next step? / Sinh viên cần làm gì sau khi đơn xin xem xét Trường hợp Ngoại lệ được chấp thuận?\\n\\nAnswer / Câu trả lời:\\n\\nThe outcome of your upheld EC decision can be as below:\\n\\na. If you have submitted your work within one week of the deadline, and it’s accepted, it will be marked and counted as if it had been submitted on time.\\n\\nb. If you have failed or were unable to submit your work, you will be offered the right to be reassessed at the next opportunity, subject to another opportunity being available and the Award Board decision. The Award Board may under certain circumstances offer to condone your module mark.\\n\\nStudent are always advised to read the EC regulation here: https://www.staffs.ac.uk/students/course-administration/exceptional-circumstances\\n\\nYou will receive emails from the Central Academic Information Services (CAIS) about the resit schedule of the resit component(s) and resit fee if you are required to take resit for any module. It’s important to check your email regularly during this period of time.\\n\\nSau khi đơn xin xét Trường hợp Ngoại lệ của sinh viên được chấp thuận, kết quả có thể như sau:\\n\\nNếu sinh viên đã nộp bài trong vòng 1 tuần kể từ sau hạn nộp, và đơn EC được chấp thuận, bài làm sẽ được chấm và tính như bài nộp đúng hạn.\\n\\nNếu sinh viên thi trượt hoặc không có khả năng nộp bài, sinh viên sẽ được Hội đồng Khảo thí sẽ quyết định cho sinh viên thi lại hoặc học lại ở cơ hội tiếp theo, tùy thuộc vào cơ hội có sẵn và quyết định của Hội đồng Khảo thí. Trong một số trường hợp nhất định, Hội đồng Khảo thí có thể xem xét bỏ qua bài làm.\\n\\nSinh viên luôn được yêu cầu đọc kỹ chính sách của Nhà trường về Xét trường hợp ngoại lệ tại đây: https://www.staffs.ac.uk/students/course-administration/exceptional-circumstances\\n\\nSinh viên sẽ nhận được email từ Trung tâm Dữ liệu Sinh viên thông báo về lịch và phí thi lại nếu như sinh viên được yêu cầu phải thi lại. Trong khoảng thời gian này, việc kiểm tra email của sinh viên thường xuyên là rất quan trọng để không bỏ lỡ thông tin.\\n\\nSTUDENT EXPERIENCE\\n\\nIs the Internship programme at BUV compulsory to students? / Chương trình Thực tập tại BUV có bắt buộc đối với sinh viên không?\\n\\nAnswer / Câu trả lời:\\n\\nBUV study programmes encourage and enable students to take up internships in their semester break every year. From October 2021, BUV has implemented the compulsory Personal and Social Growth Programme (PSG) where students are required to have at least 1 internship in their PSG Transcript along with other activities to complete the degree and be awarded with the PSG Completion Certificate upon graduation.\\n\\nProfessional Experience Evaluation Form provided and endorsed by Employer and approved by BUV Management is required for each student after each internship, so that the internship is recorded properly in the student’s PSG Transcript.\\n\\nInternship Completion Certificate is not compulsory for the PSG Transcript and only available upon request.\\n\\nSome modules within the Staffordshire University’s academic programme also require students to complete work placements and internships to complete the module’s assessment, which is compulsory and must follow specific requirements of the modules, for example the minimum number of working hours, the company’s business/scale etc. Together with the Module Leader, BUV Career Services & Industry Relations Team also support students with internship opportunities, preparing the application documents (such as CV, Cover Letter) and interviews, providing students with consultation regarding internship choice and how to make the most from the placement, to have the most meaningful experience and respond to the module’s learning outcomes. This required work experience is a separate requirement from the PSG mentioned earlier.\\n\\nChương trình học của BUV khuyến khích và tạo điều kiện cho sinh viên đi thực tập vào các kỳ nghỉ giữa học kỳ hàng năm. Từ tháng 10 năm 2021, BUV đã triển khai Chương trình Phát triển Năng lực Cá nhân và Kỹ năng Xã hội (PSG) bắt buộc, trong đó sinh viên được yêu cầu phải có ít nhất 1 kỳ thực tập trong Bảng điểm PSG cùng các hoạt động khác để hoàn thành chương trình học Cử nhân và được cấp Chứng chỉ Năng lực Cá nhân và Kỹ năng xã hội khi tốt nghiệp.\\n\\nBản Đánh giá Chất lượng Làm việc được cung cấp bởi Công ty chủ quản thực tập và phê duyệt bởi Ban lãnh đạo của BUV là yêu cầu bắt buộc dành cho mỗi sinh viên sau mỗi kỳ thực tập. Từ đó, kỳ thực tập sẽ được ghi nhận phù hợp trong Chương trình PSG.\\n\\nGiấy chứng nhận hoàn thành thực tập không bắt buộc cho chương trình PSG và sẽ được xuất theo yêu cầu của từng cá nhân.\\n\\nMột số môn học trong chương trình học thuật chính khóa của Đại học Staffordshire cũng yêu cầu sinh viên hoàn thành một số trải nghiệm làm việc và thực tập để hoàn thành bài kiểm tra đánh giá của môn học. Trong trường hợp đó, việc trải nghiệm làm việc/thực tập là bắt buộc và phải tuân theo các yêu cầu cụ thể của môn học, ví dụ như số giờ làm việc tối thiểu, quy mô hoạt động, hình thức kinh doanh của công ty… Giáo viên phụ trách bộ môn cùng với Đội ngũ Hướng nghiệp sẽ hỗ trợ sinh viên trong việc tìm kiếm cơ hội thực tập, chuẩn bị hồ sơ ứng tuyển (CV và Thư ứng tuyển), chuẩn bị phỏng vấn, và tư vấn lựa chọn kỳ thực tập phù hợp và cách thức để tận dụng hiệu quả kỳ thực tập, đảm bảo sinh viên có trải nghiệm ý nghĩa nhất và đáp ứng được yêu cầu giảng dạy của môn học. Những trải nghiệm làm việc trong môn học là yêu cầu riêng biệt vớiyêu cầu thực tập trong khuôn khổ Chương trình PSG để cập bên trên.\\n\\nHow does BUV support students with their internships? / Sinh viên được BUV hỗ trợ trong công tác thực tập như thế nào?\\n\\nAnswer / Câu trả lời:\\n\\nDuring the student journey at BUV and in all internship semesters, the BUV Careers Services & Industry Relations Team provides students with a full array of support areas from application preparation, consultation during the internship period, as well as guidance upon completion of internship.\\n\\nDuring preparation, students are provided with:\\n\\nA variety of internship opportunities promoted via the Job Portal on BUV Student Portal: https://student.buv.edu.vn/ and Facebook Fanpage BUV Career Services;\\n\\nSeveral workshops and 1-1 consultation sessions throughout the semester about internship choices; preparing internship application documents, including but not limited to CV and Cover Letter, Mock Interview & Interview tips.\\n\\nIt is essential and critical for students to check if one opportunity is suitable for them (job requirements, working time, etc.) and carefully prepare their application materials before submitting the materials through the job portal to enhance their chance of employment.\\n\\nDuring the internship period, BUV Career Services & Industry Relations Team will constantly support students with any issues which may arise and give students guidance to familiarise with the new working environment and adapt with business settings to successfully complete the internship while delivering an ambassador image of BUV students to the employers.\\n\\nAfter the internship is completed, students will be provided with the necessary assistance to professionally end the internship and guidance of how to get their internship recorded properly in the PSG Programme. The Career Services & Industry Relations Team will also receive and review the Professional Experience Evaluation Form to record the students’ strengths and weaknesses for future support. The Certificate of Internship Completion is available upon request of each student.\\n\\nThough we provide full service for the internship placement, we aim to empower our students to be responsible for their decisions and actions. We provide them with professional and dedicated career guidance in each step, instead of forcing individual students to go for an internship or stepping in to do the job for them. BUV aims to create responsible, proactive, and empowered graduates who are willing to take up the opportunities and be ready for their future.\\n\\nTrong suốt hành trình của sinh viên tại BUV và trong tất cả các kỳ thực tập, bộ phận Dịch vụ Hướng nghiệp cung cấp đầy đủ sự hỗ trợ trong việc chuẩn bị hồ sơ ứng tuyển, tư vấn trong quá trình thực tập, cũng như những sự hướng dẫn cần thiết khi sinh viên kết thúc một kỳ thực tập\\n\\nTrong quá trình chuẩn bị, sinh viên nhận được các hỗ trợ như sau:\\n\\nCơ hội thực tập: Các cơ hội thực tập đa dạng sẽ được truyền thông tới các bạn sinh viên qua Cổng thông tin việc làm trên Cổng thông tin sinh viên: https://student.buv.edu.vn/ và kênh mạng xã hội: Facebook Fanpage BUV Career Services.\\n\\nHoạt động hướng nghiệp & Tư vấn cá nhân: Sinh viên có cơ hội tham gia các hoạt động hướng nghiệp nhận được sự tư vấn về các lựa chọn cơ hội thực tập, chuẩn bị hồ sơ ứng tuyển thực tập (VD: CV, đơn ứng tuyển…), phỏng vấn thử và các bí kíp phỏng vấn.\\n\\nĐiều quan trọng nhất trong quá trình chuẩn bị, đó là sinh viên cần chủ động lựa chọn cơ hội phù hợp với mình dựa trên mô tả công việc, yêu cầu công việc, thời gian làm việc… và chuẩn bị hồ sơ ứng tuyển cẩn thận trước khi nộp đơn cho các công ty thông qua Cổng thông tin. Trong thời gian thực tập, bộ phận Dịch vụ Hướng nghiệp sẽ luôn hỗ trợ sinh viên trong các vấn đề nảy sinh và hướng dẫn sinh viên làm quen với môi trường làm việc mới, thích nghi với bối cảnh làm việc (các môi trường làm việc đặc thù khác nhau) để các bạn có thể hoàn thành tốt kỳ thực tập, đồng thời trở thành một hình ảnh đại diện tích cực của sinh viên BUV trong mắt Nhà tuyển dụng.\\n\\nSau kỳ hoàn thành kỳ thực tập, sinh viên sẽ được hướng dẫn cách thức để có thể kết thúc kỳ thực tập với tác phong chuyên nghiệp và cách thức để được ghi nhận điểm PSG phù hợp. Bộ phận Dịch vụ Hướng nghiệp cũng sẽ tiếp nhận và xem Bản Đánh giá Chất lượng Làm việc để ghi nhận những thế mạnh và điểm cần cải thiện của từng bạn để có thể hỗ trợ phù hợp trong tương lai. Giấy Chứng nhận Hoàn thành Thực tập sẽ chỉ được xuất nếu sinh viên yêu cầu.\\n\\nMặc dù BUV cung cấp đầy đủ dịch vụ và sự hỗ trợ liên quan đến công tác thực tập, chúng tôi luôn hướng tới việc trao quyền cho các bạn sinh viên chịu trách nhiệm về các quyết định và hành động của chính mình. Chúng tôi hướng nghiệp cho các bạn với sự chuyên nghiệp và tận tâm trong từng bước, thay vì ép buộc từng cá nhân sinh viên đi thực tập hoặc ngay lập tức can thiệp “xử lý hộ” vấn đề cho các bạn. BUV hướng tới việc tạo ra những thế hệ sinh viên có trách nhiệm, chủ động, và tự chủ, những con người sẵn sàng đón nhận các cơ hội và sẵn sàng cho tương lai của mình.\\n\\nCan first year students go for internships? / Sinh viên năm nhất có thể đi thực tập được không?\\n\\nAnswer / Câu trả lời:\\n\\nBUV students can go for an internship from Year 1 during their first semester break if they are determined and readily equipped. Many BUV students in previous years received an internship right after their first or second semester at BUV. However, we understand that for Year 1 students, the internships are more about getting familiar with a business world and working life, learning business etiquettes and workplace skills. Their specialised knowledge, technical skills and transferable skills are at the foundation level and will need time to cumulate and learn new things.\\n\\nTherefore, we highly recommend Year 1 students:\\n\\nNot to limit their options within their specialised internships but broaden their opportunities to what they want to learn in any industry and explore the world of work to find out their best interests, strengths, passion, and a career decision after several exciting trials.\\n\\nNot to feel pressured if they don’t get an internship in Year 1. There are several other approaches to equip more skills and expeirence, and explore self and careers, such as joining PSG Semester training and workshop series, student projects, skill courses, volunteer activities, and so on.\\n\\nSinh viên BUV có thể đi thực tập ngay từ năm nhất nếu các bạn sẵn sàng trải nghiệm và có đủ các kỹ năng mềm cơ bản. Rất nhiều các em sinh viên BUV ở các thế hệ khác nhau đã giành được các suất thực tập ngay sau 1 tới 2 kỳ nghỉ đầu tiên tại BUV. Với các em sinh viên năm nhất, việc đi thực tập thiên về mục tiêu làm quen với cuộc sống đi làm, học hỏi các nghi thức ứng xử tại nơi làm việc, học hỏi các kỹ năng làm việc ở các môi trường làm việc khác nhau. Kiến thức và kỹ năng chuyên môn, cũng như các kỹ năng có giá trị chuyển đổi của sinh viên năm nhất vẫn còn ở trình độ cơ bản và cần thời gian để trau dồi và học hỏi thêm những điều mới.\\n\\nDo đó, chúng tôi đặc biệt khuyến khích các em sinh viên năm nhất:\\n\\nKhông nên giới hạn sự lựa chọn của mình trong những công việc, ngành nghề liên quan trực tiếp đến chuyên ngành học, mà hãy nên mở rộng cơ hội của mình để học hỏi những điều các em muốn học từ bất cứ ngành nghề, lĩnh vực nào, để tìm ra niềm hứng thú, thế mạnh, đam mê, và cuối cùng là một quyết định nghề nghiệp phù hợp sau nhiều lần trải nghiệm thú vị.\\n\\nKhông nên cảm thấy áp lực khi chưa đi thực tập từ Năm 1. Có rất nhiều cách khác để trang bị thêm kỹ năng và kinh nghiệm, khám phá bản thân và thế giới nghề nghiệp, ví dụ như tham gia vào các lớp đào tạo và hội thảo chuyên đề trong kỳ PSG, tham gia các dự án, hoạt động sinh viên, hoạt động tình nguyện, các khóa học kỹ năng, v.v\\n\\nCan BUV guarantee that every student will have an internship during the semester break? / Nhà trường có thể đảm bảo rằng tất cả các sinh viên đều được đi thực tập vào kỳ nghỉ giữa học kỳ không?\\n\\nAnswer / Câu trả lời:\\n\\nWith the network of more than 450 industrial partners and increasing, we are committed to provide sufficient internship opportunities to all BUV students in each semester break. Although applications sent via BUV Career Services & Industry Relations Team are prioritised and well processed by our partners, they make their recruitment decision based on their actual human resource needs and the recruited interns will be assigned with the value-added tasks instead of only “being there and observing to learn”. As a result, a successful internship offer is the effort of both the student self and BUV Career Services & Industry Relations Team in providing him/her with professional and dedicated career guidance to prove that the student is qualified for the internship position. Students are expected to show his/her commitment as well as capabilities to go through the necessary recruitment process of the company with BUV’s support along the journey.\\n\\nVới mạng lưới hơn 450 đối tác tổ chức doanh nghiệp vẫn đang được tiếp tục mở rộng, chúng tôi cam kết cung cấp đầy đủ các cơ hội thực tập cho tất cả các bạn sinh viên BUV trong mỗi kỳ nghỉ. Tuy các công ty sẽ dành sự chú ý nhiều hơn tới hồ sơ sinh viên được gửi tới bởi Bộ phận Dịch vụ Hướng nghiệp, họ đưa ra quyết định tuyển dụng dựa trên nhu cầu nhân sự thực tế, từ đó, sinh viên sẽ được giao các nhiệm vụ làm việc thực chất và có giá trị thay vì chỉ có mặt ở nơi làm việc và quan sát để học hỏi. Vì vậy, một lời đề nghị thực tập từ công ty là kết quả của sự nỗ lực từ cả 2 phía: từ bản thân sinh viên và từ Bộ phận Dịch vụ Hướng nghiệp trong việc hỗ trợ hướng nghiệp tận tâm và chuyên nghiệp để chứng tỏ rằng bạn sinh viên đạt tiêu chuẩn cho vị trí thực tập sinh. Cùng với sự đồng hành của Bộ phận Dịch vụ Hướng nghiệp, các bạn sinh viên cần thể hiện được sự cam kết cũng như khả năng của mình để có thể vượt qua các quy trình tuyển dụng cần thiết của công ty.\\n\\nWhat can students do during 3 months break if they do not go for internships? / Nếu trong 3 tháng nghỉ giữa kỳ sinh viên không đi thực tập thì có thể làm gì?\\n\\nAnswer / Câu trả lời:\\n\\nBUV students are encouraged to go for internships and explore the world in different ways during their semester break. Apart from internships, students should use their semester breaks to enhance their skills, explore new things, and broaden their knowledge to be ready for their future. At BUV, during semester breaks, Student Engagement Department offers PSG Semester trainings and workshops, as well as a variety of extra-curricular classes and short courses where students can register and study. Students can find classes’ information and registration guidelines via students’ email or on BUV Student Community Fan page every beginning of semester (in January, April, July, and October).\\n\\nBesides, students can also participate in over thirty active clubs & societies alongside extra-curricular activities which are organized regularly throughout every semester. Students are also encouraged to found new clubs and initiate new projects to add value to the student community and develop an array of transferable skills for themselves and their team via organising these activities. BUV Student Life team is open to all proposals and project and are always willing to accompany students to realise and implement their ideas.\\n\\nSinh viên thường được khuyến khích đi thực tập và khám phá các trải nghiệm khác nhau trong thời gian nghỉ học kỳ, các sinh viên cũng có thể có những mối quan tâm hoặc dự định khác nhau để phát triển bản thân. Thời gian nghỉ của sinh viên hoàn toàn có thể được sử dụng để học thêm những khóa học ngắn hạn, mở rộng bộ kĩ năng, trải nghiệm những điều mới mẻ, nâng cao kiến thức nhằm tạo lợi thế cho bản thân mình, giúp các em sẵn sàng và tự tin hơn trong việc ứng tuyển các vị trí thực tập trong những kì sau hoặc chuẩn bị cho hành trình sự nghiệp tương lai của mình. Ban Phát triển và Công tác Sinh viên hiện tại đang tổ chức Kỳ PSG bao gồm các lớp đào tạo và hội thảo chuyên đề, nhiều lớp học ngoại khoá trong nhiều lĩnh vực để các em có thể đăng ký và học tập. Chúng tôi sẽ gửi những thông tin về các khóa học cũng như hướng dẫn đăng kí thông qua hòm thư của sinh viên cũng như trên các kênh mạng xã hội của cộng đồng sinh viên BUV vào đầu các kì (Tháng 1, Tháng 4, Tháng 7 và Tháng 10).\\n\\nBên cạnh đó, sinh viên cũng có thể đăng ký và tham gia 30 câu lạc bộ và hội nhóm khác nhau, những hoạt động ngoại khóa hấp dẫn được tổ chức hàng kì. Các bạn sinh viên cũng được khuyến khích tự đề xuất thành lập và điều hành các câu lạc bộ, lập các dự án với những người cùng chung sở thích, mối quan tâm với mình, nhằm đạt được những giá trị có ích và tích lũy các bộ kỹ năng có giá trị chuyển đổi cho bản thân cũng như cộng đồng sinh viên BUV. Bộ phận Đời sống Sinh viên luôn chào đón và hoan nghênh các ý tưởng mới của sinh viên và đồng hành giúp các em thực hiện hóa ý tưởng của mình.\\n\\nWhere can I get the information about the internships, extra-curricular activities, short courses that BUV is offering? / Chúng tôi có thể cập nhật các thông tin về cơ hội thực tập, hoạt động ngoại khóa và các khóa học ngắn hạn BUV đang cung cấp ở đâu?\\n\\nAnswer / Câu trả lời:\\n\\nAll information about internships and activities offered at BUV are constantly shared to all students via their BUV mailbox every week and shared on our Facebook pages where parents can visit anytime. Please visit the follow links to keep updated of the internship opportunities, short courses offered to students as well as all career activities, workshops, competitions, and events for our students:\\n\\nBUV Career Services: https://www.facebook.com/buvcareer\\n\\nBUV Student Community: https://www.facebook.com/buvstudentcommunity\\n\\nBUV Student Life: https://www.facebook.com/buvstudentlife\\n\\nBUV Student Wellbeing: https://www.facebook.com/BUVstudentWELLBEING\\n\\nEvery month, the Student Engagement Department also sends out a newsletter to keep parents updated of what is happening at BUV and important information. If parents would like to be included in the monthly newsletter updates, please make sure you provide us with your email address to Student Information Office at studentservice@buv.edu.vn to receive our updates and other information.\\n\\nIn addition, all information about Student Engagement can be found on Canvas at \"Course\" named as \"Student Engagement\": https://buv.instructure.com/courses/334 .\\n\\nYou can also access the “Event Calendar” to see all BUV events and activities, from student clubs and societies\\' events, career workshops, training, tea-talk, well-being sessions to other special events.Tất cả thông tin về cơ hội thực tập và các hoạt động ngoại khóa sẽ được chia sẻ thường xuyên đến tất cả các sinh viên thông qua hệ thống email và các trang Facebook của Bộ phận. Nếu quý phụ huynh có nhu cầu tìm hiểu thông tin, vui lòng truy cập vào những đường link dưới đây để có thể có những thông tin với nhất về những cơ hội thực tập, các khóa học ngắn cũng như các hoạt động hướng nghiệp, hội thảo khách mời và các cuộc thi, sự kiện tại BUV:\\n\\nBUV Careers Services: https://www.facebook.com/buvcareer\\n\\nBUV Student Community: https://www.facebook.com/buvstudentcommunity\\n\\nBUV Student Life: https://www.facebook.com/buvstudentlife\\n\\nBUV Student Wellbeing: https://www.facebook.com/BUVstudentWELLBEING\\n\\nHàng tháng, Ban Công tác và Phát triển Sinh viên cũng gửi ra Bản tin cập nhật Newsletter nhằm giúp quý vị phụ huynh cập nhật thông tin về những hoạt động đang diễn ra, những thông tin quan trọng để có được hình dung toàn cảnh về hoạt động của nhà trường. Nếu quý vị phụ huynh và sinh viên có nhu cầu được nhận bản tin hàng tháng, vui lòng cung cấp địa chỉ email của quý vị tới Bộ phận Thông tin Sinh viên (studentservice@buv.edu.vn) để nhận cập nhật và các thông tin khác.\\n\\nNgoài ra, để nắm được tất cả thông tin về các hoạt động và dịch vụ từ ban Công tác và Phát triển Sinh Viên, sinh viên có thể truy cập trang Canvas, phần “Course\" có tên \"Student Engagement\": https://buv.instructure.com/courses/334.\\n\\nSinh viên truy cập vào “Event Calendar” để xem tất cả lịch các sự kiện và hoạt động sẽ diễn ra tại BUV, từ sự kiện của các câu lạc bộ, các hội thảo nghề nghiệp, đào tạo, những buổi trò chuyện chia sẻ sức khỏe tâm lý đến các sự kiện đặc biệt khác.\\n\\nWhat is the point of going for an internship which is not relevant to student’s major? / Nếu sinh viên đi thực tập trong mảng không liên quan tới ngành học thì có tác dụng gì?\\n\\nAnswer / Câu trả lời:\\n\\nGoing for an internship is not only about enhancing specialised skills and knowledge, but also about exploring what is available and waiting for them in the labour market. On the one hand, an internship helps students getting familiar with working life, learning business etiquettes and workplace skills either the workplace is in the office building, in service sectors or on project site. On the other hand, the student can try out different roles in different industries and in different organisations’ scales to reaffirm what they are good at, what motivates them most at work, or what they want to avoid in their career. We believe that our students after completing internships in diverse areas have been equipped with a wide range of experience and be more certain in their future career decisions.\\n\\nSinh viên đi thực tập không chỉ để trau dồi củng cố kỹ năng và kiến thức chuyên môn, mà còn để các bạn khám phá thêm những gì đang tồn tại và những gì đang chờ đợi các bạn ở thị trường lao động. Một mặt, kỳ thực tập giúp sinh viên làm quen với cuộc sống đi làm, học hỏi các nghi thức ứng xử tại nơi làm việc, học hỏi các kỹ năng làm việc ở các môi trường làm việc khác nhau, dù đó là tại văn phòng công sở, tại các địa điểm cung cấp dịch vụ, hay tại thực địa dự án. Một mặt khác, sinh viên có thể thử trải nghiệm nhiều vị trí khác nhau, trong đa dạng các ngành nghề, tại các công ty có quy mô lớn nhỏ khác nhau, để xác nhận lại các bạn có thể làm tốt việc gì, điều gì là động lực cho bạn trong công việc, hay điều mà các bạn thực sự muốn tránh trong lựa chọn sự nghiệp của mình. Chúng tôi tin tưởng rằng sau khi hoàn thành các kỳ thực tập ở các ngành nghề đa dạng khác nhau, các bạn sinh viên đã tự trang bị được những trải nghiệm đa dạng và thêm phần chắc chắn trong các quyết định nghề nghiệp trong tương lai của mình.\\n\\nDoes BUV have any solutions if students cannot pass internship interviews many times? / Nhà trường có phương án gì nếu sinh viên liên tục không đỗ các vòng phỏng vấn thực tập với công ty?\\n\\nAnswer / Câu trả lời:\\n\\nAs a part of BUV’s support process for students during any internship placement, after all interviews with our partners, we always ask for employers’ feedback about each student so that we can support the student to improve themselves by conveying the employers’ message in a constructive approach to the student, discussing with the students about their gaps, and coming up with some solutions for future improvements. We also provide mock interview sessions for students anytime they wish to get them better prepared in any future interviews.\\n\\nIn case a student cannot pass internship interviews multiple times, BUV Career Services & Industry Relations Team and the student will sit down again and figure out the reasons that may hinder their performance, for example what are the real reasons causing the repeated mistakes, any psychological problems that need support, or unsuitable internship selection strategy. We will also refer the student to our Student Well-being Counsellor to consult if necessary.\\n\\nLà một phần trong quy trình hỗ trợ của BUV dành cho tất cả các bạn sinh viên trong các kỳ thực tập, sau tất cả các cuộc phỏng vấn, chúng tôi đều theo dõi phản hồi của các công ty về từng bạn sinh viên, từ đó chúng tôi có thể hỗ trợ sinh viên bằng cách truyền đạt lại thông điệp của công ty bằng các hình thức mang tính xây dựng, thảo luận về các vấn đề của các bạn, và cùng đưa ra giải pháp để cải thiện trong các tình huống tương tự trong tương lai. Chúng tôi cũng làm các buổi phỏng vấn thử với sinh viên bất cứ khi nào các bạn cần để giúp các bạn chuẩn bị tốt hơn trong các lần phỏng vấn tiếp theo.\\n\\nTrong trường hợp sinh viên vẫn không đỗ sau nhiều lần phỏng vấn, Bộ phận Dịch vụ Hướng nghiệp sẽ cùng ngồi với sinh viên một lần nữa để tìm ra vấn đề cốt lõi thực sự khiến các bạn chưa cải thiện là gì, VD: lý do thực sự khiến các bạn mắc lặp đi lặp lại 1 lỗi, vấn đề về tâm lý cần được hỗ trợ, hay chiến lược lựa chọn kỳ thực tập chưa phù hợp,...Chúng tôi cũng giới thiệu sinh viên tới nói chuyện tư vấn với Chuyên gia Tâm lý và Sức khỏe tinh thần nếu cảm thấy cần thiết.\\n\\nAre the internships that BUV support students paid or unpaid? / Các cơ hội thực tập được cung cấp tại BUV có phụ cấp hay không?\\n\\nAnswer / Câu trả lời:\\n\\nInternship offers from BUV industrial partners can be either paid or unpaid based on each company’s policy. In most companies, an intern is paid with a stipend to support them with transportation costs or lunch; the companies might also choose to provide students with uniforms and lunch instead of cash. For some companies, and especially high-qualified positions, an intern can be paid similar to an entry-level staff. For some others, the internship is unpaid. However, no financial support or little payment does not mean that the employer does not appreciate the contribution of the interns. Instead of financial benefits, they offer their human resources and expertise to provide on-the-job training for the interns; facilitate workstation for the interns with laptop/PC, phones, and stationary; meals during shifts, and accepting the risks that the interns may struggle with their work at first.\\n\\nWe suggest that if the students do not have financial pressure for their daily life, they should not put income as their top priority in internships but other learning opportunities because they are major career boosters, not to mention an unforgettable experience. Internships enable students to pick up invaluable work skills, lay the foundation of their professional network, and get a foot in the career door. The internship may benefit students tremendously, still, it is important that students remain aware of their rights and does not let anyone take advantage of them. The Career Services & Industry Relations Team are always available for advice if students feel unsure anytime.\\n\\nCác cơ hội thực tập được cung cấp từ các đối tác BUV có thể có phụ cấp hoặc không có phụ cấp, tùy theo chính sách từng công ty. Trong phần lớn các công ty, thực tập sinh được trả một khoản phụ cấp nhỏ với mục đích hỗ trợ tiền xăng xe đi lại hoặc bữa trưa; các công ty cũng có thể chọn cách cung cấp cho sinh viên đồng phục làm việc và bữa trưa, thay vì tiền mặt. Với một số công ty khác, đặc biệt là với các vị trí yêu cầu cao, thực tập sinh có thể được trả lương gần tương đương như vị trí của nhân viên chính thức mới tốt nghiệp. Cũng có những công ty không có phụ cấp hay lương cho thực tập sinh. Tuy nhiên, việc trả khoản phụ cấp nhỏ hay không có phụ cấp không đồng nghĩa với việc công ty không coi trọng cống hiến và sức lao động của thực tập sinh. Thay vì các quyền lợi về tài chính, các công ty này cung cấp nhân lực để đồng hành chỉ dẫn các bạn thực tập sinh học hỏi trong khi làm việc; cơ sở vật chất của một góc làm việc bao gồm laptop/máy tính, điện thoại, văn phòng phẩm; bữa ăn theo ca làm; và chấp nhận rủi ro khi các thực tập sinh có thể làm chưa tốt trong những lần trải nghiệm công việc đầu tiên.\\n\\nNếu sinh viên không có áp lực về tài chính để chi trả cuộc sống, chúng tôi khuyến khích các bạn không nên đặt vấn đề thu nhập làm ưu tiên hàng đầu trong các kỳ thực tập, mà thay vào đó là các cơ hội học hỏi khác – vì đó là những cơ hội thúc đẩy sự nghiệp quan trọng và cũng đồng thời là những trải nghiệm không thể nào quên. Các kỳ thực tập giúp các em sinh viên có được những kỹ năng làm việc vô giá, đặt nền móng cho mạng lưới nghề nghiệp của các em, và bước chân đầu tiên vào cánh cửa nghề nghiệp. Tuy các kỳ thực tập mang lại rất nhiều lợi ích cho sinh viên, điều quan trọng là các em sinh viên cần ý thức được quyền lợi của mình và không để bị lợi dụng. Đội ngũ Hướng nghiệp luôn sẵn sàng hỗ trợ và tư vấn bất cứ lúc nào các em sinh viên cảm thấy không chắc chắn và cần đến sự giúp đỡ.\\n\\nHow does BUV evaluate students’ internship? Is any post-internship report required from students to prove they have done it? / Nhà trường đánh giá kết quả thực tập của sinh viên thế nào? Nhà trường có yêu cầu báo cáo thực tập cuối kỳ từ sinh viên để có bằng chứng đã hoàn thành thực tập không?\\n\\nAnswer / Câu trả lời:\\n\\nThe internship programme’s purpose is to create a real-life learning experience for students from which they can reflect on what they have done well, what they should improve, and their next steps in their career exploration journey.\\n\\nIt is required for students to get a Professional Experience Evaluation Form endorsed by Employer, which will be:\\n\\nReceived and reviewed by BUV Career Services & Industry Relations Team to record the students’ strengths and weaknesses and provide suitable career guidance for them.\\n\\nReviewed and approved by BUV Management if an internship and the evaluation are valid for students to gain PSG points.\\n\\nMục đích của chương trình thực tập là tạo điều kiện cho sinh viên được học hỏi từ cuộc sống làm việc thực tế, từ đó các em có thể suy ngẫm và rút kinh nghiệm về những việc các em đã làm tốt, những điều nên cải thiện, và các bước cần làm tiếp theo trên con đường khám phá nghề nghiệp của mình.\\n\\nSinh viên được yêu cầu nộp Bản Đánh giá Chất lượng Làm việc chứng thực bởi Công ty chủ quản thực tập. Bản đánh giá này sẽ được:\\n\\nTiếp nhận và xử lý bởi Đội ngũ Hướng nghiệp với mục đích ghi nhận thế mạnh, điểm yếu, từ đó hỗ trợ hướng nghiệp cho sinh viên một cách phù hợp.\\n\\nXem xét về bản chất kỳ thực tập và chất lượng thực tập, phê duyệt bởi Ban lãnh đạo nhà trường để được ghi nhận điểm PSG.\\n\\nWho are normally the companies that host BUV students for internships? How can internships take place if companies continue to work from home with social distancing? / Các công ty nhận sinh viên thực tập từ BUV thường là những công ty nào? Nếu các công ty tiếp tục làm việc từ xa do giãn cách thì sinh viên có thể đi thực tập không?\\n\\nAnswer / Câu trả lời:\\n\\nCompanies that host BUV students for internships include but are not limited to big corporations and multi-national corporations, small and medium enterprises, local and international companies, not-for-profit organisations, and non-governmental organisations (NGOs), and companies based abroad in a diverse range of industries. You can refer to some of the 400+ employers’ name in the following pictures.\\n\\nWe believe Covid-19 has also changed the way the world and companies work. Remote and virtual working has become a trend now and will continue in the future based on different reports. If companies are continuing to work from home with social distancing, we have a lot of partners that are providing several full-time/part-time remote internship opportunities not only in Vietnam but also in other countries in Asia and Europe. While some international placements also require a placement fee from students, BUV will support our students with financial sponsorship subject to their application to maximise the opportunities for our student body.\\n\\nCác công ty đối tác với BUV về cơ hội thực tập bao gồm các tập đoàn lớn, công ty vừa và nhỏ, các công ty Việt Nam và quốc tế, các tổ chức phi lợi nhuận và phi chính phủ (NGOs), và các công ty có trụ sở đặt tại nước ngoài, trong đa dạng các lĩnh vực khác nhau. Quý phụ huynh có thể tham khảo một số tên các công ty nằm trong mạng lưới hơn 400 đối tác như trong hình.\\n\\nChúng tôi tin rằng dịch Covid-19 đã xoay chuyển cách mà thế giới và các công ty làm việc và vận hành. Làm việc online và làm việc từ xa hiện đã trở thành một xu hướng, và xu hướng này sẽ còn tiếp tục trong tương lai theo nhiều nghiên cứu khác nhau gần đây. Trong tình huống các công ty tiếp tục làm việc tại nhà trong thời kỳ giãn cách xã hội, chúng tôi đang hợp tác với các đối tác có cung cấp các cơ hội thực tập từ xa toàn thời gian và bán thời gian cho các công ty ở tại Việt Nam và ở các nước khác trong khu vực Châu Á và Châu Âu. Nếu một số cơ hội thực tập quốc tế có chi phí bắt buộc cho đơn vị kết nối, BUV sẽ có hình thức hỗ trợ sinh viên một phần tài chính tùy thuộc vào hồ sơ đăng ký và ứng tuyển của các bạn nhằm giúp sinh viên tận dụng được tối đa các cơ hội được mang lại.\\n\\nHow does BUV evaluate companies/organisations to send students for internship? Will BUV check in on students\\' performance & working environment during their internship to ensure fairness and safety? / BUV đánh giá các doanh nghiệp như thế nào trước khi gửi sinh viên đi thực tập. BUV có kiểm tra môi trường làm việc của sinh viên trong quá trình thực tập hay không?\\n\\nAnswer / Câu trả lời:\\n\\nBUV carefully selects companies before sending students for internship. Those are companies that required to hold valid operating licenses in Vietnam and undergo thorough evaluations of their operational history, working environment, and the extent to which they offer valuable internship experiences and career development prospects for students. The Student Career Services department maintains regular communication with these companies to stay informed about the progress of the students\\' internships. Additionally, the department conducts on-site visits to the companies during the midpoint and conclusion of each internship period. These visits serve the purpose of ensuring that students are thriving in a fair, inclusive, and nurturing work environment while making significant strides in their professional growth.\\n\\nCác doanh nghiệp được BUV lựa chọn gửi sinh viên đi thực tập là các doanh nghiệp có giấy phép hoạt động hợp pháp tại Việt Nam và được kiểm tra về lịch sử hoạt động, môi trường làm việc và các cơ hội thực tập, việc làm cung cấp đủ cơ hội phát triển cho sinh viên. Phòng hướng nghiệp sinh viên sẽ liên lạc với doanh nghiệp để cập nhật tình hình thực tập của sinh viên, và tới thăm sinh viên tại doanh nghiệp vào giữa và cuối mỗi kỳ thực tập để đảm bảo sinh viên đang phát triển tốt và làm việc trong môi trường công bằng, bình đẳng và lành mạnh.\\n\\nDoes BUV and partnered companies/organisations have plans to conduct the internship and training programme to offer full-time recruitment for students after graduation? BUV và các đối tác có quan hệ chiến lược lâu dài trong kế hoạch tuyển thực tập sinh và sau đó là tuyển dụng các vị trí chính thức cho sinh viên sau khi tốt nghiệp hay không?\\n\\nAnswer / Câu trả lời:\\n\\nCurrently, BUV is actively fostering strategic partnerships with our esteemed partners, focusing on the implementation of comprehensive training programs and the development of essential soft skills in the workplace. The overarching goal is to ensure the continuous growth and promising career prospects of our students within the carefully assessed partner organizations, thereby enhancing their employability upon graduation.\\n\\nBUV đang tập trung phát triển các quan hệ chiến lược về kế hoạch đào tạo và tuyển dụng giữa các doanh nghiệp và sinh viên BUV nhằm đảm bảo sự phát triển và cơ hội nghề nghiệp cho sinh viên tại các doanh nghiệp được BUV đánh giá sẽ đem lại nhiều lợi ích nghề nghiệp cho sinh viên.\\n\\nWhat kind of extra-curricular classes and short courses can students register and when? Do we have to pay course fee for those? / BUV cung cấp các lớp học ngoại khóa và khóa học ngắn nào và vào lúc nào? Sinh viên có cần trả học phí cho các khóa học này không?\\n\\nAnswer / Câu trả lời:\\n\\nThe Personal and Social Growth (PSG) Programme offers various online courses on Coursera and short courses at the BUV campus to equip students with sought-after knowledge, skills, and attitudes for future life and career success.\\n\\nFrom January 2024, undergraduate students are eligible to register to get free Coursera Plus membership accounts on Coursera, one of the world\\'s leading online learning platforms within 06 months (Jan to June OR July to December). Each account provides unlimited access to learn 5,400+ courses and guided projects, and to obtain valuable certifications from more than 275 leading universities and companies worldwide. There are a variety of courses and projects on Coursera, in a wide range of areas such as personal - career - social - academic, to meet the unique needs of each student and adapt to the ever-changing needs of society. A Coursera certification can also earn students’ competitive edges on the job market, show students\\' efforts in personal development, and demonstrate their commitment to lifelong learning.\\n\\nBelow are some of the course categories Coursera offers:\\n\\nExpertise-related knowledge and skills (Business, Marketing and Communications, Engineering, Creative Industries, Tourism and Hospitality, Green and Sustainability…)\\n\\nLanguages (English, Chinese, Korean, Japanese, French…)\\n\\nSoft skills and employability skills\\n\\nResearch and academic skills\\n\\n… and many more\\n\\nTo qualify for a Coursera Plus account free of charge, students must meet all programme completion criteria within 06 months to ensure commitment and learning outcomes, as well as be equipped with BUV students\\' core competencies and qualities under the PSG Programme. The criteria will be emailed to students prior to the registration start date.\\n\\nFurthermore, the PSG Programme also offers students some in-person extra-curricular classes and short courses at the BUV campus at the beginning of each semester:\\n\\nSkills development:\\n\\nEvent planning and organising\\n\\nTour designing skills and mindsets\\n\\nPublic speaking\\n\\nCreative writing\\n\\nMulti-cultural communication and etiquette\\n\\n… and many more\\n\\nProfessional certifications and qualifications:\\n\\nAWS: Amazon Web Services Certification\\n\\nCCNA: Cisco Certified Network Associate\\n\\nWSET: Wine & Spirit Education Trust\\n\\n… and many more\\n\\nStudents need to make a deposit payment at the registration stage to get a Coursera account and to secure a slot for BUV’s extra-curricular classes, serving as their commitment to complete the Coursera programme or to pass relevant assessments of classes at BUV. We believe that students will be more responsible and committed if they have paid a securing payment and will aim to have better performance and achieve better outcomes. At the end of the Coursera or BUV’s classes, the deposit will be refunded if students meet the completion requirements of the programme/each class.\\n\\nChương trình Nâng cao Năng lực Cá nhân và Kỹ năng Xã hội (PSG) cung cấp đa dạng khóa học trực tuyến trên nền tảng Coursera và các lớp ngoại khoá trực tiếp tại BUV nhằm hỗ trợ sinh viên bổ trợ kỹ năng thiết yếu cho sự phát triển đa lĩnh vực.\\n\\nTừ tháng 01/2024, BUV cung cấp cơ hội cho sinh viên đăng ký nhận tài khoản học trực tuyến Coursera – Một trong những nền tảng học trực tuyến hàng đầu trên thế giới, với thời hạn 06 tháng (Từ tháng 1 đến tháng 6 HOẶC từ tháng 7 đến tháng 12 hàng năm), với khả năng truy cập miễn phí, học và nhận chứng chỉ từ hoàn thành hơn 5.400 khóa học, dự án thực hành từ hơn 275 trường đại học và doanh nghiệp uy tín trên toàn cầu. Các khóa học của Coursera được cập nhật thường xuyên và vô cùng đa dạng trên nhiều lĩnh vực cá nhân – nghề nghiệp – xã hội – học thuật, có thể đáp ứng nhu cầu phát triển bản thân riêng biệt của từng sinh viên, bắt kịp với sự thay đổi nhanh chóng của xã hội. Đặc biệt, việc sở hữu các chứng chỉ Coursera được các nhà tuyển dụng đánh giá cao, thể hiện quá trình phát triển năng lực và tinh thần học tập suốt đời.\\n\\nMột số nhóm khóa học được cung cấp tại Coursera có thể kể tới:\\n\\nKiến thức và kỹ năng bổ trợ chuyên ngành (Kinh doanh, Truyền thông, Kỹ thuật, Công nghệ, Sáng tạo, Du lịch và khách sạn, Phát triển xanh và bền vững…)\\n\\nNgôn ngữ (Tiếng Anh, Trung Quốc, Hàn, Nhật, Pháp, Tây Ban Nha…)\\n\\nPhát triển kỹ năng mềm và kỹ năng nghề nghiệp\\n\\nKỹ năng học thuật và nghiên cứu\\n\\n… và rất nhiều lĩnh vực khác.\\n\\nĐể được nhận tài khoản học trực tuyến Coursera, sinh viên cần đáp ứng một số tiêu chí trong vòng 06 tháng học tập để đảm bảo mức độ cam kết học tập và chất lượng đầu ra, đạt được các phẩm chất và năng lực cần thiết của Chương trình PSG. Các tiêu chí này được thông báo tới sinh viên vào trước các đợt mới đăng ký trong Chính sách tham gia Chương trình Coursera x PSG. Ngoài ra, BUV cũng mở một số lớp học ngoại khóa trực tiếp tại trường vào đầu các kỳ học, tập trung bổ trợ các kiến thức – kỹ năng thực tế cho các chuyên ngành, đòi hỏi các hoạt động tương tác trực tiếp, bao gồm:\\n\\nLớp học kỹ năng\\n\\nLập kế hoạch và tổ chức sự kiện\\n\\nThiết kế tour du lịch\\n\\nNói trước đám đông\\n\\nViết sáng tạo\\n\\nGiao tiếp và ứng xử đa văn hóa\\n\\n…\\n\\nLớp chứng chỉ chuyên môn và nghề nghiệp:\\n\\nAWS: Bộ chứng chỉ về điện toán đám mây của Amazon\\n\\nCCNA: Bộ chứng chỉ về công nghệ mạng của Cisco\\n\\nWSET: Chứng chỉ quốc tế về rượu vang và rượu mạnh\\n\\n…\\n\\nSinh viên cần phải nộp một khoản đặt cọc để nhận tài khoản Coursera cũng như để tham gia các lớp ngoại khóa tại BUV, thể hiện sự cam kết đáp ứng điều kiện hoàn thành Chương trình Coursera và bài kiểm tra các lớp học ngoại khóa. Chúng tôi tin rằng việc đặt cọc cam kết sẽ giúp các sinh viên có trách nhiệm với việc học và tạo động lực giúp các bạn hoàn thành Chương trình Coursera và các khóa học với kết quả tốt nhất. Sau khi đáp ứng đầy đủ các tiêu chí hoàn thành Chương trình Coursera và các khóa học, khoản tiền này sẽ được hoàn lại cho Phụ huynh và sinh viên.\\n\\n15\\\\. Where to get support when students have concerns about their wellbeing and personal life? Who can parents/students contact if students need help with stress and anxiety at school? / Nếu sinh viên có những mối lo lắng về sức khỏe tinh thần hoặc đời sống cá nhân thì có thể liên hệ hỗ trợ ở đâu? Phụ huynh/sinh viên có thể liên hệ với ai tại trường nếu cảm thấy sinh viên cần hỗ trợ về các dấu hiệu bất an hoặc căng thẳng?\\n\\nAnswer / Câu trả lời:\\n\\nBUV’s Well-being and Psychological Counselling Office is the department for well-being concerns and psychological counselling requests of all students. The department provides a wide range of well-being support to our students by organising life skill and well-being workshops available for all students, tea-talks which suit smaller groups with special concerns, and other well-being activities such as exhibitions or campaigns.\\n\\nIf you are worried about students’ mental health such as stress or anxiety, please email us at: Student-Wellbeing@buv.edu.vn. Our Well-being Counsellor will help to give the best psychological support to students with confidentiality.\\n\\nBộ phận Tư vấn tâm lý và Chăm sóc Sức khoẻ Tinh thần là nơi tiếp nhận những yêu cầu hỗ trợ tâm lý và sức khoẻ tinh thần của sinh viên BUV. Chúng tôi cung cấp các hoạt động chăm sóc sức khỏe tinh thần đa dạng để hỗ trợ sinh viên thông qua việc tổ chức các hội thảo về kỹ năng sống và sức khỏe tinh thần dành cho toàn bộ sinh viên, các buổi trò chuyện trà chiều nhóm nhỏ phù hợp cho những chủ đề chuyên sâu, và các hoạt động nâng cao đời sống tinh thần khác như triển lãm hay các chiến dịch.\\n\\nNếu nhận thấy những biểu hiện lo lắng, bất an hay căng thẳng của sinh viên, phụ huynh/sinh viên có thể liên lạc với Chuyên gia Tâm lý và Sức khỏe tinh thần của BUV theo địa chỉ: Student-Wellbeing@buv.edu.vn. Chuyên gia Tâm lý và Sức khỏe tinh thần sẽ có những chia sẻ để cùng gia đình hỗ trợ tâm lý tốt nhất cho các bạn sinh viên và các thông tin sẽ hoàn toàn được bảo mật.\\n\\n16\\\\. What is the Personal and Social Growth (PSG) Programme and what are the criteria to complete the programme? / Chương trình Nâng cao Năng lực Cá nhân và Kỹ năng Xã hội (PSG) là gì và các điều kiện hoàn thành chương trình là gì?\\n\\nAnswer / Câu trả lời:\\n\\nThe Personal & Social Growth (PSG) Programme for undergraduate students is one of three key drivers of British University Vietnam (BUV), along with the accredited British and international higher education degrees and training programmes in Vietnam, as well as a 5-star university campus with state-of-the-art learning spaces and excellent support services.\\n\\nUpon successful completion of the PSG programme, students will be awarded a detailed PSG transcript that documents their prizes, projects, activities, and PSG credit points accumulated throughout their time at BUV. The PSG transcript is a competitive advantage for students to confidently step into the real world.\\n\\nThe PSG Programme offers students unlimited opportunities to join a wide range of meaningful, practical and creative activities outside the classroom in diverse areas. These activities are catered to the diverse interests, aspirations, career paths, and personal development plans of students, and are connected to British University Vietnam (BUV)’s missions and core values, graduate attributes as well as the needs of society in an ever-changing world.\\n\\nPSG offerings are categorised into four main quadrants and 16 categories, supported by big interdisciplinary projects. The main four quadrants are:\\n\\nWork & Career Readiness\\n\\nUniversity & Community Engagement\\n\\nSocial, Cultural, Emotional Development\\n\\nAcademic Excellence\\n\\nIn order to complete the PSG Programme and graduate, students will need to meet the following compulsory requirements:\\n\\nAchieve at least 500 PSG points upon graduation\\n\\nGain points in every main quadrant of the PSG programme: Work and Career Readiness; University and Community Engagement; Social, Cultural and Emotional Development; Academic Excellence.\\n\\nComplete at least one of the professional experience options or alternatives (such as Part-time jobs, Internships, Work placements, Community projects with NGOs/NPOs/Social enterprises, Start-up incubation and acceleration, Running a business, Creating a personal professional portfolio, International study mobility programme).\\n\\nYou can find more information about these requirements in the PSG Programme Handbook on Canvas.\\n\\nStudents who meet and exceed the completion requirements of the PSG Programme will be awarded corresponding rankings and incentives upon each level of achievement:\\n\\nBronze level: 500 points (by the end of 1st year)\\n\\nSilver level: 700 points (by the end of 1st or 2nd year)\\n\\nGold level: 900 points (at any time)\\n\\nPlatinum level: 1200 points (at any time)\\n\\nChương trình Phát triển năng lực Cá nhân và Kỹ năng Xã hội (PSG) cho sinh viên bậc Đại học là một trong ba mũi nhọn phát triển tại Trường Đại học Anh Quốc Việt Nam (BUV), song song với việc cung cấp chương trình giáo dục & đào tạo chuẩn Anh Quốc được công nhận toàn cầu và hoạt động xây dựng khuôn viên, không gian học tập, dịch vụ hỗ trợ đạt tiêu chuẩn 5 sao.\\n\\nNếu đạt các tiêu chí hoàn thành chương trình PSG, sinh viên sẽ có trong tay một bộ Hồ sơ Nâng cao năng lực Cá nhân và Xã hội với kết quả xếp loại khen thưởng, danh mục hoạt động đã tham gia kèm theo điểm tích lũy trong suốt hành trình học tập và trải nghiệm tại Trường Đại học Anh Quốc Việt Nam (BUV). Bộ hồ sơ này tạo nên lợi thế cạnh tranh vượt trội để sinh viên BUV tự tin chinh phục các cơ hội đa dạng sau khi ra trường.\\n\\nChương trình PSG mở ra cho sinh viên cơ hội tham gia không giới hạn các hoạt động trải nghiệm bổ ích, lý thú, đa dạng chủ đề và hình thức. Các hoạt động được thiết kế để đáp ứng nhu cầu, sở thích và định hướng phát triển khác nhau của mỗi cá nhân, đồng thời liên kết với các mục tiêu xây dựng phẩm chất sinh viên của Đại học Anh Quốc Việt Nam (BUV) và nhu cầu thực tế của xã hội trong bối cảnh thay đổi liên tục.\\n\\nHàng trăm danh mục hoạt động nằm trong chương trình PSG được chia làm 04 lĩnh vực cốt lõi và 16 thành tố, được bổ trợ bởi các dự án lớn tổng hòa nhiều lĩnh vực và thành tố.\\n\\nCác lĩnh vực cốt lõi của PSG bao gồm:\\n\\nHành Trang Công Việc Và Sự Nghiệp\\n\\nKỹ Năng Lãnh Đạo Và Kết Nối\\n\\nNăng Lực Xã Hội, Văn Hóa Và Cảm Xúc\\n\\nBổ Trợ Và Nâng Cao Năng Lực Học Tập\\n\\nĐể hoàn thành chương trình PSG và tốt nghiệp, sinh viên cần đạt các điều kiện sau:\\n\\nĐạt được tối thiểu 500 điểm PSG trước khi tốt nghiệp\\n\\nĐạt được điểm trong mỗi lĩnh vực của chương trình PSG – 4 lĩnh vực: Hành Trang Công Việc Và Sự Nghiệp; Kỹ Năng Lãnh Đạo Và Kết Nối; Năng Lực Xã Hội, Văn Hóa Và Cảm Xúc; Bổ Trợ Và Nâng Cao Năng Lực Học Tập\\n\\nHoàn thành một trong các lựa chọn tích lũy kinh nghiệm thực tế (ví dụ như đi làm thêm bán thời gian, thực tập, thực hiện dự án cộng đồng với các tổ chức phi chính phủ, khởi nghiệp,...) hoặc lựa chọn thay thế (Đi trao đổi quốc tế).\\n\\nThông tin chi tiết về các điều kiện này đã được đăng tải trên Cẩm nang chương trình PSG tại Canvas.\\n\\nNếu sinh viên đạt và xuất sắc vượt các điều kiện hòan thành chương trình sẽ được xếp hạng tương ứng và nhận những phần thưởng đặc biệt dựa trên mức độ hoàn thành:\\n\\nHạng đồng: 500 điểm (hoàn thành trước khi kết thúc năm nhất)\\n\\nHạng bạc: 700 điểm (hoàn thành trước khi kết thúc năm nhất hoặc năm hai)\\n\\nHạng vàng: 900 điểm (hoàn thành vào bất kỳ năm nào)\\n\\nHạng bạch kim: 1200 điểm (hoàn thành vào bất kỳ năm nào)\\n\\n<!-- PageFooter=\"BUV Students and Parents’ Frequently Asked Questions 2023 (V\" -->\\n\\n<!-- PageFooter=\"4\" -->\\n\\n<!-- PageFooter=\") 3\" -->\\n\\n<!-- PageFooter=\"BUV Students and Parents’ Frequently Asked Questions 2023 (V4)\" -->\\n\\n<!-- PageFooter=\"BUV Students and Parents’ Frequently Asked Questions 2023 (V4)\" -->\\n'"
      ]
     },
     "execution_count": 5,
     "metadata": {},
     "output_type": "execute_result"
    }
   ],
   "source": [
    "azure_ai_DI_data[0].page_content"
   ]
  },
  {
   "cell_type": "markdown",
   "metadata": {},
   "source": [
    "### Splitter"
   ]
  },
  {
   "cell_type": "code",
   "execution_count": 4,
   "metadata": {},
   "outputs": [],
   "source": [
    "import re  \n",
    "  \n",
    "def extract_qna_from_extracted_word(extracted_word):\n",
    "    raw_splitted_text = re.split(r\"\\n\\nAnswer / Câu trả lời:\\n\\n\", extracted_word)\n",
    "    q_a_list = []\n",
    "    for element in raw_splitted_text:\n",
    "        split_question = re.split(r\"\\n\\n\", element)\n",
    "        if len(split_question) == 1:\n",
    "            current_quesions = split_question[0]\n",
    "            q_a_list.append(current_quesions)\n",
    "        else:\n",
    "            answer_of_current_quesions, next_question = split_question[:-1], split_question[-1]\n",
    "            answer_of_current_quesions = \"\\n\\n\".join(answer_of_current_quesions)\n",
    "            q_a_list.extend([answer_of_current_quesions, next_question])\n",
    "    return q_a_list\n"
   ]
  },
  {
   "cell_type": "code",
   "execution_count": 5,
   "metadata": {},
   "outputs": [],
   "source": [
    "list_qna = extract_qna_from_extracted_word(azure_ai_DI_data[0].page_content)\n",
    "refine_qna_list = list_qna[1:-1]"
   ]
  },
  {
   "cell_type": "code",
   "execution_count": 6,
   "metadata": {},
   "outputs": [],
   "source": [
    "from langchain.docstore.document import Document\n",
    "\n",
    "buv_docs = []\n",
    "for i in range(int(len(refine_qna_list)/2)):\n",
    "    # page_content is question, metadata is answer\n",
    "    document = Document(page_content=refine_qna_list[2*i] + \"\\n\\nAnswer / Câu trả lời:\\n\\n\" + refine_qna_list[2*i+1])\n",
    "    buv_docs.append(document)"
   ]
  },
  {
   "cell_type": "code",
   "execution_count": 9,
   "metadata": {},
   "outputs": [
    {
     "name": "stdout",
     "output_type": "stream",
     "text": [
      "How can students/parents receive the timetables? / Sinh viên/phụ huynh có thể nhận thời khóa biểu ở đâu?\n",
      "\n",
      "Answer / Câu trả lời:\n",
      "\n",
      "Student’s timetable will be sent to BUV student’s and parent’s emails at the beginning of each semester. Please make sure to provide us with the correct email to the Student Information Office via studentservice@buv.edu.vn to receive the timetable and other information.\n",
      "\n",
      "Thời khóa biểu của sinh viên sẽ được gửi đến sinh viên và phụ huynh vào đầu mỗi kỳ học qua địa chỉ email BUV của sinh viên và email cá nhân của phụ huynh. Phụ huynh vui lòng đảm cung cấp email chính xác cho Bộ phận Thông tin Sinh viên qua địa chỉ studentservice@buv.edu.vn để kịp thời nhận thời khóa biểu và thông tin khác từ nhà trường.\n"
     ]
    }
   ],
   "source": [
    "print(buv_docs[0].page_content)"
   ]
  },
  {
   "cell_type": "markdown",
   "metadata": {},
   "source": [
    "## Preprocessing student handbook file"
   ]
  },
  {
   "cell_type": "code",
   "execution_count": 7,
   "metadata": {},
   "outputs": [],
   "source": [
    "from langchain_community.document_loaders.text import TextLoader\n",
    "loader = TextLoader(\"../../data/qna/student_handbook_text.txt\")\n",
    "refined_documents = loader.load()"
   ]
  },
  {
   "cell_type": "code",
   "execution_count": 8,
   "metadata": {},
   "outputs": [],
   "source": [
    "# Parent splitter - Mardown splitter \n",
    "from langchain_text_splitters import MarkdownHeaderTextSplitter\n",
    "\n",
    "headers_to_split_on = [\n",
    "    (\"#\", \"Header 1\"),\n",
    "    (\"##\", \"Header 2\"),\n",
    "    (\"###\", \"Header 3\"),\n",
    "]\n",
    "\n",
    "markdown_splitter = MarkdownHeaderTextSplitter(\n",
    "    headers_to_split_on=headers_to_split_on, strip_headers=False\n",
    ")\n",
    "student_handbook_docs = markdown_splitter.split_text(refined_documents[0].page_content)"
   ]
  },
  {
   "cell_type": "markdown",
   "metadata": {},
   "source": [
    "## Combine two docs"
   ]
  },
  {
   "cell_type": "code",
   "execution_count": 9,
   "metadata": {},
   "outputs": [],
   "source": [
    "final_docs =  buv_docs+ student_handbook_docs"
   ]
  },
  {
   "cell_type": "markdown",
   "metadata": {},
   "source": [
    "## Count token\n",
    "Per parent document"
   ]
  },
  {
   "cell_type": "code",
   "execution_count": 17,
   "metadata": {},
   "outputs": [],
   "source": [
    "list_page_content = [doc.page_content for doc in final_docs]"
   ]
  },
  {
   "cell_type": "code",
   "execution_count": 18,
   "metadata": {},
   "outputs": [],
   "source": [
    "import tiktoken\n",
    "\n",
    "def num_tokens_from_string(string: str, encoding_name: str = \"cl100k_base\") -> int:\n",
    "    \"\"\"Returns the number of tokens in a text string.\"\"\"\n",
    "    encoding = tiktoken.get_encoding(encoding_name)\n",
    "    num_tokens = len(encoding.encode(string))\n",
    "    return num_tokens\n",
    "\n",
    "\n",
    "num_tokens = list(map(num_tokens_from_string, list_page_content))"
   ]
  },
  {
   "cell_type": "code",
   "execution_count": 19,
   "metadata": {},
   "outputs": [
    {
     "data": {
      "text/plain": [
       "<Axes: ylabel='Frequency'>"
      ]
     },
     "execution_count": 19,
     "metadata": {},
     "output_type": "execute_result"
    },
    {
     "data": {
      "image/png": "[encoded data removed]",
      "text/plain": [
       "<Figure size 640x480 with 1 Axes>"
      ]
     },
     "metadata": {},
     "output_type": "display_data"
    }
   ],
   "source": [
    "import pandas as pd\n",
    "# Create a DataFrame from the list\n",
    "df = pd.DataFrame(num_tokens, columns=['Value'])\n",
    "\n",
    "# Plot the distribution\n",
    "df['Value'].plot(kind='hist', bins=8, color='skyblue', edgecolor='black', alpha=0.7)\n",
    "# df['Value'].plot(kind='kde', color='red')\n"
   ]
  },
  {
   "cell_type": "code",
   "execution_count": 20,
   "metadata": {},
   "outputs": [
    {
     "data": {
      "text/html": [
       "<div>\n",
       "<style scoped>\n",
       "    .dataframe tbody tr th:only-of-type {\n",
       "        vertical-align: middle;\n",
       "    }\n",
       "\n",
       "    .dataframe tbody tr th {\n",
       "        vertical-align: top;\n",
       "    }\n",
       "\n",
       "    .dataframe thead th {\n",
       "        text-align: right;\n",
       "    }\n",
       "</style>\n",
       "<table border=\"1\" class=\"dataframe\">\n",
       "  <thead>\n",
       "    <tr style=\"text-align: right;\">\n",
       "      <th></th>\n",
       "      <th>Value</th>\n",
       "    </tr>\n",
       "  </thead>\n",
       "  <tbody>\n",
       "    <tr>\n",
       "      <th>count</th>\n",
       "      <td>128.000000</td>\n",
       "    </tr>\n",
       "    <tr>\n",
       "      <th>mean</th>\n",
       "      <td>578.593750</td>\n",
       "    </tr>\n",
       "    <tr>\n",
       "      <th>std</th>\n",
       "      <td>464.736221</td>\n",
       "    </tr>\n",
       "    <tr>\n",
       "      <th>min</th>\n",
       "      <td>38.000000</td>\n",
       "    </tr>\n",
       "    <tr>\n",
       "      <th>25%</th>\n",
       "      <td>248.500000</td>\n",
       "    </tr>\n",
       "    <tr>\n",
       "      <th>50%</th>\n",
       "      <td>464.000000</td>\n",
       "    </tr>\n",
       "    <tr>\n",
       "      <th>75%</th>\n",
       "      <td>694.750000</td>\n",
       "    </tr>\n",
       "    <tr>\n",
       "      <th>max</th>\n",
       "      <td>2070.000000</td>\n",
       "    </tr>\n",
       "  </tbody>\n",
       "</table>\n",
       "</div>"
      ],
      "text/plain": [
       "             Value\n",
       "count   128.000000\n",
       "mean    578.593750\n",
       "std     464.736221\n",
       "min      38.000000\n",
       "25%     248.500000\n",
       "50%     464.000000\n",
       "75%     694.750000\n",
       "max    2070.000000"
      ]
     },
     "execution_count": 20,
     "metadata": {},
     "output_type": "execute_result"
    }
   ],
   "source": [
    "df.describe()"
   ]
  },
  {
   "cell_type": "markdown",
   "metadata": {},
   "source": [
    "## Retrievers"
   ]
  },
  {
   "cell_type": "markdown",
   "metadata": {},
   "source": [
    "### Parent document retrievers"
   ]
  },
  {
   "cell_type": "code",
   "execution_count": 10,
   "metadata": {},
   "outputs": [],
   "source": [
    "from langchain.retrievers import ParentDocumentRetriever\n",
    "from langchain.storage import InMemoryStore, LocalFileStore\n",
    "from langchain_text_splitters import RecursiveCharacterTextSplitter\n",
    "from langchain.storage._lc_store import create_kv_docstore\n",
    "\n",
    "\n",
    "# This text splitter is used to create the child documents\n",
    "child_splitter = RecursiveCharacterTextSplitter(\n",
    "    chunk_size=400, chunk_overlap=100, add_start_index=True\n",
    ")\n",
    "# The vectorstore to use to index the child chunks\n",
    "vectorstore_chunk_zie_400 = Chroma(\n",
    "    persist_directory=\"./chroma_db/buv_and_student_handbook_400\", embedding_function=embeddings_3_large\n",
    ")\n",
    "# The storage layer for the parent documents\n",
    "# store = InMemoryStore()\n",
    "fs = LocalFileStore(\"./parent_document_store/buv_and_student_handbook\")\n",
    "store = create_kv_docstore(fs)\n",
    "parent_document_retriever = ParentDocumentRetriever(\n",
    "    vectorstore=vectorstore_chunk_zie_400,\n",
    "    docstore=store,\n",
    "    child_splitter=child_splitter,\n",
    "    search_kwargs={\"k\": 10},\n",
    ")"
   ]
  },
  {
   "cell_type": "code",
   "execution_count": 11,
   "metadata": {},
   "outputs": [],
   "source": [
    "parent_document_retriever.add_documents(final_docs, ids=None)"
   ]
  },
  {
   "cell_type": "code",
   "execution_count": 2,
   "metadata": {},
   "outputs": [
    {
     "ename": "NameError",
     "evalue": "name 'store' is not defined",
     "output_type": "error",
     "traceback": [
      "\u001b[0;31m---------------------------------------------------------------------------\u001b[0m",
      "\u001b[0;31mNameError\u001b[0m                                 Traceback (most recent call last)",
      "Cell \u001b[0;32mIn[2], line 1\u001b[0m\n\u001b[0;32m----> 1\u001b[0m \u001b[38;5;28mlen\u001b[39m(\u001b[38;5;28mlist\u001b[39m(\u001b[43mstore\u001b[49m\u001b[38;5;241m.\u001b[39myield_keys()))\n",
      "\u001b[0;31mNameError\u001b[0m: name 'store' is not defined"
     ]
    }
   ],
   "source": [
    "len(list(store.yield_keys()))"
   ]
  },
  {
   "cell_type": "markdown",
   "metadata": {},
   "source": [
    "### Test chunk size"
   ]
  },
  {
   "cell_type": "code",
   "execution_count": 15,
   "metadata": {},
   "outputs": [],
   "source": [
    "# chunk_size 300\n",
    "# text_splitter_300 = RecursiveCharacterTextSplitter(chunk_size=300, chunk_overlap=100)\n",
    "# docs_300 = text_splitter_300.split_documents(final_docs)\n",
    "# db_chunk_size_300 = Chroma.from_documents(docs_300, embeddings_3_large,\n",
    "#                                           persist_directory=\"buv_and_student_handbook_300_embedding_large\")\n",
    "\n",
    "db_chunk_size_300 = Chroma(persist_directory=\"buv_and_student_handbook_300_embedding_large\",\n",
    "                           embeddings=embeddings_3_large)\n"
   ]
  },
  {
   "cell_type": "code",
   "execution_count": 16,
   "metadata": {},
   "outputs": [],
   "source": [
    "# # chunk_size 300\n",
    "# text_splitter_350 = RecursiveCharacterTextSplitter(chunk_size=350, chunk_overlap=100)\n",
    "# docs_350 = text_splitter_350.split_documents(final_docs)\n",
    "# db_chunk_size_350 = Chroma.from_documents(docs_350, embeddings_3_large, \n",
    "#                                           persist_directory=\"buv_and_student_handbook_350_embedding_large\")\n",
    "db_chunk_size_350 = Chroma(persist_directory=\"buv_and_student_handbook_350_embedding_large\",\n",
    "                           embeddings=embeddings_3_large)"
   ]
  },
  {
   "cell_type": "code",
   "execution_count": 32,
   "metadata": {},
   "outputs": [
    {
     "data": {
      "text/plain": [
       "['Who should I contact if I want to ask for my timetable',\n",
       " 'Which department should I contact if I want to ask about my timetable?',\n",
       " 'Who should I contact if I want to ask about my attendance',\n",
       " 'Which department should I contact if I want to ask about my attendance?',\n",
       " 'How can I contact Mr. Frazer?',\n",
       " 'May I ask for Mr. Frazer phone number?',\n",
       " 'I got a question regarding my exam schedule, who should I contact?',\n",
       " 'I got a question regarding my exam schedule, what department should I contact?',\n",
       " 'I want to ask for academic support',\n",
       " 'I need more information about the Student Tutor programme',\n",
       " 'I want to know about the Faculty Learning Support programme']"
      ]
     },
     "execution_count": 32,
     "metadata": {},
     "output_type": "execute_result"
    }
   ],
   "source": [
    "question_lists"
   ]
  },
  {
   "cell_type": "code",
   "execution_count": 55,
   "metadata": {},
   "outputs": [],
   "source": [
    "a = db_chunk_size_300.similarity_search(\"May I ask for Mr. Frazer phone number?\")"
   ]
  },
  {
   "cell_type": "code",
   "execution_count": 58,
   "metadata": {},
   "outputs": [
    {
     "name": "stdout",
     "output_type": "stream",
     "text": [
      "If you or your friend are in a medical emergency case and cannot come to Medical Suite, please reach out to our emergency hotline 090 215 7558 for prompt assistance.  \n",
      "Hours of operation:  \n",
      "From Monday to Friday, 08:30 - 17:30  \n",
      "Weekend operations are dependent on events/activities and classes.\n"
     ]
    }
   ],
   "source": [
    "print(a[2].page_content)"
   ]
  },
  {
   "cell_type": "code",
   "execution_count": 59,
   "metadata": {},
   "outputs": [],
   "source": [
    "a = db_chunk_size_350.similarity_search(\"May I ask for Mr. Frazer phone number?\")"
   ]
  },
  {
   "cell_type": "code",
   "execution_count": 60,
   "metadata": {},
   "outputs": [
    {
     "name": "stdout",
     "output_type": "stream",
     "text": [
      "and up to 4 minutes 59 seconds after the timetabled end of the session. Students should also immediately inform the Student Information Office on the 2nd floor in person about any FRS issue.\n"
     ]
    }
   ],
   "source": [
    "print(a[0].page_content)"
   ]
  },
  {
   "cell_type": "code",
   "execution_count": 61,
   "metadata": {},
   "outputs": [
    {
     "name": "stdout",
     "output_type": "stream",
     "text": [
      "If you or your friend are in a medical emergency case and cannot come to Medical Suite, please reach out to our emergency hotline 090 215 7558 for prompt assistance.  \n",
      "Hours of operation:  \n",
      "From Monday to Friday, 08:30 - 17:30  \n",
      "Weekend operations are dependent on events/activities and classes.\n"
     ]
    }
   ],
   "source": [
    "print(a[1].page_content)"
   ]
  },
  {
   "cell_type": "code",
   "execution_count": 12,
   "metadata": {},
   "outputs": [],
   "source": [
    "a = vectorstore_chunk_zie_400.similarity_search(\"Which department and how should I contact if I want to ask about my timetable?\")"
   ]
  },
  {
   "cell_type": "code",
   "execution_count": 15,
   "metadata": {},
   "outputs": [
    {
     "name": "stdout",
     "output_type": "stream",
     "text": [
      "| Admission Office Provides support and guidance for inquires relate to all Admissions procedure including pre-arrival inquiries. | admissions@buv.edu.vn |\n",
      "| - | - |\n",
      "| Course Office Provides support and guidance for inquires relate to Timetable, Class Arrangement, Status changes, Course Operations, Programme and Module Administration. | courseoffice@buv.edu.vn |\n"
     ]
    }
   ],
   "source": [
    "print(a[2].page_content)"
   ]
  },
  {
   "cell_type": "code",
   "execution_count": 1,
   "metadata": {},
   "outputs": [
    {
     "ename": "NameError",
     "evalue": "name 'parent_document_retriever' is not defined",
     "output_type": "error",
     "traceback": [
      "\u001b[0;31m---------------------------------------------------------------------------\u001b[0m",
      "\u001b[0;31mNameError\u001b[0m                                 Traceback (most recent call last)",
      "Cell \u001b[0;32mIn[1], line 1\u001b[0m\n\u001b[0;32m----> 1\u001b[0m b \u001b[38;5;241m=\u001b[39m \u001b[43mparent_document_retriever\u001b[49m\u001b[38;5;241m.\u001b[39minvoke(\u001b[38;5;124m\"\u001b[39m\u001b[38;5;124mI got a question regarding my exam schedule, who should I contact?\u001b[39m\u001b[38;5;124m\"\u001b[39m)\n",
      "\u001b[0;31mNameError\u001b[0m: name 'parent_document_retriever' is not defined"
     ]
    }
   ],
   "source": [
    "b = parent_document_retriever.invoke(\"I got a question regarding my exam schedule, who should I contact?\")"
   ]
  },
  {
   "cell_type": "code",
   "execution_count": 78,
   "metadata": {},
   "outputs": [
    {
     "name": "stdout",
     "output_type": "stream",
     "text": [
      "## Academic Misconduct Regulation  \n",
      "Academic Conduct and Misconduct for IFP/UOL students, please refer to UOL General Regulations and Programme Regulations which can be found here:  \n",
      "https://www.london.ac.uk/current-students/programme-documents/regulations#undergraduate-29612  \n",
      "General Regulations AY 2022/23 (for both UOL&IFP) https://www.london.ac.uk/sites/default/files/regulations/generalregs-2022-23-v2.pdf  \n",
      "UOL Programme Regulations AY 2022/2023  \n",
      "https://www.london.ac.uk/sites/default/files/progregs-emfss-online-taught-2022-2023-19-07-23.pdf  \n",
      "IFP Programme Regulations AY 2022/2023  \n",
      "https://www.london.ac.uk/sites/default/files/regulations/progregs-ifp-2022-2023.pdf  \n",
      "Academic Misconduct is any action which could give you, or someone else, an unfair advantage in an assessment, including examinations. It is also any actions which could undermine the fairness of assessment and research at the University.  \n",
      "There are different types of academic misconduct. You can find a list at: https://www.staffs.ac.uk/legal/policies/types-of-academic-misconduct.jsp  \n",
      "If your lecturer believes that you have committed academic misconduct, they will gather all evidence and inform your Programme Leader. The evidence will normally include the Turnitin Report, if this is relevant, and any sources which your we believe you have copied from. If the allegations relate to cheating in an exam, we will include the examination certificate.  \n",
      "If your Programme Leader and person identifying the misconduct judge that the instance is likely to be a minor one, as set out in the List of sanction, we will deal with your case informally. If it is considered that your case is more serious, we will ask you to attend a formal meeting that you can find more detail at: https://www.staffs.ac.uk/legal/policies/academic-conduct-procedure.jsp  \n",
      "Poor Academic Practice is not academic misconduct. Poor academic practice happens when you have used too much of other people’s works in your assessment. Alternatively, it is most likely that you have not understood how to reference your work properly. In this case, there should be no evidence that you have tried to gain an unfair advantage in your assessment. If we feel that your work contains poor academic practice, we can discuss this with you and advise on how you can improve in future performance. Because poor academic practice has no penalty, students are not recommended to appeal to this decision. Appeal to poor academic practice can be interpreted that students disagreed with the panel and want to reconsider for Academic misconduct.  \n",
      "Mitigating Factors for Consideration in Assessing a Case  \n",
      "Each of the points below may have an impact on the case outcomes and should be used by the panel to assess the severity of the case.  \n",
      "Whether the student has committed academic misconduct before.  \n",
      "How far the student is into their academic journey.  \n",
      "What the impact of the academic misconduct on the mark awarded is.  \n",
      "Whether the academic misconduct is widespread across a range of modules.  \n",
      "Whether the student has admitted the offence in the first instance.  \n",
      "Whether there is evidence that the student committed academic misconduct on purpose.  \n",
      "Whether the student had personal circumstances which affected their decision making at the time.  \n",
      "Example: A student who has started recently, has committed no previous offences and found on one module not to have accurately reflected content in their referencing is likely to be a minor case compared to a student in their 2 or 3 year of study.  \n",
      "Table of Sanctions  \n",
      "| Instance | Range of sanctions which can be applied |\n",
      "| - | - |\n",
      "| Minor instance. Normally a first offence and limited to a single module. | Failure of the assessment. You will be reassessed, should an opportunity exist. Or Failure of the module concerned with a right to be reassessed should an opportunity exist. |\n",
      "| Major instance Normally a second offence or an offence which is widespread across multiple modules. | Failure of the module concerned with a right to be reassessed should an opportunity exist. Or Failure of the level. All of the marks will be wiped clean and you will re-start the level at the next opportunity. |\n",
      "| Serious instance. Normally a second or third offence or any instance of contract cheating/impersonation. | Failure of the award and/or termination of your studies at the University. Your ability to reapply and enroll again at the university may also be restricted, normally for two whole academic years. |  \n",
      "Appeal to decision of the Panel  \n",
      "If you feel that a decision on your academic conduct is wrong, you can appeal. You will need to put this in writing, to aca.compliance@buv.edu.vn or regulations@staffs.ac.uk with your evidence, within two weeks (excluding holidays) of the decision.  \n",
      "You may appeal against an academic conduct decision for the following reasons which you must make clear in your appeal:  \n",
      "That the procedure was not followed properly, and this has affected the outcome.  \n",
      "That the decision reached was unreasonable due to bias or the harshness of the sanction.  \n",
      "That you have new evidence which you were unable to provide earlier in the process for valid reasons.  \n",
      "The Registry will check that your appeal is:  \n",
      "On time, within 2 weeks (excluding banks holidays) of the decision.  \n",
      "Meets one of the reasons to appeal; and  \n",
      "Is supported by evidence.  \n",
      "If your appeal does not meet all the above, we will not consider it and we will write to you explaining the reason.\n"
     ]
    }
   ],
   "source": [
    "print(b[0].page_content)"
   ]
  },
  {
   "cell_type": "markdown",
   "metadata": {},
   "source": [
    "#### Reload parent document retriever"
   ]
  },
  {
   "cell_type": "markdown",
   "metadata": {},
   "source": [
    "In fact, the ParentDocumentRetriever could be replaced by a MultiVectorRetriever instance since the difference between the two is the add_documents method that the ParentDocumentRetriever has.\n",
    "\n",
    "Refer to here: https://github.com/langchain-ai/langchain/issues/9345"
   ]
  },
  {
   "cell_type": "code",
   "execution_count": 5,
   "metadata": {},
   "outputs": [],
   "source": [
    "from langchain.retrievers import ParentDocumentRetriever\n",
    "from langchain.storage import InMemoryStore, LocalFileStore\n",
    "from langchain_text_splitters import RecursiveCharacterTextSplitter\n",
    "from langchain.storage._lc_store import create_kv_docstore\n",
    "from langchain.retrievers import MultiVectorRetriever\n",
    "\n",
    "\n",
    "# The vectorstore to use to index the child chunks\n",
    "vectorstore_chunk_zie_400 = Chroma(\n",
    "    persist_directory=\"./chroma_db/buv_and_student_handbook_400\", embedding_function=embeddings\n",
    ")\n",
    "# The storage layer for the parent documents\n",
    "# store = InMemoryStore()\n",
    "fs = LocalFileStore(\"./parent_document_store/buv_and_student_handbook\")\n",
    "store = create_kv_docstore(fs)\n",
    "parent_document_retriever = MultiVectorRetriever(\n",
    "    vectorstore=vectorstore_chunk_zie_400,\n",
    "    docstore=store,\n",
    "    search_kwargs={\"k\": 3},\n",
    ")"
   ]
  },
  {
   "cell_type": "code",
   "execution_count": 6,
   "metadata": {},
   "outputs": [
    {
     "data": {
      "text/plain": [
       "['Who should I contact if I want to ask for my timetable',\n",
       " 'Which department should I contact if I want to ask about my timetable?',\n",
       " 'Who should I contact if I want to ask about my attendance',\n",
       " 'Which department should I contact if I want to ask about my attendance?',\n",
       " 'How can I contact Mr. Frazer?',\n",
       " 'May I ask for Mr. Frazer phone number?',\n",
       " 'I got a question regarding my exam schedule, who should I contact?',\n",
       " 'I got a question regarding my exam schedule, what department should I contact?',\n",
       " 'I want to ask for academic support',\n",
       " 'I need more information about the Student Tutor programme',\n",
       " 'I want to know about the Faculty Learning Support programme']"
      ]
     },
     "execution_count": 6,
     "metadata": {},
     "output_type": "execute_result"
    }
   ],
   "source": [
    "question_lists"
   ]
  },
  {
   "cell_type": "code",
   "execution_count": 7,
   "metadata": {},
   "outputs": [],
   "source": [
    "a = vectorstore_chunk_zie_400.similarity_search(question_lists)"
   ]
  },
  {
   "cell_type": "code",
   "execution_count": 18,
   "metadata": {},
   "outputs": [
    {
     "name": "stdout",
     "output_type": "stream",
     "text": [
      "of Office Hours, the students can email their preferred module team members and request a meeting within those hours. In the case that the students are unable to attend the posted Office Hours, the module teams may be able to meet the students at other times depending on their availability.\n"
     ]
    }
   ],
   "source": [
    "print(a[1].page_content)"
   ]
  },
  {
   "cell_type": "code",
   "execution_count": 10,
   "metadata": {},
   "outputs": [],
   "source": [
    "b = parent_document_retriever.invoke(question_lists[0])"
   ]
  },
  {
   "cell_type": "code",
   "execution_count": 16,
   "metadata": {},
   "outputs": [
    {
     "name": "stdout",
     "output_type": "stream",
     "text": [
      "If the academic results of students are not good enough and students/parents are worried, what can BUV support to improve their performance? / Sinh viên/phụ huynh lo rằng kết quả học tập của sinh viên không đủ tốt, liệu nhà trường có kế hoạch gì trong việc giúp đỡ sinh viên cải thiện kết quả học tập không?\n",
      "\n",
      "Answer / Câu trả lời:\n",
      "\n",
      "To improve students’ performance in specific modules, the best way is to stay engaged & reach out to the Modules Leaders for their support. This semester, module teams will be posting their “Office Hours” on the front page of their Canvas site near where you find their email address. To make use of Office Hours, the students can email their preferred module team members and request a meeting within those hours. In the case that the students are unable to attend the posted Office Hours, the module teams may be able to meet the students at other times depending on their availability.\n",
      "\n",
      "Moreover, at BUV, we are dedicated to providing comprehensive academic support even outside of the classrooms to ensure your son/daughter success throughout their educational journey. Our Student Academic Support (SAS) Office is the centralised team to contact whenever students need guidance and assistance in achieving their academic goals. We are now offering 2 programmes to support their academic performance outside of students’ classroom which are: Student Tutor & Faculty Learning Support.\n",
      "\n",
      "Our Student Tutors are experienced BUV students in year 2 and 3 who have demonstrated exceptional academic performance and possess strong interpersonal skills. They are selected & trained to offer tailored academic assistance, helping other students grasp complex subjects, refine study techniques, and enhance their overall understanding of course materials. Through one-on-one sessions, other students can benefit from their expertise and receive personalized guidance to elevate their learning experience.\n",
      "\n",
      "Our Faculty Learning Support Team comprises seasoned academics with diverse expertise. These dedicated professionals are committed to helping students excel academically. Whether students require guidance on specific subjects, study strategies, time management, or English language support, our Faculty Learning Support Team is ready to assist.\n",
      "\n",
      "BUV students can easily book study sessions with Student Tutor & Faculty Learning Support Team via SAS booking system. Students can book multiple sessions with different tutors and faculties based on their needs. Details on booking instructions has been sent via emails to students each semester. Students are strongly advised to take advantage of these valuable resources to enhance their learning experience, conquer challenges, and thrive academically. Should you have any inquiries or require assistance, please reach out to SAS via our email: academic-support@buv.edu.vn.\n",
      "\n",
      "Để cải thiện kết quả học tập cho từng môn học cụ thể, sinh viên nên chủ động tương tác và liên hệ với giảng viên môn học để được hỗ trợ. Trong học kỳ này, trên hệ thống học tập Canvas, “Khung giờ hỗ trợ” của từng môn học sẽ được cập nhật trên trang đầu (vị trí gần với thông tin email của giảng viên). Sinh viên có thể gửi email đến giảng viên của các môn học tương ứng để đặt lịch gặp trong các khung giờ này. Trong trường hợp “Khung giờ hỗ trợ” đã được công bố trên hệ thống học tập Canvas không phù hợp với thời gian biểu của sinh viên, tùy thuộc vào lịch của giảng viên, sinh viên có thể được đặt hẹn trong khung giờ khác.\n",
      "\n",
      "Tại BUV, nhà trường cũng dành sự quan tâm đặc biệt đến hỗ trợ học thuật bổ sung để giúp sinh viên có thể theo kịp việc học trên lớp và đạt được kết quả học tập tốt hơn. Phòng Hỗ trợ học thuật (SAS) sẽ là điểm đến mỗi khi sinh viên cần hướng dẫn hoặc hỗ trợ để cải thiện điểm số và đạt được kết quả học tập như mong muốn. Phòng SAS hiện cung cấp 2 chương trình hỗ trợ học thuật bổ sung: Chương trình Sinh viên Hỗ trợ (Student Tutor) và Chương trình Giảng viên Cố vấn (Faculty Learning Support).\n",
      "\n",
      "Sinh viên Hỗ trợ (Student Tutor) là sinh viên BUV năm 2 và năm 3, có thành tích học tập và kỹ năng giao tiếp tốt. Student Tutor được lựa chọn và hướng dẫn bởi phòng SAS để hỗ trợ học thuật cho các sinh viên khác; giúp giải thích các khái niệm chuyên ngành, rèn luyện kỹ năng học tập cũng như vận dụng tài liệu học để nâng cao điểm số. Qua những buổi học 1-1, Student Tutor sẽ đồng hành cùng sinh viên, chia sẻ kiến thức và cải thiện trải nghiệm học tập của sinh viên tại BUV.\n",
      "\n",
      "Nhóm Giảng viên Cố vấn (Faculty Learning Support Team) bao gồm những giảng viên kỳ cựu có chuyên môn và kinh nghiệm đa dạng của nhà trường. Dù sinh viên cần sự hỗ trợ thêm ở các môn học cụ thể, phương pháp học hay Tiếng Anh học thuật, nhóm Giảng viên Cố vấn sẵn sàng tư vấn và kèm cặp để giúp sinh viên đạt được kết quả tốt hơn.\n",
      "\n",
      "Sinh viên có thể đặt lịch hẹn dễ dàng với Student Tutor và Faculty Learning Support Team qua hệ thống đặt lịch hẹn của SAS. Sinh viên có thể đặt nhiều buổi học, với nhiều sinh viên và giảng viên cố vấn khác nhau tùy theo nhu cầu. Chi tiết về các hình thức hỗ trợ và cách đặt lịch đã được gửi qua email cho sinh viên. Sinh viên được khuyến khích tận dụng những chương trình hỗ trợ trên để cải thiện trải nghiệm học và đạt được thành tích tốt hơn. Mọi câu hỏi về các dịch vụ và chương trình hỗ trợ Học thuật ở BUV, xin vui lòng liên hệ phòng SAS qua địa chỉ email: academic-support@buv.edu.vn.\n"
     ]
    }
   ],
   "source": [
    "print(b[1].page_content)"
   ]
  },
  {
   "cell_type": "markdown",
   "metadata": {},
   "source": [
    "### Rephrase retriever"
   ]
  },
  {
   "cell_type": "code",
   "execution_count": 96,
   "metadata": {},
   "outputs": [],
   "source": [
    "from langchain.chains import LLMChain\n",
    "from langchain_core.prompts import PromptTemplate\n",
    "from langchain.retrievers import RePhraseQueryRetriever\n",
    "\n",
    "QUERY_PROMPT = PromptTemplate(\n",
    "    input_variables=[\"question\"],\n",
    "    template=\"\"\"You are an assistant tasked with taking a natural languge query from a user\n",
    "    and converting it into a query for a vectorstore. \n",
    "    Instruction:\n",
    "    - Strip out all information that is not relevant for the retrieval task and return a new, simplified\n",
    "    question for vectorstore retrieval. The new user query should be in pirate speech.\n",
    "\n",
    "    Here is the user query: {question} \"\"\",\n",
    ")\n",
    "llm_chain = LLMChain(llm=gpt_35_turbo_16k, prompt=QUERY_PROMPT)\n",
    "retriever_from_llm_chain = RePhraseQueryRetriever(\n",
    "    retriever=parent_document_retriever, llm_chain=llm_chain\n",
    ")"
   ]
  },
  {
   "cell_type": "code",
   "execution_count": 101,
   "metadata": {},
   "outputs": [],
   "source": [
    "a = retriever_from_llm_chain.invoke(\"Please send me the student code of conduct at BUV for my compliance with the school policy\")"
   ]
  },
  {
   "cell_type": "code",
   "execution_count": 103,
   "metadata": {},
   "outputs": [
    {
     "name": "stdout",
     "output_type": "stream",
     "text": [
      "## Student Code of Conduct  \n",
      "Being a proud member of the University community means engaging with your studies and supporting others to do so. As a student you are entitled to respect. As a member of our University, we expect you to respect and be tolerant of others, including other students, staff and the public. This means listening to others, celebrating the diversity of our community, and following the University policies, regulations and the law.  \n",
      "The following list will help you understand what conduct is expected of you as a member of our University community:  \n",
      "Treat others with tolerance, dignity and respect, either in person or online.  \n",
      "Follow all University regulations and policies.  \n",
      "Respect your environment, both on and off campus.  \n",
      "Treat University property with respect  \n",
      "Follow health and safety rules and guidelines  \n",
      "Act within the law and do not negatively impact on the University’s reputation  \n",
      "Any violation of the conducts or regulations will result in relative disciplinary decision made by the Disciplinary Panel of the University  \n",
      "At all times, you are expected to behave in a courteous manner to staff and fellow students.  \n",
      "You are expected to attend your programme of study regularly and punctually. You are required to achieve the required level of attendance in order to be permitted to take the relevant assessment for any module.  \n",
      "The possession and/or use of illegal drugs, alcohol liquids and abuse of intoxicating substances on University premises is strictly forbidden.  \n",
      "The possession and/or use of firearms or other offensive weapons (including replicas) on University premises is strictly forbidden.  \n",
      "For reasons of health, safety and hygiene, smoking (including vaping, using electronic cigarrete or similar devices) is not permitted within the University and in front of the university’s entrance pathway.  \n",
      "Food and drink may be consumed only in authorized areas and not in teaching rooms, Learning Resource Centre, IT areas or examination rooms unless permission has been given to do so for documented medical reasons.  \n",
      "You must not sell goods or services on University premises.  \n",
      "Any form of card playing or gambling on University premises is strictly forbidden.  \n",
      "The University takes all cases of breaches of disciplinary procedures seriously and has the right to take appropriate action against those students who breach them. These actions may include suspension, academic probation or expulsion.\n"
     ]
    }
   ],
   "source": [
    "print(a[1].page_content)"
   ]
  },
  {
   "cell_type": "markdown",
   "metadata": {},
   "source": [
    "## Create chain"
   ]
  },
  {
   "cell_type": "code",
   "execution_count": 13,
   "metadata": {},
   "outputs": [],
   "source": [
    "from langchain_core.prompts import PromptTemplate\n",
    "from langchain_core.output_parsers import StrOutputParser\n",
    "from langchain_core.runnables import RunnablePassthrough\n",
    "\n",
    "\n",
    "def format_docs_vectorstore_retriever(docs, num_parent_docs=2):\n",
    "    return \"\\n\\n\".join(doc.page_content for doc in docs[:num_parent_docs])\n",
    "\n",
    "def format_docs_parent_retriever(docs, num_parent_docs=2):\n",
    "    return \"\\n\\n\".join(doc.page_content for doc in docs[:num_parent_docs])\n",
    "\n",
    "template = \"\"\"\n",
    "You are an AI assistant that helps students answering specific questions based on student handbook. \n",
    "\n",
    "Use the following pieces of context to answer the question at the end.\n",
    "If you don't know the answer, just say that you don't know, don't try to make up an answer.\n",
    "Keep the answer as concise as possible.\n",
    "Always say \"thanks for asking!\" at the end of the answer.\n",
    "\n",
    "Context:\n",
    "{context}\n",
    "\n",
    "Question: \n",
    "{question}\n",
    "\n",
    "Helpful Answer:\"\"\"\n",
    "custom_rag_prompt = PromptTemplate.from_template(template)\n",
    "\n",
    "from operator import itemgetter\n",
    "# rag_chain_with_vectorstore_retriever = (\n",
    "#     {\"context\": itemgetter(\"question\") | retriever | format_docs_vectorstore_retriever, \"question\": itemgetter(\"question\")}\n",
    "#     | custom_rag_prompt\n",
    "#     | gpt_35_turbo_16k\n",
    "#     | StrOutputParser()\n",
    "# )\n",
    "\n",
    "rag_chain_with_parent_retriever = (\n",
    "    {\"context\": itemgetter(\"question\") | parent_document_retriever | format_docs_parent_retriever, \"question\": itemgetter(\"question\")}\n",
    "    | custom_rag_prompt\n",
    "    | gpt_35_turbo_16k\n",
    "    | StrOutputParser()\n",
    ")\n",
    "\n"
   ]
  },
  {
   "cell_type": "code",
   "execution_count": 14,
   "metadata": {},
   "outputs": [],
   "source": [
    "template_2 = \"\"\"\n",
    "You are an AI assistant that helps students answering specific questions based on student handbook. \n",
    "\n",
    "Use the following pieces of context to answer the question at the end.\n",
    "If you don't know the answer, just say that you don't know, don't try to make up an answer.\n",
    "Keep the answer as concise as possible.\n",
    "Always say \"thanks for asking!\" at the end of the answer.\n",
    "\n",
    "Context:\n",
    "{context}\n",
    "\n",
    "Question: \n",
    "{question}\n",
    "\n",
    "Helpful Answer:\"\"\"\n",
    "custom_rag_prompt_2 = PromptTemplate.from_template(template_2)\n",
    "\n",
    "rag_chain_with_parent_retriever_2 = (\n",
    "    {\"context\": itemgetter(\"question\") | parent_document_retriever | format_docs_parent_retriever, \"question\": itemgetter(\"question\")}\n",
    "    | custom_rag_prompt_2\n",
    "    | smart_llm\n",
    "    | StrOutputParser()\n",
    ")\n"
   ]
  },
  {
   "cell_type": "code",
   "execution_count": 15,
   "metadata": {},
   "outputs": [],
   "source": [
    "template_3 = \"\"\"\n",
    "You are an AI assistant that helps students answering specific questions based on given contexts. \n",
    "\n",
    "Use the following pieces of context to answer the question at the end.\n",
    "If you don't know the answer, just say that you don't know, don't try to make up an answer.\n",
    "Keep the answer as concise as possible, but the answer MUST contain all information in the given context which students may want to hear related to question.\n",
    "Always say \"thanks for asking!\" at the end of the answer.\n",
    "\n",
    "Context:\n",
    "{context}\n",
    "\n",
    "Question: \n",
    "{question}\n",
    "\n",
    "Helpful Answer:\"\"\"\n",
    "custom_rag_prompt_3 = PromptTemplate.from_template(template_3)\n",
    "\n",
    "rag_chain_with_parent_retriever_3 = (\n",
    "    {\"context\": itemgetter(\"question\") | parent_document_retriever | format_docs_parent_retriever, \"question\": itemgetter(\"question\")}\n",
    "    | custom_rag_prompt_3\n",
    "    | gpt_35_turbo_16k\n",
    "    | StrOutputParser()\n",
    ")\n",
    "\n",
    "# template 4\n",
    "template_4 = \"\"\"\n",
    "As an AI assistant specializing in student support, your task is to provide concise and comprehensive answers to specific questions based on the provided context. \n",
    "\n",
    "Instructions:\n",
    "1. Begin by reading the context carefully.\n",
    "2. Answer the question based on the information given in the context.\n",
    "3. If the answer is not available in the context, admit that you don't know the answer. Do not fabricate responses.\n",
    "4. Keep your answer as succinct as possible, but ensure it includes all relevant information from the context. For examples: \n",
    "    - if students ask about a department or services, you should answer not only department name or serivec name, but also service link and department contact such as email, phone, ... if those information have in the context. \n",
    "    - if context does not have specific answer, but contain reference information such as reference link, reference contact point, support contact point and so on. Then you should show it up.\n",
    "    - if context contains advices for specific student's action, you should show it up.\n",
    "5. Conclude your answer with \"Thanks for asking!\" to maintain a friendly interaction.\n",
    "\n",
    "### \n",
    "\n",
    "Context:\n",
    "{context}\n",
    "\n",
    "Question: \n",
    "{question}\n",
    "\n",
    "Your Informative Answer:\"\"\"\n",
    "\n",
    "rag_chain_with_parent_retriever_4 = (\n",
    "    {\"context\": itemgetter(\"question\") | parent_document_retriever | format_docs_parent_retriever, \"question\": itemgetter(\"question\")}\n",
    "    | PromptTemplate.from_template(template_4)\n",
    "    | gpt_35_turbo_16k\n",
    "    | StrOutputParser()\n",
    ")"
   ]
  },
  {
   "cell_type": "code",
   "execution_count": 17,
   "metadata": {},
   "outputs": [
    {
     "name": "stdout",
     "output_type": "stream",
     "text": [
      "The outcomes of academic misconduct can range from failure of the assessment or module to failure of the level or even termination of studies at the university. The severity of the outcome depends on the level of misconduct and is determined by the Award Board. It is advised to follow the Academic Conduct Procedure and seek guidance from the Academic Compliance Office for further information. Thanks for asking!\n"
     ]
    }
   ],
   "source": [
    "print(rag_chain_with_parent_retriever.invoke({'question':\"What are the outcomes in case I got the misconduct?\"}))"
   ]
  },
  {
   "cell_type": "code",
   "execution_count": 137,
   "metadata": {},
   "outputs": [
    {
     "name": "stdout",
     "output_type": "stream",
     "text": [
      "You need to contact the Transportation Team for any transportation issues. You can reach them through the hotline number 0704 068 386 or by sending an email to transportation@buv.edu.vn. Thanks for asking!\n"
     ]
    }
   ],
   "source": [
    "print(rag_chain_with_parent_retriever_3.invoke({'question':\"Which department do I need to contact for transportation issues?\"}))"
   ]
  },
  {
   "cell_type": "code",
   "execution_count": 16,
   "metadata": {},
   "outputs": [
    {
     "name": "stdout",
     "output_type": "stream",
     "text": [
      "British University Vietnam doesn't have the graduated GPA ranking. Thanks for asking!\n"
     ]
    }
   ],
   "source": [
    "print(rag_chain_with_parent_retriever_4.invoke({'question':\"Does the University provide information of graduation ranking?\"}))"
   ]
  },
  {
   "cell_type": "code",
   "execution_count": 107,
   "metadata": {},
   "outputs": [
    {
     "name": "stdout",
     "output_type": "stream",
     "text": [
      "You can request for a Break-in-Study for a minimum of one term to a maximum of one year. Please remember to seek advice from the Learning Support team or Discipline Lead before making any decisions. Thanks for asking!\n"
     ]
    }
   ],
   "source": [
    "print(rag_chain_with_parent_retriever_2.invoke({'question':\"I want to request for a gap, how long can I do that?\"}))"
   ]
  },
  {
   "cell_type": "markdown",
   "metadata": {},
   "source": [
    "# Testing"
   ]
  },
  {
   "cell_type": "code",
   "execution_count": 16,
   "metadata": {},
   "outputs": [
    {
     "data": {
      "text/plain": [
       "['I want to get a copy of the scholarship maintenance form',\n",
       " 'When does the Student Hub Student Hub & Food Court open?',\n",
       " 'How can I have the weekly menus updated?',\n",
       " 'What is the link to the website for topping up?',\n",
       " 'What should I do if I lose the Student ID Card?',\n",
       " 'Can I have the room list to book for self-studying?',\n",
       " 'Can I choose the room to book for self-studying?',\n",
       " 'When is the bus schedule for the weekday sent out?',\n",
       " 'Can first year students go for internships?',\n",
       " 'What should I do if I come across difficulties during my internship?',\n",
       " 'Which department should I ask for help if I have some issues during the internship?',\n",
       " 'Can I get the Certificate of Internship Completion?',\n",
       " 'How many industrial partners are in the career network at BUV?',\n",
       " 'What is the progression condition at BUV?',\n",
       " 'what would happen if student fails the resit(s)?',\n",
       " 'What will happen if the External Examination Board decides for students to retake a module/re-study?',\n",
       " 'Do I have my result this semester?',\n",
       " 'When can I receive student’s result this semester?',\n",
       " 'How can I receive student’s result this semester?',\n",
       " 'what is the contact point of Student Information Office?']"
      ]
     },
     "execution_count": 16,
     "metadata": {},
     "output_type": "execute_result"
    }
   ],
   "source": [
    "question_lists"
   ]
  },
  {
   "cell_type": "code",
   "execution_count": 51,
   "metadata": {},
   "outputs": [],
   "source": [
    "bot_answers_with_vectorstore_as_retriever =  [rag_chain_with_vectorstore_retriever.invoke({'question':q}) for q in question_lists]"
   ]
  },
  {
   "cell_type": "code",
   "execution_count": 17,
   "metadata": {},
   "outputs": [],
   "source": [
    "bot_answers_with_parent_document_as_retriever =  [rag_chain_with_parent_retriever.invoke({'question':q}) for q in question_lists[-4:]]"
   ]
  },
  {
   "cell_type": "code",
   "execution_count": 18,
   "metadata": {},
   "outputs": [],
   "source": [
    "import pandas as pd\n",
    "answer_df = pd.DataFrame({\n",
    "    \"Question\": question_lists[-4:],\n",
    "    # \"bot_answers_with_vectorstore_as_retriever\": bot_answers_with_vectorstore_as_retriever,\n",
    "    \"bot_answers_with_parent_document_as_retriever\": bot_answers_with_parent_document_as_retriever\n",
    "})"
   ]
  },
  {
   "cell_type": "code",
   "execution_count": 19,
   "metadata": {},
   "outputs": [
    {
     "name": "stdout",
     "output_type": "stream",
     "text": [
      "|    | Question                                                 | bot_answers_with_parent_document_as_retriever                                                                                                                                                                                                                                       |\n",
      "|---:|:---------------------------------------------------------|:------------------------------------------------------------------------------------------------------------------------------------------------------------------------------------------------------------------------------------------------------------------------------------|\n",
      "|  0 | Do I have my result this semester?                       | If you are studying the BUV programme, you can expect to receive your results around 10 weeks after the semester's final assessments period. The Central Academic Information Services (CAIS) team will send the results via email to both you and your parents. Thanks for asking! |\n",
      "|  1 | When can I receive student’s result this semester?       | If you study BUV programme, you can expect to receive your results around 10 weeks after the semester's final assessments period. The Central Academic Information Services (CAIS) team will send the results via email to both you and your parents. Thanks for asking!            |\n",
      "|  2 | How can I receive student’s result this semester?        | If students study BUV programme, student’s grades are available around 10 weeks after the semester’s final assessments period. Central Academic Information Services (CAIS) team will send the students’ results via email to both the parents and the students. Thanks for asking! |\n",
      "|  3 | what is the contact point of Student Information Office? | The contact point for the Student Information Office is studentservice@buv.edu.vn. Thanks for asking!                                                                                                                                                                               |\n"
     ]
    }
   ],
   "source": [
    "print(answer_df.to_markdown())"
   ]
  },
  {
   "cell_type": "markdown",
   "metadata": {},
   "source": [
    "|    | Question                                                 | bot_answers_with_parent_document_as_retriever                                                                                                                                                                                                                                       |\n",
    "|---:|:---------------------------------------------------------|:------------------------------------------------------------------------------------------------------------------------------------------------------------------------------------------------------------------------------------------------------------------------------------|\n",
    "|  0 | Do I have my result this semester?                       | If you are studying the BUV programme, you can expect to receive your results around 10 weeks after the semester's final assessments period. The Central Academic Information Services (CAIS) team will send the results via email to both you and your parents. Thanks for asking! |\n",
    "|  1 | When can I receive student’s result this semester?       | If you study BUV programme, you can expect to receive your results around 10 weeks after the semester's final assessments period. The Central Academic Information Services (CAIS) team will send the results via email to both you and your parents. Thanks for asking!            |\n",
    "|  2 | How can I receive student’s result this semester?        | If students study BUV programme, student’s grades are available around 10 weeks after the semester’s final assessments period. Central Academic Information Services (CAIS) team will send the students’ results via email to both the parents and the students. Thanks for asking! |\n",
    "|  3 | what is the contact point of Student Information Office? | The contact point for the Student Information Office is studentservice@buv.edu.vn. Thanks for asking!                                                                                                                                                                               |\n"
   ]
  },
  {
   "cell_type": "code",
   "execution_count": null,
   "metadata": {},
   "outputs": [],
   "source": []
  }
 ],
 "metadata": {
  "kernelspec": {
   "display_name": ".venv",
   "language": "python",
   "name": "python3"
  },
  "language_info": {
   "codemirror_mode": {
    "name": "ipython",
    "version": 3
   },
   "file_extension": ".py",
   "mimetype": "text/x-python",
   "name": "python",
   "nbconvert_exporter": "python",
   "pygments_lexer": "ipython3",
   "version": "3.11.5"
  }
 },
 "nbformat": 4,
 "nbformat_minor": 2
}

{
 "cells": [
  {
   "cell_type": "markdown",
   "metadata": {},
   "source": [
    "# Setup"
   ]
  },
  {
   "cell_type": "code",
   "execution_count": 1,
   "metadata": {},
   "outputs": [],
   "source": [
    "import os\n",
    "import pandas as pd\n",
    "pd.set_option(\"display.max_colwidth\", None)\n",
    "\n",
    "os.environ[\"AZURE_OPENAI_ENDPOINT\"] = \"https://dalle3-swo.openai.azure.com/\"\n",
    "os.environ[\"AZURE_OPENAI_API_KEY\"] = \"e51119f8d8774069a6594d92ccf7a70d\""
   ]
  },
  {
   "cell_type": "code",
   "execution_count": 2,
   "metadata": {},
   "outputs": [],
   "source": [
    "from langchain_community.utilities import GoogleSearchAPIWrapper\n",
    "from langchain_community.vectorstores import Chroma\n",
    "from langchain_openai import AzureChatOpenAI, AzureOpenAIEmbeddings, OpenAIEmbeddings\n",
    "from langchain_core.output_parsers import BaseOutputParser\n",
    "from typing import List, Optional\n",
    "import re\n",
    "from langchain_core.prompts import ChatPromptTemplate\n",
    "from langchain_core.runnables import chain\n",
    "from langchain_community.utilities import GoogleSerperAPIWrapper\n",
    "from langchain_core.output_parsers import StrOutputParser\n",
    "\n",
    "# LLM\n",
    "llm = AzureChatOpenAI(\n",
    "    openai_api_version=\"2024-02-15-preview\",\n",
    "    azure_deployment=\"gpt-35-turbo\",\n",
    "    temperature=0\n",
    ") \n",
    "smart_llm = AzureChatOpenAI(\n",
    "    openai_api_version=\"2024-02-15-preview\",\n",
    "    azure_deployment=\"gpt-4\",\n",
    "    temperature=0\n",
    ") \n",
    "gpt_35_turbo_instruct = AzureChatOpenAI(\n",
    "    openai_api_version=\"2024-02-15-preview\",\n",
    "    azure_deployment=\"gpt-35-turbo-instruct\",\n",
    "    temperature=0\n",
    ") \n",
    "# Embedding\n",
    "embeddings = AzureOpenAIEmbeddings(\n",
    "    azure_deployment=\"text-embedding-ada-002\",\n",
    "    openai_api_version=\"2024-02-15-preview\",\n",
    ")"
   ]
  },
  {
   "cell_type": "markdown",
   "metadata": {},
   "source": [
    "# Current Problems"
   ]
  },
  {
   "cell_type": "markdown",
   "metadata": {},
   "source": [
    "bus route:\n",
    "- tự ý hiện time date\n",
    "- tự hiện số xe bus\n",
    "- file pdf khó hiểu (ko phải là miêu tả pick up point mà là miêu tả tuyển đường)\n",
    "- calendar đang từ mùng 8 đến 12, nhưng hỏi lịch bus ngày mùng 9 thì ko trả lời đc\n",
    "- cách hỏi: có route bus nào available ko? -> đang assume là bot hiểu thành sitting slot available\n",
    "hỏi lịch bus vào thứ 2 thì bot chỉ trả lời 1 chuyến, ví dụ có chuyến lúc 7h, thực tế thì đang mong chờ nó list cả hành trình"
   ]
  },
  {
   "cell_type": "markdown",
   "metadata": {},
   "source": [
    "# Test questions"
   ]
  },
  {
   "cell_type": "code",
   "execution_count": 3,
   "metadata": {},
   "outputs": [],
   "source": [
    "question_lists = [\n",
    "    \"I'm at BUV. I want to go to 87 Lang Ha, tell me available bus\",\n",
    "    \"Tell me what are available routes for Monday 09 Apr\",\n",
    "    \"What is the last bus timing from 87 LANG HA to BUV CAMPUS? I have a study group that ends late.\",\n",
    "    \"How do I get updated information about daily traffic situations for the CAU GIAY route?\",\n",
    "]"
   ]
  },
  {
   "cell_type": "markdown",
   "metadata": {},
   "source": [
    "# Implementation"
   ]
  },
  {
   "cell_type": "markdown",
   "metadata": {},
   "source": [
    "## Process input"
   ]
  },
  {
   "cell_type": "code",
   "execution_count": 4,
   "metadata": {},
   "outputs": [],
   "source": [
    "from langchain_community.document_loaders import AzureAIDocumentIntelligenceLoader\n",
    "\n",
    "file_path = [\n",
    "    \"../data/bus_route/Cau Giay Bus Route Schedule_08.04.2024 - 12.04.2024 1.pdf\",\n",
    "    \"../data/bus_route/Tay Ho Bus Route Schedule_08.04.2024 - 12.04.2024 1.pdf\"\n",
    "             ]\n",
    "endpoint = \"https://di-buv.cognitiveservices.azure.com/\"\n",
    "key = \"fe9f945227944764889fd95f3bb2abda\"\n",
    "\n",
    "documents = []\n",
    "for path in file_path:\n",
    "    loader = AzureAIDocumentIntelligenceLoader(\n",
    "    api_endpoint=endpoint, api_key=key, file_path=path, api_model=\"prebuilt-layout\"\n",
    "    )\n",
    "    documents = documents + loader.load()"
   ]
  },
  {
   "cell_type": "code",
   "execution_count": 5,
   "metadata": {},
   "outputs": [
    {
     "data": {
      "text/plain": [
       "<langchain_community.vectorstores.chroma.Chroma at 0x1079bab50>"
      ]
     },
     "execution_count": 5,
     "metadata": {},
     "output_type": "execute_result"
    }
   ],
   "source": [
    "from langchain_text_splitters import RecursiveCharacterTextSplitter\n",
    "from langchain_text_splitters import MarkdownHeaderTextSplitter\n",
    "\n",
    "text_splitter = RecursiveCharacterTextSplitter(\n",
    "    chunk_size=1024, chunk_overlap=200, add_start_index=True\n",
    ")\n",
    "all_splits = text_splitter.split_documents(documents)\n",
    "\n",
    "# Save to disk\n",
    "Chroma.from_documents(documents=all_splits, embedding=embeddings, persist_directory=\"./chroma_db/bus_route\")\n"
   ]
  },
  {
   "cell_type": "markdown",
   "metadata": {},
   "source": [
    "## Create chain"
   ]
  },
  {
   "cell_type": "code",
   "execution_count": 7,
   "metadata": {},
   "outputs": [],
   "source": [
    "# load from disk\n",
    "vectorstore = Chroma(persist_directory=\"./chroma_db/bus_route\", embedding_function=embeddings)\n",
    "retriever = vectorstore.as_retriever(search_type=\"similarity\", search_kwargs={\"k\": 5})"
   ]
  },
  {
   "cell_type": "code",
   "execution_count": 8,
   "metadata": {},
   "outputs": [],
   "source": [
    "from langchain_core.prompts import PromptTemplate\n",
    "from langchain_core.output_parsers import StrOutputParser\n",
    "from langchain_core.runnables import RunnablePassthrough\n",
    "\n",
    "\n",
    "def format_docs(docs):\n",
    "    return \"\\n\\n\".join(doc.page_content for doc in docs)\n",
    "\n",
    "template = \"\"\"\n",
    "You are an AI assistant that helps students find information about bus schedule. \n",
    "\n",
    "Here are some notes you MUST pay attention to:\n",
    "- Some slots are just available at several specific days such as Tue to Fri, Tue and Fri, ... So if students want to pick up on Monday, just suggest slots available in Mon.\n",
    "- The first column of bus schedule table is the bus route. For example, buv campus --> cau giay schedule, the bus starts from buv campus, then go to 87 Lang Ha, then go to Nguyen Quoc Tri. So if students want to take bus from BUV to Lang Ha, use time slot at BUV, not Lang Ha.\n",
    "- In the document, The date is abbreviated. For example, Mon is Monday, Tue is Tuesday, and so on.\n",
    "- Some bus schedules are just effective at a specific time range\n",
    "\n",
    "Use the following pieces of context to answer the question at the end.\n",
    "If you don't know the answer, just say that you don't know, don't try to make up an answer.\n",
    "Keep the answer as concise as possible.\n",
    "Always say \"thanks for asking!\" at the end of the answer.\n",
    "\n",
    "{context}\n",
    "\n",
    "Question: {question}\n",
    "\n",
    "Helpful Answer:\"\"\"\n",
    "custom_rag_prompt = PromptTemplate.from_template(template)\n",
    "\n",
    "from operator import itemgetter\n",
    "rag_chain = (\n",
    "    {\"context\": itemgetter(\"question\") | retriever | format_docs, \"question\": itemgetter(\"question\")}\n",
    "    | custom_rag_prompt\n",
    "    | llm\n",
    "    | StrOutputParser()\n",
    ")\n",
    "\n"
   ]
  },
  {
   "cell_type": "markdown",
   "metadata": {},
   "source": [
    "# Testing"
   ]
  },
  {
   "cell_type": "code",
   "execution_count": 9,
   "metadata": {},
   "outputs": [
    {
     "data": {
      "text/plain": [
       "[\"I'm at BUV. I want to go to 87 Lang Ha, tell me available bus\",\n",
       " 'Tell me what are available routes for Monday 09 Apr',\n",
       " 'What is the last bus timing from 87 LANG HA to BUV CAMPUS? I have a study group that ends late.',\n",
       " 'How do I get updated information about daily traffic situations for the CAU GIAY route?']"
      ]
     },
     "execution_count": 9,
     "metadata": {},
     "output_type": "execute_result"
    }
   ],
   "source": [
    "question_lists"
   ]
  },
  {
   "cell_type": "code",
   "execution_count": 10,
   "metadata": {},
   "outputs": [
    {
     "name": "stdout",
     "output_type": "stream",
     "text": [
      "The available bus from BUV to 87 Lang Ha is at the following time slots: Slot 1: 08:05, Slot 2: 10:35, Slot 3: 11:30, Slot 4: 12:45, Slot 5: 14:35. Thanks for asking!\n"
     ]
    }
   ],
   "source": [
    "print(rag_chain.invoke({'question':\"I'm at BUV. I want to go to 87 Lang Ha, tell me available bus\"}))"
   ]
  },
  {
   "cell_type": "code",
   "execution_count": 10,
   "metadata": {},
   "outputs": [],
   "source": [
    "bot_answers = rag_chain.batch(question_lists)"
   ]
  },
  {
   "cell_type": "code",
   "execution_count": 19,
   "metadata": {},
   "outputs": [
    {
     "data": {
      "text/plain": [
       "[\"I'm at BUV. I want to go to 87 Lang Ha, tell me available bus\",\n",
       " 'Tell me what are available routes for Monday 09 Apr',\n",
       " 'What is the last bus timing from 87 LANG HA to BUV CAMPUS? I have a study group that ends late.',\n",
       " 'How do I get updated information about daily traffic situations for the CAU GIAY route?']"
      ]
     },
     "execution_count": 19,
     "metadata": {},
     "output_type": "execute_result"
    }
   ],
   "source": [
    "question_lists"
   ]
  },
  {
   "cell_type": "code",
   "execution_count": 11,
   "metadata": {},
   "outputs": [],
   "source": [
    "import pandas as pd\n",
    "answer_df = pd.DataFrame({\n",
    "    \"Question\": question_lists,\n",
    "    \"Bot Answer\": bot_answers\n",
    "})"
   ]
  },
  {
   "cell_type": "code",
   "execution_count": null,
   "metadata": {},
   "outputs": [],
   "source": [
    "print(answer_df.to_markdown())"
   ]
  },
  {
   "cell_type": "markdown",
   "metadata": {},
   "source": [
    "|    | Question                                                                                        | Bot Answer                                                                                                                                    |\n",
    "|---:|:------------------------------------------------------------------------------------------------|:----------------------------------------------------------------------------------------------------------------------------------------------|\n",
    "|  0 |  I'm at BUV. I want to go to 87 Lang Ha, tell me available bus                                  | From BUV Campus to 87 Lang Ha, you have the following options:                                                                                |\n",
    "|    |                                                                                                 |                                                                                                                                               |\n",
    "|    |                                                                                                 | - Slot 1: 11:30 from Mon to Fri                                                                                                               |\n",
    "|    |                                                                                                 | - Slot 2: 12:30 from Mon to Fri                                                                                                               |\n",
    "|    |                                                                                                 | - Slot 3: 13:30 on Wed and Fri                                                                                                                |\n",
    "|    |                                                                                                 | - Slot 4: 15:15 from Mon to Fri                                                                                                               |\n",
    "|    |                                                                                                 | - Slot 5: 17:35 from Mon to Fri                                                                                                               |\n",
    "|    |                                                                                                 |                                                                                                                                               |\n",
    "|    |                                                                                                 | Please note that these schedules are effective from 08. 04. 2024 to 12. 04. 2024. Thanks for asking!                                          |\n",
    "|  1 | Tell me what are available routes for Monday 09 Apr                                             | On Monday, 09 Apr, the available routes are:                                                                                                  |\n",
    "|    |                                                                                                 |                                                                                                                                               |\n",
    "|    |                                                                                                 | 1. Cau Giay Route:                                                                                                                            |\n",
    "|    |                                                                                                 |    - Pick-up from Nguyen Quoc Tri at 07:00 and 11:40                                                                                          |\n",
    "|    |                                                                                                 |    - Pick-up from 87 Lang Ha at 07:15 and 11:55                                                                                               |\n",
    "|    |                                                                                                 |    - Pick-up from BUV Campus at 08:05 and 12:45                                                                                               |\n",
    "|    |                                                                                                 |                                                                                                                                               |\n",
    "|    |                                                                                                 | 2. Tay Ho Route:                                                                                                                              |\n",
    "|    |                                                                                                 |    - Pick-up from 107 Xuan Dieu at 07:40 and 11:40                                                                                            |\n",
    "|    |                                                                                                 |    - Pick-up from Ho Tay Water Park at 07:50 and 11:50                                                                                        |\n",
    "|    |                                                                                                 |    - Pick-up from Vinhomes Ocean Park at 08:30 and 12:30                                                                                      |\n",
    "|    |                                                                                                 |    - Pick-up from BUV Ecopark at 08:40 and 12:40                                                                                              |\n",
    "|    |                                                                                                 |                                                                                                                                               |\n",
    "|    |                                                                                                 | Thanks for asking!                                                                                                                            |\n",
    "|  2 | What is the last bus timing from 87 LANG HA to BUV CAMPUS? I have a study group that ends late. | The last bus from 87 Lang Ha to BUV Campus is at 13:45. Thanks for asking!                                                                    |\n",
    "|  3 | How do I get updated information about daily traffic situations for the CAU GIAY route?         | You can get updated information about the daily traffic situation for the Cau Giay route by scanning the provided QR code. Thanks for asking! |\n"
   ]
  },
  {
   "cell_type": "code",
   "execution_count": null,
   "metadata": {},
   "outputs": [],
   "source": []
  }
 ],
 "metadata": {
  "kernelspec": {
   "display_name": ".venv",
   "language": "python",
   "name": "python3"
  },
  "language_info": {
   "codemirror_mode": {
    "name": "ipython",
    "version": 3
   },
   "file_extension": ".py",
   "mimetype": "text/x-python",
   "name": "python",
   "nbconvert_exporter": "python",
   "pygments_lexer": "ipython3",
   "version": "3.11.5"
  }
 },
 "nbformat": 4,
 "nbformat_minor": 2
}

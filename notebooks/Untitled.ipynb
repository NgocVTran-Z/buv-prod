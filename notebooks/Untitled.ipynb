{
 "cells": [
  {
   "cell_type": "code",
   "execution_count": 1,
   "id": "4341c6ed-1740-438e-97b7-5b5a0f2d3b4e",
   "metadata": {},
   "outputs": [],
   "source": [
    "import pandas as pd"
   ]
  },
  {
   "cell_type": "code",
   "execution_count": 2,
   "id": "194053ce-7d7b-4980-8747-51c9f9aef95a",
   "metadata": {},
   "outputs": [],
   "source": [
    "# import datetime\n",
    "from datetime import datetime"
   ]
  },
  {
   "cell_type": "code",
   "execution_count": 3,
   "id": "1e3b1839-8dbe-4227-b7c7-d018b7e90479",
   "metadata": {},
   "outputs": [],
   "source": [
    "bus_schedule_file = \"../data/bus.xlsx\""
   ]
  },
  {
   "cell_type": "code",
   "execution_count": 4,
   "id": "64b0a0ee-c78b-4ab2-9c56-ce7cd7b85807",
   "metadata": {},
   "outputs": [
    {
     "data": {
      "text/plain": [
       "['Cau Giay',\n",
       " 'Ha Dong',\n",
       " 'Hai Ba Trung',\n",
       " 'Ecopark',\n",
       " 'Tay Ho',\n",
       " '15.07 - 19.07',\n",
       " '22.07 - 26.07',\n",
       " '29.07 - 02.08',\n",
       " '05.07 - 09.08',\n",
       " '12.07 - 17.08',\n",
       " '19.07 - 24.08']"
      ]
     },
     "execution_count": 4,
     "metadata": {},
     "output_type": "execute_result"
    }
   ],
   "source": [
    "# Get the list of sheet names\n",
    "sheet_names = pd.ExcelFile(bus_schedule_file).sheet_names\n",
    "sheet_names"
   ]
  },
  {
   "cell_type": "code",
   "execution_count": null,
   "id": "c8ac3152-b075-40c2-8b21-85e110d18cff",
   "metadata": {},
   "outputs": [],
   "source": []
  },
  {
   "cell_type": "code",
   "execution_count": 5,
   "id": "63300284-1230-4aed-bbaf-93ec0b4301a4",
   "metadata": {},
   "outputs": [
    {
     "data": {
      "text/plain": [
       "'19.07 - 24.08'"
      ]
     },
     "execution_count": 5,
     "metadata": {},
     "output_type": "execute_result"
    }
   ],
   "source": [
    "# Pick the latest sheet\n",
    "latest_sheet = sheet_names[-1]\n",
    "latest_sheet"
   ]
  },
  {
   "cell_type": "code",
   "execution_count": 6,
   "id": "3d2097e3-3214-414a-9b37-87dddb8c97ea",
   "metadata": {},
   "outputs": [
    {
     "data": {
      "text/html": [
       "<div>\n",
       "<style scoped>\n",
       "    .dataframe tbody tr th:only-of-type {\n",
       "        vertical-align: middle;\n",
       "    }\n",
       "\n",
       "    .dataframe tbody tr th {\n",
       "        vertical-align: top;\n",
       "    }\n",
       "\n",
       "    .dataframe thead th {\n",
       "        text-align: right;\n",
       "    }\n",
       "</style>\n",
       "<table border=\"1\" class=\"dataframe\">\n",
       "  <thead>\n",
       "    <tr style=\"text-align: right;\">\n",
       "      <th></th>\n",
       "      <th>Unnamed: 0</th>\n",
       "      <th>Unnamed: 1</th>\n",
       "      <th>Unnamed: 2</th>\n",
       "      <th>Unnamed: 3</th>\n",
       "      <th>Unnamed: 4</th>\n",
       "      <th>Unnamed: 5</th>\n",
       "      <th>Unnamed: 6</th>\n",
       "      <th>Unnamed: 7</th>\n",
       "      <th>Unnamed: 8</th>\n",
       "      <th>Unnamed: 9</th>\n",
       "      <th>Unnamed: 10</th>\n",
       "      <th>Unnamed: 11</th>\n",
       "      <th>Unnamed: 12</th>\n",
       "      <th>Unnamed: 13</th>\n",
       "    </tr>\n",
       "  </thead>\n",
       "  <tbody>\n",
       "    <tr>\n",
       "      <th>0</th>\n",
       "      <td>NaN</td>\n",
       "      <td>NaN</td>\n",
       "      <td>NaN</td>\n",
       "      <td>NaN</td>\n",
       "      <td>NaN</td>\n",
       "      <td>NaN</td>\n",
       "      <td>NaN</td>\n",
       "      <td>NaN</td>\n",
       "      <td>NaN</td>\n",
       "      <td>NaN</td>\n",
       "      <td>NaN</td>\n",
       "      <td>NaN</td>\n",
       "      <td>NaN</td>\n",
       "      <td>NaN</td>\n",
       "    </tr>\n",
       "    <tr>\n",
       "      <th>1</th>\n",
       "      <td>NaN</td>\n",
       "      <td>NaN</td>\n",
       "      <td>NaN</td>\n",
       "      <td>NaN</td>\n",
       "      <td>NaN</td>\n",
       "      <td>NaN</td>\n",
       "      <td>NaN</td>\n",
       "      <td>NaN</td>\n",
       "      <td>NaN</td>\n",
       "      <td>NaN</td>\n",
       "      <td>NaN</td>\n",
       "      <td>NaN</td>\n",
       "      <td>NaN</td>\n",
       "      <td>NaN</td>\n",
       "    </tr>\n",
       "    <tr>\n",
       "      <th>2</th>\n",
       "      <td>NaN</td>\n",
       "      <td>NaN</td>\n",
       "      <td>NaN</td>\n",
       "      <td>NaN</td>\n",
       "      <td>NaN</td>\n",
       "      <td>NaN</td>\n",
       "      <td>NaN</td>\n",
       "      <td>NaN</td>\n",
       "      <td>NaN</td>\n",
       "      <td>NaN</td>\n",
       "      <td>NaN</td>\n",
       "      <td>NaN</td>\n",
       "      <td>NaN</td>\n",
       "      <td>NaN</td>\n",
       "    </tr>\n",
       "    <tr>\n",
       "      <th>3</th>\n",
       "      <td>NaN</td>\n",
       "      <td>NaN</td>\n",
       "      <td>NaN</td>\n",
       "      <td>NaN</td>\n",
       "      <td>NaN</td>\n",
       "      <td>NaN</td>\n",
       "      <td>NaN</td>\n",
       "      <td>NaN</td>\n",
       "      <td>NaN</td>\n",
       "      <td>NaN</td>\n",
       "      <td>NaN</td>\n",
       "      <td>NaN</td>\n",
       "      <td>NaN</td>\n",
       "      <td>NaN</td>\n",
       "    </tr>\n",
       "    <tr>\n",
       "      <th>4</th>\n",
       "      <td>BẢNG TỔNG HỢP SỐ LƯỢNG XE TRONG TUẦN | WEEKLY ...</td>\n",
       "      <td>NaN</td>\n",
       "      <td>NaN</td>\n",
       "      <td>NaN</td>\n",
       "      <td>NaN</td>\n",
       "      <td>NaN</td>\n",
       "      <td>NaN</td>\n",
       "      <td>NaN</td>\n",
       "      <td>NaN</td>\n",
       "      <td>NaN</td>\n",
       "      <td>NaN</td>\n",
       "      <td>NaN</td>\n",
       "      <td>NaN</td>\n",
       "      <td>NaN</td>\n",
       "    </tr>\n",
       "  </tbody>\n",
       "</table>\n",
       "</div>"
      ],
      "text/plain": [
       "                                          Unnamed: 0 Unnamed: 1 Unnamed: 2  \\\n",
       "0                                                NaN        NaN        NaN   \n",
       "1                                                NaN        NaN        NaN   \n",
       "2                                                NaN        NaN        NaN   \n",
       "3                                                NaN        NaN        NaN   \n",
       "4  BẢNG TỔNG HỢP SỐ LƯỢNG XE TRONG TUẦN | WEEKLY ...        NaN        NaN   \n",
       "\n",
       "  Unnamed: 3 Unnamed: 4 Unnamed: 5 Unnamed: 6 Unnamed: 7 Unnamed: 8  \\\n",
       "0        NaN        NaN        NaN        NaN        NaN        NaN   \n",
       "1        NaN        NaN        NaN        NaN        NaN        NaN   \n",
       "2        NaN        NaN        NaN        NaN        NaN        NaN   \n",
       "3        NaN        NaN        NaN        NaN        NaN        NaN   \n",
       "4        NaN        NaN        NaN        NaN        NaN        NaN   \n",
       "\n",
       "  Unnamed: 9 Unnamed: 10 Unnamed: 11 Unnamed: 12 Unnamed: 13  \n",
       "0        NaN         NaN         NaN         NaN         NaN  \n",
       "1        NaN         NaN         NaN         NaN         NaN  \n",
       "2        NaN         NaN         NaN         NaN         NaN  \n",
       "3        NaN         NaN         NaN         NaN         NaN  \n",
       "4        NaN         NaN         NaN         NaN         NaN  "
      ]
     },
     "execution_count": 6,
     "metadata": {},
     "output_type": "execute_result"
    }
   ],
   "source": [
    "# Load the data from the latest sheet\n",
    "df = pd.read_excel(bus_schedule_file, sheet_name=latest_sheet)\n",
    "df.head()"
   ]
  },
  {
   "cell_type": "code",
   "execution_count": 7,
   "id": "086f054b-37b0-494a-9d83-e06c1ae692f7",
   "metadata": {},
   "outputs": [
    {
     "data": {
      "text/plain": [
       "0     2024-08-19 00:00:00\n",
       "1     2024-08-19 00:00:00\n",
       "2     2024-08-19 00:00:00\n",
       "3     2024-08-19 00:00:00\n",
       "4     2024-08-20 00:00:00\n",
       "5     2024-08-20 00:00:00\n",
       "6     2024-08-20 00:00:00\n",
       "7     2024-08-20 00:00:00\n",
       "8     2024-08-21 00:00:00\n",
       "9     2024-08-21 00:00:00\n",
       "10    2024-08-21 00:00:00\n",
       "11    2024-08-21 00:00:00\n",
       "12    2024-08-22 00:00:00\n",
       "13    2024-08-22 00:00:00\n",
       "14    2024-08-22 00:00:00\n",
       "15    2024-08-22 00:00:00\n",
       "16    2024-08-23 00:00:00\n",
       "17    2024-08-23 00:00:00\n",
       "18    2024-08-23 00:00:00\n",
       "19    2024-08-23 00:00:00\n",
       "20    2024-08-24 00:00:00\n",
       "21    2024-08-24 00:00:00\n",
       "22    2024-08-24 00:00:00\n",
       "23    2024-08-24 00:00:00\n",
       "Name: Unnamed: 0, dtype: object"
      ]
     },
     "execution_count": 7,
     "metadata": {},
     "output_type": "execute_result"
    }
   ],
   "source": [
    "# Get a list of datetime elements in the first column, skipping nan values and str type\n",
    "datetimes = df.iloc[:, 0].dropna().loc[lambda x: x.apply(lambda y: not isinstance(y, str))].reset_index(drop=True)\n",
    "datetimes"
   ]
  },
  {
   "cell_type": "code",
   "execution_count": 8,
   "id": "988e48ba-4f31-490b-adf9-ab9ad0b17e01",
   "metadata": {},
   "outputs": [
    {
     "data": {
      "text/plain": [
       "array([datetime.datetime(2024, 8, 19, 0, 0),\n",
       "       datetime.datetime(2024, 8, 20, 0, 0),\n",
       "       datetime.datetime(2024, 8, 21, 0, 0),\n",
       "       datetime.datetime(2024, 8, 22, 0, 0),\n",
       "       datetime.datetime(2024, 8, 23, 0, 0),\n",
       "       datetime.datetime(2024, 8, 24, 0, 0)], dtype=object)"
      ]
     },
     "execution_count": 8,
     "metadata": {},
     "output_type": "execute_result"
    }
   ],
   "source": [
    "# Get unique values\n",
    "unique_datetimes = datetimes.unique()\n",
    "unique_datetimes"
   ]
  },
  {
   "cell_type": "code",
   "execution_count": 9,
   "id": "bc480607-e0c0-4835-8682-d26888a7347e",
   "metadata": {},
   "outputs": [
    {
     "data": {
      "text/plain": [
       "0   2024-08-19\n",
       "1   2024-08-20\n",
       "2   2024-08-21\n",
       "3   2024-08-22\n",
       "4   2024-08-23\n",
       "5   2024-08-24\n",
       "dtype: datetime64[ns]"
      ]
     },
     "execution_count": 9,
     "metadata": {},
     "output_type": "execute_result"
    }
   ],
   "source": [
    "# Convert to a pandas Series to use sort_values\n",
    "unique_datetimes_series = pd.Series(unique_datetimes)\n",
    "unique_datetimes_series"
   ]
  },
  {
   "cell_type": "code",
   "execution_count": 10,
   "id": "d04f510b-b895-4d65-814d-0f2258037279",
   "metadata": {},
   "outputs": [
    {
     "data": {
      "text/plain": [
       "0   2024-08-19\n",
       "1   2024-08-20\n",
       "2   2024-08-21\n",
       "3   2024-08-22\n",
       "4   2024-08-23\n",
       "5   2024-08-24\n",
       "dtype: datetime64[ns]"
      ]
     },
     "execution_count": 10,
     "metadata": {},
     "output_type": "execute_result"
    }
   ],
   "source": [
    "# Sort the unique datetimes in ascending order\n",
    "sorted_unique_datetimes = unique_datetimes_series.sort_values().reset_index(drop=True)\n",
    "sorted_unique_datetimes = pd.to_datetime(sorted_unique_datetimes)\n",
    "\n",
    "sorted_unique_datetimes"
   ]
  },
  {
   "cell_type": "code",
   "execution_count": 11,
   "id": "9eea1216-4d7b-4cf8-b1b4-6cc52fd514d6",
   "metadata": {},
   "outputs": [],
   "source": [
    "# sorted_unique_datetimes = pd.to_datetime(sorted_unique_datetimes)\n",
    "# sorted_unique_datetimes"
   ]
  },
  {
   "cell_type": "code",
   "execution_count": 12,
   "id": "af9728ec-4fb9-4914-9e3e-ad7affb63889",
   "metadata": {},
   "outputs": [
    {
     "data": {
      "text/plain": [
       "Timestamp('2024-08-20 00:00:00')"
      ]
     },
     "execution_count": 12,
     "metadata": {},
     "output_type": "execute_result"
    }
   ],
   "source": [
    "# Get today's date\n",
    "today = datetime.today()\n",
    "today = today.strftime('%Y-%m-%d')\n",
    "today = pd.to_datetime(today)\n",
    "today"
   ]
  },
  {
   "cell_type": "code",
   "execution_count": 13,
   "id": "d5d2c693-8a09-42e9-a4a5-5f0335427053",
   "metadata": {},
   "outputs": [
    {
     "data": {
      "text/plain": [
       "1   2024-08-20\n",
       "2   2024-08-21\n",
       "3   2024-08-22\n",
       "4   2024-08-23\n",
       "5   2024-08-24\n",
       "dtype: datetime64[ns]"
      ]
     },
     "execution_count": 13,
     "metadata": {},
     "output_type": "execute_result"
    }
   ],
   "source": [
    "# Filter dates starting from today\n",
    "filtered_datetimes = sorted_unique_datetimes[sorted_unique_datetimes >= today]\n",
    "filtered_datetimes"
   ]
  },
  {
   "cell_type": "code",
   "execution_count": 14,
   "id": "9b93fdcc-4c83-47d7-bff2-93aa3e79f8e6",
   "metadata": {},
   "outputs": [
    {
     "data": {
      "text/plain": [
       "['Tue 20 Aug', 'Wed 21 Aug', 'Thu 22 Aug', 'Fri 23 Aug', 'Sat 24 Aug']"
      ]
     },
     "execution_count": 14,
     "metadata": {},
     "output_type": "execute_result"
    }
   ],
   "source": [
    "# Format the filtered dates\n",
    "result = [day.strftime(\"%a %d %b\") for day in filtered_datetimes]\n",
    "result"
   ]
  },
  {
   "cell_type": "code",
   "execution_count": null,
   "id": "6b7e4e10-4dc3-471a-b804-7eca03b1e851",
   "metadata": {},
   "outputs": [],
   "source": []
  },
  {
   "cell_type": "markdown",
   "id": "70750a3f-e3f1-4399-830c-87610df745f8",
   "metadata": {},
   "source": [
    "#### limit the schedule and suggest available time"
   ]
  },
  {
   "cell_type": "code",
   "execution_count": 24,
   "id": "a9f38add-a9e9-4f7b-ad7b-3afd4d0fe38b",
   "metadata": {
    "scrolled": true
   },
   "outputs": [
    {
     "data": {
      "text/html": [
       "<div>\n",
       "<style scoped>\n",
       "    .dataframe tbody tr th:only-of-type {\n",
       "        vertical-align: middle;\n",
       "    }\n",
       "\n",
       "    .dataframe tbody tr th {\n",
       "        vertical-align: top;\n",
       "    }\n",
       "\n",
       "    .dataframe thead th {\n",
       "        text-align: right;\n",
       "    }\n",
       "</style>\n",
       "<table border=\"1\" class=\"dataframe\">\n",
       "  <thead>\n",
       "    <tr style=\"text-align: right;\">\n",
       "      <th></th>\n",
       "      <th>Unnamed: 0</th>\n",
       "      <th>Unnamed: 1</th>\n",
       "      <th>Unnamed: 2</th>\n",
       "      <th>Unnamed: 3</th>\n",
       "      <th>Unnamed: 4</th>\n",
       "      <th>Unnamed: 5</th>\n",
       "      <th>Unnamed: 6</th>\n",
       "      <th>Unnamed: 7</th>\n",
       "      <th>Unnamed: 8</th>\n",
       "      <th>Unnamed: 9</th>\n",
       "      <th>Unnamed: 10</th>\n",
       "      <th>Unnamed: 11</th>\n",
       "      <th>Unnamed: 12</th>\n",
       "      <th>Unnamed: 13</th>\n",
       "    </tr>\n",
       "  </thead>\n",
       "  <tbody>\n",
       "    <tr>\n",
       "      <th>8</th>\n",
       "      <td>NaN</td>\n",
       "      <td>NaN</td>\n",
       "      <td>NaN</td>\n",
       "      <td>07:20:00</td>\n",
       "      <td>09:30:00</td>\n",
       "      <td>10:30</td>\n",
       "      <td>11:30</td>\n",
       "      <td>13:30</td>\n",
       "      <td>11:30</td>\n",
       "      <td>12:30</td>\n",
       "      <td>13:30:00</td>\n",
       "      <td>15:15</td>\n",
       "      <td>17:35</td>\n",
       "      <td>18:45:00</td>\n",
       "    </tr>\n",
       "    <tr>\n",
       "      <th>9</th>\n",
       "      <td>2024-08-19 00:00:00</td>\n",
       "      <td>Mon</td>\n",
       "      <td>HBT</td>\n",
       "      <td>1</td>\n",
       "      <td>1</td>\n",
       "      <td>1</td>\n",
       "      <td>1</td>\n",
       "      <td>0</td>\n",
       "      <td>1</td>\n",
       "      <td>1</td>\n",
       "      <td>0</td>\n",
       "      <td>1</td>\n",
       "      <td>1</td>\n",
       "      <td>1</td>\n",
       "    </tr>\n",
       "    <tr>\n",
       "      <th>10</th>\n",
       "      <td>2024-08-19 00:00:00</td>\n",
       "      <td>Mon</td>\n",
       "      <td>CG</td>\n",
       "      <td>1</td>\n",
       "      <td>1</td>\n",
       "      <td>1</td>\n",
       "      <td>1</td>\n",
       "      <td>0</td>\n",
       "      <td>1</td>\n",
       "      <td>1</td>\n",
       "      <td>0</td>\n",
       "      <td>1</td>\n",
       "      <td>1</td>\n",
       "      <td>1</td>\n",
       "    </tr>\n",
       "    <tr>\n",
       "      <th>11</th>\n",
       "      <td>2024-08-19 00:00:00</td>\n",
       "      <td>Mon</td>\n",
       "      <td>TH</td>\n",
       "      <td>1</td>\n",
       "      <td>0</td>\n",
       "      <td>1</td>\n",
       "      <td>1</td>\n",
       "      <td>0</td>\n",
       "      <td>1</td>\n",
       "      <td>1</td>\n",
       "      <td>0</td>\n",
       "      <td>1</td>\n",
       "      <td>1</td>\n",
       "      <td>1</td>\n",
       "    </tr>\n",
       "    <tr>\n",
       "      <th>12</th>\n",
       "      <td>2024-08-19 00:00:00</td>\n",
       "      <td>Mon</td>\n",
       "      <td>HD</td>\n",
       "      <td>1</td>\n",
       "      <td>0</td>\n",
       "      <td>1</td>\n",
       "      <td>1</td>\n",
       "      <td>0</td>\n",
       "      <td>1</td>\n",
       "      <td>1</td>\n",
       "      <td>0</td>\n",
       "      <td>1</td>\n",
       "      <td>1</td>\n",
       "      <td>1</td>\n",
       "    </tr>\n",
       "    <tr>\n",
       "      <th>13</th>\n",
       "      <td>2024-08-20 00:00:00</td>\n",
       "      <td>Tue</td>\n",
       "      <td>HBT</td>\n",
       "      <td>1</td>\n",
       "      <td>1</td>\n",
       "      <td>0</td>\n",
       "      <td>0</td>\n",
       "      <td>1</td>\n",
       "      <td>1</td>\n",
       "      <td>1</td>\n",
       "      <td>1</td>\n",
       "      <td>1</td>\n",
       "      <td>1</td>\n",
       "      <td>1</td>\n",
       "    </tr>\n",
       "    <tr>\n",
       "      <th>14</th>\n",
       "      <td>2024-08-20 00:00:00</td>\n",
       "      <td>Tue</td>\n",
       "      <td>CG</td>\n",
       "      <td>1</td>\n",
       "      <td>1</td>\n",
       "      <td>0</td>\n",
       "      <td>0</td>\n",
       "      <td>1</td>\n",
       "      <td>1</td>\n",
       "      <td>1</td>\n",
       "      <td>1</td>\n",
       "      <td>1</td>\n",
       "      <td>1</td>\n",
       "      <td>1</td>\n",
       "    </tr>\n",
       "    <tr>\n",
       "      <th>15</th>\n",
       "      <td>2024-08-20 00:00:00</td>\n",
       "      <td>Tue</td>\n",
       "      <td>TH</td>\n",
       "      <td>1</td>\n",
       "      <td>1</td>\n",
       "      <td>0</td>\n",
       "      <td>0</td>\n",
       "      <td>1</td>\n",
       "      <td>1</td>\n",
       "      <td>1</td>\n",
       "      <td>0</td>\n",
       "      <td>1</td>\n",
       "      <td>1</td>\n",
       "      <td>1</td>\n",
       "    </tr>\n",
       "    <tr>\n",
       "      <th>16</th>\n",
       "      <td>2024-08-20 00:00:00</td>\n",
       "      <td>Tue</td>\n",
       "      <td>HD</td>\n",
       "      <td>1</td>\n",
       "      <td>1</td>\n",
       "      <td>0</td>\n",
       "      <td>0</td>\n",
       "      <td>1</td>\n",
       "      <td>1</td>\n",
       "      <td>1</td>\n",
       "      <td>0</td>\n",
       "      <td>1</td>\n",
       "      <td>1</td>\n",
       "      <td>1</td>\n",
       "    </tr>\n",
       "    <tr>\n",
       "      <th>17</th>\n",
       "      <td>2024-08-21 00:00:00</td>\n",
       "      <td>Wed</td>\n",
       "      <td>HBT</td>\n",
       "      <td>1</td>\n",
       "      <td>1</td>\n",
       "      <td>1</td>\n",
       "      <td>0</td>\n",
       "      <td>0</td>\n",
       "      <td>0</td>\n",
       "      <td>1</td>\n",
       "      <td>1</td>\n",
       "      <td>1</td>\n",
       "      <td>1</td>\n",
       "      <td>1</td>\n",
       "    </tr>\n",
       "    <tr>\n",
       "      <th>18</th>\n",
       "      <td>2024-08-21 00:00:00</td>\n",
       "      <td>Wed</td>\n",
       "      <td>CG</td>\n",
       "      <td>1</td>\n",
       "      <td>1</td>\n",
       "      <td>1</td>\n",
       "      <td>0</td>\n",
       "      <td>0</td>\n",
       "      <td>0</td>\n",
       "      <td>1</td>\n",
       "      <td>1</td>\n",
       "      <td>1</td>\n",
       "      <td>1</td>\n",
       "      <td>1</td>\n",
       "    </tr>\n",
       "    <tr>\n",
       "      <th>19</th>\n",
       "      <td>2024-08-21 00:00:00</td>\n",
       "      <td>Wed</td>\n",
       "      <td>TH</td>\n",
       "      <td>1</td>\n",
       "      <td>1</td>\n",
       "      <td>1</td>\n",
       "      <td>0</td>\n",
       "      <td>0</td>\n",
       "      <td>0</td>\n",
       "      <td>1</td>\n",
       "      <td>0</td>\n",
       "      <td>1</td>\n",
       "      <td>1</td>\n",
       "      <td>1</td>\n",
       "    </tr>\n",
       "    <tr>\n",
       "      <th>20</th>\n",
       "      <td>2024-08-21 00:00:00</td>\n",
       "      <td>Wed</td>\n",
       "      <td>HD</td>\n",
       "      <td>1</td>\n",
       "      <td>1</td>\n",
       "      <td>1</td>\n",
       "      <td>0</td>\n",
       "      <td>0</td>\n",
       "      <td>0</td>\n",
       "      <td>1</td>\n",
       "      <td>0</td>\n",
       "      <td>1</td>\n",
       "      <td>1</td>\n",
       "      <td>1</td>\n",
       "    </tr>\n",
       "    <tr>\n",
       "      <th>21</th>\n",
       "      <td>2024-08-22 00:00:00</td>\n",
       "      <td>Thu</td>\n",
       "      <td>HBT</td>\n",
       "      <td>1</td>\n",
       "      <td>1</td>\n",
       "      <td>1</td>\n",
       "      <td>1</td>\n",
       "      <td>1</td>\n",
       "      <td>0</td>\n",
       "      <td>1</td>\n",
       "      <td>1</td>\n",
       "      <td>1</td>\n",
       "      <td>1</td>\n",
       "      <td>0</td>\n",
       "    </tr>\n",
       "    <tr>\n",
       "      <th>22</th>\n",
       "      <td>2024-08-22 00:00:00</td>\n",
       "      <td>Thu</td>\n",
       "      <td>CG</td>\n",
       "      <td>1</td>\n",
       "      <td>1</td>\n",
       "      <td>1</td>\n",
       "      <td>1</td>\n",
       "      <td>1</td>\n",
       "      <td>0</td>\n",
       "      <td>1</td>\n",
       "      <td>1</td>\n",
       "      <td>1</td>\n",
       "      <td>1</td>\n",
       "      <td>0</td>\n",
       "    </tr>\n",
       "    <tr>\n",
       "      <th>23</th>\n",
       "      <td>2024-08-22 00:00:00</td>\n",
       "      <td>Thu</td>\n",
       "      <td>TH</td>\n",
       "      <td>1</td>\n",
       "      <td>1</td>\n",
       "      <td>1</td>\n",
       "      <td>1</td>\n",
       "      <td>1</td>\n",
       "      <td>0</td>\n",
       "      <td>1</td>\n",
       "      <td>1</td>\n",
       "      <td>1</td>\n",
       "      <td>1</td>\n",
       "      <td>0</td>\n",
       "    </tr>\n",
       "    <tr>\n",
       "      <th>24</th>\n",
       "      <td>2024-08-22 00:00:00</td>\n",
       "      <td>Thu</td>\n",
       "      <td>HD</td>\n",
       "      <td>1</td>\n",
       "      <td>1</td>\n",
       "      <td>1</td>\n",
       "      <td>1</td>\n",
       "      <td>1</td>\n",
       "      <td>0</td>\n",
       "      <td>1</td>\n",
       "      <td>1</td>\n",
       "      <td>1</td>\n",
       "      <td>1</td>\n",
       "      <td>0</td>\n",
       "    </tr>\n",
       "    <tr>\n",
       "      <th>25</th>\n",
       "      <td>2024-08-23 00:00:00</td>\n",
       "      <td>Fri</td>\n",
       "      <td>HBT</td>\n",
       "      <td>1</td>\n",
       "      <td>1</td>\n",
       "      <td>1</td>\n",
       "      <td>1</td>\n",
       "      <td>0</td>\n",
       "      <td>0</td>\n",
       "      <td>1</td>\n",
       "      <td>1</td>\n",
       "      <td>1</td>\n",
       "      <td>1</td>\n",
       "      <td>1</td>\n",
       "    </tr>\n",
       "    <tr>\n",
       "      <th>26</th>\n",
       "      <td>2024-08-23 00:00:00</td>\n",
       "      <td>Fri</td>\n",
       "      <td>CG</td>\n",
       "      <td>1</td>\n",
       "      <td>1</td>\n",
       "      <td>1</td>\n",
       "      <td>1</td>\n",
       "      <td>0</td>\n",
       "      <td>0</td>\n",
       "      <td>1</td>\n",
       "      <td>1</td>\n",
       "      <td>1</td>\n",
       "      <td>1</td>\n",
       "      <td>1</td>\n",
       "    </tr>\n",
       "    <tr>\n",
       "      <th>27</th>\n",
       "      <td>2024-08-23 00:00:00</td>\n",
       "      <td>Fri</td>\n",
       "      <td>TH</td>\n",
       "      <td>1</td>\n",
       "      <td>1</td>\n",
       "      <td>0</td>\n",
       "      <td>1</td>\n",
       "      <td>0</td>\n",
       "      <td>0</td>\n",
       "      <td>1</td>\n",
       "      <td>1</td>\n",
       "      <td>1</td>\n",
       "      <td>1</td>\n",
       "      <td>1</td>\n",
       "    </tr>\n",
       "    <tr>\n",
       "      <th>28</th>\n",
       "      <td>2024-08-23 00:00:00</td>\n",
       "      <td>Fri</td>\n",
       "      <td>HD</td>\n",
       "      <td>1</td>\n",
       "      <td>1</td>\n",
       "      <td>0</td>\n",
       "      <td>1</td>\n",
       "      <td>0</td>\n",
       "      <td>0</td>\n",
       "      <td>1</td>\n",
       "      <td>1</td>\n",
       "      <td>1</td>\n",
       "      <td>1</td>\n",
       "      <td>1</td>\n",
       "    </tr>\n",
       "    <tr>\n",
       "      <th>29</th>\n",
       "      <td>2024-08-24 00:00:00</td>\n",
       "      <td>Sat</td>\n",
       "      <td>HBT</td>\n",
       "      <td>1</td>\n",
       "      <td>1</td>\n",
       "      <td>0</td>\n",
       "      <td>0</td>\n",
       "      <td>1</td>\n",
       "      <td>1</td>\n",
       "      <td>1</td>\n",
       "      <td>1</td>\n",
       "      <td>1</td>\n",
       "      <td>1</td>\n",
       "      <td>0</td>\n",
       "    </tr>\n",
       "    <tr>\n",
       "      <th>30</th>\n",
       "      <td>2024-08-24 00:00:00</td>\n",
       "      <td>Sat</td>\n",
       "      <td>CG</td>\n",
       "      <td>1</td>\n",
       "      <td>1</td>\n",
       "      <td>0</td>\n",
       "      <td>0</td>\n",
       "      <td>1</td>\n",
       "      <td>1</td>\n",
       "      <td>1</td>\n",
       "      <td>1</td>\n",
       "      <td>1</td>\n",
       "      <td>1</td>\n",
       "      <td>0</td>\n",
       "    </tr>\n",
       "    <tr>\n",
       "      <th>31</th>\n",
       "      <td>2024-08-24 00:00:00</td>\n",
       "      <td>Sat</td>\n",
       "      <td>TH</td>\n",
       "      <td>1</td>\n",
       "      <td>1</td>\n",
       "      <td>0</td>\n",
       "      <td>0</td>\n",
       "      <td>1</td>\n",
       "      <td>1</td>\n",
       "      <td>1</td>\n",
       "      <td>0</td>\n",
       "      <td>1</td>\n",
       "      <td>1</td>\n",
       "      <td>0</td>\n",
       "    </tr>\n",
       "    <tr>\n",
       "      <th>32</th>\n",
       "      <td>2024-08-24 00:00:00</td>\n",
       "      <td>Sat</td>\n",
       "      <td>HD</td>\n",
       "      <td>1</td>\n",
       "      <td>1</td>\n",
       "      <td>0</td>\n",
       "      <td>0</td>\n",
       "      <td>1</td>\n",
       "      <td>1</td>\n",
       "      <td>1</td>\n",
       "      <td>0</td>\n",
       "      <td>1</td>\n",
       "      <td>1</td>\n",
       "      <td>0</td>\n",
       "    </tr>\n",
       "  </tbody>\n",
       "</table>\n",
       "</div>"
      ],
      "text/plain": [
       "             Unnamed: 0 Unnamed: 1 Unnamed: 2 Unnamed: 3 Unnamed: 4  \\\n",
       "8                   NaN        NaN        NaN   07:20:00   09:30:00   \n",
       "9   2024-08-19 00:00:00        Mon        HBT          1          1   \n",
       "10  2024-08-19 00:00:00        Mon         CG          1          1   \n",
       "11  2024-08-19 00:00:00        Mon         TH          1          0   \n",
       "12  2024-08-19 00:00:00        Mon         HD          1          0   \n",
       "13  2024-08-20 00:00:00        Tue        HBT          1          1   \n",
       "14  2024-08-20 00:00:00        Tue         CG          1          1   \n",
       "15  2024-08-20 00:00:00        Tue         TH          1          1   \n",
       "16  2024-08-20 00:00:00        Tue         HD          1          1   \n",
       "17  2024-08-21 00:00:00        Wed        HBT          1          1   \n",
       "18  2024-08-21 00:00:00        Wed         CG          1          1   \n",
       "19  2024-08-21 00:00:00        Wed         TH          1          1   \n",
       "20  2024-08-21 00:00:00        Wed         HD          1          1   \n",
       "21  2024-08-22 00:00:00        Thu        HBT          1          1   \n",
       "22  2024-08-22 00:00:00        Thu         CG          1          1   \n",
       "23  2024-08-22 00:00:00        Thu         TH          1          1   \n",
       "24  2024-08-22 00:00:00        Thu         HD          1          1   \n",
       "25  2024-08-23 00:00:00        Fri        HBT          1          1   \n",
       "26  2024-08-23 00:00:00        Fri         CG          1          1   \n",
       "27  2024-08-23 00:00:00        Fri         TH          1          1   \n",
       "28  2024-08-23 00:00:00        Fri         HD          1          1   \n",
       "29  2024-08-24 00:00:00        Sat        HBT          1          1   \n",
       "30  2024-08-24 00:00:00        Sat         CG          1          1   \n",
       "31  2024-08-24 00:00:00        Sat         TH          1          1   \n",
       "32  2024-08-24 00:00:00        Sat         HD          1          1   \n",
       "\n",
       "   Unnamed: 5 Unnamed: 6 Unnamed: 7 Unnamed: 8 Unnamed: 9 Unnamed: 10  \\\n",
       "8       10:30      11:30      13:30      11:30      12:30    13:30:00   \n",
       "9           1          1          0          1          1           0   \n",
       "10          1          1          0          1          1           0   \n",
       "11          1          1          0          1          1           0   \n",
       "12          1          1          0          1          1           0   \n",
       "13          0          0          1          1          1           1   \n",
       "14          0          0          1          1          1           1   \n",
       "15          0          0          1          1          1           0   \n",
       "16          0          0          1          1          1           0   \n",
       "17          1          0          0          0          1           1   \n",
       "18          1          0          0          0          1           1   \n",
       "19          1          0          0          0          1           0   \n",
       "20          1          0          0          0          1           0   \n",
       "21          1          1          1          0          1           1   \n",
       "22          1          1          1          0          1           1   \n",
       "23          1          1          1          0          1           1   \n",
       "24          1          1          1          0          1           1   \n",
       "25          1          1          0          0          1           1   \n",
       "26          1          1          0          0          1           1   \n",
       "27          0          1          0          0          1           1   \n",
       "28          0          1          0          0          1           1   \n",
       "29          0          0          1          1          1           1   \n",
       "30          0          0          1          1          1           1   \n",
       "31          0          0          1          1          1           0   \n",
       "32          0          0          1          1          1           0   \n",
       "\n",
       "   Unnamed: 11 Unnamed: 12 Unnamed: 13  \n",
       "8        15:15       17:35    18:45:00  \n",
       "9            1           1           1  \n",
       "10           1           1           1  \n",
       "11           1           1           1  \n",
       "12           1           1           1  \n",
       "13           1           1           1  \n",
       "14           1           1           1  \n",
       "15           1           1           1  \n",
       "16           1           1           1  \n",
       "17           1           1           1  \n",
       "18           1           1           1  \n",
       "19           1           1           1  \n",
       "20           1           1           1  \n",
       "21           1           1           0  \n",
       "22           1           1           0  \n",
       "23           1           1           0  \n",
       "24           1           1           0  \n",
       "25           1           1           1  \n",
       "26           1           1           1  \n",
       "27           1           1           1  \n",
       "28           1           1           1  \n",
       "29           1           1           0  \n",
       "30           1           1           0  \n",
       "31           1           1           0  \n",
       "32           1           1           0  "
      ]
     },
     "execution_count": 24,
     "metadata": {},
     "output_type": "execute_result"
    }
   ],
   "source": [
    "df_calendar = df.iloc[8:, :]\n",
    "df_calendar"
   ]
  },
  {
   "cell_type": "code",
   "execution_count": 20,
   "id": "7dc00e68-b432-48b2-ab23-52eefc1c93de",
   "metadata": {},
   "outputs": [],
   "source": [
    "state = {\n",
    "    'route name': ['Tay Ho'], \n",
    "    'pick-up point': ['Ho Tay Water Park'], \n",
    "    'drop-off point': ['BUV Campus'], \n",
    "    'specific date': ['Tue 20 Aug'], \n",
    "    'specific time': []\n",
    "}"
   ]
  },
  {
   "cell_type": "code",
   "execution_count": null,
   "id": "97cd41be-5cdd-4cfc-bf1c-8402971b0479",
   "metadata": {},
   "outputs": [],
   "source": []
  },
  {
   "cell_type": "code",
   "execution_count": 94,
   "id": "61a2c8ba-00c1-495b-89fa-2c34cc491293",
   "metadata": {},
   "outputs": [],
   "source": [
    "# route_name = json[\"route name\"][0]\n",
    "# pickup_point = json[\"pick-up point\"][0]\n",
    "# dropoff_point = json[\"drop-off point\"][0]\n",
    "# specific_date = json[\"specific date\"][0]\n",
    "\n",
    "route_name = json[\"route name\"][0]\n",
    "pickup_point = json[\"drop-off point\"][0]\n",
    "dropoff_point = json[\"pick-up point\"][0]\n",
    "specific_date = json[\"specific date\"][0]"
   ]
  },
  {
   "cell_type": "code",
   "execution_count": 95,
   "id": "3dca59a3-cb4a-44c6-8bbe-d243f3426930",
   "metadata": {},
   "outputs": [
    {
     "data": {
      "text/plain": [
       "'Tue 20 Aug'"
      ]
     },
     "execution_count": 95,
     "metadata": {},
     "output_type": "execute_result"
    }
   ],
   "source": [
    "# dropoff_point\n",
    "specific_date"
   ]
  },
  {
   "cell_type": "code",
   "execution_count": 96,
   "id": "543287a4-0425-4b05-8eed-3c85d756be59",
   "metadata": {},
   "outputs": [
    {
     "data": {
      "text/plain": [
       "'Tue'"
      ]
     },
     "execution_count": 96,
     "metadata": {},
     "output_type": "execute_result"
    }
   ],
   "source": [
    "weekday = specific_date.split()[0]\n",
    "weekday"
   ]
  },
  {
   "cell_type": "code",
   "execution_count": 97,
   "id": "46af6797-059f-42f0-b0b3-f929f5e06639",
   "metadata": {},
   "outputs": [],
   "source": [
    "# dct_excel_mapping = {\n",
    "#     \"Hai Ba Trung\": \"HBT\",\n",
    "#     \"Tay Ho\": \"TH\",\n",
    "#     \"Cau Giay\": \"CG\",\n",
    "#     \"Ha Dong\": \"HD\"\n",
    "# }"
   ]
  },
  {
   "cell_type": "code",
   "execution_count": null,
   "id": "7c219123-171a-4115-9834-94c5bdd34706",
   "metadata": {},
   "outputs": [],
   "source": []
  },
  {
   "cell_type": "code",
   "execution_count": 98,
   "id": "3a9cc69a-5323-4116-8e68-61023e91cdd6",
   "metadata": {},
   "outputs": [
    {
     "data": {
      "text/html": [
       "<div>\n",
       "<style scoped>\n",
       "    .dataframe tbody tr th:only-of-type {\n",
       "        vertical-align: middle;\n",
       "    }\n",
       "\n",
       "    .dataframe tbody tr th {\n",
       "        vertical-align: top;\n",
       "    }\n",
       "\n",
       "    .dataframe thead th {\n",
       "        text-align: right;\n",
       "    }\n",
       "</style>\n",
       "<table border=\"1\" class=\"dataframe\">\n",
       "  <thead>\n",
       "    <tr style=\"text-align: right;\">\n",
       "      <th></th>\n",
       "      <th>Unnamed: 0</th>\n",
       "      <th>Unnamed: 1</th>\n",
       "      <th>Unnamed: 2</th>\n",
       "      <th>Unnamed: 3</th>\n",
       "      <th>Unnamed: 4</th>\n",
       "      <th>Unnamed: 5</th>\n",
       "      <th>Unnamed: 6</th>\n",
       "      <th>Unnamed: 7</th>\n",
       "      <th>Unnamed: 8</th>\n",
       "      <th>Unnamed: 9</th>\n",
       "      <th>Unnamed: 10</th>\n",
       "      <th>Unnamed: 11</th>\n",
       "      <th>Unnamed: 12</th>\n",
       "      <th>Unnamed: 13</th>\n",
       "    </tr>\n",
       "  </thead>\n",
       "  <tbody>\n",
       "    <tr>\n",
       "      <th>15</th>\n",
       "      <td>2024-08-20 00:00:00</td>\n",
       "      <td>Tue</td>\n",
       "      <td>TH</td>\n",
       "      <td>1</td>\n",
       "      <td>1</td>\n",
       "      <td>0</td>\n",
       "      <td>0</td>\n",
       "      <td>1</td>\n",
       "      <td>1</td>\n",
       "      <td>1</td>\n",
       "      <td>0</td>\n",
       "      <td>1</td>\n",
       "      <td>1</td>\n",
       "      <td>1</td>\n",
       "    </tr>\n",
       "  </tbody>\n",
       "</table>\n",
       "</div>"
      ],
      "text/plain": [
       "             Unnamed: 0 Unnamed: 1 Unnamed: 2 Unnamed: 3 Unnamed: 4  \\\n",
       "15  2024-08-20 00:00:00        Tue         TH          1          1   \n",
       "\n",
       "   Unnamed: 5 Unnamed: 6 Unnamed: 7 Unnamed: 8 Unnamed: 9 Unnamed: 10  \\\n",
       "15          0          0          1          1          1           0   \n",
       "\n",
       "   Unnamed: 11 Unnamed: 12 Unnamed: 13  \n",
       "15           1           1           1  "
      ]
     },
     "execution_count": 98,
     "metadata": {},
     "output_type": "execute_result"
    }
   ],
   "source": [
    "result_calendar = df_calendar[(df_calendar[\"Unnamed: 1\"]==weekday)\n",
    "            & (df_calendar[\"Unnamed: 2\"]==dct_excel_mapping[route_name])]\n",
    "result_calendar"
   ]
  },
  {
   "cell_type": "code",
   "execution_count": 99,
   "id": "f7662aa6-5d18-47a5-8bd7-4fbb4abd8856",
   "metadata": {
    "scrolled": true
   },
   "outputs": [
    {
     "data": {
      "text/html": [
       "<div>\n",
       "<style scoped>\n",
       "    .dataframe tbody tr th:only-of-type {\n",
       "        vertical-align: middle;\n",
       "    }\n",
       "\n",
       "    .dataframe tbody tr th {\n",
       "        vertical-align: top;\n",
       "    }\n",
       "\n",
       "    .dataframe thead th {\n",
       "        text-align: right;\n",
       "    }\n",
       "</style>\n",
       "<table border=\"1\" class=\"dataframe\">\n",
       "  <thead>\n",
       "    <tr style=\"text-align: right;\">\n",
       "      <th></th>\n",
       "      <th>0</th>\n",
       "      <th>1</th>\n",
       "      <th>2</th>\n",
       "      <th>3</th>\n",
       "      <th>4</th>\n",
       "      <th>5</th>\n",
       "      <th>6</th>\n",
       "      <th>7</th>\n",
       "      <th>8</th>\n",
       "      <th>9</th>\n",
       "      <th>10</th>\n",
       "      <th>11</th>\n",
       "      <th>12</th>\n",
       "      <th>13</th>\n",
       "    </tr>\n",
       "  </thead>\n",
       "  <tbody>\n",
       "    <tr>\n",
       "      <th>15</th>\n",
       "      <td>2024-08-20 00:00:00</td>\n",
       "      <td>Tue</td>\n",
       "      <td>TH</td>\n",
       "      <td>1</td>\n",
       "      <td>1</td>\n",
       "      <td>0</td>\n",
       "      <td>0</td>\n",
       "      <td>1</td>\n",
       "      <td>1</td>\n",
       "      <td>1</td>\n",
       "      <td>0</td>\n",
       "      <td>1</td>\n",
       "      <td>1</td>\n",
       "      <td>1</td>\n",
       "    </tr>\n",
       "  </tbody>\n",
       "</table>\n",
       "</div>"
      ],
      "text/plain": [
       "                      0    1   2  3  4  5  6  7  8  9 10 11 12 13\n",
       "15  2024-08-20 00:00:00  Tue  TH  1  1  0  0  1  1  1  0  1  1  1"
      ]
     },
     "execution_count": 99,
     "metadata": {},
     "output_type": "execute_result"
    }
   ],
   "source": [
    "result_calendar.columns = [str(i) for i in range(0, 14)]\n",
    "result_calendar"
   ]
  },
  {
   "cell_type": "code",
   "execution_count": null,
   "id": "c2b7dfc9-93cb-48d9-998f-7cc21d4cbc0e",
   "metadata": {},
   "outputs": [],
   "source": []
  },
  {
   "cell_type": "code",
   "execution_count": 100,
   "id": "888bfe48-34f6-455e-b484-88e816e724b4",
   "metadata": {
    "scrolled": true
   },
   "outputs": [],
   "source": [
    "filepath = \"../data/StartingTime.csv\"\n",
    "df_bus = pd.read_csv(filepath)"
   ]
  },
  {
   "cell_type": "code",
   "execution_count": 106,
   "id": "27633c43-818d-42a1-bc8f-b2c7319a9f3b",
   "metadata": {},
   "outputs": [
    {
     "data": {
      "text/plain": [
       "'BUV Campus'"
      ]
     },
     "execution_count": 106,
     "metadata": {},
     "output_type": "execute_result"
    }
   ],
   "source": [
    "pickup_point"
   ]
  },
  {
   "cell_type": "code",
   "execution_count": 101,
   "id": "8435f26d-6c20-404d-b995-e08221e962d1",
   "metadata": {},
   "outputs": [
    {
     "data": {
      "text/html": [
       "<div>\n",
       "<style scoped>\n",
       "    .dataframe tbody tr th:only-of-type {\n",
       "        vertical-align: middle;\n",
       "    }\n",
       "\n",
       "    .dataframe tbody tr th {\n",
       "        vertical-align: top;\n",
       "    }\n",
       "\n",
       "    .dataframe thead th {\n",
       "        text-align: right;\n",
       "    }\n",
       "</style>\n",
       "<table border=\"1\" class=\"dataframe\">\n",
       "  <thead>\n",
       "    <tr style=\"text-align: right;\">\n",
       "      <th></th>\n",
       "      <th>route_name</th>\n",
       "      <th>pickup_point</th>\n",
       "      <th>dropoff_point</th>\n",
       "      <th>date</th>\n",
       "      <th>slot1</th>\n",
       "      <th>slot2</th>\n",
       "      <th>slot3</th>\n",
       "      <th>slot4</th>\n",
       "      <th>slot5</th>\n",
       "      <th>slot6</th>\n",
       "    </tr>\n",
       "  </thead>\n",
       "  <tbody>\n",
       "    <tr>\n",
       "      <th>39</th>\n",
       "      <td>Tay Ho</td>\n",
       "      <td>BUV Campus</td>\n",
       "      <td>Ho Tay Water Park</td>\n",
       "      <td>NaN</td>\n",
       "      <td>11:30</td>\n",
       "      <td>12:30</td>\n",
       "      <td>13:30</td>\n",
       "      <td>15:15</td>\n",
       "      <td>17:35</td>\n",
       "      <td>18:15</td>\n",
       "    </tr>\n",
       "  </tbody>\n",
       "</table>\n",
       "</div>"
      ],
      "text/plain": [
       "   route_name pickup_point      dropoff_point  date  slot1  slot2  slot3  \\\n",
       "39     Tay Ho   BUV Campus  Ho Tay Water Park   NaN  11:30  12:30  13:30   \n",
       "\n",
       "    slot4  slot5  slot6  \n",
       "39  15:15  17:35  18:15  "
      ]
     },
     "execution_count": 101,
     "metadata": {},
     "output_type": "execute_result"
    }
   ],
   "source": [
    "result = df_bus[(df_bus[\"route_name\"]==route_name) \\\n",
    "                & (df_bus[\"pickup_point\"] == pickup_point)\n",
    "                & (df_bus[\"dropoff_point\"] == dropoff_point)]\n",
    "result"
   ]
  },
  {
   "cell_type": "code",
   "execution_count": 102,
   "id": "4792171e-77e6-4a9d-b1c9-6becb22efddf",
   "metadata": {},
   "outputs": [],
   "source": [
    "suggestion = []"
   ]
  },
  {
   "cell_type": "code",
   "execution_count": 103,
   "id": "ece25584-ce26-4ba9-8949-9e5ee013fb63",
   "metadata": {},
   "outputs": [
    {
     "data": {
      "text/plain": [
       "'BUV Campus'"
      ]
     },
     "execution_count": 103,
     "metadata": {},
     "output_type": "execute_result"
    }
   ],
   "source": [
    "pickup_point"
   ]
  },
  {
   "cell_type": "code",
   "execution_count": 104,
   "id": "b720d4f2-8e00-4c9d-a088-c5ee86aa0f7f",
   "metadata": {},
   "outputs": [],
   "source": [
    "for col in result_calendar.columns:\n",
    "    if (result_calendar[col].values[0]==1) and (int(col)<=7) and (pickup_point!=\"BUV Campus\"):\n",
    "        # print(col, result_calendar[col].values[0])\n",
    "        timeslot = result[\"slot\"+str(int(col)-2)].values[0]\n",
    "        suggestion.append(timeslot)    \n",
    "    if (result_calendar[col].values[0]==1) and (int(col)>=8) and (pickup_point==\"BUV Campus\"):\n",
    "        timeslot = result[\"slot\"+str(int(col)-7)].values[0]\n",
    "        suggestion.append(timeslot)"
   ]
  },
  {
   "cell_type": "code",
   "execution_count": 105,
   "id": "7654378f-4da0-4ff6-90c0-d74215cd14bd",
   "metadata": {},
   "outputs": [
    {
     "data": {
      "text/plain": [
       "['11:30', '12:30', '15:15', '17:35', '18:15']"
      ]
     },
     "execution_count": 105,
     "metadata": {},
     "output_type": "execute_result"
    }
   ],
   "source": [
    "suggestion"
   ]
  },
  {
   "cell_type": "code",
   "execution_count": null,
   "id": "eb9e128f-3b02-468a-94b7-4c7a610b1408",
   "metadata": {},
   "outputs": [],
   "source": []
  },
  {
   "cell_type": "code",
   "execution_count": null,
   "id": "753dbdaa-fe88-4320-935f-3d748f63c160",
   "metadata": {},
   "outputs": [],
   "source": []
  },
  {
   "cell_type": "code",
   "execution_count": null,
   "id": "fbf1b5fb-5e8c-41ed-b70d-413ff2fbb7e1",
   "metadata": {},
   "outputs": [],
   "source": []
  },
  {
   "cell_type": "code",
   "execution_count": null,
   "id": "0984ad04-19d3-4ef7-aae7-1b5b7fc60e3c",
   "metadata": {},
   "outputs": [],
   "source": []
  },
  {
   "cell_type": "code",
   "execution_count": null,
   "id": "36831eee-ca19-4163-be2a-a81c7f4a7cdd",
   "metadata": {},
   "outputs": [],
   "source": []
  },
  {
   "cell_type": "code",
   "execution_count": null,
   "id": "edd5385f-8934-43d4-8a82-a7927802a27f",
   "metadata": {},
   "outputs": [],
   "source": []
  },
  {
   "cell_type": "code",
   "execution_count": null,
   "id": "ebdb15b3-10f3-4242-abfe-44b6fefd5e77",
   "metadata": {},
   "outputs": [],
   "source": []
  },
  {
   "cell_type": "code",
   "execution_count": null,
   "id": "67bb4fa1-bb23-4141-b3d7-9b8a09355ab9",
   "metadata": {},
   "outputs": [],
   "source": []
  },
  {
   "cell_type": "code",
   "execution_count": null,
   "id": "69dd8f25-0a24-4c56-bd26-eb6dced8915a",
   "metadata": {},
   "outputs": [],
   "source": []
  },
  {
   "cell_type": "code",
   "execution_count": null,
   "id": "f55ecd50-fe27-43ce-b245-bf0886c1450e",
   "metadata": {},
   "outputs": [],
   "source": []
  },
  {
   "cell_type": "code",
   "execution_count": null,
   "id": "a5a5791b-af32-41e0-b681-e97ef6a5c689",
   "metadata": {},
   "outputs": [],
   "source": []
  },
  {
   "cell_type": "code",
   "execution_count": null,
   "id": "f9396bd4-45c5-4e29-8125-b9829bd056ef",
   "metadata": {},
   "outputs": [],
   "source": []
  },
  {
   "cell_type": "code",
   "execution_count": null,
   "id": "06e4eb3a-26a5-4718-b70c-2cd8de7bf8fd",
   "metadata": {},
   "outputs": [],
   "source": []
  }
 ],
 "metadata": {
  "kernelspec": {
   "display_name": "Python 3 (ipykernel)",
   "language": "python",
   "name": "python3"
  },
  "language_info": {
   "codemirror_mode": {
    "name": "ipython",
    "version": 3
   },
   "file_extension": ".py",
   "mimetype": "text/x-python",
   "name": "python",
   "nbconvert_exporter": "python",
   "pygments_lexer": "ipython3",
   "version": "3.11.9"
  }
 },
 "nbformat": 4,
 "nbformat_minor": 5
}
